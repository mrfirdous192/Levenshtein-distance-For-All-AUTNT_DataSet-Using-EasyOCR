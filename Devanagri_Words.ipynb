{
 "cells": [
  {
   "cell_type": "code",
   "execution_count": 2,
   "metadata": {},
   "outputs": [],
   "source": [
    "import cv2\n",
    "import easyocr\n",
    "import glob\n",
    "import pytesseract\n",
    "import pandas as pd\n",
    "from nltk.metrics import edit_distance \n",
    "import numpy as np\n",
    "from matplotlib import pyplot as plt"
   ]
  },
  {
   "cell_type": "code",
   "execution_count": 3,
   "metadata": {
    "scrolled": true
   },
   "outputs": [
    {
     "name": "stdout",
     "output_type": "stream",
     "text": [
      "D:/AUDataset/MYDataSet/Devanagari/Test_Doc_Devanagari\\img0001.png\n",
      "original= आँस्ट्रेलियन\n"
     ]
    },
    {
     "name": "stderr",
     "output_type": "stream",
     "text": [
      "C:\\Anaconda3\\lib\\site-packages\\torch\\cuda\\__init__.py:52: UserWarning: CUDA initialization: CUDA driver initialization failed, you might not have a CUDA gpu. (Triggered internally at  ..\\c10\\cuda\\CUDAFunctions.cpp:109.)\n",
      "  return torch._C._cuda_getDeviceCount() > 0\n",
      "CUDA not available - defaulting to CPU. Note: This module is much faster with a GPU.\n"
     ]
    },
    {
     "name": "stdout",
     "output_type": "stream",
     "text": [
      "from image= [([[0, 0], [180, 0], [180, 56], [0, 56]], 'ऑस्ट्रेलियन', 0.9102168891922373)]\n",
      "edit distance 2\n",
      "1\n",
      "D:/AUDataset/MYDataSet/Devanagari/Test_Doc_Devanagari\\img0002.png\n",
      "original= सर्वकार्य\n"
     ]
    },
    {
     "name": "stderr",
     "output_type": "stream",
     "text": [
      "CUDA not available - defaulting to CPU. Note: This module is much faster with a GPU.\n"
     ]
    },
    {
     "name": "stdout",
     "output_type": "stream",
     "text": [
      "from image= [([[0, 0], [121, 0], [121, 36], [0, 36]], 'सर्वकार्य', 0.5220590112254173)]\n",
      "edit distance 0\n",
      "1\n",
      "D:/AUDataset/MYDataSet/Devanagari/Test_Doc_Devanagari\\img0003.png\n",
      "original= यझ\n"
     ]
    },
    {
     "name": "stderr",
     "output_type": "stream",
     "text": [
      "CUDA not available - defaulting to CPU. Note: This module is much faster with a GPU.\n"
     ]
    },
    {
     "name": "stdout",
     "output_type": "stream",
     "text": [
      "from image= [([[2, 4], [196, 4], [196, 90], [2, 90]], 'यज्ञ', 0.7480750106478975)]\n",
      "edit distance 3\n",
      "1\n",
      "D:/AUDataset/MYDataSet/Devanagari/Test_Doc_Devanagari\\img0004.png\n",
      "original= बाहर\n"
     ]
    },
    {
     "name": "stderr",
     "output_type": "stream",
     "text": [
      "CUDA not available - defaulting to CPU. Note: This module is much faster with a GPU.\n"
     ]
    },
    {
     "name": "stdout",
     "output_type": "stream",
     "text": [
      "from image= [([[0, 3], [55, 3], [55, 33], [0, 33]], 'बाहर', 0.758473222881822)]\n",
      "edit distance 0\n",
      "2\n",
      "D:/AUDataset/MYDataSet/Devanagari/Test_Doc_Devanagari\\img0005.png\n",
      "original= ल\n"
     ]
    },
    {
     "name": "stderr",
     "output_type": "stream",
     "text": [
      "CUDA not available - defaulting to CPU. Note: This module is much faster with a GPU.\n"
     ]
    },
    {
     "name": "stdout",
     "output_type": "stream",
     "text": [
      "from image= [([[7, 0], [200, 0], [200, 140], [7, 140]], 'ल', 0.9998594571860373)]\n",
      "edit distance 0\n",
      "3\n",
      "D:/AUDataset/MYDataSet/Devanagari/Test_Doc_Devanagari\\img0006.png\n",
      "original= बस\n"
     ]
    },
    {
     "name": "stderr",
     "output_type": "stream",
     "text": [
      "CUDA not available - defaulting to CPU. Note: This module is much faster with a GPU.\n"
     ]
    },
    {
     "name": "stdout",
     "output_type": "stream",
     "text": [
      "D:/AUDataset/MYDataSet/Devanagari/Test_Doc_Devanagari\\img0007.png\n",
      "original= लट्टू\n"
     ]
    },
    {
     "name": "stderr",
     "output_type": "stream",
     "text": [
      "CUDA not available - defaulting to CPU. Note: This module is much faster with a GPU.\n"
     ]
    },
    {
     "name": "stdout",
     "output_type": "stream",
     "text": [
      "from image= [([[0, 0], [195, 0], [195, 89], [0, 89]], 'लट्टू', 0.7197854018542834)]\n",
      "edit distance 0\n",
      "4\n",
      "D:/AUDataset/MYDataSet/Devanagari/Test_Doc_Devanagari\\img0008.png\n",
      "original= चमकीला\n"
     ]
    },
    {
     "name": "stderr",
     "output_type": "stream",
     "text": [
      "CUDA not available - defaulting to CPU. Note: This module is much faster with a GPU.\n"
     ]
    },
    {
     "name": "stdout",
     "output_type": "stream",
     "text": [
      "from image= [([[14, 8], [118, 8], [118, 40], [14, 40]], 'चमकीला', 0.6620326466197372)]\n",
      "edit distance 0\n",
      "5\n",
      "D:/AUDataset/MYDataSet/Devanagari/Test_Doc_Devanagari\\img0009.png\n",
      "original= व\n"
     ]
    },
    {
     "name": "stderr",
     "output_type": "stream",
     "text": [
      "CUDA not available - defaulting to CPU. Note: This module is much faster with a GPU.\n"
     ]
    },
    {
     "name": "stdout",
     "output_type": "stream",
     "text": [
      "from image= [([[0, 0], [200, 0], [200, 187], [0, 187]], 'व', 0.9996812597626246)]\n",
      "edit distance 0\n",
      "6\n",
      "D:/AUDataset/MYDataSet/Devanagari/Test_Doc_Devanagari\\img0010.png\n",
      "original= गुलाबी\n"
     ]
    },
    {
     "name": "stderr",
     "output_type": "stream",
     "text": [
      "CUDA not available - defaulting to CPU. Note: This module is much faster with a GPU.\n"
     ]
    },
    {
     "name": "stdout",
     "output_type": "stream",
     "text": [
      "from image= [([[3.514437294583585, 12.286093236458964], [84.45511560359374, 5.9845158979036555], [85.48556270541641, 44.71390676354104], [5.544884396406266, 52.015484102096345]], 'गुलाबी', 0.7993579079893653)]\n",
      "edit distance 0\n",
      "7\n",
      "D:/AUDataset/MYDataSet/Devanagari/Test_Doc_Devanagari\\img0011.png\n",
      "original= करोगे?\n"
     ]
    },
    {
     "name": "stderr",
     "output_type": "stream",
     "text": [
      "CUDA not available - defaulting to CPU. Note: This module is much faster with a GPU.\n"
     ]
    },
    {
     "name": "stdout",
     "output_type": "stream",
     "text": [
      "from image= [([[7, 7], [85, 7], [85, 43], [7, 43]], 'करोगे ?', 0.44994613040893455)]\n",
      "edit distance 1\n",
      "1\n",
      "D:/AUDataset/MYDataSet/Devanagari/Test_Doc_Devanagari\\img0012.png\n",
      "original= वन\n"
     ]
    },
    {
     "name": "stderr",
     "output_type": "stream",
     "text": [
      "CUDA not available - defaulting to CPU. Note: This module is much faster with a GPU.\n"
     ]
    },
    {
     "name": "stdout",
     "output_type": "stream",
     "text": [
      "from image= [([[5, 7], [197, 7], [197, 117], [5, 117]], 'वन', 0.6492069780442495)]\n",
      "edit distance 0\n",
      "8\n",
      "D:/AUDataset/MYDataSet/Devanagari/Test_Doc_Devanagari\\img0013.png\n",
      "original= छुटनी\n"
     ]
    },
    {
     "name": "stderr",
     "output_type": "stream",
     "text": [
      "CUDA not available - defaulting to CPU. Note: This module is much faster with a GPU.\n"
     ]
    },
    {
     "name": "stdout",
     "output_type": "stream",
     "text": [
      "D:/AUDataset/MYDataSet/Devanagari/Test_Doc_Devanagari\\img0014.png\n",
      "original= नहीं\n"
     ]
    },
    {
     "name": "stderr",
     "output_type": "stream",
     "text": [
      "CUDA not available - defaulting to CPU. Note: This module is much faster with a GPU.\n"
     ]
    },
    {
     "name": "stdout",
     "output_type": "stream",
     "text": [
      "from image= [([[10, 6], [58, 6], [58, 38], [10, 38]], 'नहीं', 0.9872923115089863)]\n",
      "edit distance 0\n",
      "9\n",
      "D:/AUDataset/MYDataSet/Devanagari/Test_Doc_Devanagari\\img0015.png\n",
      "original= दौड़कर\n"
     ]
    },
    {
     "name": "stderr",
     "output_type": "stream",
     "text": [
      "CUDA not available - defaulting to CPU. Note: This module is much faster with a GPU.\n"
     ]
    },
    {
     "name": "stdout",
     "output_type": "stream",
     "text": [
      "from image= [([[3, 5], [87, 5], [87, 43], [3, 43]], 'दौड़कर', 0.59691711326219)]\n",
      "edit distance 2\n",
      "2\n",
      "D:/AUDataset/MYDataSet/Devanagari/Test_Doc_Devanagari\\img0016.png\n",
      "original= श\n"
     ]
    },
    {
     "name": "stderr",
     "output_type": "stream",
     "text": [
      "CUDA not available - defaulting to CPU. Note: This module is much faster with a GPU.\n"
     ]
    },
    {
     "name": "stdout",
     "output_type": "stream",
     "text": [
      "from image= [([[0, 0], [200, 0], [200, 159], [0, 159]], 'श', 0.9441651217675826)]\n",
      "edit distance 0\n",
      "10\n",
      "D:/AUDataset/MYDataSet/Devanagari/Test_Doc_Devanagari\\img0017.png\n",
      "original= नीली\n"
     ]
    },
    {
     "name": "stderr",
     "output_type": "stream",
     "text": [
      "CUDA not available - defaulting to CPU. Note: This module is much faster with a GPU.\n"
     ]
    },
    {
     "name": "stdout",
     "output_type": "stream",
     "text": [
      "from image= [([[17, 7], [77, 7], [77, 45], [17, 45]], 'नीली', 0.8364953352569279)]\n",
      "edit distance 0\n",
      "11\n",
      "D:/AUDataset/MYDataSet/Devanagari/Test_Doc_Devanagari\\img0018.png\n",
      "original= पडे़गी ।\n"
     ]
    },
    {
     "name": "stderr",
     "output_type": "stream",
     "text": [
      "CUDA not available - defaulting to CPU. Note: This module is much faster with a GPU.\n"
     ]
    },
    {
     "name": "stdout",
     "output_type": "stream",
     "text": [
      "from image= [([[5, 13], [89, 13], [89, 51], [5, 51]], 'पडेगी|', 0.989964451726304)]\n",
      "edit distance 3\n",
      "2\n",
      "D:/AUDataset/MYDataSet/Devanagari/Test_Doc_Devanagari\\img0019.png\n",
      "original= शलग़म \n"
     ]
    },
    {
     "name": "stderr",
     "output_type": "stream",
     "text": [
      "CUDA not available - defaulting to CPU. Note: This module is much faster with a GPU.\n"
     ]
    },
    {
     "name": "stdout",
     "output_type": "stream",
     "text": [
      "from image= [([[0, 0], [200, 0], [200, 69], [0, 69]], 'शलगम', 0.8589137232968923)]\n",
      "edit distance 2\n",
      "3\n",
      "D:/AUDataset/MYDataSet/Devanagari/Test_Doc_Devanagari\\img0020.png\n",
      "original= ष\n"
     ]
    },
    {
     "name": "stderr",
     "output_type": "stream",
     "text": [
      "CUDA not available - defaulting to CPU. Note: This module is much faster with a GPU.\n"
     ]
    },
    {
     "name": "stdout",
     "output_type": "stream",
     "text": [
      "from image= [([[0, 0], [194, 0], [194, 156], [0, 156]], 'ष', 0.9332487426377725)]\n",
      "edit distance 0\n",
      "12\n",
      "D:/AUDataset/MYDataSet/Devanagari/Test_Doc_Devanagari\\img0021.png\n",
      "original= षटकोण\n"
     ]
    },
    {
     "name": "stderr",
     "output_type": "stream",
     "text": [
      "CUDA not available - defaulting to CPU. Note: This module is much faster with a GPU.\n"
     ]
    },
    {
     "name": "stdout",
     "output_type": "stream",
     "text": [
      "from image= [([[0, 0], [200, 0], [200, 68], [0, 68]], 'षटकोण', 0.7817407669434735)]\n",
      "edit distance 0\n",
      "13\n",
      "D:/AUDataset/MYDataSet/Devanagari/Test_Doc_Devanagari\\img0022.png\n",
      "original= स\n"
     ]
    },
    {
     "name": "stderr",
     "output_type": "stream",
     "text": [
      "CUDA not available - defaulting to CPU. Note: This module is much faster with a GPU.\n"
     ]
    },
    {
     "name": "stdout",
     "output_type": "stream",
     "text": [
      "from image= [([[0, 0], [200, 0], [200, 143], [0, 143]], 'स', 0.15719482597733592)]\n",
      "edit distance 0\n",
      "14\n",
      "D:/AUDataset/MYDataSet/Devanagari/Test_Doc_Devanagari\\img0023.png\n",
      "original= बनायी\n"
     ]
    },
    {
     "name": "stderr",
     "output_type": "stream",
     "text": [
      "CUDA not available - defaulting to CPU. Note: This module is much faster with a GPU.\n"
     ]
    },
    {
     "name": "stdout",
     "output_type": "stream",
     "text": [
      "from image= [([[0, 0], [94, 0], [94, 47], [0, 47]], 'बनायी', 0.9754262147408561)]\n",
      "edit distance 0\n",
      "15\n",
      "D:/AUDataset/MYDataSet/Devanagari/Test_Doc_Devanagari\\img0024.png\n",
      "original= सपेरा\n"
     ]
    },
    {
     "name": "stderr",
     "output_type": "stream",
     "text": [
      "CUDA not available - defaulting to CPU. Note: This module is much faster with a GPU.\n"
     ]
    },
    {
     "name": "stdout",
     "output_type": "stream",
     "text": [
      "from image= [([[3, 0], [200, 0], [200, 83], [3, 83]], 'सपेरा', 0.7833477132733074)]\n",
      "edit distance 0\n",
      "16\n",
      "D:/AUDataset/MYDataSet/Devanagari/Test_Doc_Devanagari\\img0025.png\n",
      "original= ह\n"
     ]
    },
    {
     "name": "stderr",
     "output_type": "stream",
     "text": [
      "CUDA not available - defaulting to CPU. Note: This module is much faster with a GPU.\n"
     ]
    },
    {
     "name": "stdout",
     "output_type": "stream",
     "text": [
      "from image= [([[0, 1], [183, 1], [183, 213], [0, 213]], 'ह', 0.7939318772378703)]\n",
      "edit distance 0\n",
      "17\n",
      "D:/AUDataset/MYDataSet/Devanagari/Test_Doc_Devanagari\\img0026.png\n",
      "original= हाथी\n"
     ]
    },
    {
     "name": "stderr",
     "output_type": "stream",
     "text": [
      "CUDA not available - defaulting to CPU. Note: This module is much faster with a GPU.\n"
     ]
    },
    {
     "name": "stdout",
     "output_type": "stream",
     "text": [
      "from image= [([[0, 0], [200, 0], [200, 111], [0, 111]], 'हाथी', 0.4696517936570767)]\n",
      "edit distance 0\n",
      "18\n",
      "D:/AUDataset/MYDataSet/Devanagari/Test_Doc_Devanagari\\img0027.png\n",
      "original= अब\n"
     ]
    },
    {
     "name": "stderr",
     "output_type": "stream",
     "text": [
      "CUDA not available - defaulting to CPU. Note: This module is much faster with a GPU.\n"
     ]
    },
    {
     "name": "stdout",
     "output_type": "stream",
     "text": [
      "from image= [([[2, 8], [62, 8], [62, 38], [2, 38]], 'अब', 0.9853554004706758)]\n",
      "edit distance 0\n",
      "19\n",
      "D:/AUDataset/MYDataSet/Devanagari/Test_Doc_Devanagari\\img0028.png\n",
      "original= तब\n"
     ]
    },
    {
     "name": "stderr",
     "output_type": "stream",
     "text": [
      "CUDA not available - defaulting to CPU. Note: This module is much faster with a GPU.\n"
     ]
    },
    {
     "name": "stdout",
     "output_type": "stream",
     "text": [
      "from image= [([[8, 4], [58, 4], [58, 36], [8, 36]], 'तब', 0.9903640632208136)]\n",
      "edit distance 0\n",
      "20\n",
      "D:/AUDataset/MYDataSet/Devanagari/Test_Doc_Devanagari\\img0029.png\n",
      "original= कब\n"
     ]
    },
    {
     "name": "stderr",
     "output_type": "stream",
     "text": [
      "CUDA not available - defaulting to CPU. Note: This module is much faster with a GPU.\n"
     ]
    },
    {
     "name": "stdout",
     "output_type": "stream",
     "text": [
      "from image= [([[8, 8], [68, 8], [68, 38], [8, 38]], 'कब', 0.9994989107504916)]\n",
      "edit distance 0\n",
      "21\n",
      "D:/AUDataset/MYDataSet/Devanagari/Test_Doc_Devanagari\\img0030.png\n",
      "original= सब\n"
     ]
    },
    {
     "name": "stderr",
     "output_type": "stream",
     "text": [
      "CUDA not available - defaulting to CPU. Note: This module is much faster with a GPU.\n"
     ]
    },
    {
     "name": "stdout",
     "output_type": "stream",
     "text": [
      "from image= [([[3, 5], [59, 5], [59, 41], [3, 41]], 'सब', 0.9996053597221578)]\n",
      "edit distance 0\n",
      "22\n",
      "D:/AUDataset/MYDataSet/Devanagari/Test_Doc_Devanagari\\img0031.png\n",
      "original= प्रभात\n"
     ]
    },
    {
     "name": "stderr",
     "output_type": "stream",
     "text": [
      "CUDA not available - defaulting to CPU. Note: This module is much faster with a GPU.\n"
     ]
    },
    {
     "name": "stdout",
     "output_type": "stream",
     "text": [
      "from image= [([[1, 3], [87, 3], [87, 41], [1, 41]], 'प्रभात', 0.9349011626734525)]\n",
      "edit distance 0\n",
      "23\n",
      "D:/AUDataset/MYDataSet/Devanagari/Test_Doc_Devanagari\\img0032.png\n",
      "original= टब\n"
     ]
    },
    {
     "name": "stderr",
     "output_type": "stream",
     "text": [
      "CUDA not available - defaulting to CPU. Note: This module is much faster with a GPU.\n"
     ]
    },
    {
     "name": "stdout",
     "output_type": "stream",
     "text": [
      "from image= [([[0, 2], [50, 2], [50, 34], [0, 34]], 'टब', 0.9987549563476157)]\n",
      "edit distance 0\n",
      "24\n",
      "D:/AUDataset/MYDataSet/Devanagari/Test_Doc_Devanagari\\img0033.png\n",
      "original= चट\n"
     ]
    },
    {
     "name": "stderr",
     "output_type": "stream",
     "text": [
      "CUDA not available - defaulting to CPU. Note: This module is much faster with a GPU.\n"
     ]
    },
    {
     "name": "stdout",
     "output_type": "stream",
     "text": [
      "D:/AUDataset/MYDataSet/Devanagari/Test_Doc_Devanagari\\img0034.png\n",
      "original= पट\n"
     ]
    },
    {
     "name": "stderr",
     "output_type": "stream",
     "text": [
      "CUDA not available - defaulting to CPU. Note: This module is much faster with a GPU.\n"
     ]
    },
    {
     "name": "stdout",
     "output_type": "stream",
     "text": [
      "from image= [([[8, 4], [56, 4], [56, 34], [8, 34]], 'पट', 0.932140876091601)]\n",
      "edit distance 0\n",
      "25\n",
      "D:/AUDataset/MYDataSet/Devanagari/Test_Doc_Devanagari\\img0035.png\n",
      "original= जगह\n"
     ]
    },
    {
     "name": "stderr",
     "output_type": "stream",
     "text": [
      "CUDA not available - defaulting to CPU. Note: This module is much faster with a GPU.\n"
     ]
    },
    {
     "name": "stdout",
     "output_type": "stream",
     "text": [
      "from image= [([[0, 3], [83, 3], [83, 39], [0, 39]], 'जगह', 0.7144681811332703)]\n",
      "edit distance 0\n",
      "26\n",
      "D:/AUDataset/MYDataSet/Devanagari/Test_Doc_Devanagari\\img0036.png\n",
      "original= लगाकर\n"
     ]
    },
    {
     "name": "stderr",
     "output_type": "stream",
     "text": [
      "CUDA not available - defaulting to CPU. Note: This module is much faster with a GPU.\n"
     ]
    },
    {
     "name": "stdout",
     "output_type": "stream",
     "text": [
      "from image= [([[2, 2], [76, 2], [76, 28], [2, 28]], 'लगाकर', 0.9640542396177215)]\n",
      "edit distance 0\n",
      "27\n",
      "D:/AUDataset/MYDataSet/Devanagari/Test_Doc_Devanagari\\img0037.png\n",
      "original= झट\n"
     ]
    },
    {
     "name": "stderr",
     "output_type": "stream",
     "text": [
      "CUDA not available - defaulting to CPU. Note: This module is much faster with a GPU.\n"
     ]
    },
    {
     "name": "stdout",
     "output_type": "stream",
     "text": [
      "from image= [([[7, 5], [67, 5], [67, 41], [7, 41]], 'झट', 0.9999922449886813)]\n",
      "edit distance 0\n",
      "28\n",
      "D:/AUDataset/MYDataSet/Devanagari/Test_Doc_Devanagari\\img0038.png\n",
      "original= स्मार्टफोन्स\n"
     ]
    },
    {
     "name": "stderr",
     "output_type": "stream",
     "text": [
      "CUDA not available - defaulting to CPU. Note: This module is much faster with a GPU.\n"
     ]
    },
    {
     "name": "stdout",
     "output_type": "stream",
     "text": [
      "from image= [([[0, 0], [140, 0], [140, 63], [0, 63]], 'स्मार्टफोन्स', 0.7594372887945618)]\n",
      "edit distance 0\n",
      "29\n",
      "D:/AUDataset/MYDataSet/Devanagari/Test_Doc_Devanagari\\img0039.png\n",
      "original= आतंकी\n"
     ]
    },
    {
     "name": "stderr",
     "output_type": "stream",
     "text": [
      "CUDA not available - defaulting to CPU. Note: This module is much faster with a GPU.\n"
     ]
    },
    {
     "name": "stdout",
     "output_type": "stream",
     "text": [
      "from image= [([[0, 0], [300, 0], [300, 135], [0, 135]], 'आतंकी', 0.9850047756804722)]\n",
      "edit distance 0\n",
      "30\n",
      "D:/AUDataset/MYDataSet/Devanagari/Test_Doc_Devanagari\\img0040.png\n",
      "original= रट\n"
     ]
    },
    {
     "name": "stderr",
     "output_type": "stream",
     "text": [
      "CUDA not available - defaulting to CPU. Note: This module is much faster with a GPU.\n"
     ]
    },
    {
     "name": "stdout",
     "output_type": "stream",
     "text": [
      "from image= [([[10, 2], [52, 2], [52, 34], [10, 34]], 'रट', 0.9474533931826922)]\n",
      "edit distance 0\n",
      "31\n",
      "D:/AUDataset/MYDataSet/Devanagari/Test_Doc_Devanagari\\img0041.png\n",
      "original= घट\n"
     ]
    },
    {
     "name": "stderr",
     "output_type": "stream",
     "text": [
      "CUDA not available - defaulting to CPU. Note: This module is much faster with a GPU.\n"
     ]
    },
    {
     "name": "stdout",
     "output_type": "stream",
     "text": [
      "from image= [([[6, 10], [58, 10], [58, 40], [6, 40]], 'घट', 0.9998773548737743)]\n",
      "edit distance 0\n",
      "32\n",
      "D:/AUDataset/MYDataSet/Devanagari/Test_Doc_Devanagari\\img0042.png\n",
      "original= बन्दर\n"
     ]
    },
    {
     "name": "stderr",
     "output_type": "stream",
     "text": [
      "CUDA not available - defaulting to CPU. Note: This module is much faster with a GPU.\n"
     ]
    },
    {
     "name": "stdout",
     "output_type": "stream",
     "text": [
      "from image= [([[2, 0], [128, 0], [128, 50], [2, 50]], 'बन्दर', 0.7358750100437843)]\n",
      "edit distance 0\n",
      "33\n",
      "D:/AUDataset/MYDataSet/Devanagari/Test_Doc_Devanagari\\img0043.png\n",
      "original= हट\n"
     ]
    },
    {
     "name": "stderr",
     "output_type": "stream",
     "text": [
      "CUDA not available - defaulting to CPU. Note: This module is much faster with a GPU.\n"
     ]
    },
    {
     "name": "stdout",
     "output_type": "stream",
     "text": [
      "from image= [([[2, 8], [48, 8], [48, 40], [2, 40]], 'हट', 0.9991138511120958)]\n",
      "edit distance 0\n",
      "34\n",
      "D:/AUDataset/MYDataSet/Devanagari/Test_Doc_Devanagari\\img0044.png\n",
      "original= भर\n"
     ]
    },
    {
     "name": "stderr",
     "output_type": "stream",
     "text": [
      "CUDA not available - defaulting to CPU. Note: This module is much faster with a GPU.\n"
     ]
    },
    {
     "name": "stdout",
     "output_type": "stream",
     "text": [
      "from image= [([[4, 4], [52, 4], [52, 34], [4, 34]], 'भर', 0.9556503196682656)]\n",
      "edit distance 0\n",
      "35\n",
      "D:/AUDataset/MYDataSet/Devanagari/Test_Doc_Devanagari\\img0045.png\n",
      "original= नर\n"
     ]
    },
    {
     "name": "stderr",
     "output_type": "stream",
     "text": [
      "CUDA not available - defaulting to CPU. Note: This module is much faster with a GPU.\n"
     ]
    },
    {
     "name": "stdout",
     "output_type": "stream",
     "text": [
      "D:/AUDataset/MYDataSet/Devanagari/Test_Doc_Devanagari\\img0046.png\n",
      "original= थर\n"
     ]
    },
    {
     "name": "stderr",
     "output_type": "stream",
     "text": [
      "CUDA not available - defaulting to CPU. Note: This module is much faster with a GPU.\n"
     ]
    },
    {
     "name": "stdout",
     "output_type": "stream",
     "text": [
      "from image= [([[4, 2], [54, 2], [54, 34], [4, 34]], 'थर', 0.9953209212043554)]\n",
      "edit distance 0\n",
      "36\n",
      "D:/AUDataset/MYDataSet/Devanagari/Test_Doc_Devanagari\\img0047.png\n",
      "original= सर\n"
     ]
    },
    {
     "name": "stderr",
     "output_type": "stream",
     "text": [
      "CUDA not available - defaulting to CPU. Note: This module is much faster with a GPU.\n"
     ]
    },
    {
     "name": "stdout",
     "output_type": "stream",
     "text": [
      "from image= [([[9, 1], [55, 1], [55, 39], [9, 39]], 'सर', 0.9512851231887718)]\n",
      "edit distance 0\n",
      "37\n",
      "D:/AUDataset/MYDataSet/Devanagari/Test_Doc_Devanagari\\img0048.png\n",
      "original= स्टीपास\n"
     ]
    },
    {
     "name": "stderr",
     "output_type": "stream",
     "text": [
      "CUDA not available - defaulting to CPU. Note: This module is much faster with a GPU.\n"
     ]
    },
    {
     "name": "stdout",
     "output_type": "stream",
     "text": [
      "from image= [([[0, 0], [225, 0], [225, 82], [0, 82]], 'स्टीपास', 0.793416572121216)]\n",
      "edit distance 0\n",
      "38\n",
      "D:/AUDataset/MYDataSet/Devanagari/Test_Doc_Devanagari\\img0049.png\n",
      "original= छत\n"
     ]
    },
    {
     "name": "stderr",
     "output_type": "stream",
     "text": [
      "CUDA not available - defaulting to CPU. Note: This module is much faster with a GPU.\n"
     ]
    },
    {
     "name": "stdout",
     "output_type": "stream",
     "text": [
      "D:/AUDataset/MYDataSet/Devanagari/Test_Doc_Devanagari\\img0050.png\n",
      "original= खत\n"
     ]
    },
    {
     "name": "stderr",
     "output_type": "stream",
     "text": [
      "CUDA not available - defaulting to CPU. Note: This module is much faster with a GPU.\n"
     ]
    },
    {
     "name": "stdout",
     "output_type": "stream",
     "text": [
      "D:/AUDataset/MYDataSet/Devanagari/Test_Doc_Devanagari\\img0051.png\n",
      "original= मत\n"
     ]
    },
    {
     "name": "stderr",
     "output_type": "stream",
     "text": [
      "CUDA not available - defaulting to CPU. Note: This module is much faster with a GPU.\n"
     ]
    },
    {
     "name": "stdout",
     "output_type": "stream",
     "text": [
      "D:/AUDataset/MYDataSet/Devanagari/Test_Doc_Devanagari\\img0052.png\n",
      "original= की\n"
     ]
    },
    {
     "name": "stderr",
     "output_type": "stream",
     "text": [
      "CUDA not available - defaulting to CPU. Note: This module is much faster with a GPU.\n"
     ]
    },
    {
     "name": "stdout",
     "output_type": "stream",
     "text": [
      "from image= [([[0, 4], [43, 4], [43, 54], [0, 54]], 'को', 0.8483084169551214)]\n",
      "edit distance 1\n",
      "2\n",
      "D:/AUDataset/MYDataSet/Devanagari/Test_Doc_Devanagari\\img0053.png\n",
      "original= नत\n"
     ]
    },
    {
     "name": "stderr",
     "output_type": "stream",
     "text": [
      "CUDA not available - defaulting to CPU. Note: This module is much faster with a GPU.\n"
     ]
    },
    {
     "name": "stdout",
     "output_type": "stream",
     "text": [
      "D:/AUDataset/MYDataSet/Devanagari/Test_Doc_Devanagari\\img0054.png\n",
      "original= सत\n"
     ]
    },
    {
     "name": "stderr",
     "output_type": "stream",
     "text": [
      "CUDA not available - defaulting to CPU. Note: This module is much faster with a GPU.\n"
     ]
    },
    {
     "name": "stdout",
     "output_type": "stream",
     "text": [
      "from image= [([[5, 3], [61, 3], [61, 39], [5, 39]], 'सत', 0.7356533408164978)]\n",
      "edit distance 0\n",
      "39\n",
      "D:/AUDataset/MYDataSet/Devanagari/Test_Doc_Devanagari\\img0055.png\n",
      "original= मठ\n"
     ]
    },
    {
     "name": "stderr",
     "output_type": "stream",
     "text": [
      "CUDA not available - defaulting to CPU. Note: This module is much faster with a GPU.\n"
     ]
    },
    {
     "name": "stdout",
     "output_type": "stream",
     "text": [
      "from image= [([[3, 1], [57, 1], [57, 37], [3, 37]], 'मठ', 0.9998915157355196)]\n",
      "edit distance 0\n",
      "40\n",
      "D:/AUDataset/MYDataSet/Devanagari/Test_Doc_Devanagari\\img0056.png\n",
      "original= कप\n"
     ]
    },
    {
     "name": "stderr",
     "output_type": "stream",
     "text": [
      "CUDA not available - defaulting to CPU. Note: This module is much faster with a GPU.\n"
     ]
    },
    {
     "name": "stdout",
     "output_type": "stream",
     "text": [
      "D:/AUDataset/MYDataSet/Devanagari/Test_Doc_Devanagari\\img0057.png\n",
      "original= जप\n"
     ]
    },
    {
     "name": "stderr",
     "output_type": "stream",
     "text": [
      "CUDA not available - defaulting to CPU. Note: This module is much faster with a GPU.\n"
     ]
    },
    {
     "name": "stdout",
     "output_type": "stream",
     "text": [
      "from image= [([[10, 8], [62, 8], [62, 34], [10, 34]], 'जप', 0.9207244265069306)]\n",
      "edit distance 0\n",
      "41\n",
      "D:/AUDataset/MYDataSet/Devanagari/Test_Doc_Devanagari\\img0058.png\n",
      "original= तप\n"
     ]
    },
    {
     "name": "stderr",
     "output_type": "stream",
     "text": [
      "CUDA not available - defaulting to CPU. Note: This module is much faster with a GPU.\n"
     ]
    },
    {
     "name": "stdout",
     "output_type": "stream",
     "text": [
      "from image= [([[8, 2], [58, 2], [58, 34], [8, 34]], 'तप', 0.9984948001815234)]\n",
      "edit distance 0\n",
      "42\n",
      "D:/AUDataset/MYDataSet/Devanagari/Test_Doc_Devanagari\\img0059.png\n",
      "original= पहली\n"
     ]
    },
    {
     "name": "stderr",
     "output_type": "stream",
     "text": [
      "CUDA not available - defaulting to CPU. Note: This module is much faster with a GPU.\n"
     ]
    },
    {
     "name": "stdout",
     "output_type": "stream",
     "text": [
      "from image= [([[0, 0], [159, 0], [159, 82], [0, 82]], 'पहली', 0.9999486804008484)]\n",
      "edit distance 0\n",
      "43\n",
      "D:/AUDataset/MYDataSet/Devanagari/Test_Doc_Devanagari\\img0060.png\n",
      "original= भज\n"
     ]
    },
    {
     "name": "stderr",
     "output_type": "stream",
     "text": [
      "CUDA not available - defaulting to CPU. Note: This module is much faster with a GPU.\n"
     ]
    },
    {
     "name": "stdout",
     "output_type": "stream",
     "text": [
      "from image= [([[0, 2], [62, 2], [62, 34], [0, 34]], 'भज', 0.9800291853484013)]\n",
      "edit distance 0\n",
      "44\n",
      "D:/AUDataset/MYDataSet/Devanagari/Test_Doc_Devanagari\\img0061.png\n",
      "original= तज\n"
     ]
    },
    {
     "name": "stderr",
     "output_type": "stream",
     "text": [
      "CUDA not available - defaulting to CPU. Note: This module is much faster with a GPU.\n"
     ]
    },
    {
     "name": "stdout",
     "output_type": "stream",
     "text": [
      "from image= [([[8, 4], [58, 4], [58, 34], [8, 34]], 'तज', 0.9795543509401435)]\n",
      "edit distance 0\n",
      "45\n",
      "D:/AUDataset/MYDataSet/Devanagari/Test_Doc_Devanagari\\img0062.png\n",
      "original= रज\n"
     ]
    },
    {
     "name": "stderr",
     "output_type": "stream",
     "text": [
      "CUDA not available - defaulting to CPU. Note: This module is much faster with a GPU.\n"
     ]
    },
    {
     "name": "stdout",
     "output_type": "stream",
     "text": [
      "from image= [([[6, 2], [60, 2], [60, 34], [6, 34]], 'रज', 0.9989071386210703)]\n",
      "edit distance 0\n",
      "46\n",
      "D:/AUDataset/MYDataSet/Devanagari/Test_Doc_Devanagari\\img0063.png\n",
      "original= दझ\n"
     ]
    },
    {
     "name": "stderr",
     "output_type": "stream",
     "text": [
      "CUDA not available - defaulting to CPU. Note: This module is much faster with a GPU.\n"
     ]
    },
    {
     "name": "stdout",
     "output_type": "stream",
     "text": [
      "from image= [([[5, 5], [73, 5], [73, 45], [5, 45]], 'दक्ष', 0.7753146903453625)]\n",
      "edit distance 3\n",
      "3\n",
      "D:/AUDataset/MYDataSet/Devanagari/Test_Doc_Devanagari\\img0064.png\n",
      "original= दिनदहाड़े\n"
     ]
    },
    {
     "name": "stderr",
     "output_type": "stream",
     "text": [
      "CUDA not available - defaulting to CPU. Note: This module is much faster with a GPU.\n"
     ]
    },
    {
     "name": "stdout",
     "output_type": "stream",
     "text": [
      "from image= [([[0, 0], [180, 0], [180, 74], [0, 74]], 'दिनदहाड़े', 0.7822883709291647)]\n",
      "edit distance 2\n",
      "4\n",
      "D:/AUDataset/MYDataSet/Devanagari/Test_Doc_Devanagari\\img0065.png\n",
      "original= टुनिया\n"
     ]
    },
    {
     "name": "stderr",
     "output_type": "stream",
     "text": [
      "CUDA not available - defaulting to CPU. Note: This module is much faster with a GPU.\n"
     ]
    },
    {
     "name": "stdout",
     "output_type": "stream",
     "text": [
      "from image= [([[0, 7], [81, 7], [81, 62], [0, 62]], 'दुनिया', 0.7240688925724051)]\n",
      "edit distance 1\n",
      "3\n",
      "D:/AUDataset/MYDataSet/Devanagari/Test_Doc_Devanagari\\img0066.png\n",
      "original= पझ\n"
     ]
    },
    {
     "name": "stderr",
     "output_type": "stream",
     "text": [
      "CUDA not available - defaulting to CPU. Note: This module is much faster with a GPU.\n"
     ]
    },
    {
     "name": "stdout",
     "output_type": "stream",
     "text": [
      "from image= [([[1, 0], [61, 0], [61, 37], [1, 37]], 'पक्ष', 0.974372471904371)]\n",
      "edit distance 3\n",
      "4\n",
      "D:/AUDataset/MYDataSet/Devanagari/Test_Doc_Devanagari\\img0067.png\n",
      "original= चढ़\n"
     ]
    },
    {
     "name": "stderr",
     "output_type": "stream",
     "text": [
      "CUDA not available - defaulting to CPU. Note: This module is much faster with a GPU.\n"
     ]
    },
    {
     "name": "stdout",
     "output_type": "stream",
     "text": [
      "D:/AUDataset/MYDataSet/Devanagari/Test_Doc_Devanagari\\img0068.png\n",
      "original= ईश\n"
     ]
    },
    {
     "name": "stderr",
     "output_type": "stream",
     "text": [
      "CUDA not available - defaulting to CPU. Note: This module is much faster with a GPU.\n"
     ]
    },
    {
     "name": "stdout",
     "output_type": "stream",
     "text": [
      "from image= [([[6, 2], [66, 2], [66, 50], [6, 50]], 'ईश', 0.9999263281036742)]\n",
      "edit distance 0\n",
      "47\n",
      "D:/AUDataset/MYDataSet/Devanagari/Test_Doc_Devanagari\\img0069.png\n",
      "original= आईं\n"
     ]
    },
    {
     "name": "stderr",
     "output_type": "stream",
     "text": [
      "CUDA not available - defaulting to CPU. Note: This module is much faster with a GPU.\n"
     ]
    },
    {
     "name": "stdout",
     "output_type": "stream",
     "text": [
      "from image= [([[0, 0], [76, 0], [76, 50], [0, 50]], 'आई', 0.9919875404446313)]\n",
      "edit distance 1\n",
      "4\n",
      "D:/AUDataset/MYDataSet/Devanagari/Test_Doc_Devanagari\\img0070.png\n",
      "original= रण\n"
     ]
    },
    {
     "name": "stderr",
     "output_type": "stream",
     "text": [
      "CUDA not available - defaulting to CPU. Note: This module is much faster with a GPU.\n"
     ]
    },
    {
     "name": "stdout",
     "output_type": "stream",
     "text": [
      "D:/AUDataset/MYDataSet/Devanagari/Test_Doc_Devanagari\\img0071.png\n",
      "original= बार\n"
     ]
    },
    {
     "name": "stderr",
     "output_type": "stream",
     "text": [
      "CUDA not available - defaulting to CPU. Note: This module is much faster with a GPU.\n"
     ]
    },
    {
     "name": "stdout",
     "output_type": "stream",
     "text": [
      "from image= [([[0, 3], [108, 3], [108, 70], [0, 70]], 'बार', 0.5150867634122086)]\n",
      "edit distance 0\n",
      "48\n",
      "D:/AUDataset/MYDataSet/Devanagari/Test_Doc_Devanagari\\img0072.png\n",
      "original= क्षण\n"
     ]
    },
    {
     "name": "stderr",
     "output_type": "stream",
     "text": [
      "CUDA not available - defaulting to CPU. Note: This module is much faster with a GPU.\n"
     ]
    },
    {
     "name": "stdout",
     "output_type": "stream",
     "text": [
      "from image= [([[1, 7], [73, 7], [73, 45], [1, 45]], 'क्षण', 0.49295646496625545)]\n",
      "edit distance 0\n",
      "49\n",
      "D:/AUDataset/MYDataSet/Devanagari/Test_Doc_Devanagari\\img0073.png\n",
      "original= छात्र\n"
     ]
    },
    {
     "name": "stderr",
     "output_type": "stream",
     "text": [
      "CUDA not available - defaulting to CPU. Note: This module is much faster with a GPU.\n"
     ]
    },
    {
     "name": "stdout",
     "output_type": "stream",
     "text": [
      "D:/AUDataset/MYDataSet/Devanagari/Test_Doc_Devanagari\\img0074.png\n",
      "original= सत्र\n"
     ]
    },
    {
     "name": "stderr",
     "output_type": "stream",
     "text": [
      "CUDA not available - defaulting to CPU. Note: This module is much faster with a GPU.\n"
     ]
    },
    {
     "name": "stdout",
     "output_type": "stream",
     "text": [
      "from image= [([[9, 1], [63, 1], [63, 35], [9, 35]], 'सत्र', 0.6032946248635668)]\n",
      "edit distance 0\n",
      "50\n",
      "D:/AUDataset/MYDataSet/Devanagari/Test_Doc_Devanagari\\img0075.png\n",
      "original= पत्र\n"
     ]
    },
    {
     "name": "stderr",
     "output_type": "stream",
     "text": [
      "CUDA not available - defaulting to CPU. Note: This module is much faster with a GPU.\n"
     ]
    },
    {
     "name": "stdout",
     "output_type": "stream",
     "text": [
      "from image= [([[0, 4], [52, 4], [52, 36], [0, 36]], 'पत्र', 0.5241691439512531)]\n",
      "edit distance 0\n",
      "51\n",
      "D:/AUDataset/MYDataSet/Devanagari/Test_Doc_Devanagari\\img0076.png\n",
      "original= उन\n"
     ]
    },
    {
     "name": "stderr",
     "output_type": "stream",
     "text": [
      "CUDA not available - defaulting to CPU. Note: This module is much faster with a GPU.\n"
     ]
    },
    {
     "name": "stdout",
     "output_type": "stream",
     "text": [
      "from image= [([[8, 8], [50, 8], [50, 36], [8, 36]], '3-', 0.17623352234080744)]\n",
      "edit distance 2\n",
      "5\n",
      "D:/AUDataset/MYDataSet/Devanagari/Test_Doc_Devanagari\\img0077.png\n",
      "original= में\n"
     ]
    },
    {
     "name": "stderr",
     "output_type": "stream",
     "text": [
      "CUDA not available - defaulting to CPU. Note: This module is much faster with a GPU.\n"
     ]
    },
    {
     "name": "stdout",
     "output_type": "stream",
     "text": [
      "from image= [([[0, 12], [28, 12], [28, 54], [0, 54]], 'मं', 0.9168469519671674)]\n",
      "edit distance 1\n",
      "5\n",
      "D:/AUDataset/MYDataSet/Devanagari/Test_Doc_Devanagari\\img0078.png\n",
      "original= ओस\n"
     ]
    },
    {
     "name": "stderr",
     "output_type": "stream",
     "text": [
      "CUDA not available - defaulting to CPU. Note: This module is much faster with a GPU.\n"
     ]
    },
    {
     "name": "stdout",
     "output_type": "stream",
     "text": [
      "from image= [([[0, 5], [80, 5], [80, 47], [0, 47]], 'ओस', 0.9882363632202367)]\n",
      "edit distance 0\n",
      "52\n",
      "D:/AUDataset/MYDataSet/Devanagari/Test_Doc_Devanagari\\img0079.png\n",
      "original= और\n"
     ]
    },
    {
     "name": "stderr",
     "output_type": "stream",
     "text": [
      "CUDA not available - defaulting to CPU. Note: This module is much faster with a GPU.\n"
     ]
    },
    {
     "name": "stdout",
     "output_type": "stream",
     "text": [
      "from image= [([[0, 4], [73, 4], [73, 53], [0, 53]], 'और', 0.9998325968220049)]\n",
      "edit distance 0\n",
      "53\n",
      "D:/AUDataset/MYDataSet/Devanagari/Test_Doc_Devanagari\\img0080.png\n",
      "original= गऊ\n"
     ]
    },
    {
     "name": "stderr",
     "output_type": "stream",
     "text": [
      "CUDA not available - defaulting to CPU. Note: This module is much faster with a GPU.\n"
     ]
    },
    {
     "name": "stdout",
     "output_type": "stream",
     "text": [
      "from image= [([[8, 10], [66, 10], [66, 38], [8, 38]], '-झ', 0.09870984312502128)]\n",
      "edit distance 2\n",
      "6\n",
      "D:/AUDataset/MYDataSet/Devanagari/Test_Doc_Devanagari\\img0081.png\n",
      "original= खग\n"
     ]
    },
    {
     "name": "stderr",
     "output_type": "stream",
     "text": [
      "CUDA not available - defaulting to CPU. Note: This module is much faster with a GPU.\n"
     ]
    },
    {
     "name": "stdout",
     "output_type": "stream",
     "text": [
      "from image= [([[2, 4], [66, 4], [66, 36], [2, 36]], 'खग', 0.9863821079308253)]\n",
      "edit distance 0\n",
      "54\n",
      "D:/AUDataset/MYDataSet/Devanagari/Test_Doc_Devanagari\\img0082.png\n",
      "original= सेमीफाइनल\n"
     ]
    },
    {
     "name": "stderr",
     "output_type": "stream",
     "text": [
      "CUDA not available - defaulting to CPU. Note: This module is much faster with a GPU.\n"
     ]
    },
    {
     "name": "stdout",
     "output_type": "stream",
     "text": [
      "from image= [([[0, 0], [250, 0], [250, 65], [0, 65]], 'सेमीफाइनल', 0.5101802476940273)]\n",
      "edit distance 0\n",
      "55\n",
      "D:/AUDataset/MYDataSet/Devanagari/Test_Doc_Devanagari\\img0083.png\n",
      "original= वह\n"
     ]
    },
    {
     "name": "stderr",
     "output_type": "stream",
     "text": [
      "CUDA not available - defaulting to CPU. Note: This module is much faster with a GPU.\n"
     ]
    },
    {
     "name": "stdout",
     "output_type": "stream",
     "text": [
      "from image= [([[3, 8], [62, 8], [62, 48], [3, 48]], 'वह', 0.9971449033185165)]\n",
      "edit distance 0\n",
      "56\n",
      "D:/AUDataset/MYDataSet/Devanagari/Test_Doc_Devanagari\\img0084.png\n",
      "original= तन\n"
     ]
    },
    {
     "name": "stderr",
     "output_type": "stream",
     "text": [
      "CUDA not available - defaulting to CPU. Note: This module is much faster with a GPU.\n"
     ]
    },
    {
     "name": "stdout",
     "output_type": "stream",
     "text": [
      "D:/AUDataset/MYDataSet/Devanagari/Test_Doc_Devanagari\\img0085.png\n",
      "original= मन\n"
     ]
    },
    {
     "name": "stderr",
     "output_type": "stream",
     "text": [
      "CUDA not available - defaulting to CPU. Note: This module is much faster with a GPU.\n"
     ]
    },
    {
     "name": "stdout",
     "output_type": "stream",
     "text": [
      "D:/AUDataset/MYDataSet/Devanagari/Test_Doc_Devanagari\\img0086.png\n",
      "original= लड़\n"
     ]
    },
    {
     "name": "stderr",
     "output_type": "stream",
     "text": [
      "CUDA not available - defaulting to CPU. Note: This module is much faster with a GPU.\n"
     ]
    },
    {
     "name": "stdout",
     "output_type": "stream",
     "text": [
      "from image= [([[7, 3], [71, 3], [71, 39], [7, 39]], 'लड', 0.6598708293693644)]\n",
      "edit distance 1\n",
      "6\n",
      "D:/AUDataset/MYDataSet/Devanagari/Test_Doc_Devanagari\\img0087.png\n",
      "original= नट\n"
     ]
    },
    {
     "name": "stderr",
     "output_type": "stream",
     "text": [
      "CUDA not available - defaulting to CPU. Note: This module is much faster with a GPU.\n"
     ]
    },
    {
     "name": "stdout",
     "output_type": "stream",
     "text": [
      "from image= [([[5, 7], [59, 7], [59, 43], [5, 43]], 'नट', 0.9999526272709324)]\n",
      "edit distance 0\n",
      "57\n",
      "D:/AUDataset/MYDataSet/Devanagari/Test_Doc_Devanagari\\img0088.png\n",
      "original= उल्लू\n"
     ]
    },
    {
     "name": "stderr",
     "output_type": "stream",
     "text": [
      "CUDA not available - defaulting to CPU. Note: This module is much faster with a GPU.\n"
     ]
    },
    {
     "name": "stdout",
     "output_type": "stream",
     "text": [
      "from image= [([[9, 7], [49, 7], [49, 47], [9, 47]], 'उ', 0.9838441429271008)]\n",
      "edit distance 4\n",
      "1\n",
      "D:/AUDataset/MYDataSet/Devanagari/Test_Doc_Devanagari\\img0089.png\n",
      "original= इस\n"
     ]
    },
    {
     "name": "stderr",
     "output_type": "stream",
     "text": [
      "CUDA not available - defaulting to CPU. Note: This module is much faster with a GPU.\n"
     ]
    },
    {
     "name": "stdout",
     "output_type": "stream",
     "text": [
      "from image= [([[0, 11], [46, 11], [46, 53], [0, 53]], 'इस', 0.9989471655407701)]\n",
      "edit distance 0\n",
      "58\n",
      "D:/AUDataset/MYDataSet/Devanagari/Test_Doc_Devanagari\\img0090.png\n",
      "original= उपवन\n"
     ]
    },
    {
     "name": "stderr",
     "output_type": "stream",
     "text": [
      "CUDA not available - defaulting to CPU. Note: This module is much faster with a GPU.\n"
     ]
    },
    {
     "name": "stdout",
     "output_type": "stream",
     "text": [
      "from image= [([[4, 0], [141, 0], [141, 50], [4, 50]], 'उपवन', 0.9999879002571106)]\n",
      "edit distance 0\n",
      "59\n",
      "D:/AUDataset/MYDataSet/Devanagari/Test_Doc_Devanagari\\img0091.png\n",
      "original= ऊन\n"
     ]
    },
    {
     "name": "stderr",
     "output_type": "stream",
     "text": [
      "CUDA not available - defaulting to CPU. Note: This module is much faster with a GPU.\n"
     ]
    },
    {
     "name": "stdout",
     "output_type": "stream",
     "text": [
      "D:/AUDataset/MYDataSet/Devanagari/Test_Doc_Devanagari\\img0092.png\n",
      "original= ऊँट\n"
     ]
    },
    {
     "name": "stderr",
     "output_type": "stream",
     "text": [
      "CUDA not available - defaulting to CPU. Note: This module is much faster with a GPU.\n"
     ]
    },
    {
     "name": "stdout",
     "output_type": "stream",
     "text": [
      "from image= [([[4, 0], [96, 0], [96, 70], [4, 70]], 'ऊँट', 0.996585488319397)]\n",
      "edit distance 0\n",
      "60\n",
      "D:/AUDataset/MYDataSet/Devanagari/Test_Doc_Devanagari\\img0093.png\n",
      "original= पहूंचे\n"
     ]
    },
    {
     "name": "stderr",
     "output_type": "stream",
     "text": [
      "CUDA not available - defaulting to CPU. Note: This module is much faster with a GPU.\n"
     ]
    },
    {
     "name": "stdout",
     "output_type": "stream",
     "text": [
      "from image= [([[0, 0], [132, 0], [132, 94], [0, 94]], 'पहुंचे', 0.9577085494275495)]\n",
      "edit distance 1\n",
      "7\n",
      "D:/AUDataset/MYDataSet/Devanagari/Test_Doc_Devanagari\\img0094.png\n",
      "original= नल\n"
     ]
    },
    {
     "name": "stderr",
     "output_type": "stream",
     "text": [
      "CUDA not available - defaulting to CPU. Note: This module is much faster with a GPU.\n"
     ]
    },
    {
     "name": "stdout",
     "output_type": "stream",
     "text": [
      "D:/AUDataset/MYDataSet/Devanagari/Test_Doc_Devanagari\\img0095.png\n",
      "original= नींबु\n"
     ]
    },
    {
     "name": "stderr",
     "output_type": "stream",
     "text": [
      "CUDA not available - defaulting to CPU. Note: This module is much faster with a GPU.\n"
     ]
    },
    {
     "name": "stdout",
     "output_type": "stream",
     "text": [
      "from image= [([[4.9959964937677555, -5.927624193002487], [99.52274332537648, 14.459563125906], [84.00400350623225, 76.92762419300249], [-8.522743325376485, 56.540436874094]], 'नींबू', 0.7592366010932304)]\n",
      "edit distance 1\n",
      "8\n",
      "D:/AUDataset/MYDataSet/Devanagari/Test_Doc_Devanagari\\img0096.png\n",
      "original= पतंग\n"
     ]
    },
    {
     "name": "stderr",
     "output_type": "stream",
     "text": [
      "CUDA not available - defaulting to CPU. Note: This module is much faster with a GPU.\n"
     ]
    },
    {
     "name": "stdout",
     "output_type": "stream",
     "text": [
      "from image= [([[0, 10], [111, 10], [111, 66], [0, 66]], 'पतंग', 0.7689350988689188)]\n",
      "edit distance 0\n",
      "61\n",
      "D:/AUDataset/MYDataSet/Devanagari/Test_Doc_Devanagari\\img0097.png\n",
      "original= पनघट\n"
     ]
    },
    {
     "name": "stderr",
     "output_type": "stream",
     "text": [
      "CUDA not available - defaulting to CPU. Note: This module is much faster with a GPU.\n"
     ]
    },
    {
     "name": "stdout",
     "output_type": "stream",
     "text": [
      "from image= [([[0, 1], [150, 1], [150, 66], [0, 66]], 'पनघट', 0.8682344698925664)]\n",
      "edit distance 0\n",
      "62\n",
      "D:/AUDataset/MYDataSet/Devanagari/Test_Doc_Devanagari\\img0098.png\n",
      "original= सँपेरा\n"
     ]
    },
    {
     "name": "stderr",
     "output_type": "stream",
     "text": [
      "CUDA not available - defaulting to CPU. Note: This module is much faster with a GPU.\n"
     ]
    },
    {
     "name": "stdout",
     "output_type": "stream",
     "text": [
      "from image= [([[1, 5], [129, 5], [129, 69], [1, 69]], 'सँपेरा', 0.4880178897348768)]\n",
      "edit distance 0\n",
      "63\n",
      "D:/AUDataset/MYDataSet/Devanagari/Test_Doc_Devanagari\\img0099.png\n",
      "original= साधू\n"
     ]
    },
    {
     "name": "stderr",
     "output_type": "stream",
     "text": [
      "CUDA not available - defaulting to CPU. Note: This module is much faster with a GPU.\n"
     ]
    },
    {
     "name": "stdout",
     "output_type": "stream",
     "text": [
      "from image= [([[3, 1], [113, 1], [113, 63], [3, 63]], 'साधू', 0.9222293869141915)]\n",
      "edit distance 0\n",
      "64\n",
      "D:/AUDataset/MYDataSet/Devanagari/Test_Doc_Devanagari\\img0100.png\n",
      "original= हल\n"
     ]
    },
    {
     "name": "stderr",
     "output_type": "stream",
     "text": [
      "CUDA not available - defaulting to CPU. Note: This module is much faster with a GPU.\n"
     ]
    },
    {
     "name": "stdout",
     "output_type": "stream",
     "text": [
      "from image= [([[14, 6], [46, 6], [46, 48], [14, 48]], 'ह', 0.8769495511944712)]\n",
      "edit distance 1\n",
      "9\n",
      "D:/AUDataset/MYDataSet/Devanagari/Test_Doc_Devanagari\\img0101.png\n",
      "original= मुफ्त\n"
     ]
    },
    {
     "name": "stderr",
     "output_type": "stream",
     "text": [
      "CUDA not available - defaulting to CPU. Note: This module is much faster with a GPU.\n"
     ]
    },
    {
     "name": "stdout",
     "output_type": "stream",
     "text": [
      "from image= [([[4.21164839448843, 25.076286215514603], [292.1846262383086, 3.929845856426084], [293.7883516055116, 183.9237137844854], [5.815373761691369, 205.07015414357392]], 'मुफ्त', 0.962341834521452)]\n",
      "edit distance 0\n",
      "65\n",
      "D:/AUDataset/MYDataSet/Devanagari/Test_Doc_Devanagari\\img0102.png\n",
      "original= दिवस\n"
     ]
    },
    {
     "name": "stderr",
     "output_type": "stream",
     "text": [
      "CUDA not available - defaulting to CPU. Note: This module is much faster with a GPU.\n"
     ]
    },
    {
     "name": "stdout",
     "output_type": "stream",
     "text": [
      "from image= [([[0, 0], [106, 0], [106, 51], [0, 51]], 'दिवस', 0.7723112416944224)]\n",
      "edit distance 0\n",
      "66\n",
      "D:/AUDataset/MYDataSet/Devanagari/Test_Doc_Devanagari\\img0103.png\n",
      "original= जारी\n"
     ]
    },
    {
     "name": "stderr",
     "output_type": "stream",
     "text": [
      "CUDA not available - defaulting to CPU. Note: This module is much faster with a GPU.\n"
     ]
    },
    {
     "name": "stdout",
     "output_type": "stream",
     "text": [
      "from image= [([[0, 3], [138, 3], [138, 86], [0, 86]], 'जारी', 0.9969500565760092)]\n",
      "edit distance 0\n",
      "67\n",
      "D:/AUDataset/MYDataSet/Devanagari/Test_Doc_Devanagari\\img0104.png\n",
      "original= अब\n"
     ]
    },
    {
     "name": "stderr",
     "output_type": "stream",
     "text": [
      "CUDA not available - defaulting to CPU. Note: This module is much faster with a GPU.\n"
     ]
    },
    {
     "name": "stdout",
     "output_type": "stream",
     "text": [
      "from image= [([[0, 0], [101, 0], [101, 65], [0, 65]], 'अब', 0.9997347380412062)]\n",
      "edit distance 0\n",
      "68\n",
      "D:/AUDataset/MYDataSet/Devanagari/Test_Doc_Devanagari\\img0105.png\n",
      "original= हाथी\n"
     ]
    },
    {
     "name": "stderr",
     "output_type": "stream",
     "text": [
      "CUDA not available - defaulting to CPU. Note: This module is much faster with a GPU.\n"
     ]
    },
    {
     "name": "stdout",
     "output_type": "stream",
     "text": [
      "from image= [([[1, 0], [124, 0], [124, 71], [1, 71]], 'हाथी', 0.5545482301347309)]\n",
      "edit distance 0\n",
      "69\n",
      "D:/AUDataset/MYDataSet/Devanagari/Test_Doc_Devanagari\\img0106.png\n",
      "original= कबूतर\n"
     ]
    },
    {
     "name": "stderr",
     "output_type": "stream",
     "text": [
      "CUDA not available - defaulting to CPU. Note: This module is much faster with a GPU.\n"
     ]
    },
    {
     "name": "stdout",
     "output_type": "stream",
     "text": [
      "from image= [([[7, 3], [59, 3], [59, 47], [7, 47]], 'क', 0.9999980926522767), ([[93, 9], [153, 9], [153, 51], [93, 51]], 'तर', 0.9980787766972178)]\n",
      "edit distance 4\n",
      "2\n",
      "D:/AUDataset/MYDataSet/Devanagari/Test_Doc_Devanagari\\img0107.png\n",
      "original= खरबूजा\n"
     ]
    },
    {
     "name": "stderr",
     "output_type": "stream",
     "text": [
      "CUDA not available - defaulting to CPU. Note: This module is much faster with a GPU.\n"
     ]
    },
    {
     "name": "stdout",
     "output_type": "stream",
     "text": [
      "from image= [([[2, 6], [182, 6], [182, 55], [2, 55]], 'खरबजा', 0.9815101411269174)]\n",
      "edit distance 1\n",
      "10\n",
      "D:/AUDataset/MYDataSet/Devanagari/Test_Doc_Devanagari\\img0108.png\n",
      "original= खरगोश\n"
     ]
    },
    {
     "name": "stderr",
     "output_type": "stream",
     "text": [
      "CUDA not available - defaulting to CPU. Note: This module is much faster with a GPU.\n"
     ]
    },
    {
     "name": "stdout",
     "output_type": "stream",
     "text": [
      "from image= [([[0, 3], [185, 3], [185, 63], [0, 63]], 'खरगाश', 0.7478892379415767)]\n",
      "edit distance 1\n",
      "11\n",
      "D:/AUDataset/MYDataSet/Devanagari/Test_Doc_Devanagari\\img0109.png\n",
      "original= गधा\n"
     ]
    },
    {
     "name": "stderr",
     "output_type": "stream",
     "text": [
      "CUDA not available - defaulting to CPU. Note: This module is much faster with a GPU.\n"
     ]
    },
    {
     "name": "stdout",
     "output_type": "stream",
     "text": [
      "from image= [([[1, 3], [93, 3], [93, 47], [1, 47]], 'गधा', 0.9986459120465048)]\n",
      "edit distance 0\n",
      "70\n",
      "D:/AUDataset/MYDataSet/Devanagari/Test_Doc_Devanagari\\img0110.png\n",
      "original= गमला\n"
     ]
    },
    {
     "name": "stderr",
     "output_type": "stream",
     "text": [
      "CUDA not available - defaulting to CPU. Note: This module is much faster with a GPU.\n"
     ]
    },
    {
     "name": "stdout",
     "output_type": "stream",
     "text": [
      "from image= [([[0, 0], [132, 0], [132, 48], [0, 48]], 'गमला', 0.8471027196905182)]\n",
      "edit distance 0\n",
      "71\n",
      "D:/AUDataset/MYDataSet/Devanagari/Test_Doc_Devanagari\\img0111.png\n",
      "original= घर\n"
     ]
    },
    {
     "name": "stderr",
     "output_type": "stream",
     "text": [
      "CUDA not available - defaulting to CPU. Note: This module is much faster with a GPU.\n"
     ]
    },
    {
     "name": "stdout",
     "output_type": "stream",
     "text": [
      "from image= [([[5, 9], [65, 9], [65, 49], [5, 49]], 'घर', 0.9998996076828902)]\n",
      "edit distance 0\n",
      "72\n",
      "D:/AUDataset/MYDataSet/Devanagari/Test_Doc_Devanagari\\img0112.png\n",
      "original= घड़ी\n"
     ]
    },
    {
     "name": "stderr",
     "output_type": "stream",
     "text": [
      "CUDA not available - defaulting to CPU. Note: This module is much faster with a GPU.\n"
     ]
    },
    {
     "name": "stdout",
     "output_type": "stream",
     "text": [
      "from image= [([[3, 9], [102, 9], [102, 69], [3, 69]], 'घड़ा', 0.32160160198313464)]\n",
      "edit distance 1\n",
      "12\n",
      "D:/AUDataset/MYDataSet/Devanagari/Test_Doc_Devanagari\\img0113.png\n",
      "original= छतरी\n"
     ]
    },
    {
     "name": "stderr",
     "output_type": "stream",
     "text": [
      "CUDA not available - defaulting to CPU. Note: This module is much faster with a GPU.\n"
     ]
    },
    {
     "name": "stdout",
     "output_type": "stream",
     "text": [
      "from image= [([[1, 0], [119, 0], [119, 61], [1, 61]], 'छतरी', 0.9909650738741193)]\n",
      "edit distance 0\n",
      "73\n",
      "D:/AUDataset/MYDataSet/Devanagari/Test_Doc_Devanagari\\img0114.png\n",
      "original= छुरी\n"
     ]
    },
    {
     "name": "stderr",
     "output_type": "stream",
     "text": [
      "CUDA not available - defaulting to CPU. Note: This module is much faster with a GPU.\n"
     ]
    },
    {
     "name": "stdout",
     "output_type": "stream",
     "text": [
      "D:/AUDataset/MYDataSet/Devanagari/Test_Doc_Devanagari\\img0115.png\n",
      "original= नडाल\n"
     ]
    },
    {
     "name": "stderr",
     "output_type": "stream",
     "text": [
      "CUDA not available - defaulting to CPU. Note: This module is much faster with a GPU.\n"
     ]
    },
    {
     "name": "stdout",
     "output_type": "stream",
     "text": [
      "from image= [([[0, 0], [160, 0], [160, 68], [0, 68]], 'नडाल', 0.5045252890772123)]\n",
      "edit distance 0\n",
      "74\n",
      "D:/AUDataset/MYDataSet/Devanagari/Test_Doc_Devanagari\\img0116.png\n",
      "original= रखना\n"
     ]
    },
    {
     "name": "stderr",
     "output_type": "stream",
     "text": [
      "CUDA not available - defaulting to CPU. Note: This module is much faster with a GPU.\n"
     ]
    },
    {
     "name": "stdout",
     "output_type": "stream",
     "text": [
      "from image= [([[0, 7], [60, 7], [60, 35], [0, 35]], 'रखना', 0.9998788833618164)]\n",
      "edit distance 0\n",
      "75\n",
      "D:/AUDataset/MYDataSet/Devanagari/Test_Doc_Devanagari\\img0117.png\n",
      "original= पड़ता\n"
     ]
    },
    {
     "name": "stderr",
     "output_type": "stream",
     "text": [
      "CUDA not available - defaulting to CPU. Note: This module is much faster with a GPU.\n"
     ]
    },
    {
     "name": "stdout",
     "output_type": "stream",
     "text": [
      "from image= [([[0, 5], [62, 5], [62, 33], [0, 33]], 'पडता', 0.7299981990586772)]\n",
      "edit distance 1\n",
      "13\n",
      "D:/AUDataset/MYDataSet/Devanagari/Test_Doc_Devanagari\\img0118.png\n",
      "original= करके\n"
     ]
    },
    {
     "name": "stderr",
     "output_type": "stream",
     "text": [
      "CUDA not available - defaulting to CPU. Note: This module is much faster with a GPU.\n"
     ]
    },
    {
     "name": "stdout",
     "output_type": "stream",
     "text": [
      "from image= [([[2, 6], [62, 6], [62, 34], [2, 34]], 'करक', 0.7318433523178101)]\n",
      "edit distance 1\n",
      "14\n",
      "D:/AUDataset/MYDataSet/Devanagari/Test_Doc_Devanagari\\img0119.png\n",
      "original= विज्ञान\n"
     ]
    },
    {
     "name": "stderr",
     "output_type": "stream",
     "text": [
      "CUDA not available - defaulting to CPU. Note: This module is much faster with a GPU.\n"
     ]
    },
    {
     "name": "stdout",
     "output_type": "stream",
     "text": [
      "from image= [([[-0.944236968250622, -1.9100322349032366], [95.80952552547471, 14.633082219075611], [86.94423696825062, 59.910032234903234], [-8.809525525474704, 44.36691778092439]], 'विज्ञान', 0.8337013179645683)]\n",
      "edit distance 0\n",
      "76\n",
      "D:/AUDataset/MYDataSet/Devanagari/Test_Doc_Devanagari\\img0120.png\n",
      "original= वह\n"
     ]
    },
    {
     "name": "stderr",
     "output_type": "stream",
     "text": [
      "CUDA not available - defaulting to CPU. Note: This module is much faster with a GPU.\n"
     ]
    },
    {
     "name": "stdout",
     "output_type": "stream",
     "text": [
      "D:/AUDataset/MYDataSet/Devanagari/Test_Doc_Devanagari\\img0121.png\n",
      "original= सब\n"
     ]
    },
    {
     "name": "stderr",
     "output_type": "stream",
     "text": [
      "CUDA not available - defaulting to CPU. Note: This module is much faster with a GPU.\n"
     ]
    },
    {
     "name": "stdout",
     "output_type": "stream",
     "text": [
      "D:/AUDataset/MYDataSet/Devanagari/Test_Doc_Devanagari\\img0122.png\n",
      "original= ठीक\n"
     ]
    },
    {
     "name": "stderr",
     "output_type": "stream",
     "text": [
      "CUDA not available - defaulting to CPU. Note: This module is much faster with a GPU.\n"
     ]
    },
    {
     "name": "stdout",
     "output_type": "stream",
     "text": [
      "from image= [([[0, 6], [49, 6], [49, 36], [0, 36]], 'ठोक', 0.8955358862876892)]\n",
      "edit distance 1\n",
      "15\n",
      "D:/AUDataset/MYDataSet/Devanagari/Test_Doc_Devanagari\\img0123.png\n",
      "original= जगह\n"
     ]
    },
    {
     "name": "stderr",
     "output_type": "stream",
     "text": [
      "CUDA not available - defaulting to CPU. Note: This module is much faster with a GPU.\n"
     ]
    },
    {
     "name": "stdout",
     "output_type": "stream",
     "text": [
      "from image= [([[2, 6], [52, 6], [52, 30], [2, 30]], 'जगह', 0.9999880931953307)]\n",
      "edit distance 0\n",
      "77\n",
      "D:/AUDataset/MYDataSet/Devanagari/Test_Doc_Devanagari\\img0124.png\n",
      "original= पहुँचा\n"
     ]
    },
    {
     "name": "stderr",
     "output_type": "stream",
     "text": [
      "CUDA not available - defaulting to CPU. Note: This module is much faster with a GPU.\n"
     ]
    },
    {
     "name": "stdout",
     "output_type": "stream",
     "text": [
      "from image= [([[2, 10], [38, 10], [38, 38], [2, 38]], 'पहु', 0.6285368751503819)]\n",
      "edit distance 3\n",
      "5\n",
      "D:/AUDataset/MYDataSet/Devanagari/Test_Doc_Devanagari\\img0125.png\n",
      "original= बहुत\n"
     ]
    },
    {
     "name": "stderr",
     "output_type": "stream",
     "text": [
      "CUDA not available - defaulting to CPU. Note: This module is much faster with a GPU.\n"
     ]
    },
    {
     "name": "stdout",
     "output_type": "stream",
     "text": [
      "D:/AUDataset/MYDataSet/Devanagari/Test_Doc_Devanagari\\img0126.png\n",
      "original= ओपन.\n"
     ]
    },
    {
     "name": "stderr",
     "output_type": "stream",
     "text": [
      "CUDA not available - defaulting to CPU. Note: This module is much faster with a GPU.\n"
     ]
    },
    {
     "name": "stdout",
     "output_type": "stream",
     "text": [
      "from image= [([[0, 1], [92, 1], [92, 43], [0, 43]], 'ओपन.', 0.9374274611473083)]\n",
      "edit distance 0\n",
      "78\n",
      "D:/AUDataset/MYDataSet/Devanagari/Test_Doc_Devanagari\\img0127.png\n",
      "original= देंगे\n"
     ]
    },
    {
     "name": "stderr",
     "output_type": "stream",
     "text": [
      "CUDA not available - defaulting to CPU. Note: This module is much faster with a GPU.\n"
     ]
    },
    {
     "name": "stdout",
     "output_type": "stream",
     "text": [
      "from image= [([[0, 5], [102, 5], [102, 91], [0, 91]], 'देंगे', 0.9520403601462853)]\n",
      "edit distance 0\n",
      "79\n",
      "D:/AUDataset/MYDataSet/Devanagari/Test_Doc_Devanagari\\img0128.png\n",
      "original= होता\n"
     ]
    },
    {
     "name": "stderr",
     "output_type": "stream",
     "text": [
      "CUDA not available - defaulting to CPU. Note: This module is much faster with a GPU.\n"
     ]
    },
    {
     "name": "stdout",
     "output_type": "stream",
     "text": [
      "from image= [([[8, 8], [58, 8], [58, 40], [8, 40]], 'हाता', 0.9281720130866947)]\n",
      "edit distance 1\n",
      "16\n",
      "D:/AUDataset/MYDataSet/Devanagari/Test_Doc_Devanagari\\img0129.png\n",
      "original= हर\n"
     ]
    },
    {
     "name": "stderr",
     "output_type": "stream",
     "text": [
      "CUDA not available - defaulting to CPU. Note: This module is much faster with a GPU.\n"
     ]
    },
    {
     "name": "stdout",
     "output_type": "stream",
     "text": [
      "from image= [([[0, 13], [300, 13], [300, 291], [0, 291]], 'हर', 0.9999153701771093)]\n",
      "edit distance 0\n",
      "80\n",
      "D:/AUDataset/MYDataSet/Devanagari/Test_Doc_Devanagari\\img0130.png\n",
      "original= गिरफ्तार\n"
     ]
    },
    {
     "name": "stderr",
     "output_type": "stream",
     "text": [
      "CUDA not available - defaulting to CPU. Note: This module is much faster with a GPU.\n"
     ]
    },
    {
     "name": "stdout",
     "output_type": "stream",
     "text": [
      "from image= [([[0, 0], [213, 0], [213, 77], [0, 77]], 'गिरफ्तार', 0.9813854384789436)]\n",
      "edit distance 0\n",
      "81\n",
      "D:/AUDataset/MYDataSet/Devanagari/Test_Doc_Devanagari\\img0131.png\n",
      "original= पझ\n"
     ]
    },
    {
     "name": "stderr",
     "output_type": "stream",
     "text": [
      "CUDA not available - defaulting to CPU. Note: This module is much faster with a GPU.\n"
     ]
    },
    {
     "name": "stdout",
     "output_type": "stream",
     "text": [
      "from image= [([[2, 4], [52, 4], [52, 36], [2, 36]], 'पक्ष', 0.9674065398865328)]\n",
      "edit distance 3\n",
      "6\n",
      "D:/AUDataset/MYDataSet/Devanagari/Test_Doc_Devanagari\\img0132.png\n",
      "original= सिद्धि\n"
     ]
    },
    {
     "name": "stderr",
     "output_type": "stream",
     "text": [
      "CUDA not available - defaulting to CPU. Note: This module is much faster with a GPU.\n"
     ]
    },
    {
     "name": "stdout",
     "output_type": "stream",
     "text": [
      "from image= [([[1, 5], [89, 5], [89, 43], [1, 43]], 'सिद्दि', 0.2936252661667278)]\n",
      "edit distance 1\n",
      "17\n",
      "D:/AUDataset/MYDataSet/Devanagari/Test_Doc_Devanagari\\img0133.png\n",
      "original= विवाद\n"
     ]
    },
    {
     "name": "stderr",
     "output_type": "stream",
     "text": [
      "CUDA not available - defaulting to CPU. Note: This module is much faster with a GPU.\n"
     ]
    },
    {
     "name": "stdout",
     "output_type": "stream",
     "text": [
      "from image= [([[0, 3], [75, 3], [75, 46], [0, 46]], 'विवाद', 0.9746090576783214)]\n",
      "edit distance 0\n",
      "82\n",
      "D:/AUDataset/MYDataSet/Devanagari/Test_Doc_Devanagari\\img0134.png\n",
      "original= एडमिशन\n"
     ]
    },
    {
     "name": "stderr",
     "output_type": "stream",
     "text": [
      "CUDA not available - defaulting to CPU. Note: This module is much faster with a GPU.\n"
     ]
    },
    {
     "name": "stdout",
     "output_type": "stream",
     "text": [
      "from image= [([[0, 0], [129, 0], [129, 51], [0, 51]], 'एडमिशन', 0.8671029941773198)]\n",
      "edit distance 0\n",
      "83\n",
      "D:/AUDataset/MYDataSet/Devanagari/Test_Doc_Devanagari\\img0135.png\n",
      "original= चुनोती\n"
     ]
    },
    {
     "name": "stderr",
     "output_type": "stream",
     "text": [
      "CUDA not available - defaulting to CPU. Note: This module is much faster with a GPU.\n"
     ]
    },
    {
     "name": "stdout",
     "output_type": "stream",
     "text": [
      "from image= [([[0, 0], [172, 0], [172, 94], [0, 94]], 'चुनौती', 0.3960030017270442)]\n",
      "edit distance 1\n",
      "18\n",
      "D:/AUDataset/MYDataSet/Devanagari/Test_Doc_Devanagari\\img0136.png\n",
      "original= चुनोती\n"
     ]
    },
    {
     "name": "stderr",
     "output_type": "stream",
     "text": [
      "CUDA not available - defaulting to CPU. Note: This module is much faster with a GPU.\n"
     ]
    },
    {
     "name": "stdout",
     "output_type": "stream",
     "text": [
      "from image= [([[0, 0], [188, 0], [188, 106], [0, 106]], 'चुनौती', 0.8192560009275072)]\n",
      "edit distance 1\n",
      "19\n",
      "D:/AUDataset/MYDataSet/Devanagari/Test_Doc_Devanagari\\img0137.png\n",
      "original= स्पोर्ट्स\n"
     ]
    },
    {
     "name": "stderr",
     "output_type": "stream",
     "text": [
      "CUDA not available - defaulting to CPU. Note: This module is much faster with a GPU.\n"
     ]
    },
    {
     "name": "stdout",
     "output_type": "stream",
     "text": [
      "from image= [([[0, 0], [183, 0], [183, 89], [0, 89]], 'स्पोर्ट्स', 0.7777351237117789)]\n",
      "edit distance 0\n",
      "84\n",
      "D:/AUDataset/MYDataSet/Devanagari/Test_Doc_Devanagari\\img0138.png\n",
      "original= प्रभात\n"
     ]
    },
    {
     "name": "stderr",
     "output_type": "stream",
     "text": [
      "CUDA not available - defaulting to CPU. Note: This module is much faster with a GPU.\n"
     ]
    },
    {
     "name": "stdout",
     "output_type": "stream",
     "text": [
      "from image= [([[0, 4], [141, 4], [141, 72], [0, 72]], 'प्रभात', 0.9673275111781889)]\n",
      "edit distance 0\n",
      "85\n",
      "D:/AUDataset/MYDataSet/Devanagari/Test_Doc_Devanagari\\img0139.png\n",
      "original= न्यूजीलैंड\n"
     ]
    },
    {
     "name": "stderr",
     "output_type": "stream",
     "text": [
      "CUDA not available - defaulting to CPU. Note: This module is much faster with a GPU.\n"
     ]
    },
    {
     "name": "stdout",
     "output_type": "stream",
     "text": [
      "from image= [([[0, 0], [170, 0], [170, 72], [0, 72]], 'न्यूजीलैंड', 0.946707518690456)]\n",
      "edit distance 0\n",
      "86\n",
      "D:/AUDataset/MYDataSet/Devanagari/Test_Doc_Devanagari\\img0140.png\n",
      "original= पहला\n"
     ]
    },
    {
     "name": "stderr",
     "output_type": "stream",
     "text": [
      "CUDA not available - defaulting to CPU. Note: This module is much faster with a GPU.\n"
     ]
    },
    {
     "name": "stdout",
     "output_type": "stream",
     "text": [
      "from image= [([[0, 2], [109, 2], [109, 54], [0, 54]], 'पहला', 0.5964046141721816)]\n",
      "edit distance 0\n",
      "87\n",
      "D:/AUDataset/MYDataSet/Devanagari/Test_Doc_Devanagari\\img0141.png\n",
      "original= वनडे\n"
     ]
    },
    {
     "name": "stderr",
     "output_type": "stream",
     "text": [
      "CUDA not available - defaulting to CPU. Note: This module is much faster with a GPU.\n"
     ]
    },
    {
     "name": "stdout",
     "output_type": "stream",
     "text": [
      "from image= [([[0, 0], [93, 0], [93, 57], [0, 57]], 'वनडे', 0.999638696769467)]\n",
      "edit distance 0\n",
      "88\n",
      "D:/AUDataset/MYDataSet/Devanagari/Test_Doc_Devanagari\\img0142.png\n",
      "original= जगह\n"
     ]
    },
    {
     "name": "stderr",
     "output_type": "stream",
     "text": [
      "CUDA not available - defaulting to CPU. Note: This module is much faster with a GPU.\n"
     ]
    },
    {
     "name": "stdout",
     "output_type": "stream",
     "text": [
      "from image= [([[2, 4], [58, 4], [58, 30], [2, 30]], 'जगह', 0.9999898138306695)]\n",
      "edit distance 0\n",
      "89\n",
      "D:/AUDataset/MYDataSet/Devanagari/Test_Doc_Devanagari\\img0143.png\n",
      "original= आज\n"
     ]
    },
    {
     "name": "stderr",
     "output_type": "stream",
     "text": [
      "CUDA not available - defaulting to CPU. Note: This module is much faster with a GPU.\n"
     ]
    },
    {
     "name": "stdout",
     "output_type": "stream",
     "text": [
      "from image= [([[0, 2], [89, 2], [89, 49], [0, 49]], 'आज', 0.985523852695344)]\n",
      "edit distance 0\n",
      "90\n",
      "D:/AUDataset/MYDataSet/Devanagari/Test_Doc_Devanagari\\img0144.png\n",
      "original= पेत्रा\n"
     ]
    },
    {
     "name": "stderr",
     "output_type": "stream",
     "text": [
      "CUDA not available - defaulting to CPU. Note: This module is much faster with a GPU.\n"
     ]
    },
    {
     "name": "stdout",
     "output_type": "stream",
     "text": [
      "from image= [([[0, 5], [63, 5], [63, 49], [0, 49]], 'पेत्रा', 0.9599639844051342)]\n",
      "edit distance 0\n",
      "91\n",
      "D:/AUDataset/MYDataSet/Devanagari/Test_Doc_Devanagari\\img0145.png\n",
      "original= जाता\n"
     ]
    },
    {
     "name": "stderr",
     "output_type": "stream",
     "text": [
      "CUDA not available - defaulting to CPU. Note: This module is much faster with a GPU.\n"
     ]
    },
    {
     "name": "stdout",
     "output_type": "stream",
     "text": [
      "from image= [([[2, 8], [54, 8], [54, 32], [2, 32]], 'जाता', 0.767838751724249)]\n",
      "edit distance 0\n",
      "92\n",
      "D:/AUDataset/MYDataSet/Devanagari/Test_Doc_Devanagari\\img0146.png\n",
      "original= भारत\n"
     ]
    },
    {
     "name": "stderr",
     "output_type": "stream",
     "text": [
      "CUDA not available - defaulting to CPU. Note: This module is much faster with a GPU.\n"
     ]
    },
    {
     "name": "stdout",
     "output_type": "stream",
     "text": [
      "from image= [([[0, 0], [98, 0], [98, 50], [0, 50]], 'भारत', 0.9799204462944887)]\n",
      "edit distance 0\n",
      "93\n",
      "D:/AUDataset/MYDataSet/Devanagari/Test_Doc_Devanagari\\img0147.png\n",
      "original= कुछ\n"
     ]
    },
    {
     "name": "stderr",
     "output_type": "stream",
     "text": [
      "CUDA not available - defaulting to CPU. Note: This module is much faster with a GPU.\n"
     ]
    },
    {
     "name": "stdout",
     "output_type": "stream",
     "text": [
      "D:/AUDataset/MYDataSet/Devanagari/Test_Doc_Devanagari\\img0148.png\n",
      "original= पलड़ा\n"
     ]
    },
    {
     "name": "stderr",
     "output_type": "stream",
     "text": [
      "CUDA not available - defaulting to CPU. Note: This module is much faster with a GPU.\n"
     ]
    },
    {
     "name": "stdout",
     "output_type": "stream",
     "text": [
      "from image= [([[0, 2], [118, 2], [118, 50], [0, 50]], 'पलड़ा', 0.8825342495654367)]\n",
      "edit distance 2\n",
      "7\n",
      "D:/AUDataset/MYDataSet/Devanagari/Test_Doc_Devanagari\\img0149.png\n",
      "original= लगातार\n"
     ]
    },
    {
     "name": "stderr",
     "output_type": "stream",
     "text": [
      "CUDA not available - defaulting to CPU. Note: This module is much faster with a GPU.\n"
     ]
    },
    {
     "name": "stdout",
     "output_type": "stream",
     "text": [
      "from image= [([[4, 8], [88, 8], [88, 34], [4, 34]], 'लगातार', 0.7314902874125075)]\n",
      "edit distance 0\n",
      "94\n",
      "D:/AUDataset/MYDataSet/Devanagari/Test_Doc_Devanagari\\img0150.png\n",
      "original= भारी\n"
     ]
    },
    {
     "name": "stderr",
     "output_type": "stream",
     "text": [
      "CUDA not available - defaulting to CPU. Note: This module is much faster with a GPU.\n"
     ]
    },
    {
     "name": "stdout",
     "output_type": "stream",
     "text": [
      "from image= [([[0, 1], [86, 1], [86, 58], [0, 58]], 'भारी', 0.9813730493289295)]\n",
      "edit distance 0\n",
      "95\n",
      "D:/AUDataset/MYDataSet/Devanagari/Test_Doc_Devanagari\\img0151.png\n",
      "original= रस्तों\n"
     ]
    },
    {
     "name": "stderr",
     "output_type": "stream",
     "text": [
      "CUDA not available - defaulting to CPU. Note: This module is much faster with a GPU.\n"
     ]
    },
    {
     "name": "stdout",
     "output_type": "stream",
     "text": [
      "from image= [([[0, 6], [58, 6], [58, 38], [0, 38]], 'रास्तां', 0.9390295747290807)]\n",
      "edit distance 2\n",
      "8\n",
      "D:/AUDataset/MYDataSet/Devanagari/Test_Doc_Devanagari\\img0152.png\n",
      "original= जा\n"
     ]
    },
    {
     "name": "stderr",
     "output_type": "stream",
     "text": [
      "CUDA not available - defaulting to CPU. Note: This module is much faster with a GPU.\n"
     ]
    },
    {
     "name": "stdout",
     "output_type": "stream",
     "text": [
      "from image= [([[0, 40], [274, 40], [274, 260], [0, 260]], 'जा', 0.9980464628719629)]\n",
      "edit distance 0\n",
      "96\n",
      "D:/AUDataset/MYDataSet/Devanagari/Test_Doc_Devanagari\\img0153.png\n",
      "original= मैदानों\n"
     ]
    },
    {
     "name": "stderr",
     "output_type": "stream",
     "text": [
      "CUDA not available - defaulting to CPU. Note: This module is much faster with a GPU.\n"
     ]
    },
    {
     "name": "stdout",
     "output_type": "stream",
     "text": [
      "from image= [([[3, 3], [75, 3], [75, 41], [3, 41]], 'मैदानों', 0.8213080393712866)]\n",
      "edit distance 0\n",
      "97\n",
      "D:/AUDataset/MYDataSet/Devanagari/Test_Doc_Devanagari\\img0154.png\n",
      "original= अवसर\n"
     ]
    },
    {
     "name": "stderr",
     "output_type": "stream",
     "text": [
      "CUDA not available - defaulting to CPU. Note: This module is much faster with a GPU.\n"
     ]
    },
    {
     "name": "stdout",
     "output_type": "stream",
     "text": [
      "from image= [([[2.1322781687253753, 0.09525175926418905], [103.9238098029203, 15.223007959817762], [96.86772183127462, 52.90474824073581], [-4.9238098029202995, 36.776992040182236]], 'अवसर', 0.9998414516448975)]\n",
      "edit distance 0\n",
      "98\n",
      "D:/AUDataset/MYDataSet/Devanagari/Test_Doc_Devanagari\\img0155.png\n",
      "original= सड़कों\n"
     ]
    },
    {
     "name": "stderr",
     "output_type": "stream",
     "text": [
      "CUDA not available - defaulting to CPU. Note: This module is much faster with a GPU.\n"
     ]
    },
    {
     "name": "stdout",
     "output_type": "stream",
     "text": [
      "from image= [([[0, 4], [76, 4], [76, 43], [0, 43]], 'सड़कों', 0.7999466833115996)]\n",
      "edit distance 2\n",
      "9\n",
      "D:/AUDataset/MYDataSet/Devanagari/Test_Doc_Devanagari\\img0156.png\n",
      "original= जगह\n"
     ]
    },
    {
     "name": "stderr",
     "output_type": "stream",
     "text": [
      "CUDA not available - defaulting to CPU. Note: This module is much faster with a GPU.\n"
     ]
    },
    {
     "name": "stdout",
     "output_type": "stream",
     "text": [
      "from image= [([[0, 0], [68, 0], [68, 31], [0, 31]], 'जगह', 0.7307603359222412)]\n",
      "edit distance 0\n",
      "99\n",
      "D:/AUDataset/MYDataSet/Devanagari/Test_Doc_Devanagari\\img0157.png\n",
      "original= निकल\n"
     ]
    },
    {
     "name": "stderr",
     "output_type": "stream",
     "text": [
      "CUDA not available - defaulting to CPU. Note: This module is much faster with a GPU.\n"
     ]
    },
    {
     "name": "stdout",
     "output_type": "stream",
     "text": [
      "from image= [([[1, 0], [76, 0], [76, 36], [1, 36]], 'निकल', 0.9975884808143095)]\n",
      "edit distance 0\n",
      "100\n",
      "D:/AUDataset/MYDataSet/Devanagari/Test_Doc_Devanagari\\img0158.png\n",
      "original= भारतीय\n"
     ]
    },
    {
     "name": "stderr",
     "output_type": "stream",
     "text": [
      "CUDA not available - defaulting to CPU. Note: This module is much faster with a GPU.\n"
     ]
    },
    {
     "name": "stdout",
     "output_type": "stream",
     "text": [
      "from image= [([[0, 0], [132, 0], [132, 38], [0, 38]], 'आरनीय', 0.6364658209594183)]\n",
      "edit distance 3\n",
      "7\n",
      "D:/AUDataset/MYDataSet/Devanagari/Test_Doc_Devanagari\\img0159.png\n",
      "original= ताकत\n"
     ]
    },
    {
     "name": "stderr",
     "output_type": "stream",
     "text": [
      "CUDA not available - defaulting to CPU. Note: This module is much faster with a GPU.\n"
     ]
    },
    {
     "name": "stdout",
     "output_type": "stream",
     "text": [
      "from image= [([[0, 2], [132, 2], [132, 52], [0, 52]], 'ताकत', 0.8008574657394637)]\n",
      "edit distance 0\n",
      "101\n",
      "D:/AUDataset/MYDataSet/Devanagari/Test_Doc_Devanagari\\img0160.png\n",
      "original= अपने\n"
     ]
    },
    {
     "name": "stderr",
     "output_type": "stream",
     "text": [
      "CUDA not available - defaulting to CPU. Note: This module is much faster with a GPU.\n"
     ]
    },
    {
     "name": "stdout",
     "output_type": "stream",
     "text": [
      "from image= [([[0, 6], [100, 6], [100, 58], [0, 58]], 'अपने', 0.9647189353079385)]\n",
      "edit distance 0\n",
      "102\n",
      "D:/AUDataset/MYDataSet/Devanagari/Test_Doc_Devanagari\\img0161.png\n",
      "original= बैंक\n"
     ]
    },
    {
     "name": "stderr",
     "output_type": "stream",
     "text": [
      "CUDA not available - defaulting to CPU. Note: This module is much faster with a GPU.\n"
     ]
    },
    {
     "name": "stdout",
     "output_type": "stream",
     "text": [
      "D:/AUDataset/MYDataSet/Devanagari/Test_Doc_Devanagari\\img0162.png\n",
      "original= पुनरुद्धार\n"
     ]
    },
    {
     "name": "stderr",
     "output_type": "stream",
     "text": [
      "CUDA not available - defaulting to CPU. Note: This module is much faster with a GPU.\n"
     ]
    },
    {
     "name": "stdout",
     "output_type": "stream",
     "text": [
      "from image= [([[0, 5], [166, 5], [166, 57], [0, 57]], 'पुनरुद्धार', 0.6647116982341912)]\n",
      "edit distance 0\n",
      "103\n",
      "D:/AUDataset/MYDataSet/Devanagari/Test_Doc_Devanagari\\img0163.png\n",
      "original= जोशी\n"
     ]
    },
    {
     "name": "stderr",
     "output_type": "stream",
     "text": [
      "CUDA not available - defaulting to CPU. Note: This module is much faster with a GPU.\n"
     ]
    },
    {
     "name": "stdout",
     "output_type": "stream",
     "text": [
      "from image= [([[0, 4], [103, 4], [103, 52], [0, 52]], 'जोशी', 0.5863422940570815)]\n",
      "edit distance 0\n",
      "104\n",
      "D:/AUDataset/MYDataSet/Devanagari/Test_Doc_Devanagari\\img0164.png\n",
      "original= क्वितोवा\n"
     ]
    },
    {
     "name": "stderr",
     "output_type": "stream",
     "text": [
      "CUDA not available - defaulting to CPU. Note: This module is much faster with a GPU.\n"
     ]
    },
    {
     "name": "stdout",
     "output_type": "stream",
     "text": [
      "from image= [([[0, 0], [128, 0], [128, 50], [0, 50]], 'क्वितोवा', 0.8694850825399584)]\n",
      "edit distance 0\n",
      "105\n",
      "D:/AUDataset/MYDataSet/Devanagari/Test_Doc_Devanagari\\img0165.png\n",
      "original= बाट\n"
     ]
    },
    {
     "name": "stderr",
     "output_type": "stream",
     "text": [
      "CUDA not available - defaulting to CPU. Note: This module is much faster with a GPU.\n"
     ]
    },
    {
     "name": "stdout",
     "output_type": "stream",
     "text": [
      "from image= [([[1, 7], [71, 7], [71, 50], [1, 50]], 'बाट', 0.8243334090579647)]\n",
      "edit distance 0\n",
      "106\n",
      "D:/AUDataset/MYDataSet/Devanagari/Test_Doc_Devanagari\\img0166.png\n",
      "original= जोहता\n"
     ]
    },
    {
     "name": "stderr",
     "output_type": "stream",
     "text": [
      "CUDA not available - defaulting to CPU. Note: This module is much faster with a GPU.\n"
     ]
    },
    {
     "name": "stdout",
     "output_type": "stream",
     "text": [
      "from image= [([[0, 1], [113, 1], [113, 58], [0, 58]], 'जोहता', 0.9364989037067678)]\n",
      "edit distance 0\n",
      "107\n",
      "D:/AUDataset/MYDataSet/Devanagari/Test_Doc_Devanagari\\img0167.png\n",
      "original= अलीपुर\n"
     ]
    },
    {
     "name": "stderr",
     "output_type": "stream",
     "text": [
      "CUDA not available - defaulting to CPU. Note: This module is much faster with a GPU.\n"
     ]
    },
    {
     "name": "stdout",
     "output_type": "stream",
     "text": [
      "from image= [([[3.0625747279902353, -13.936947012872263], [136.75685159340944, 10.17107776418993], [121.93742527200976, 73.93694701287227], [-9.756851593409426, 49.82892223581007]], 'अलीपुर', 0.9911917763004218)]\n",
      "edit distance 0\n",
      "108\n",
      "D:/AUDataset/MYDataSet/Devanagari/Test_Doc_Devanagari\\img0168.png\n",
      "original= विचार\n"
     ]
    },
    {
     "name": "stderr",
     "output_type": "stream",
     "text": [
      "CUDA not available - defaulting to CPU. Note: This module is much faster with a GPU.\n"
     ]
    },
    {
     "name": "stdout",
     "output_type": "stream",
     "text": [
      "from image= [([[0, 1], [103, 1], [103, 56], [0, 56]], 'विचार', 0.9967552925270116)]\n",
      "edit distance 0\n",
      "109\n",
      "D:/AUDataset/MYDataSet/Devanagari/Test_Doc_Devanagari\\img0169.png\n",
      "original= संग्रहालय\n"
     ]
    },
    {
     "name": "stderr",
     "output_type": "stream",
     "text": [
      "CUDA not available - defaulting to CPU. Note: This module is much faster with a GPU.\n"
     ]
    },
    {
     "name": "stdout",
     "output_type": "stream",
     "text": [
      "from image= [([[0, 0], [160, 0], [160, 52], [0, 52]], 'संग्रहालय', 0.7495757653451848)]\n",
      "edit distance 0\n",
      "110\n",
      "D:/AUDataset/MYDataSet/Devanagari/Test_Doc_Devanagari\\img0170.png\n",
      "original= भोजपुरिया\n"
     ]
    },
    {
     "name": "stderr",
     "output_type": "stream",
     "text": [
      "CUDA not available - defaulting to CPU. Note: This module is much faster with a GPU.\n"
     ]
    },
    {
     "name": "stdout",
     "output_type": "stream",
     "text": [
      "from image= [([[0, 0], [170, 0], [170, 56], [0, 56]], 'भोजपुरिया', 0.6619185000957769)]\n",
      "edit distance 0\n",
      "111\n",
      "D:/AUDataset/MYDataSet/Devanagari/Test_Doc_Devanagari\\img0171.png\n",
      "original= एकता\n"
     ]
    },
    {
     "name": "stderr",
     "output_type": "stream",
     "text": [
      "CUDA not available - defaulting to CPU. Note: This module is much faster with a GPU.\n"
     ]
    },
    {
     "name": "stdout",
     "output_type": "stream",
     "text": [
      "from image= [([[0, 0], [93, 0], [93, 40], [0, 40]], 'एकता', 0.8250398188940684)]\n",
      "edit distance 0\n",
      "112\n",
      "D:/AUDataset/MYDataSet/Devanagari/Test_Doc_Devanagari\\img0172.png\n",
      "original= राह\n"
     ]
    },
    {
     "name": "stderr",
     "output_type": "stream",
     "text": [
      "CUDA not available - defaulting to CPU. Note: This module is much faster with a GPU.\n"
     ]
    },
    {
     "name": "stdout",
     "output_type": "stream",
     "text": [
      "from image= [([[0, 0], [107, 0], [107, 78], [0, 78]], 'राह', 0.6866991519927979)]\n",
      "edit distance 0\n",
      "113\n",
      "D:/AUDataset/MYDataSet/Devanagari/Test_Doc_Devanagari\\img0173.png\n",
      "original= सभी\n"
     ]
    },
    {
     "name": "stderr",
     "output_type": "stream",
     "text": [
      "CUDA not available - defaulting to CPU. Note: This module is much faster with a GPU.\n"
     ]
    },
    {
     "name": "stdout",
     "output_type": "stream",
     "text": [
      "from image= [([[3, 0], [64, 0], [64, 38], [3, 38]], 'सभी', 0.5920310739010228)]\n",
      "edit distance 0\n",
      "114\n",
      "D:/AUDataset/MYDataSet/Devanagari/Test_Doc_Devanagari\\img0174.png\n",
      "original= पढ़ने\n"
     ]
    },
    {
     "name": "stderr",
     "output_type": "stream",
     "text": [
      "CUDA not available - defaulting to CPU. Note: This module is much faster with a GPU.\n"
     ]
    },
    {
     "name": "stdout",
     "output_type": "stream",
     "text": [
      "from image= [([[1, 7], [58, 7], [58, 37], [1, 37]], 'पढन', 0.9913994669914246)]\n",
      "edit distance 2\n",
      "10\n",
      "D:/AUDataset/MYDataSet/Devanagari/Test_Doc_Devanagari\\img0175.png\n",
      "original= ध्यान\n"
     ]
    },
    {
     "name": "stderr",
     "output_type": "stream",
     "text": [
      "CUDA not available - defaulting to CPU. Note: This module is much faster with a GPU.\n"
     ]
    },
    {
     "name": "stdout",
     "output_type": "stream",
     "text": [
      "from image= [([[3, 7], [60, 7], [60, 35], [3, 35]], 'ध्यान', 0.9976167778933642)]\n",
      "edit distance 0\n",
      "115\n",
      "D:/AUDataset/MYDataSet/Devanagari/Test_Doc_Devanagari\\img0176.png\n",
      "original= मंच\n"
     ]
    },
    {
     "name": "stderr",
     "output_type": "stream",
     "text": [
      "CUDA not available - defaulting to CPU. Note: This module is much faster with a GPU.\n"
     ]
    },
    {
     "name": "stdout",
     "output_type": "stream",
     "text": [
      "from image= [([[0, 0], [58, 0], [58, 52], [0, 52]], 'मंच', 0.8971632430136571)]\n",
      "edit distance 0\n",
      "116\n",
      "D:/AUDataset/MYDataSet/Devanagari/Test_Doc_Devanagari\\img0177.png\n",
      "original= लिट्टी\n"
     ]
    },
    {
     "name": "stderr",
     "output_type": "stream",
     "text": [
      "CUDA not available - defaulting to CPU. Note: This module is much faster with a GPU.\n"
     ]
    },
    {
     "name": "stdout",
     "output_type": "stream",
     "text": [
      "from image= [([[0, 0], [80, 0], [80, 58], [0, 58]], 'लिट्टी', 0.9794635957206459)]\n",
      "edit distance 0\n",
      "117\n",
      "D:/AUDataset/MYDataSet/Devanagari/Test_Doc_Devanagari\\img0178.png\n",
      "original= वैकफील्ड\n"
     ]
    },
    {
     "name": "stderr",
     "output_type": "stream",
     "text": [
      "CUDA not available - defaulting to CPU. Note: This module is much faster with a GPU.\n"
     ]
    },
    {
     "name": "stdout",
     "output_type": "stream",
     "text": [
      "from image= [([[1, 2], [250, 2], [250, 79], [1, 79]], 'वैकफील्ड', 0.7299318673832493)]\n",
      "edit distance 0\n",
      "118\n",
      "D:/AUDataset/MYDataSet/Devanagari/Test_Doc_Devanagari\\img0179.png\n",
      "original= गरदन\n"
     ]
    },
    {
     "name": "stderr",
     "output_type": "stream",
     "text": [
      "CUDA not available - defaulting to CPU. Note: This module is much faster with a GPU.\n"
     ]
    },
    {
     "name": "stdout",
     "output_type": "stream",
     "text": [
      "from image= [([[1, 3], [104, 3], [104, 46], [1, 46]], 'गरदन', 0.9999860525131226)]\n",
      "edit distance 0\n",
      "119\n",
      "D:/AUDataset/MYDataSet/Devanagari/Test_Doc_Devanagari\\img0180.png\n",
      "original= अंतिम\n"
     ]
    },
    {
     "name": "stderr",
     "output_type": "stream",
     "text": [
      "CUDA not available - defaulting to CPU. Note: This module is much faster with a GPU.\n"
     ]
    },
    {
     "name": "stdout",
     "output_type": "stream",
     "text": [
      "from image= [([[0, 0], [90, 0], [90, 45], [0, 45]], 'अंतिम', 0.5835568654369224)]\n",
      "edit distance 0\n",
      "120\n",
      "D:/AUDataset/MYDataSet/Devanagari/Test_Doc_Devanagari\\img0181.png\n",
      "original= लिट्टी\n"
     ]
    },
    {
     "name": "stderr",
     "output_type": "stream",
     "text": [
      "CUDA not available - defaulting to CPU. Note: This module is much faster with a GPU.\n"
     ]
    },
    {
     "name": "stdout",
     "output_type": "stream",
     "text": [
      "from image= [([[0, 0], [84, 0], [84, 57], [0, 57]], 'लिट्टी', 0.7007907741393513)]\n",
      "edit distance 0\n",
      "121\n",
      "D:/AUDataset/MYDataSet/Devanagari/Test_Doc_Devanagari\\img0182.png\n",
      "original= चोखा\n"
     ]
    },
    {
     "name": "stderr",
     "output_type": "stream",
     "text": [
      "CUDA not available - defaulting to CPU. Note: This module is much faster with a GPU.\n"
     ]
    },
    {
     "name": "stdout",
     "output_type": "stream",
     "text": [
      "from image= [([[0, 4], [95, 4], [95, 51], [0, 51]], 'चोखा', 0.6638149084758597)]\n",
      "edit distance 0\n",
      "122\n",
      "D:/AUDataset/MYDataSet/Devanagari/Test_Doc_Devanagari\\img0183.png\n",
      "original= भोजनोत्सव\n"
     ]
    },
    {
     "name": "stderr",
     "output_type": "stream",
     "text": [
      "CUDA not available - defaulting to CPU. Note: This module is much faster with a GPU.\n"
     ]
    },
    {
     "name": "stdout",
     "output_type": "stream",
     "text": [
      "from image= [([[0, 0], [187, 0], [187, 53], [0, 53]], 'भोजनोत्सव', 0.8599148049717653)]\n",
      "edit distance 0\n",
      "123\n",
      "D:/AUDataset/MYDataSet/Devanagari/Test_Doc_Devanagari\\img0184.png\n",
      "original= हेरीटेज\n"
     ]
    },
    {
     "name": "stderr",
     "output_type": "stream",
     "text": [
      "CUDA not available - defaulting to CPU. Note: This module is much faster with a GPU.\n"
     ]
    },
    {
     "name": "stdout",
     "output_type": "stream",
     "text": [
      "from image= [([[0, 0], [102, 0], [102, 54], [0, 54]], 'हेरीटेज', 0.8671298471791231)]\n",
      "edit distance 0\n",
      "124\n",
      "D:/AUDataset/MYDataSet/Devanagari/Test_Doc_Devanagari\\img0185.png\n",
      "original= छात्र\n"
     ]
    },
    {
     "name": "stderr",
     "output_type": "stream",
     "text": [
      "CUDA not available - defaulting to CPU. Note: This module is much faster with a GPU.\n"
     ]
    },
    {
     "name": "stdout",
     "output_type": "stream",
     "text": [
      "from image= [([[1, 3], [61, 3], [61, 39], [1, 39]], 'छात्र', 0.5598011234454962)]\n",
      "edit distance 0\n",
      "125\n",
      "D:/AUDataset/MYDataSet/Devanagari/Test_Doc_Devanagari\\img0186.png\n",
      "original= प्रधानमंत्री\n"
     ]
    },
    {
     "name": "stderr",
     "output_type": "stream",
     "text": [
      "CUDA not available - defaulting to CPU. Note: This module is much faster with a GPU.\n"
     ]
    },
    {
     "name": "stdout",
     "output_type": "stream",
     "text": [
      "from image= [([[0, 0], [130, 0], [130, 51], [0, 51]], 'प्रधानमंत्री', 0.8460646582342218)]\n",
      "edit distance 0\n",
      "126\n",
      "D:/AUDataset/MYDataSet/Devanagari/Test_Doc_Devanagari\\img0187.png\n",
      "original= राष्ट्रीय\n"
     ]
    },
    {
     "name": "stderr",
     "output_type": "stream",
     "text": [
      "CUDA not available - defaulting to CPU. Note: This module is much faster with a GPU.\n"
     ]
    },
    {
     "name": "stdout",
     "output_type": "stream",
     "text": [
      "from image= [([[0, 2], [99, 2], [99, 54], [0, 54]], 'राष्ट्रीय', 0.671416851569019)]\n",
      "edit distance 0\n",
      "127\n",
      "D:/AUDataset/MYDataSet/Devanagari/Test_Doc_Devanagari\\img0188.png\n",
      "original= बाल\n"
     ]
    },
    {
     "name": "stderr",
     "output_type": "stream",
     "text": [
      "CUDA not available - defaulting to CPU. Note: This module is much faster with a GPU.\n"
     ]
    },
    {
     "name": "stdout",
     "output_type": "stream",
     "text": [
      "from image= [([[0, 5], [65, 5], [65, 45], [0, 45]], 'बाल', 0.9708574487409138)]\n",
      "edit distance 0\n",
      "128\n",
      "D:/AUDataset/MYDataSet/Devanagari/Test_Doc_Devanagari\\img0189.png\n",
      "original= बनेगी\n"
     ]
    },
    {
     "name": "stderr",
     "output_type": "stream",
     "text": [
      "CUDA not available - defaulting to CPU. Note: This module is much faster with a GPU.\n"
     ]
    },
    {
     "name": "stdout",
     "output_type": "stream",
     "text": [
      "from image= [([[0, 0], [173, 0], [173, 90], [0, 90]], 'बनेगी', 0.5087406722693714)]\n",
      "edit distance 0\n",
      "129\n",
      "D:/AUDataset/MYDataSet/Devanagari/Test_Doc_Devanagari\\img0190.png\n",
      "original= जम्मू\n"
     ]
    },
    {
     "name": "stderr",
     "output_type": "stream",
     "text": [
      "CUDA not available - defaulting to CPU. Note: This module is much faster with a GPU.\n"
     ]
    },
    {
     "name": "stdout",
     "output_type": "stream",
     "text": [
      "from image= [([[0, 24], [290, 24], [290, 192], [0, 192]], 'जम्मू', 0.6506317165698529)]\n",
      "edit distance 0\n",
      "130\n",
      "D:/AUDataset/MYDataSet/Devanagari/Test_Doc_Devanagari\\img0191.png\n",
      "original= युवा\n"
     ]
    },
    {
     "name": "stderr",
     "output_type": "stream",
     "text": [
      "CUDA not available - defaulting to CPU. Note: This module is much faster with a GPU.\n"
     ]
    },
    {
     "name": "stdout",
     "output_type": "stream",
     "text": [
      "from image= [([[0, 4], [75, 4], [75, 52], [0, 52]], 'यवा', 0.673321545124054)]\n",
      "edit distance 1\n",
      "20\n",
      "D:/AUDataset/MYDataSet/Devanagari/Test_Doc_Devanagari\\img0192.png\n",
      "original= पुरस्कार\n"
     ]
    },
    {
     "name": "stderr",
     "output_type": "stream",
     "text": [
      "CUDA not available - defaulting to CPU. Note: This module is much faster with a GPU.\n"
     ]
    },
    {
     "name": "stdout",
     "output_type": "stream",
     "text": [
      "from image= [([[2, 4], [124, 4], [124, 49], [2, 49]], 'पुरस्कार', 0.8091884283890944)]\n",
      "edit distance 0\n",
      "131\n",
      "D:/AUDataset/MYDataSet/Devanagari/Test_Doc_Devanagari\\img0193.png\n",
      "original= शलगम\n"
     ]
    },
    {
     "name": "stderr",
     "output_type": "stream",
     "text": [
      "CUDA not available - defaulting to CPU. Note: This module is much faster with a GPU.\n"
     ]
    },
    {
     "name": "stdout",
     "output_type": "stream",
     "text": [
      "from image= [([[0, 5], [147, 5], [147, 55], [0, 55]], 'शलगम', 0.8693604918344852)]\n",
      "edit distance 0\n",
      "132\n",
      "D:/AUDataset/MYDataSet/Devanagari/Test_Doc_Devanagari\\img0194.png\n",
      "original= षट्कोण\n"
     ]
    },
    {
     "name": "stderr",
     "output_type": "stream",
     "text": [
      "CUDA not available - defaulting to CPU. Note: This module is much faster with a GPU.\n"
     ]
    },
    {
     "name": "stdout",
     "output_type": "stream",
     "text": [
      "from image= [([[0, 0], [187, 0], [187, 70], [0, 70]], 'षट्कोण', 0.7075918484491437)]\n",
      "edit distance 0\n",
      "133\n",
      "D:/AUDataset/MYDataSet/Devanagari/Test_Doc_Devanagari\\img0195.png\n",
      "original= झत्रीय\n"
     ]
    },
    {
     "name": "stderr",
     "output_type": "stream",
     "text": [
      "CUDA not available - defaulting to CPU. Note: This module is much faster with a GPU.\n"
     ]
    },
    {
     "name": "stdout",
     "output_type": "stream",
     "text": [
      "from image= [([[0, 1], [127, 1], [127, 64], [0, 64]], 'क्षत्रिय', 0.519467674770837)]\n",
      "edit distance 4\n",
      "3\n",
      "D:/AUDataset/MYDataSet/Devanagari/Test_Doc_Devanagari\\img0196.png\n",
      "original= किया\n"
     ]
    },
    {
     "name": "stderr",
     "output_type": "stream",
     "text": [
      "CUDA not available - defaulting to CPU. Note: This module is much faster with a GPU.\n"
     ]
    },
    {
     "name": "stdout",
     "output_type": "stream",
     "text": [
      "from image= [([[0, 0], [75, 0], [75, 50], [0, 50]], 'किया', 0.8431257988724898)]\n",
      "edit distance 0\n",
      "134\n",
      "D:/AUDataset/MYDataSet/Devanagari/Test_Doc_Devanagari\\img0197.png\n",
      "original= गया\n"
     ]
    },
    {
     "name": "stderr",
     "output_type": "stream",
     "text": [
      "CUDA not available - defaulting to CPU. Note: This module is much faster with a GPU.\n"
     ]
    },
    {
     "name": "stdout",
     "output_type": "stream",
     "text": [
      "from image= [([[0, 3], [59, 3], [59, 39], [0, 39]], 'गया', 0.6465093979734923)]\n",
      "edit distance 0\n",
      "135\n",
      "D:/AUDataset/MYDataSet/Devanagari/Test_Doc_Devanagari\\img0198.png\n",
      "original= कस\n"
     ]
    },
    {
     "name": "stderr",
     "output_type": "stream",
     "text": [
      "CUDA not available - defaulting to CPU. Note: This module is much faster with a GPU.\n"
     ]
    },
    {
     "name": "stdout",
     "output_type": "stream",
     "text": [
      "D:/AUDataset/MYDataSet/Devanagari/Test_Doc_Devanagari\\img0199.png\n",
      "original= सम्मानित\n"
     ]
    },
    {
     "name": "stderr",
     "output_type": "stream",
     "text": [
      "CUDA not available - defaulting to CPU. Note: This module is much faster with a GPU.\n"
     ]
    },
    {
     "name": "stdout",
     "output_type": "stream",
     "text": [
      "from image= [([[0, 0], [130, 0], [130, 52], [0, 52]], 'सम्मानित', 0.6744599407111926)]\n",
      "edit distance 0\n",
      "136\n",
      "D:/AUDataset/MYDataSet/Devanagari/Test_Doc_Devanagari\\img0200.png\n",
      "original= त्र\n"
     ]
    },
    {
     "name": "stderr",
     "output_type": "stream",
     "text": [
      "CUDA not available - defaulting to CPU. Note: This module is much faster with a GPU.\n"
     ]
    },
    {
     "name": "stdout",
     "output_type": "stream",
     "text": [
      "from image= [([[4, 16], [196, 16], [196, 181], [4, 181]], 'त्र', 0.9409051776683747)]\n",
      "edit distance 0\n",
      "137\n",
      "D:/AUDataset/MYDataSet/Devanagari/Test_Doc_Devanagari\\img0201.png\n",
      "original= केबल\n"
     ]
    },
    {
     "name": "stderr",
     "output_type": "stream",
     "text": [
      "CUDA not available - defaulting to CPU. Note: This module is much faster with a GPU.\n"
     ]
    },
    {
     "name": "stdout",
     "output_type": "stream",
     "text": [
      "from image= [([[0, 0], [90, 0], [90, 50], [0, 50]], 'केबल', 0.43081741461986794)]\n",
      "edit distance 0\n",
      "138\n",
      "D:/AUDataset/MYDataSet/Devanagari/Test_Doc_Devanagari\\img0202.png\n",
      "original= टमाटर\n"
     ]
    },
    {
     "name": "stderr",
     "output_type": "stream",
     "text": [
      "CUDA not available - defaulting to CPU. Note: This module is much faster with a GPU.\n"
     ]
    },
    {
     "name": "stdout",
     "output_type": "stream",
     "text": [
      "from image= [([[0, 0], [160, 0], [160, 58], [0, 58]], 'टमाटर', 0.5915144000947018)]\n",
      "edit distance 0\n",
      "139\n",
      "D:/AUDataset/MYDataSet/Devanagari/Test_Doc_Devanagari\\img0203.png\n",
      "original= ठठेरा\n"
     ]
    },
    {
     "name": "stderr",
     "output_type": "stream",
     "text": [
      "CUDA not available - defaulting to CPU. Note: This module is much faster with a GPU.\n"
     ]
    },
    {
     "name": "stdout",
     "output_type": "stream",
     "text": [
      "from image= [([[3, 3], [137, 3], [137, 70], [3, 70]], 'ठठरा', 0.9590240356505513)]\n",
      "edit distance 1\n",
      "21\n",
      "D:/AUDataset/MYDataSet/Devanagari/Test_Doc_Devanagari\\img0204.png\n",
      "original= ऑपरेटर\n"
     ]
    },
    {
     "name": "stderr",
     "output_type": "stream",
     "text": [
      "CUDA not available - defaulting to CPU. Note: This module is much faster with a GPU.\n"
     ]
    },
    {
     "name": "stdout",
     "output_type": "stream",
     "text": [
      "from image= [([[0, 0], [123, 0], [123, 53], [0, 53]], 'ऑपरेटर', 0.7975272290033855)]\n",
      "edit distance 0\n",
      "140\n",
      "D:/AUDataset/MYDataSet/Devanagari/Test_Doc_Devanagari\\img0205.png\n",
      "original= बोझ\n"
     ]
    },
    {
     "name": "stderr",
     "output_type": "stream",
     "text": [
      "CUDA not available - defaulting to CPU. Note: This module is much faster with a GPU.\n"
     ]
    },
    {
     "name": "stdout",
     "output_type": "stream",
     "text": [
      "from image= [([[0, 2], [74, 2], [74, 53], [0, 53]], 'बोझ', 0.989595353603363)]\n",
      "edit distance 0\n",
      "141\n",
      "D:/AUDataset/MYDataSet/Devanagari/Test_Doc_Devanagari\\img0206.png\n",
      "original= अब्सॅाप्शंन\n"
     ]
    },
    {
     "name": "stderr",
     "output_type": "stream",
     "text": [
      "CUDA not available - defaulting to CPU. Note: This module is much faster with a GPU.\n"
     ]
    },
    {
     "name": "stdout",
     "output_type": "stream",
     "text": [
      "from image= [([[0, 0], [250, 0], [250, 81], [0, 81]], 'अब्सॉर्प्शन', 0.548935598865903)]\n",
      "edit distance 4\n",
      "4\n",
      "D:/AUDataset/MYDataSet/Devanagari/Test_Doc_Devanagari\\img0207.png\n",
      "original= कार्यशाला\n"
     ]
    },
    {
     "name": "stderr",
     "output_type": "stream",
     "text": [
      "CUDA not available - defaulting to CPU. Note: This module is much faster with a GPU.\n"
     ]
    },
    {
     "name": "stdout",
     "output_type": "stream",
     "text": [
      "from image= [([[0, 4], [74, 4], [74, 29], [0, 29]], 'कार्यशाला', 0.6908481090800005)]\n",
      "edit distance 0\n",
      "142\n",
      "D:/AUDataset/MYDataSet/Devanagari/Test_Doc_Devanagari\\img0208.png\n",
      "original= ट्राइ\n"
     ]
    },
    {
     "name": "stderr",
     "output_type": "stream",
     "text": [
      "CUDA not available - defaulting to CPU. Note: This module is much faster with a GPU.\n"
     ]
    },
    {
     "name": "stdout",
     "output_type": "stream",
     "text": [
      "from image= [([[1, 3], [55, 3], [55, 40], [1, 40]], 'ट्राइ', 0.39291800020270046)]\n",
      "edit distance 0\n",
      "143\n",
      "D:/AUDataset/MYDataSet/Devanagari/Test_Doc_Devanagari\\img0209.png\n",
      "original= नये\n"
     ]
    },
    {
     "name": "stderr",
     "output_type": "stream",
     "text": [
      "CUDA not available - defaulting to CPU. Note: This module is much faster with a GPU.\n"
     ]
    },
    {
     "name": "stdout",
     "output_type": "stream",
     "text": [
      "D:/AUDataset/MYDataSet/Devanagari/Test_Doc_Devanagari\\img0210.png\n",
      "original= दर्शन\n"
     ]
    },
    {
     "name": "stderr",
     "output_type": "stream",
     "text": [
      "CUDA not available - defaulting to CPU. Note: This module is much faster with a GPU.\n"
     ]
    },
    {
     "name": "stdout",
     "output_type": "stream",
     "text": [
      "from image= [([[0, 0], [247, 0], [247, 144], [0, 144]], 'दर्शन', 0.8392285959511887)]\n",
      "edit distance 0\n",
      "144\n",
      "D:/AUDataset/MYDataSet/Devanagari/Test_Doc_Devanagari\\img0211.png\n",
      "original= से\n"
     ]
    },
    {
     "name": "stderr",
     "output_type": "stream",
     "text": [
      "CUDA not available - defaulting to CPU. Note: This module is much faster with a GPU.\n"
     ]
    },
    {
     "name": "stdout",
     "output_type": "stream",
     "text": [
      "from image= [([[0, 34], [250, 34], [250, 320], [0, 320]], 'से', 0.7901044182308175)]\n",
      "edit distance 0\n",
      "145\n",
      "D:/AUDataset/MYDataSet/Devanagari/Test_Doc_Devanagari\\img0212.png\n",
      "original= से\n"
     ]
    },
    {
     "name": "stderr",
     "output_type": "stream",
     "text": [
      "CUDA not available - defaulting to CPU. Note: This module is much faster with a GPU.\n"
     ]
    },
    {
     "name": "stdout",
     "output_type": "stream",
     "text": [
      "from image= [([[0, 0], [70, 0], [70, 91], [0, 91]], 'से', 0.9067562380153802)]\n",
      "edit distance 0\n",
      "146\n",
      "D:/AUDataset/MYDataSet/Devanagari/Test_Doc_Devanagari\\img0213.png\n",
      "original= स्टेट\n"
     ]
    },
    {
     "name": "stderr",
     "output_type": "stream",
     "text": [
      "CUDA not available - defaulting to CPU. Note: This module is much faster with a GPU.\n"
     ]
    },
    {
     "name": "stdout",
     "output_type": "stream",
     "text": [
      "from image= [([[24, 16], [274, 16], [274, 164], [24, 164]], 'स्टेट', 0.9963881624333191)]\n",
      "edit distance 0\n",
      "147\n",
      "D:/AUDataset/MYDataSet/Devanagari/Test_Doc_Devanagari\\img0214.png\n",
      "original= नियम\n"
     ]
    },
    {
     "name": "stderr",
     "output_type": "stream",
     "text": [
      "CUDA not available - defaulting to CPU. Note: This module is much faster with a GPU.\n"
     ]
    },
    {
     "name": "stdout",
     "output_type": "stream",
     "text": [
      "from image= [([[0, 0], [82, 0], [82, 48], [0, 48]], 'नियम', 0.39996697563316735)]\n",
      "edit distance 0\n",
      "148\n",
      "D:/AUDataset/MYDataSet/Devanagari/Test_Doc_Devanagari\\img0215.png\n",
      "original= केबल\n"
     ]
    },
    {
     "name": "stderr",
     "output_type": "stream",
     "text": [
      "CUDA not available - defaulting to CPU. Note: This module is much faster with a GPU.\n"
     ]
    },
    {
     "name": "stdout",
     "output_type": "stream",
     "text": [
      "from image= [([[1.9594617776757062, -4.890529644924177], [89.78605713649304, 8.553052493618381], [81.0405382223243, 51.89052964492418], [-5.786057136493046, 37.44694750638162]], 'केबल', 0.6478255028576831)]\n",
      "edit distance 0\n",
      "149\n",
      "D:/AUDataset/MYDataSet/Devanagari/Test_Doc_Devanagari\\img0216.png\n",
      "original= ऑपरेटर\n"
     ]
    },
    {
     "name": "stderr",
     "output_type": "stream",
     "text": [
      "CUDA not available - defaulting to CPU. Note: This module is much faster with a GPU.\n"
     ]
    },
    {
     "name": "stdout",
     "output_type": "stream",
     "text": [
      "from image= [([[0, 0], [115, 0], [115, 44], [0, 44]], 'ऑपरेटर', 0.9769323269484014)]\n",
      "edit distance 0\n",
      "150\n",
      "D:/AUDataset/MYDataSet/Devanagari/Test_Doc_Devanagari\\img0217.png\n",
      "original= ग्रहकों\n"
     ]
    },
    {
     "name": "stderr",
     "output_type": "stream",
     "text": [
      "CUDA not available - defaulting to CPU. Note: This module is much faster with a GPU.\n"
     ]
    },
    {
     "name": "stdout",
     "output_type": "stream",
     "text": [
      "from image= [([[0, 5], [102, 5], [102, 46], [0, 46]], 'ग्राहकों', 0.8702867789197329)]\n",
      "edit distance 1\n",
      "22\n",
      "D:/AUDataset/MYDataSet/Devanagari/Test_Doc_Devanagari\\img0218.png\n",
      "original= बढ़ेगा\n"
     ]
    },
    {
     "name": "stderr",
     "output_type": "stream",
     "text": [
      "CUDA not available - defaulting to CPU. Note: This module is much faster with a GPU.\n"
     ]
    },
    {
     "name": "stdout",
     "output_type": "stream",
     "text": [
      "from image= [([[0, 3], [83, 3], [83, 47], [0, 47]], 'बढ़ेगा', 0.6394896530824046)]\n",
      "edit distance 2\n",
      "11\n",
      "D:/AUDataset/MYDataSet/Devanagari/Test_Doc_Devanagari\\img0219.png\n",
      "original= कीमत\n"
     ]
    },
    {
     "name": "stderr",
     "output_type": "stream",
     "text": [
      "CUDA not available - defaulting to CPU. Note: This module is much faster with a GPU.\n"
     ]
    },
    {
     "name": "stdout",
     "output_type": "stream",
     "text": [
      "from image= [([[0, 0], [88, 0], [88, 48], [0, 48]], 'कीमत', 0.9493929671945601)]\n",
      "edit distance 0\n",
      "151\n",
      "D:/AUDataset/MYDataSet/Devanagari/Test_Doc_Devanagari\\img0220.png\n",
      "original= बोझ\n"
     ]
    },
    {
     "name": "stderr",
     "output_type": "stream",
     "text": [
      "CUDA not available - defaulting to CPU. Note: This module is much faster with a GPU.\n"
     ]
    },
    {
     "name": "stdout",
     "output_type": "stream",
     "text": [
      "from image= [([[0, 2], [66, 2], [66, 47], [0, 47]], 'बोझ', 0.9960381388664246)]\n",
      "edit distance 0\n",
      "152\n",
      "D:/AUDataset/MYDataSet/Devanagari/Test_Doc_Devanagari\\img0221.png\n",
      "original= बालुरघाट\n"
     ]
    },
    {
     "name": "stderr",
     "output_type": "stream",
     "text": [
      "CUDA not available - defaulting to CPU. Note: This module is much faster with a GPU.\n"
     ]
    },
    {
     "name": "stdout",
     "output_type": "stream",
     "text": [
      "from image= [([[0, 9], [219, 9], [219, 82], [0, 82]], 'बालुरघाट', 0.9869894461757727)]\n",
      "edit distance 0\n",
      "153\n",
      "D:/AUDataset/MYDataSet/Devanagari/Test_Doc_Devanagari\\img0222.png\n",
      "original= लाठीचार्ज\n"
     ]
    },
    {
     "name": "stderr",
     "output_type": "stream",
     "text": [
      "CUDA not available - defaulting to CPU. Note: This module is much faster with a GPU.\n"
     ]
    },
    {
     "name": "stdout",
     "output_type": "stream",
     "text": [
      "from image= [([[0, 0], [198, 0], [198, 68], [0, 68]], 'लाठीचार्ज', 0.9303627099348535)]\n",
      "edit distance 0\n",
      "154\n",
      "D:/AUDataset/MYDataSet/Devanagari/Test_Doc_Devanagari\\img0223.png\n",
      "original= बढ़ी\n"
     ]
    },
    {
     "name": "stderr",
     "output_type": "stream",
     "text": [
      "CUDA not available - defaulting to CPU. Note: This module is much faster with a GPU.\n"
     ]
    },
    {
     "name": "stdout",
     "output_type": "stream",
     "text": [
      "from image= [([[0, 10], [300, 10], [300, 250], [0, 250]], 'बढ़ी', 0.5294983139253634)]\n",
      "edit distance 0\n",
      "155\n",
      "D:/AUDataset/MYDataSet/Devanagari/Test_Doc_Devanagari\\img0224.png\n",
      "original= अलीपुर\n"
     ]
    },
    {
     "name": "stderr",
     "output_type": "stream",
     "text": [
      "CUDA not available - defaulting to CPU. Note: This module is much faster with a GPU.\n"
     ]
    },
    {
     "name": "stdout",
     "output_type": "stream",
     "text": [
      "from image= [([[1.9076744813114601, -14.940162220065718], [172.55285890691346, 11.043162719288691], [155.09232551868854, 95.94016222006572], [-14.552858906913457, 68.95683728071131]], 'अलीपुर', 0.9924134323768286)]\n",
      "edit distance 0\n",
      "156\n",
      "D:/AUDataset/MYDataSet/Devanagari/Test_Doc_Devanagari\\img0225.png\n",
      "original= क्लैट\n"
     ]
    },
    {
     "name": "stderr",
     "output_type": "stream",
     "text": [
      "CUDA not available - defaulting to CPU. Note: This module is much faster with a GPU.\n"
     ]
    },
    {
     "name": "stdout",
     "output_type": "stream",
     "text": [
      "from image= [([[0, 0], [142, 0], [142, 90], [0, 90]], 'क्लैट', 0.6533816906049505)]\n",
      "edit distance 0\n",
      "157\n",
      "D:/AUDataset/MYDataSet/Devanagari/Test_Doc_Devanagari\\img0226.png\n",
      "original= पुलिस\n"
     ]
    },
    {
     "name": "stderr",
     "output_type": "stream",
     "text": [
      "CUDA not available - defaulting to CPU. Note: This module is much faster with a GPU.\n"
     ]
    },
    {
     "name": "stdout",
     "output_type": "stream",
     "text": [
      "from image= [([[0, 0], [160, 0], [160, 85], [0, 85]], 'पुलिस', 0.5043573332788073)]\n",
      "edit distance 0\n",
      "158\n",
      "D:/AUDataset/MYDataSet/Devanagari/Test_Doc_Devanagari\\img0227.png\n",
      "original= साथ\n"
     ]
    },
    {
     "name": "stderr",
     "output_type": "stream",
     "text": [
      "CUDA not available - defaulting to CPU. Note: This module is much faster with a GPU.\n"
     ]
    },
    {
     "name": "stdout",
     "output_type": "stream",
     "text": [
      "from image= [([[0, 5], [115, 5], [115, 66], [0, 66]], 'साथ', 0.8309905822877438)]\n",
      "edit distance 0\n",
      "159\n",
      "D:/AUDataset/MYDataSet/Devanagari/Test_Doc_Devanagari\\img0228.png\n",
      "original= हुई\n"
     ]
    },
    {
     "name": "stderr",
     "output_type": "stream",
     "text": [
      "CUDA not available - defaulting to CPU. Note: This module is much faster with a GPU.\n"
     ]
    },
    {
     "name": "stdout",
     "output_type": "stream",
     "text": [
      "from image= [([[0, 1], [79, 1], [79, 84], [0, 84]], 'हुई', 0.5282492690597053)]\n",
      "edit distance 0\n",
      "160\n",
      "D:/AUDataset/MYDataSet/Devanagari/Test_Doc_Devanagari\\img0229.png\n",
      "original= धक्का\n"
     ]
    },
    {
     "name": "stderr",
     "output_type": "stream",
     "text": [
      "CUDA not available - defaulting to CPU. Note: This module is much faster with a GPU.\n"
     ]
    },
    {
     "name": "stdout",
     "output_type": "stream",
     "text": [
      "from image= [([[0, 0], [140, 0], [140, 59], [0, 59]], 'धक्का', 0.5152363234201692)]\n",
      "edit distance 0\n",
      "161\n",
      "D:/AUDataset/MYDataSet/Devanagari/Test_Doc_Devanagari\\img0230.png\n",
      "original= मुक्की\n"
     ]
    },
    {
     "name": "stderr",
     "output_type": "stream",
     "text": [
      "CUDA not available - defaulting to CPU. Note: This module is much faster with a GPU.\n"
     ]
    },
    {
     "name": "stdout",
     "output_type": "stream",
     "text": [
      "from image= [([[0, 0], [142, 0], [142, 82], [0, 82]], 'मुक्की', 0.8869600034270025)]\n",
      "edit distance 0\n",
      "162\n",
      "D:/AUDataset/MYDataSet/Devanagari/Test_Doc_Devanagari\\img0231.png\n",
      "original= अमूल\n"
     ]
    },
    {
     "name": "stderr",
     "output_type": "stream",
     "text": [
      "CUDA not available - defaulting to CPU. Note: This module is much faster with a GPU.\n"
     ]
    },
    {
     "name": "stdout",
     "output_type": "stream",
     "text": [
      "from image= [([[9, 3], [200, 3], [200, 84], [9, 84]], 'अमूल', 0.7017533697864788)]\n",
      "edit distance 0\n",
      "163\n",
      "D:/AUDataset/MYDataSet/Devanagari/Test_Doc_Devanagari\\img0232.png\n",
      "original= आक्रोश.\n"
     ]
    },
    {
     "name": "stderr",
     "output_type": "stream",
     "text": [
      "CUDA not available - defaulting to CPU. Note: This module is much faster with a GPU.\n"
     ]
    },
    {
     "name": "stdout",
     "output_type": "stream",
     "text": [
      "from image= [([[0, 8], [92, 8], [92, 40], [0, 40]], 'आक्रोश', 0.49022530304825673)]\n",
      "edit distance 1\n",
      "23\n",
      "D:/AUDataset/MYDataSet/Devanagari/Test_Doc_Devanagari\\img0233.png\n",
      "original= गाय का घी\n"
     ]
    },
    {
     "name": "stderr",
     "output_type": "stream",
     "text": [
      "CUDA not available - defaulting to CPU. Note: This module is much faster with a GPU.\n"
     ]
    },
    {
     "name": "stdout",
     "output_type": "stream",
     "text": [
      "from image= [([[0, 0], [156, 0], [156, 57], [0, 57]], 'गाय काघी', 0.9956645492910826)]\n",
      "edit distance 1\n",
      "24\n",
      "D:/AUDataset/MYDataSet/Devanagari/Test_Doc_Devanagari\\img0234.png\n",
      "original= सऊदी\n"
     ]
    },
    {
     "name": "stderr",
     "output_type": "stream",
     "text": [
      "CUDA not available - defaulting to CPU. Note: This module is much faster with a GPU.\n"
     ]
    },
    {
     "name": "stdout",
     "output_type": "stream",
     "text": [
      "from image= [([[0, 4], [300, 4], [300, 151], [0, 151]], 'सऊदी', 0.3644938087774697)]\n",
      "edit distance 0\n",
      "164\n",
      "D:/AUDataset/MYDataSet/Devanagari/Test_Doc_Devanagari\\img0235.png\n",
      "original= छ्ड़ी\n"
     ]
    },
    {
     "name": "stderr",
     "output_type": "stream",
     "text": [
      "CUDA not available - defaulting to CPU. Note: This module is much faster with a GPU.\n"
     ]
    },
    {
     "name": "stdout",
     "output_type": "stream",
     "text": [
      "from image= [([[1, 15], [35, 15], [35, 35], [1, 35]], 'छड', 0.9991369416667304)]\n",
      "edit distance 3\n",
      "8\n",
      "D:/AUDataset/MYDataSet/Devanagari/Test_Doc_Devanagari\\img0236.png\n",
      "original= ममता\n"
     ]
    },
    {
     "name": "stderr",
     "output_type": "stream",
     "text": [
      "CUDA not available - defaulting to CPU. Note: This module is much faster with a GPU.\n"
     ]
    },
    {
     "name": "stdout",
     "output_type": "stream",
     "text": [
      "from image= [([[1, 9], [83, 9], [83, 45], [1, 45]], 'ममता', 0.7380580362198419)]\n",
      "edit distance 0\n",
      "165\n",
      "D:/AUDataset/MYDataSet/Devanagari/Test_Doc_Devanagari\\img0237.png\n",
      "original= बनर्जी\n"
     ]
    },
    {
     "name": "stderr",
     "output_type": "stream",
     "text": [
      "CUDA not available - defaulting to CPU. Note: This module is much faster with a GPU.\n"
     ]
    },
    {
     "name": "stdout",
     "output_type": "stream",
     "text": [
      "from image= [([[-1.7365717791179693, 13.311256196381482], [87.35787768562275, 6.548693801837205], [88.73657177911797, 49.68874380361852], [-1.3578776856227464, 56.4513061981628]], 'बनरजी', 0.5952390480238344)]\n",
      "edit distance 1\n",
      "25\n",
      "D:/AUDataset/MYDataSet/Devanagari/Test_Doc_Devanagari\\img0238.png\n",
      "original= पीएम\n"
     ]
    },
    {
     "name": "stderr",
     "output_type": "stream",
     "text": [
      "CUDA not available - defaulting to CPU. Note: This module is much faster with a GPU.\n"
     ]
    },
    {
     "name": "stdout",
     "output_type": "stream",
     "text": [
      "from image= [([[0, 3], [78, 3], [78, 47], [0, 47]], 'पीएम', 0.5160729602577812)]\n",
      "edit distance 0\n",
      "166\n",
      "D:/AUDataset/MYDataSet/Devanagari/Test_Doc_Devanagari\\img0239.png\n",
      "original= टमाटर\n"
     ]
    },
    {
     "name": "stderr",
     "output_type": "stream",
     "text": [
      "CUDA not available - defaulting to CPU. Note: This module is much faster with a GPU.\n"
     ]
    },
    {
     "name": "stdout",
     "output_type": "stream",
     "text": [
      "from image= [([[0, 0], [64, 0], [64, 26], [0, 26]], 'टमाटर', 0.9995694223154202)]\n",
      "edit distance 0\n",
      "167\n",
      "D:/AUDataset/MYDataSet/Devanagari/Test_Doc_Devanagari\\img0240.png\n",
      "original= चुकन्दर\n"
     ]
    },
    {
     "name": "stderr",
     "output_type": "stream",
     "text": [
      "CUDA not available - defaulting to CPU. Note: This module is much faster with a GPU.\n"
     ]
    },
    {
     "name": "stdout",
     "output_type": "stream",
     "text": [
      "from image= [([[4, 10], [48, 10], [48, 34], [4, 34]], 'चूक', 0.9283872530866649)]\n",
      "edit distance 5\n",
      "1\n",
      "D:/AUDataset/MYDataSet/Devanagari/Test_Doc_Devanagari\\img0241.png\n",
      "original= पद\n"
     ]
    },
    {
     "name": "stderr",
     "output_type": "stream",
     "text": [
      "CUDA not available - defaulting to CPU. Note: This module is much faster with a GPU.\n"
     ]
    },
    {
     "name": "stdout",
     "output_type": "stream",
     "text": [
      "from image= [([[1, 5], [50, 5], [50, 41], [1, 41]], 'पद', 0.9895852533490372)]\n",
      "edit distance 0\n",
      "168\n",
      "D:/AUDataset/MYDataSet/Devanagari/Test_Doc_Devanagari\\img0242.png\n",
      "original= खाया\n"
     ]
    },
    {
     "name": "stderr",
     "output_type": "stream",
     "text": [
      "CUDA not available - defaulting to CPU. Note: This module is much faster with a GPU.\n"
     ]
    },
    {
     "name": "stdout",
     "output_type": "stream",
     "text": [
      "from image= [([[0, 8], [54, 8], [54, 32], [0, 32]], 'खाया', 0.9959354754436505)]\n",
      "edit distance 0\n",
      "169\n",
      "D:/AUDataset/MYDataSet/Devanagari/Test_Doc_Devanagari\\img0243.png\n",
      "original= सबसे\n"
     ]
    },
    {
     "name": "stderr",
     "output_type": "stream",
     "text": [
      "CUDA not available - defaulting to CPU. Note: This module is much faster with a GPU.\n"
     ]
    },
    {
     "name": "stdout",
     "output_type": "stream",
     "text": [
      "from image= [([[0, 0], [81, 0], [81, 50], [0, 50]], 'सबसे', 0.7602144959819666)]\n",
      "edit distance 0\n",
      "170\n",
      "D:/AUDataset/MYDataSet/Devanagari/Test_Doc_Devanagari\\img0244.png\n",
      "original= वही\n"
     ]
    },
    {
     "name": "stderr",
     "output_type": "stream",
     "text": [
      "CUDA not available - defaulting to CPU. Note: This module is much faster with a GPU.\n"
     ]
    },
    {
     "name": "stdout",
     "output_type": "stream",
     "text": [
      "from image= [([[4, 10], [38, 10], [38, 34], [4, 34]], 'वह', 0.9997009390624656)]\n",
      "edit distance 1\n",
      "26\n",
      "D:/AUDataset/MYDataSet/Devanagari/Test_Doc_Devanagari\\img0245.png\n",
      "original= योग्य\n"
     ]
    },
    {
     "name": "stderr",
     "output_type": "stream",
     "text": [
      "CUDA not available - defaulting to CPU. Note: This module is much faster with a GPU.\n"
     ]
    },
    {
     "name": "stdout",
     "output_type": "stream",
     "text": [
      "from image= [([[0, 0], [85, 0], [85, 45], [0, 45]], 'योग्य', 0.7970524188714689)]\n",
      "edit distance 0\n",
      "171\n",
      "D:/AUDataset/MYDataSet/Devanagari/Test_Doc_Devanagari\\img0246.png\n",
      "original= मछली\n"
     ]
    },
    {
     "name": "stderr",
     "output_type": "stream",
     "text": [
      "CUDA not available - defaulting to CPU. Note: This module is much faster with a GPU.\n"
     ]
    },
    {
     "name": "stdout",
     "output_type": "stream",
     "text": [
      "D:/AUDataset/MYDataSet/Devanagari/Test_Doc_Devanagari\\img0247.png\n",
      "original= उम्मीदवार\n"
     ]
    },
    {
     "name": "stderr",
     "output_type": "stream",
     "text": [
      "CUDA not available - defaulting to CPU. Note: This module is much faster with a GPU.\n"
     ]
    },
    {
     "name": "stdout",
     "output_type": "stream",
     "text": [
      "from image= [([[0, 0], [140, 0], [140, 47], [0, 47]], 'उम्मीदवार', 0.9614953322426769)]\n",
      "edit distance 0\n",
      "172\n",
      "D:/AUDataset/MYDataSet/Devanagari/Test_Doc_Devanagari\\img0248.png\n",
      "original= सरकार\n"
     ]
    },
    {
     "name": "stderr",
     "output_type": "stream",
     "text": [
      "CUDA not available - defaulting to CPU. Note: This module is much faster with a GPU.\n"
     ]
    },
    {
     "name": "stdout",
     "output_type": "stream",
     "text": [
      "from image= [([[0, 6], [102, 6], [102, 42], [0, 42]], 'सरकार', 0.5439772036414158)]\n",
      "edit distance 0\n",
      "173\n",
      "D:/AUDataset/MYDataSet/Devanagari/Test_Doc_Devanagari\\img0249.png\n",
      "original= जल्द\n"
     ]
    },
    {
     "name": "stderr",
     "output_type": "stream",
     "text": [
      "CUDA not available - defaulting to CPU. Note: This module is much faster with a GPU.\n"
     ]
    },
    {
     "name": "stdout",
     "output_type": "stream",
     "text": [
      "from image= [([[0, 0], [66, 0], [66, 35], [0, 35]], 'जल्द', 0.648469471029073)]\n",
      "edit distance 0\n",
      "174\n",
      "D:/AUDataset/MYDataSet/Devanagari/Test_Doc_Devanagari\\img0250.png\n",
      "original= य\n"
     ]
    },
    {
     "name": "stderr",
     "output_type": "stream",
     "text": [
      "CUDA not available - defaulting to CPU. Note: This module is much faster with a GPU.\n"
     ]
    },
    {
     "name": "stdout",
     "output_type": "stream",
     "text": [
      "from image= [([[0, 0], [200, 0], [200, 175], [0, 175]], 'य', 0.9106923318638884)]\n",
      "edit distance 0\n",
      "175\n"
     ]
    },
    {
     "data": {
      "text/plain": [
       "[175, 26, 11, 8, 4, 1, 0, 0, 0, 0, 0, 0, 0, 0, 0, 0, 0, 0, 0, 0, 0, 0]"
      ]
     },
     "execution_count": 3,
     "metadata": {},
     "output_type": "execute_result"
    }
   ],
   "source": [
    "df = pd.read_csv('Test_Doc_Devanagari.csv')\n",
    "gt_string = df[\"RecognizedText\"].tolist()\n",
    "#gt_string\n",
    "\n",
    "path = r\"D:/AUDataset/MYDataSet/Devanagari/Test_Doc_Devanagari/img*.png\"\n",
    "i=0\n",
    "dist_Test_Doc_Devanagari=[0] *22\n",
    "Sum_Crr=0\n",
    "Distance1=[]\n",
    "\n",
    "for file in sorted(glob.glob(path)):\n",
    "    print(file)#Show Image File Address\n",
    "    print('original=',gt_string[i])\n",
    "    im= cv2.imread(file)\n",
    "    reader = easyocr.Reader(['hi','en'])\n",
    "    result = reader.readtext(im)\n",
    "    if len(result)==0:\n",
    "        i=i+1\n",
    "        continue\n",
    "    out_string = result[0][1]\n",
    "    \n",
    "    print('from image=',result)\n",
    "    l_dist = edit_distance(gt_string[i],result[0][1])\n",
    "    print('edit distance',l_dist)\n",
    "    \n",
    "    Distance1.append(l_dist)\n",
    "    \n",
    "    #Find Mean_crr:\n",
    "    Total_character_length= len(gt_string[i])\n",
    "    Dist_length=l_dist\n",
    "    Crr=(Total_character_length-Dist_length)/Total_character_length\n",
    "    Sum_Crr=Sum_Crr+Crr\n",
    "    \n",
    "    i=i+1\n",
    "    dist_Test_Doc_Devanagari[l_dist] = dist_Test_Doc_Devanagari[l_dist]+1 \n",
    "    print(dist_Test_Doc_Devanagari[l_dist])\n",
    "    \n",
    "dist_Test_Doc_Devanagari"
   ]
  },
  {
   "cell_type": "code",
   "execution_count": 4,
   "metadata": {},
   "outputs": [
    {
     "name": "stdout",
     "output_type": "stream",
     "text": [
      "Total Words = 250\n",
      "Distance in indexing = [175, 26, 11, 8, 4, 1, 0, 0, 0, 0, 0, 0, 0, 0, 0, 0, 0, 0, 0, 0, 0, 0]\n",
      "Error free Words = 175\n",
      "word recognition rate = 70.0\n",
      "Mean Character Recognition rate = 81.05121212121212\n"
     ]
    }
   ],
   "source": [
    "#find WRR\n",
    "Wrr=(dist_Test_Doc_Devanagari[0]/i)*100\n",
    "print(\"Total Words =\",i)\n",
    "print(\"Distance in indexing =\",dist_Test_Doc_Devanagari)\n",
    "print(\"Error free Words =\",dist_Test_Doc_Devanagari[0])\n",
    "print(\"word recognition rate =\",Wrr)\n",
    "\n",
    "#find Mean_Crr\n",
    "Mean_Crr=(Sum_Crr/i)*100\n",
    "print(\"Mean Character Recognition rate =\",Mean_Crr)"
   ]
  },
  {
   "cell_type": "code",
   "execution_count": 5,
   "metadata": {},
   "outputs": [
    {
     "data": {
      "image/png": "[encoded data removed]",
      "text/plain": [
       "<Figure size 432x288 with 1 Axes>"
      ]
     },
     "metadata": {
      "needs_background": "light"
     },
     "output_type": "display_data"
    }
   ],
   "source": [
    "#plot histogram\n",
    "plt.hist(Distance1, density=True,bins=10,range=(0,10), edgecolor=\"k\", rwidth=0.8, color=\"#ff9933\" )\n",
    "plt.xlabel(\"Levenshtein distance\")\n",
    "plt.ylabel(\"Frequency\")\n",
    "plt.title(\"Distribution of MED for Devanagari Test Document images\")\n",
    "\n",
    "plt.savefig('out_hist/Test_Doc_Devanagari.png',  quality=100)\n",
    "plt.show()"
   ]
  },
  {
   "cell_type": "code",
   "execution_count": 6,
   "metadata": {},
   "outputs": [
    {
     "data": {
      "image/png": "[encoded data removed]",
      "text/plain": [
       "<Figure size 432x288 with 1 Axes>"
      ]
     },
     "metadata": {
      "needs_background": "light"
     },
     "output_type": "display_data"
    }
   ],
   "source": [
    "#BarGraph:\n",
    "i=np.arange(22)\n",
    "tick_label=i\n",
    "plt.bar(i,dist_Test_Doc_Devanagari,label ='Test_Doc_Devanagari',tick_label = tick_label,width=0.8, color=\"#ff9933\")\n",
    "\n",
    "plt.xlabel(\"Levenshtein Distance\")\n",
    "plt.ylabel(\"No_Of_Image\")\n",
    "plt.title(\"Bar Chart of MED for Devanagari Test Document images\")\n",
    "\n",
    "plt.savefig('out_bar/Test_Doc_Devanagari.png', bbox_inches='tight', quality=100)\n",
    "plt.show()"
   ]
  },
  {
   "cell_type": "code",
   "execution_count": 7,
   "metadata": {
    "scrolled": true
   },
   "outputs": [
    {
     "name": "stdout",
     "output_type": "stream",
     "text": [
      "D:/AUDataset/MYDataSet/Devanagari/Test_Scene_Devanagari\\img0001.png\n",
      "original= सिंह\n"
     ]
    },
    {
     "name": "stderr",
     "output_type": "stream",
     "text": [
      "CUDA not available - defaulting to CPU. Note: This module is much faster with a GPU.\n"
     ]
    },
    {
     "name": "stdout",
     "output_type": "stream",
     "text": [
      "from image= सिंह\n",
      "edit distance 0\n",
      "1\n",
      "D:/AUDataset/MYDataSet/Devanagari/Test_Scene_Devanagari\\img0002.png\n",
      "original= लेडिज\n"
     ]
    },
    {
     "name": "stderr",
     "output_type": "stream",
     "text": [
      "CUDA not available - defaulting to CPU. Note: This module is much faster with a GPU.\n"
     ]
    },
    {
     "name": "stdout",
     "output_type": "stream",
     "text": [
      "from image= हैडिजा\n",
      "edit distance 3\n",
      "1\n",
      "D:/AUDataset/MYDataSet/Devanagari/Test_Scene_Devanagari\\img0003.png\n",
      "original= स्पेशालिस्ट\n"
     ]
    },
    {
     "name": "stderr",
     "output_type": "stream",
     "text": [
      "CUDA not available - defaulting to CPU. Note: This module is much faster with a GPU.\n"
     ]
    },
    {
     "name": "stdout",
     "output_type": "stream",
     "text": [
      "from image= स्पेशलिस्ट\n",
      "edit distance 1\n",
      "1\n",
      "D:/AUDataset/MYDataSet/Devanagari/Test_Scene_Devanagari\\img0004.png\n",
      "original= राजनांदगांव\n"
     ]
    },
    {
     "name": "stderr",
     "output_type": "stream",
     "text": [
      "CUDA not available - defaulting to CPU. Note: This module is much faster with a GPU.\n"
     ]
    },
    {
     "name": "stdout",
     "output_type": "stream",
     "text": [
      "from image= रा= नांदगांत\n",
      "edit distance 3\n",
      "2\n",
      "D:/AUDataset/MYDataSet/Devanagari/Test_Scene_Devanagari\\img0005.png\n",
      "original= टेलर्स\n"
     ]
    },
    {
     "name": "stderr",
     "output_type": "stream",
     "text": [
      "CUDA not available - defaulting to CPU. Note: This module is much faster with a GPU.\n"
     ]
    },
    {
     "name": "stdout",
     "output_type": "stream",
     "text": [
      "from image= दैलर्ख\n",
      "edit distance 3\n",
      "3\n",
      "D:/AUDataset/MYDataSet/Devanagari/Test_Scene_Devanagari\\img0006.png\n",
      "original= सूट\n"
     ]
    },
    {
     "name": "stderr",
     "output_type": "stream",
     "text": [
      "CUDA not available - defaulting to CPU. Note: This module is much faster with a GPU.\n"
     ]
    },
    {
     "name": "stdout",
     "output_type": "stream",
     "text": [
      "from image= सूट\n",
      "edit distance 0\n",
      "2\n",
      "D:/AUDataset/MYDataSet/Devanagari/Test_Scene_Devanagari\\img0007.png\n",
      "original= उच्चतम\n"
     ]
    },
    {
     "name": "stderr",
     "output_type": "stream",
     "text": [
      "CUDA not available - defaulting to CPU. Note: This module is much faster with a GPU.\n"
     ]
    },
    {
     "name": "stdout",
     "output_type": "stream",
     "text": [
      "from image= उच्चतम\n",
      "edit distance 0\n",
      "3\n",
      "D:/AUDataset/MYDataSet/Devanagari/Test_Scene_Devanagari\\img0008.png\n",
      "original= राजपूत\n"
     ]
    },
    {
     "name": "stderr",
     "output_type": "stream",
     "text": [
      "CUDA not available - defaulting to CPU. Note: This module is much faster with a GPU.\n"
     ]
    },
    {
     "name": "stdout",
     "output_type": "stream",
     "text": [
      "from image= राजपूत\n",
      "edit distance 0\n",
      "4\n",
      "D:/AUDataset/MYDataSet/Devanagari/Test_Scene_Devanagari\\img0009.png\n",
      "original= स्पेशालिस्ट\n"
     ]
    },
    {
     "name": "stderr",
     "output_type": "stream",
     "text": [
      "CUDA not available - defaulting to CPU. Note: This module is much faster with a GPU.\n"
     ]
    },
    {
     "name": "stdout",
     "output_type": "stream",
     "text": [
      "from image= स्पेशलिस्ट\n",
      "edit distance 1\n",
      "2\n",
      "D:/AUDataset/MYDataSet/Devanagari/Test_Scene_Devanagari\\img0010.png\n",
      "original= प्रक्रिया\n"
     ]
    },
    {
     "name": "stderr",
     "output_type": "stream",
     "text": [
      "CUDA not available - defaulting to CPU. Note: This module is much faster with a GPU.\n"
     ]
    },
    {
     "name": "stdout",
     "output_type": "stream",
     "text": [
      "from image= प्रकिया\n",
      "edit distance 2\n",
      "1\n",
      "D:/AUDataset/MYDataSet/Devanagari/Test_Scene_Devanagari\\img0011.png\n",
      "original= डेन्देयर\n"
     ]
    },
    {
     "name": "stderr",
     "output_type": "stream",
     "text": [
      "CUDA not available - defaulting to CPU. Note: This module is much faster with a GPU.\n"
     ]
    },
    {
     "name": "stdout",
     "output_type": "stream",
     "text": [
      "from image= डेन्टेयर\n",
      "edit distance 1\n",
      "3\n",
      "D:/AUDataset/MYDataSet/Devanagari/Test_Scene_Devanagari\\img0012.png\n",
      "original= पान\n"
     ]
    },
    {
     "name": "stderr",
     "output_type": "stream",
     "text": [
      "CUDA not available - defaulting to CPU. Note: This module is much faster with a GPU.\n"
     ]
    },
    {
     "name": "stdout",
     "output_type": "stream",
     "text": [
      "from image= पव\n",
      "edit distance 2\n",
      "2\n",
      "D:/AUDataset/MYDataSet/Devanagari/Test_Scene_Devanagari\\img0013.png\n",
      "original= उच्चतम\n"
     ]
    },
    {
     "name": "stderr",
     "output_type": "stream",
     "text": [
      "CUDA not available - defaulting to CPU. Note: This module is much faster with a GPU.\n"
     ]
    },
    {
     "name": "stdout",
     "output_type": "stream",
     "text": [
      "from image= उच्चतम\n",
      "edit distance 0\n",
      "5\n",
      "D:/AUDataset/MYDataSet/Devanagari/Test_Scene_Devanagari\\img0014.png\n",
      "original= वीरनारायन\n"
     ]
    },
    {
     "name": "stderr",
     "output_type": "stream",
     "text": [
      "CUDA not available - defaulting to CPU. Note: This module is much faster with a GPU.\n"
     ]
    },
    {
     "name": "stdout",
     "output_type": "stream",
     "text": [
      "from image= वीरनारायण\n",
      "edit distance 1\n",
      "4\n",
      "D:/AUDataset/MYDataSet/Devanagari/Test_Scene_Devanagari\\img0015.png\n",
      "original= बहुउद्देशीय\n"
     ]
    },
    {
     "name": "stderr",
     "output_type": "stream",
     "text": [
      "CUDA not available - defaulting to CPU. Note: This module is much faster with a GPU.\n"
     ]
    },
    {
     "name": "stdout",
     "output_type": "stream",
     "text": [
      "from image= बहुर्दशाय\n",
      "edit distance 4\n",
      "1\n",
      "D:/AUDataset/MYDataSet/Devanagari/Test_Scene_Devanagari\\img0016.png\n",
      "original= प्रक्रिया\n"
     ]
    },
    {
     "name": "stderr",
     "output_type": "stream",
     "text": [
      "CUDA not available - defaulting to CPU. Note: This module is much faster with a GPU.\n"
     ]
    },
    {
     "name": "stdout",
     "output_type": "stream",
     "text": [
      "from image= प्रकिया\n",
      "edit distance 2\n",
      "3\n",
      "D:/AUDataset/MYDataSet/Devanagari/Test_Scene_Devanagari\\img0017.png\n",
      "original= गिरफ्तार\n"
     ]
    },
    {
     "name": "stderr",
     "output_type": "stream",
     "text": [
      "CUDA not available - defaulting to CPU. Note: This module is much faster with a GPU.\n"
     ]
    },
    {
     "name": "stdout",
     "output_type": "stream",
     "text": [
      "from image= गिरफ्तार\n",
      "edit distance 0\n",
      "6\n",
      "D:/AUDataset/MYDataSet/Devanagari/Test_Scene_Devanagari\\img0018.png\n",
      "original= ईली\n"
     ]
    },
    {
     "name": "stderr",
     "output_type": "stream",
     "text": [
      "CUDA not available - defaulting to CPU. Note: This module is much faster with a GPU.\n"
     ]
    },
    {
     "name": "stdout",
     "output_type": "stream",
     "text": [
      "from image= डेली\n",
      "edit distance 2\n",
      "4\n",
      "D:/AUDataset/MYDataSet/Devanagari/Test_Scene_Devanagari\\img0019.png\n",
      "original= कार्यालय\n"
     ]
    },
    {
     "name": "stderr",
     "output_type": "stream",
     "text": [
      "CUDA not available - defaulting to CPU. Note: This module is much faster with a GPU.\n"
     ]
    },
    {
     "name": "stdout",
     "output_type": "stream",
     "text": [
      "from image= कार्गनय\n",
      "edit distance 3\n",
      "4\n",
      "D:/AUDataset/MYDataSet/Devanagari/Test_Scene_Devanagari\\img0020.png\n",
      "original= लिमिटेड\n"
     ]
    },
    {
     "name": "stderr",
     "output_type": "stream",
     "text": [
      "CUDA not available - defaulting to CPU. Note: This module is much faster with a GPU.\n"
     ]
    },
    {
     "name": "stdout",
     "output_type": "stream",
     "text": [
      "from image= तिमिटेड\n",
      "edit distance 1\n",
      "5\n",
      "D:/AUDataset/MYDataSet/Devanagari/Test_Scene_Devanagari\\img0021.png\n",
      "original= गिरफ्तार\n"
     ]
    },
    {
     "name": "stderr",
     "output_type": "stream",
     "text": [
      "CUDA not available - defaulting to CPU. Note: This module is much faster with a GPU.\n"
     ]
    },
    {
     "name": "stdout",
     "output_type": "stream",
     "text": [
      "from image= गिरफ्तार\n",
      "edit distance 0\n",
      "7\n",
      "D:/AUDataset/MYDataSet/Devanagari/Test_Scene_Devanagari\\img0022.png\n",
      "original= पालिक\n"
     ]
    },
    {
     "name": "stderr",
     "output_type": "stream",
     "text": [
      "CUDA not available - defaulting to CPU. Note: This module is much faster with a GPU.\n"
     ]
    },
    {
     "name": "stdout",
     "output_type": "stream",
     "text": [
      "from image= पालिक\n",
      "edit distance 0\n",
      "8\n",
      "D:/AUDataset/MYDataSet/Devanagari/Test_Scene_Devanagari\\img0023.png\n",
      "original= का\n"
     ]
    },
    {
     "name": "stderr",
     "output_type": "stream",
     "text": [
      "CUDA not available - defaulting to CPU. Note: This module is much faster with a GPU.\n"
     ]
    },
    {
     "name": "stdout",
     "output_type": "stream",
     "text": [
      "from image= क\n",
      "edit distance 1\n",
      "6\n",
      "D:/AUDataset/MYDataSet/Devanagari/Test_Scene_Devanagari\\img0024.png\n",
      "original= त्वचा\n"
     ]
    },
    {
     "name": "stderr",
     "output_type": "stream",
     "text": [
      "CUDA not available - defaulting to CPU. Note: This module is much faster with a GPU.\n"
     ]
    },
    {
     "name": "stdout",
     "output_type": "stream",
     "text": [
      "from image= त्वचा\n",
      "edit distance 0\n",
      "9\n",
      "D:/AUDataset/MYDataSet/Devanagari/Test_Scene_Devanagari\\img0025.png\n",
      "original= तबीयत\n"
     ]
    },
    {
     "name": "stderr",
     "output_type": "stream",
     "text": [
      "CUDA not available - defaulting to CPU. Note: This module is much faster with a GPU.\n"
     ]
    },
    {
     "name": "stdout",
     "output_type": "stream",
     "text": [
      "from image= तबीयत\n",
      "edit distance 0\n",
      "10\n",
      "D:/AUDataset/MYDataSet/Devanagari/Test_Scene_Devanagari\\img0026.png\n",
      "original= का\n"
     ]
    },
    {
     "name": "stderr",
     "output_type": "stream",
     "text": [
      "CUDA not available - defaulting to CPU. Note: This module is much faster with a GPU.\n"
     ]
    },
    {
     "name": "stdout",
     "output_type": "stream",
     "text": [
      "from image= क\n",
      "edit distance 1\n",
      "7\n",
      "D:/AUDataset/MYDataSet/Devanagari/Test_Scene_Devanagari\\img0027.png\n",
      "original= एंव\n"
     ]
    },
    {
     "name": "stderr",
     "output_type": "stream",
     "text": [
      "CUDA not available - defaulting to CPU. Note: This module is much faster with a GPU.\n"
     ]
    },
    {
     "name": "stdout",
     "output_type": "stream",
     "text": [
      "from image= एव\n",
      "edit distance 1\n",
      "8\n",
      "D:/AUDataset/MYDataSet/Devanagari/Test_Scene_Devanagari\\img0028.png\n",
      "original= करे\n"
     ]
    },
    {
     "name": "stderr",
     "output_type": "stream",
     "text": [
      "CUDA not available - defaulting to CPU. Note: This module is much faster with a GPU.\n"
     ]
    },
    {
     "name": "stdout",
     "output_type": "stream",
     "text": [
      "from image= कर\n",
      "edit distance 1\n",
      "9\n",
      "D:/AUDataset/MYDataSet/Devanagari/Test_Scene_Devanagari\\img0029.png\n",
      "original= जाएंगे\n"
     ]
    },
    {
     "name": "stderr",
     "output_type": "stream",
     "text": [
      "CUDA not available - defaulting to CPU. Note: This module is much faster with a GPU.\n"
     ]
    },
    {
     "name": "stdout",
     "output_type": "stream",
     "text": [
      "from image= जाएंगे\n",
      "edit distance 0\n",
      "11\n",
      "D:/AUDataset/MYDataSet/Devanagari/Test_Scene_Devanagari\\img0030.png\n",
      "original= करे\n"
     ]
    },
    {
     "name": "stderr",
     "output_type": "stream",
     "text": [
      "CUDA not available - defaulting to CPU. Note: This module is much faster with a GPU.\n"
     ]
    },
    {
     "name": "stdout",
     "output_type": "stream",
     "text": [
      "from image= कर\n",
      "edit distance 1\n",
      "10\n",
      "D:/AUDataset/MYDataSet/Devanagari/Test_Scene_Devanagari\\img0031.png\n",
      "original= प्यार\n"
     ]
    },
    {
     "name": "stderr",
     "output_type": "stream",
     "text": [
      "CUDA not available - defaulting to CPU. Note: This module is much faster with a GPU.\n"
     ]
    },
    {
     "name": "stdout",
     "output_type": "stream",
     "text": [
      "from image= प्यार\n",
      "edit distance 0\n",
      "12\n",
      "D:/AUDataset/MYDataSet/Devanagari/Test_Scene_Devanagari\\img0032.png\n",
      "original= प्यार\n"
     ]
    },
    {
     "name": "stderr",
     "output_type": "stream",
     "text": [
      "CUDA not available - defaulting to CPU. Note: This module is much faster with a GPU.\n"
     ]
    },
    {
     "name": "stdout",
     "output_type": "stream",
     "text": [
      "from image= प्यार\n",
      "edit distance 0\n",
      "13\n",
      "D:/AUDataset/MYDataSet/Devanagari/Test_Scene_Devanagari\\img0033.png\n",
      "original= कांटे\n"
     ]
    },
    {
     "name": "stderr",
     "output_type": "stream",
     "text": [
      "CUDA not available - defaulting to CPU. Note: This module is much faster with a GPU.\n"
     ]
    },
    {
     "name": "stdout",
     "output_type": "stream",
     "text": [
      "from image= कांटे\n",
      "edit distance 0\n",
      "14\n",
      "D:/AUDataset/MYDataSet/Devanagari/Test_Scene_Devanagari\\img0034.png\n",
      "original= कांटे\n"
     ]
    },
    {
     "name": "stderr",
     "output_type": "stream",
     "text": [
      "CUDA not available - defaulting to CPU. Note: This module is much faster with a GPU.\n"
     ]
    },
    {
     "name": "stdout",
     "output_type": "stream",
     "text": [
      "from image= कांटे\n",
      "edit distance 0\n",
      "15\n",
      "D:/AUDataset/MYDataSet/Devanagari/Test_Scene_Devanagari\\img0035.png\n",
      "original= जाएं\n"
     ]
    },
    {
     "name": "stderr",
     "output_type": "stream",
     "text": [
      "CUDA not available - defaulting to CPU. Note: This module is much faster with a GPU.\n"
     ]
    },
    {
     "name": "stdout",
     "output_type": "stream",
     "text": [
      "from image= जाए\n",
      "edit distance 1\n",
      "11\n",
      "D:/AUDataset/MYDataSet/Devanagari/Test_Scene_Devanagari\\img0036.png\n",
      "original= सेंदर\n"
     ]
    },
    {
     "name": "stderr",
     "output_type": "stream",
     "text": [
      "CUDA not available - defaulting to CPU. Note: This module is much faster with a GPU.\n"
     ]
    },
    {
     "name": "stdout",
     "output_type": "stream",
     "text": [
      "from image= सेंटर\n",
      "edit distance 1\n",
      "12\n",
      "D:/AUDataset/MYDataSet/Devanagari/Test_Scene_Devanagari\\img0037.png\n",
      "original= फैंसी\n"
     ]
    },
    {
     "name": "stderr",
     "output_type": "stream",
     "text": [
      "CUDA not available - defaulting to CPU. Note: This module is much faster with a GPU.\n"
     ]
    },
    {
     "name": "stdout",
     "output_type": "stream",
     "text": [
      "from image= फेंसी\n",
      "edit distance 1\n",
      "13\n",
      "D:/AUDataset/MYDataSet/Devanagari/Test_Scene_Devanagari\\img0038.png\n",
      "original= त्वचा\n"
     ]
    },
    {
     "name": "stderr",
     "output_type": "stream",
     "text": [
      "CUDA not available - defaulting to CPU. Note: This module is much faster with a GPU.\n"
     ]
    },
    {
     "name": "stdout",
     "output_type": "stream",
     "text": [
      "from image= त्वचा\n",
      "edit distance 0\n",
      "16\n",
      "D:/AUDataset/MYDataSet/Devanagari/Test_Scene_Devanagari\\img0039.png\n",
      "original= समाज\n"
     ]
    },
    {
     "name": "stderr",
     "output_type": "stream",
     "text": [
      "CUDA not available - defaulting to CPU. Note: This module is much faster with a GPU.\n"
     ]
    },
    {
     "name": "stdout",
     "output_type": "stream",
     "text": [
      "from image= समाज\n",
      "edit distance 0\n",
      "17\n",
      "D:/AUDataset/MYDataSet/Devanagari/Test_Scene_Devanagari\\img0040.png\n",
      "original= समाज\n"
     ]
    },
    {
     "name": "stderr",
     "output_type": "stream",
     "text": [
      "CUDA not available - defaulting to CPU. Note: This module is much faster with a GPU.\n"
     ]
    },
    {
     "name": "stdout",
     "output_type": "stream",
     "text": [
      "from image= समाज\n",
      "edit distance 0\n",
      "18\n",
      "D:/AUDataset/MYDataSet/Devanagari/Test_Scene_Devanagari\\img0041.png\n",
      "original= समाज\n"
     ]
    },
    {
     "name": "stderr",
     "output_type": "stream",
     "text": [
      "CUDA not available - defaulting to CPU. Note: This module is much faster with a GPU.\n"
     ]
    },
    {
     "name": "stdout",
     "output_type": "stream",
     "text": [
      "from image= समाज\n",
      "edit distance 0\n",
      "19\n",
      "D:/AUDataset/MYDataSet/Devanagari/Test_Scene_Devanagari\\img0042.png\n",
      "original= समाज\n"
     ]
    },
    {
     "name": "stderr",
     "output_type": "stream",
     "text": [
      "CUDA not available - defaulting to CPU. Note: This module is much faster with a GPU.\n"
     ]
    },
    {
     "name": "stdout",
     "output_type": "stream",
     "text": [
      "from image= समाज\n",
      "edit distance 0\n",
      "20\n",
      "D:/AUDataset/MYDataSet/Devanagari/Test_Scene_Devanagari\\img0043.png\n",
      "original= चन्द्र\n"
     ]
    },
    {
     "name": "stderr",
     "output_type": "stream",
     "text": [
      "CUDA not available - defaulting to CPU. Note: This module is much faster with a GPU.\n"
     ]
    },
    {
     "name": "stdout",
     "output_type": "stream",
     "text": [
      "from image= चन्द्र\n",
      "edit distance 0\n",
      "21\n",
      "D:/AUDataset/MYDataSet/Devanagari/Test_Scene_Devanagari\\img0044.png\n",
      "original= की\n"
     ]
    },
    {
     "name": "stderr",
     "output_type": "stream",
     "text": [
      "CUDA not available - defaulting to CPU. Note: This module is much faster with a GPU.\n"
     ]
    },
    {
     "name": "stdout",
     "output_type": "stream",
     "text": [
      "from image= की\n",
      "edit distance 0\n",
      "22\n",
      "D:/AUDataset/MYDataSet/Devanagari/Test_Scene_Devanagari\\img0045.png\n",
      "original= राजनांदगांव\n"
     ]
    },
    {
     "name": "stderr",
     "output_type": "stream",
     "text": [
      "CUDA not available - defaulting to CPU. Note: This module is much faster with a GPU.\n"
     ]
    },
    {
     "name": "stdout",
     "output_type": "stream",
     "text": [
      "from image= रा= नांदगांत\n",
      "edit distance 3\n",
      "5\n",
      "D:/AUDataset/MYDataSet/Devanagari/Test_Scene_Devanagari\\img0046.png\n",
      "original= युवा\n"
     ]
    },
    {
     "name": "stderr",
     "output_type": "stream",
     "text": [
      "CUDA not available - defaulting to CPU. Note: This module is much faster with a GPU.\n"
     ]
    },
    {
     "name": "stdout",
     "output_type": "stream",
     "text": [
      "from image= युवा\n",
      "edit distance 0\n",
      "23\n",
      "D:/AUDataset/MYDataSet/Devanagari/Test_Scene_Devanagari\\img0047.png\n",
      "original= शादी\n"
     ]
    },
    {
     "name": "stderr",
     "output_type": "stream",
     "text": [
      "CUDA not available - defaulting to CPU. Note: This module is much faster with a GPU.\n"
     ]
    },
    {
     "name": "stdout",
     "output_type": "stream",
     "text": [
      "from image= शादी\n",
      "edit distance 0\n",
      "24\n",
      "D:/AUDataset/MYDataSet/Devanagari/Test_Scene_Devanagari\\img0048.png\n",
      "original= दिखाती\n"
     ]
    },
    {
     "name": "stderr",
     "output_type": "stream",
     "text": [
      "CUDA not available - defaulting to CPU. Note: This module is much faster with a GPU.\n"
     ]
    },
    {
     "name": "stdout",
     "output_type": "stream",
     "text": [
      "from image= दिखाते\n",
      "edit distance 1\n",
      "14\n",
      "D:/AUDataset/MYDataSet/Devanagari/Test_Scene_Devanagari\\img0049.png\n",
      "original= झंकार\n"
     ]
    },
    {
     "name": "stderr",
     "output_type": "stream",
     "text": [
      "CUDA not available - defaulting to CPU. Note: This module is much faster with a GPU.\n"
     ]
    },
    {
     "name": "stdout",
     "output_type": "stream",
     "text": [
      "from image= झंकार\n",
      "edit distance 0\n",
      "25\n",
      "D:/AUDataset/MYDataSet/Devanagari/Test_Scene_Devanagari\\img0050.png\n",
      "original= ड्राइविंग\n"
     ]
    },
    {
     "name": "stderr",
     "output_type": "stream",
     "text": [
      "CUDA not available - defaulting to CPU. Note: This module is much faster with a GPU.\n"
     ]
    },
    {
     "name": "stdout",
     "output_type": "stream",
     "text": [
      "from image= ९4\n",
      "edit distance 9\n",
      "1\n",
      "D:/AUDataset/MYDataSet/Devanagari/Test_Scene_Devanagari\\img0051.png\n",
      "original= कयों\n"
     ]
    },
    {
     "name": "stderr",
     "output_type": "stream",
     "text": [
      "CUDA not available - defaulting to CPU. Note: This module is much faster with a GPU.\n"
     ]
    },
    {
     "name": "stdout",
     "output_type": "stream",
     "text": [
      "from image= क्यां\n",
      "edit distance 2\n",
      "5\n",
      "D:/AUDataset/MYDataSet/Devanagari/Test_Scene_Devanagari\\img0052.png\n",
      "original= स्कूल\n"
     ]
    },
    {
     "name": "stderr",
     "output_type": "stream",
     "text": [
      "CUDA not available - defaulting to CPU. Note: This module is much faster with a GPU.\n"
     ]
    },
    {
     "name": "stdout",
     "output_type": "stream",
     "text": [
      "from image= सकूल\n",
      "edit distance 1\n",
      "15\n",
      "D:/AUDataset/MYDataSet/Devanagari/Test_Scene_Devanagari\\img0053.png\n",
      "original= मिलती\n"
     ]
    },
    {
     "name": "stderr",
     "output_type": "stream",
     "text": [
      "CUDA not available - defaulting to CPU. Note: This module is much faster with a GPU.\n"
     ]
    },
    {
     "name": "stdout",
     "output_type": "stream",
     "text": [
      "from image= मिलती\n",
      "edit distance 0\n",
      "26\n",
      "D:/AUDataset/MYDataSet/Devanagari/Test_Scene_Devanagari\\img0054.png\n",
      "original= हाँकी\n"
     ]
    },
    {
     "name": "stderr",
     "output_type": "stream",
     "text": [
      "CUDA not available - defaulting to CPU. Note: This module is much faster with a GPU.\n"
     ]
    },
    {
     "name": "stdout",
     "output_type": "stream",
     "text": [
      "from image= हॉकी\n",
      "edit distance 2\n",
      "6\n",
      "D:/AUDataset/MYDataSet/Devanagari/Test_Scene_Devanagari\\img0055.png\n",
      "original= स्टेडियम\n"
     ]
    },
    {
     "name": "stderr",
     "output_type": "stream",
     "text": [
      "CUDA not available - defaulting to CPU. Note: This module is much faster with a GPU.\n"
     ]
    },
    {
     "name": "stdout",
     "output_type": "stream",
     "text": [
      "from image= र्वेयम\n",
      "edit distance 4\n",
      "2\n",
      "D:/AUDataset/MYDataSet/Devanagari/Test_Scene_Devanagari\\img0056.png\n",
      "original= मिलती\n"
     ]
    },
    {
     "name": "stderr",
     "output_type": "stream",
     "text": [
      "CUDA not available - defaulting to CPU. Note: This module is much faster with a GPU.\n"
     ]
    },
    {
     "name": "stdout",
     "output_type": "stream",
     "text": [
      "from image= मिलती\n",
      "edit distance 0\n",
      "27\n",
      "D:/AUDataset/MYDataSet/Devanagari/Test_Scene_Devanagari\\img0057.png\n",
      "original= मान\n"
     ]
    },
    {
     "name": "stderr",
     "output_type": "stream",
     "text": [
      "CUDA not available - defaulting to CPU. Note: This module is much faster with a GPU.\n"
     ]
    },
    {
     "name": "stdout",
     "output_type": "stream",
     "text": [
      "from image= मान.\n",
      "edit distance 1\n",
      "16\n",
      "D:/AUDataset/MYDataSet/Devanagari/Test_Scene_Devanagari\\img0058.png\n",
      "original= केन्द्र\n"
     ]
    },
    {
     "name": "stderr",
     "output_type": "stream",
     "text": [
      "CUDA not available - defaulting to CPU. Note: This module is much faster with a GPU.\n"
     ]
    },
    {
     "name": "stdout",
     "output_type": "stream",
     "text": [
      "from image= केन्द्र\n",
      "edit distance 0\n",
      "28\n",
      "D:/AUDataset/MYDataSet/Devanagari/Test_Scene_Devanagari\\img0059.png\n",
      "original= क्रेडा\n"
     ]
    },
    {
     "name": "stderr",
     "output_type": "stream",
     "text": [
      "CUDA not available - defaulting to CPU. Note: This module is much faster with a GPU.\n"
     ]
    },
    {
     "name": "stdout",
     "output_type": "stream",
     "text": [
      "from image= क्रेडा\n",
      "edit distance 0\n",
      "29\n",
      "D:/AUDataset/MYDataSet/Devanagari/Test_Scene_Devanagari\\img0060.png\n",
      "original= सृष्टि\n"
     ]
    },
    {
     "name": "stderr",
     "output_type": "stream",
     "text": [
      "CUDA not available - defaulting to CPU. Note: This module is much faster with a GPU.\n"
     ]
    },
    {
     "name": "stdout",
     "output_type": "stream",
     "text": [
      "from image= सृष्टि\n",
      "edit distance 0\n",
      "30\n",
      "D:/AUDataset/MYDataSet/Devanagari/Test_Scene_Devanagari\\img0061.png\n",
      "original= पहचान\n"
     ]
    },
    {
     "name": "stderr",
     "output_type": "stream",
     "text": [
      "CUDA not available - defaulting to CPU. Note: This module is much faster with a GPU.\n"
     ]
    },
    {
     "name": "stdout",
     "output_type": "stream",
     "text": [
      "from image= पहचान\n",
      "edit distance 0\n",
      "31\n",
      "D:/AUDataset/MYDataSet/Devanagari/Test_Scene_Devanagari\\img0062.png\n",
      "original= जल\n"
     ]
    },
    {
     "name": "stderr",
     "output_type": "stream",
     "text": [
      "CUDA not available - defaulting to CPU. Note: This module is much faster with a GPU.\n"
     ]
    },
    {
     "name": "stdout",
     "output_type": "stream",
     "text": [
      "from image= रगण'\n",
      "edit distance 4\n",
      "3\n",
      "D:/AUDataset/MYDataSet/Devanagari/Test_Scene_Devanagari\\img0063.png\n",
      "original= इसकी\n"
     ]
    },
    {
     "name": "stderr",
     "output_type": "stream",
     "text": [
      "CUDA not available - defaulting to CPU. Note: This module is much faster with a GPU.\n"
     ]
    },
    {
     "name": "stdout",
     "output_type": "stream",
     "text": [
      "from image= <सचजा\n",
      "edit distance 4\n",
      "4\n",
      "D:/AUDataset/MYDataSet/Devanagari/Test_Scene_Devanagari\\img0064.png\n",
      "original= जीके\n"
     ]
    },
    {
     "name": "stderr",
     "output_type": "stream",
     "text": [
      "CUDA not available - defaulting to CPU. Note: This module is much faster with a GPU.\n"
     ]
    },
    {
     "name": "stdout",
     "output_type": "stream",
     "text": [
      "from image= जीके\n",
      "edit distance 0\n",
      "32\n",
      "D:/AUDataset/MYDataSet/Devanagari/Test_Scene_Devanagari\\img0065.png\n",
      "original= तभी\n"
     ]
    },
    {
     "name": "stderr",
     "output_type": "stream",
     "text": [
      "CUDA not available - defaulting to CPU. Note: This module is much faster with a GPU.\n"
     ]
    },
    {
     "name": "stdout",
     "output_type": "stream",
     "text": [
      "from image= तभी\n",
      "edit distance 0\n",
      "33\n",
      "D:/AUDataset/MYDataSet/Devanagari/Test_Scene_Devanagari\\img0066.png\n",
      "original= महाविद्यालय\n"
     ]
    },
    {
     "name": "stderr",
     "output_type": "stream",
     "text": [
      "CUDA not available - defaulting to CPU. Note: This module is much faster with a GPU.\n"
     ]
    },
    {
     "name": "stdout",
     "output_type": "stream",
     "text": [
      "from image= महाविद्यालय\n",
      "edit distance 0\n",
      "34\n",
      "D:/AUDataset/MYDataSet/Devanagari/Test_Scene_Devanagari\\img0067.png\n",
      "original= तभी\n"
     ]
    },
    {
     "name": "stderr",
     "output_type": "stream",
     "text": [
      "CUDA not available - defaulting to CPU. Note: This module is much faster with a GPU.\n"
     ]
    },
    {
     "name": "stdout",
     "output_type": "stream",
     "text": [
      "from image= तभी\n",
      "edit distance 0\n",
      "35\n",
      "D:/AUDataset/MYDataSet/Devanagari/Test_Scene_Devanagari\\img0068.png\n",
      "original= सलवार\n"
     ]
    },
    {
     "name": "stderr",
     "output_type": "stream",
     "text": [
      "CUDA not available - defaulting to CPU. Note: This module is much faster with a GPU.\n"
     ]
    },
    {
     "name": "stdout",
     "output_type": "stream",
     "text": [
      "from image= सलवार\n",
      "edit distance 0\n",
      "36\n",
      "D:/AUDataset/MYDataSet/Devanagari/Test_Scene_Devanagari\\img0069.png\n",
      "original= संभाग\n"
     ]
    },
    {
     "name": "stderr",
     "output_type": "stream",
     "text": [
      "CUDA not available - defaulting to CPU. Note: This module is much faster with a GPU.\n"
     ]
    },
    {
     "name": "stdout",
     "output_type": "stream",
     "text": [
      "from image= संभाग\n",
      "edit distance 0\n",
      "37\n",
      "D:/AUDataset/MYDataSet/Devanagari/Test_Scene_Devanagari\\img0070.png\n",
      "original= सलवार\n"
     ]
    },
    {
     "name": "stderr",
     "output_type": "stream",
     "text": [
      "CUDA not available - defaulting to CPU. Note: This module is much faster with a GPU.\n"
     ]
    },
    {
     "name": "stdout",
     "output_type": "stream",
     "text": [
      "from image= सलवार\n",
      "edit distance 0\n",
      "38\n",
      "D:/AUDataset/MYDataSet/Devanagari/Test_Scene_Devanagari\\img0071.png\n",
      "original= स\n"
     ]
    },
    {
     "name": "stderr",
     "output_type": "stream",
     "text": [
      "CUDA not available - defaulting to CPU. Note: This module is much faster with a GPU.\n"
     ]
    },
    {
     "data": {
      "text/plain": [
       "[38, 16, 6, 5, 4, 0, 0, 0, 0, 1, 0, 0, 0, 0, 0, 0, 0, 0, 0, 0, 0, 0]"
      ]
     },
     "execution_count": 7,
     "metadata": {},
     "output_type": "execute_result"
    }
   ],
   "source": [
    "df = pd.read_csv('Test_Scene_Devanagari.csv')\n",
    "gt_string = df[\"RecognizedText\"].tolist()\n",
    "#gt_string\n",
    "\n",
    "path = r\"D:/AUDataset/MYDataSet/Devanagari/Test_Scene_Devanagari/img*.png\"\n",
    "i=0\n",
    "dist_Test_Scene_Devanagari=[0] *22\n",
    "Sum_Crr=0\n",
    "Distance2=[]\n",
    "\n",
    "for file in sorted(glob.glob(path)):\n",
    "    print(file)#Show Image File Address\n",
    "    print('original=',gt_string[i])\n",
    "    im= cv2.imread(file)\n",
    "    reader = easyocr.Reader(['hi'])\n",
    "    result = reader.readtext(im)\n",
    "    if len(result)==0:\n",
    "        i=i+1\n",
    "        continue\n",
    "    out_string = result[0][1]\n",
    "    \n",
    "    print('from image=',out_string)\n",
    "    l_dist = edit_distance(gt_string[i],out_string)\n",
    "    print('edit distance',l_dist)\n",
    "    \n",
    "    Distance2.append(l_dist)\n",
    "    \n",
    "    #Find Mean_crr:\n",
    "    Total_character_length= len(gt_string[i])\n",
    "    Dist_length=l_dist\n",
    "    Crr=(Total_character_length-Dist_length)/Total_character_length\n",
    "    Sum_Crr=Sum_Crr+Crr\n",
    "    \n",
    "    i=i+1\n",
    "    dist_Test_Scene_Devanagari[l_dist] = dist_Test_Scene_Devanagari[l_dist]+1 \n",
    "    print(dist_Test_Scene_Devanagari[l_dist])\n",
    "    \n",
    "dist_Test_Scene_Devanagari"
   ]
  },
  {
   "cell_type": "code",
   "execution_count": 8,
   "metadata": {},
   "outputs": [
    {
     "name": "stdout",
     "output_type": "stream",
     "text": [
      "Total Words = 71\n",
      "Distance in indexing = [38, 16, 6, 5, 4, 0, 0, 0, 0, 1, 0, 0, 0, 0, 0, 0, 0, 0, 0, 0, 0, 0]\n",
      "Error free Words = 38\n",
      "word recognition rate = 53.52112676056338\n",
      "Mean Character Recognition rate = 79.61597870048575\n"
     ]
    }
   ],
   "source": [
    "#find WRR\n",
    "Wrr=(dist_Test_Scene_Devanagari[0]/i)*100\n",
    "print(\"Total Words =\",i)\n",
    "print(\"Distance in indexing =\",dist_Test_Scene_Devanagari)\n",
    "print(\"Error free Words =\",dist_Test_Scene_Devanagari[0])\n",
    "print(\"word recognition rate =\",Wrr)\n",
    "\n",
    "#find Mean_Crr\n",
    "Mean_Crr=(Sum_Crr/i)*100\n",
    "print(\"Mean Character Recognition rate =\",Mean_Crr)"
   ]
  },
  {
   "cell_type": "code",
   "execution_count": 9,
   "metadata": {},
   "outputs": [
    {
     "data": {
      "image/png": "[encoded data removed]",
      "text/plain": [
       "<Figure size 432x288 with 1 Axes>"
      ]
     },
     "metadata": {
      "needs_background": "light"
     },
     "output_type": "display_data"
    }
   ],
   "source": [
    "#plot histogram\n",
    "plt.hist(Distance2, density=True,bins=10,range=(0,10), edgecolor=\"k\", rwidth=0.8, color=\"#ff9933\" )\n",
    "plt.xlabel(\"Levenshtein distance\")\n",
    "plt.ylabel(\"Frequency\")\n",
    "plt.title(\"Distribution of MED for Devanagari Test Scene images\")\n",
    "\n",
    "plt.savefig('out_hist/Test_Scene_Devanagari.png', bbox_inches='tight', quality=100)\n",
    "plt.show()"
   ]
  },
  {
   "cell_type": "code",
   "execution_count": 10,
   "metadata": {},
   "outputs": [
    {
     "data": {
      "image/png": "[encoded data removed]",
      "text/plain": [
       "<Figure size 432x288 with 1 Axes>"
      ]
     },
     "metadata": {
      "needs_background": "light"
     },
     "output_type": "display_data"
    }
   ],
   "source": [
    "#BarGraph:\n",
    "i=np.arange(22)\n",
    "tick_label=i\n",
    "plt.bar(i,dist_Test_Scene_Devanagari,label ='Test_Scene_Devanagari',tick_label = tick_label,width=0.8, color=\"#ff9933\")\n",
    "\n",
    "plt.xlabel(\"Levenshtein_Distance\")\n",
    "plt.ylabel(\"No_Of_Image\")\n",
    "plt.title(\"Bar Chart of MED for Devanagari Test Scene images\")\n",
    "\n",
    "plt.savefig('out_bar/Test_Scene_Devanagari.png', bbox_inches='tight', quality=100)\n",
    "plt.show()"
   ]
  },
  {
   "cell_type": "code",
   "execution_count": null,
   "metadata": {
    "scrolled": true
   },
   "outputs": [
    {
     "name": "stdout",
     "output_type": "stream",
     "text": [
      "D:/AUDataset/MYDataSet/Devanagari/Training_Doc_Devanagari\\img0001.png\n",
      "original= ज्योति\n"
     ]
    },
    {
     "name": "stderr",
     "output_type": "stream",
     "text": [
      "CUDA not available - defaulting to CPU. Note: This module is much faster with a GPU.\n"
     ]
    },
    {
     "name": "stdout",
     "output_type": "stream",
     "text": [
      "from image= ज्योति\n",
      "edit distance 0\n",
      "1\n",
      "D:/AUDataset/MYDataSet/Devanagari/Training_Doc_Devanagari\\img0002.png\n",
      "original= मचाते\n"
     ]
    },
    {
     "name": "stderr",
     "output_type": "stream",
     "text": [
      "CUDA not available - defaulting to CPU. Note: This module is much faster with a GPU.\n"
     ]
    },
    {
     "name": "stdout",
     "output_type": "stream",
     "text": [
      "from image= मचात\n",
      "edit distance 1\n",
      "1\n",
      "D:/AUDataset/MYDataSet/Devanagari/Training_Doc_Devanagari\\img0003.png\n",
      "original= धागे\n"
     ]
    },
    {
     "name": "stderr",
     "output_type": "stream",
     "text": [
      "CUDA not available - defaulting to CPU. Note: This module is much faster with a GPU.\n"
     ]
    },
    {
     "name": "stdout",
     "output_type": "stream",
     "text": [
      "from image= धागे\n",
      "edit distance 0\n",
      "2\n",
      "D:/AUDataset/MYDataSet/Devanagari/Training_Doc_Devanagari\\img0004.png\n",
      "original= ऋतू\n"
     ]
    },
    {
     "name": "stderr",
     "output_type": "stream",
     "text": [
      "CUDA not available - defaulting to CPU. Note: This module is much faster with a GPU.\n"
     ]
    },
    {
     "name": "stdout",
     "output_type": "stream",
     "text": [
      "from image= ऋतु\n",
      "edit distance 1\n",
      "2\n",
      "D:/AUDataset/MYDataSet/Devanagari/Training_Doc_Devanagari\\img0005.png\n",
      "original= राहत\n"
     ]
    },
    {
     "name": "stderr",
     "output_type": "stream",
     "text": [
      "CUDA not available - defaulting to CPU. Note: This module is much faster with a GPU.\n"
     ]
    },
    {
     "name": "stdout",
     "output_type": "stream",
     "text": [
      "from image= राहत\n",
      "edit distance 0\n",
      "3\n",
      "D:/AUDataset/MYDataSet/Devanagari/Training_Doc_Devanagari\\img0006.png\n",
      "original= तकलीफ\n"
     ]
    },
    {
     "name": "stderr",
     "output_type": "stream",
     "text": [
      "CUDA not available - defaulting to CPU. Note: This module is much faster with a GPU.\n"
     ]
    },
    {
     "name": "stdout",
     "output_type": "stream",
     "text": [
      "from image= तकलीफ\n",
      "edit distance 0\n",
      "4\n",
      "D:/AUDataset/MYDataSet/Devanagari/Training_Doc_Devanagari\\img0007.png\n",
      "original= स्वागत\n"
     ]
    },
    {
     "name": "stderr",
     "output_type": "stream",
     "text": [
      "CUDA not available - defaulting to CPU. Note: This module is much faster with a GPU.\n"
     ]
    },
    {
     "name": "stdout",
     "output_type": "stream",
     "text": [
      "from image= स्वागत\n",
      "edit distance 0\n",
      "5\n",
      "D:/AUDataset/MYDataSet/Devanagari/Training_Doc_Devanagari\\img0008.png\n",
      "original= वातावरण\n"
     ]
    },
    {
     "name": "stderr",
     "output_type": "stream",
     "text": [
      "CUDA not available - defaulting to CPU. Note: This module is much faster with a GPU.\n"
     ]
    },
    {
     "name": "stdout",
     "output_type": "stream",
     "text": [
      "from image= वातावरण\n",
      "edit distance 0\n",
      "6\n",
      "D:/AUDataset/MYDataSet/Devanagari/Training_Doc_Devanagari\\img0009.png\n",
      "original= जन्तुओं\n"
     ]
    },
    {
     "name": "stderr",
     "output_type": "stream",
     "text": [
      "CUDA not available - defaulting to CPU. Note: This module is much faster with a GPU.\n"
     ]
    },
    {
     "name": "stdout",
     "output_type": "stream",
     "text": [
      "from image= जन्तुओं\n",
      "edit distance 0\n",
      "7\n",
      "D:/AUDataset/MYDataSet/Devanagari/Training_Doc_Devanagari\\img0010.png\n",
      "original= आसमान\n"
     ]
    },
    {
     "name": "stderr",
     "output_type": "stream",
     "text": [
      "CUDA not available - defaulting to CPU. Note: This module is much faster with a GPU.\n"
     ]
    },
    {
     "name": "stdout",
     "output_type": "stream",
     "text": [
      "from image= आसमान\n",
      "edit distance 0\n",
      "8\n",
      "D:/AUDataset/MYDataSet/Devanagari/Training_Doc_Devanagari\\img0011.png\n",
      "original= रात\n"
     ]
    },
    {
     "name": "stderr",
     "output_type": "stream",
     "text": [
      "CUDA not available - defaulting to CPU. Note: This module is much faster with a GPU.\n"
     ]
    },
    {
     "name": "stdout",
     "output_type": "stream",
     "text": [
      "D:/AUDataset/MYDataSet/Devanagari/Training_Doc_Devanagari\\img0012.png\n",
      "original= दिन\n"
     ]
    },
    {
     "name": "stderr",
     "output_type": "stream",
     "text": [
      "CUDA not available - defaulting to CPU. Note: This module is much faster with a GPU.\n"
     ]
    },
    {
     "name": "stdout",
     "output_type": "stream",
     "text": [
      "from image= दि\n",
      "edit distance 1\n",
      "3\n",
      "D:/AUDataset/MYDataSet/Devanagari/Training_Doc_Devanagari\\img0013.png\n",
      "original= खाना\n"
     ]
    },
    {
     "name": "stderr",
     "output_type": "stream",
     "text": [
      "CUDA not available - defaulting to CPU. Note: This module is much faster with a GPU.\n"
     ]
    },
    {
     "name": "stdout",
     "output_type": "stream",
     "text": [
      "from image= खाना\n",
      "edit distance 0\n",
      "9\n",
      "D:/AUDataset/MYDataSet/Devanagari/Training_Doc_Devanagari\\img0014.png\n",
      "original= निर्मला\n"
     ]
    },
    {
     "name": "stderr",
     "output_type": "stream",
     "text": [
      "CUDA not available - defaulting to CPU. Note: This module is much faster with a GPU.\n"
     ]
    },
    {
     "name": "stdout",
     "output_type": "stream",
     "text": [
      "from image= निर्मला\n",
      "edit distance 0\n",
      "10\n",
      "D:/AUDataset/MYDataSet/Devanagari/Training_Doc_Devanagari\\img0015.png\n",
      "original= प्रेमचंद\n"
     ]
    },
    {
     "name": "stderr",
     "output_type": "stream",
     "text": [
      "CUDA not available - defaulting to CPU. Note: This module is much faster with a GPU.\n"
     ]
    },
    {
     "name": "stdout",
     "output_type": "stream",
     "text": [
      "from image= प्रेमचंद\n",
      "edit distance 0\n",
      "11\n",
      "D:/AUDataset/MYDataSet/Devanagari/Training_Doc_Devanagari\\img0016.png\n",
      "original= समय\n"
     ]
    },
    {
     "name": "stderr",
     "output_type": "stream",
     "text": [
      "CUDA not available - defaulting to CPU. Note: This module is much faster with a GPU.\n"
     ]
    },
    {
     "name": "stdout",
     "output_type": "stream",
     "text": [
      "from image= समय\n",
      "edit distance 0\n",
      "12\n",
      "D:/AUDataset/MYDataSet/Devanagari/Training_Doc_Devanagari\\img0017.png\n",
      "original= पर\n"
     ]
    },
    {
     "name": "stderr",
     "output_type": "stream",
     "text": [
      "CUDA not available - defaulting to CPU. Note: This module is much faster with a GPU.\n"
     ]
    },
    {
     "name": "stdout",
     "output_type": "stream",
     "text": [
      "from image= पर\n",
      "edit distance 0\n",
      "13\n",
      "D:/AUDataset/MYDataSet/Devanagari/Training_Doc_Devanagari\\img0018.png\n",
      "original= चालक\n"
     ]
    },
    {
     "name": "stderr",
     "output_type": "stream",
     "text": [
      "CUDA not available - defaulting to CPU. Note: This module is much faster with a GPU.\n"
     ]
    },
    {
     "name": "stdout",
     "output_type": "stream",
     "text": [
      "from image= चालक\n",
      "edit distance 0\n",
      "14\n",
      "D:/AUDataset/MYDataSet/Devanagari/Training_Doc_Devanagari\\img0019.png\n",
      "original= प्रातःकाल\n"
     ]
    },
    {
     "name": "stderr",
     "output_type": "stream",
     "text": [
      "CUDA not available - defaulting to CPU. Note: This module is much faster with a GPU.\n"
     ]
    },
    {
     "name": "stdout",
     "output_type": "stream",
     "text": [
      "from image= प्रातःकाल\n",
      "edit distance 0\n",
      "15\n",
      "D:/AUDataset/MYDataSet/Devanagari/Training_Doc_Devanagari\\img0020.png\n",
      "original= विद्यालय\n"
     ]
    },
    {
     "name": "stderr",
     "output_type": "stream",
     "text": [
      "CUDA not available - defaulting to CPU. Note: This module is much faster with a GPU.\n"
     ]
    },
    {
     "name": "stdout",
     "output_type": "stream",
     "text": [
      "from image= विद्यालय\n",
      "edit distance 0\n",
      "16\n",
      "D:/AUDataset/MYDataSet/Devanagari/Training_Doc_Devanagari\\img0021.png\n",
      "original= समय\n"
     ]
    },
    {
     "name": "stderr",
     "output_type": "stream",
     "text": [
      "CUDA not available - defaulting to CPU. Note: This module is much faster with a GPU.\n"
     ]
    },
    {
     "name": "stdout",
     "output_type": "stream",
     "text": [
      "from image= समय\n",
      "edit distance 0\n",
      "17\n",
      "D:/AUDataset/MYDataSet/Devanagari/Training_Doc_Devanagari\\img0022.png\n",
      "original= स्नान\n"
     ]
    },
    {
     "name": "stderr",
     "output_type": "stream",
     "text": [
      "CUDA not available - defaulting to CPU. Note: This module is much faster with a GPU.\n"
     ]
    },
    {
     "name": "stdout",
     "output_type": "stream",
     "text": [
      "D:/AUDataset/MYDataSet/Devanagari/Training_Doc_Devanagari\\img0023.png\n",
      "original= खबरदार\n"
     ]
    },
    {
     "name": "stderr",
     "output_type": "stream",
     "text": [
      "CUDA not available - defaulting to CPU. Note: This module is much faster with a GPU.\n"
     ]
    },
    {
     "name": "stdout",
     "output_type": "stream",
     "text": [
      "from image= खबरदार\n",
      "edit distance 0\n",
      "18\n",
      "D:/AUDataset/MYDataSet/Devanagari/Training_Doc_Devanagari\\img0024.png\n",
      "original= सुधार\n"
     ]
    },
    {
     "name": "stderr",
     "output_type": "stream",
     "text": [
      "CUDA not available - defaulting to CPU. Note: This module is much faster with a GPU.\n"
     ]
    },
    {
     "name": "stdout",
     "output_type": "stream",
     "text": [
      "from image= सुधार\n",
      "edit distance 0\n",
      "19\n",
      "D:/AUDataset/MYDataSet/Devanagari/Training_Doc_Devanagari\\img0025.png\n",
      "original= करता\n"
     ]
    },
    {
     "name": "stderr",
     "output_type": "stream",
     "text": [
      "CUDA not available - defaulting to CPU. Note: This module is much faster with a GPU.\n"
     ]
    },
    {
     "name": "stdout",
     "output_type": "stream",
     "text": [
      "from image= करता\n",
      "edit distance 0\n",
      "20\n",
      "D:/AUDataset/MYDataSet/Devanagari/Training_Doc_Devanagari\\img0026.png\n",
      "original= दादी\n"
     ]
    },
    {
     "name": "stderr",
     "output_type": "stream",
     "text": [
      "CUDA not available - defaulting to CPU. Note: This module is much faster with a GPU.\n"
     ]
    },
    {
     "name": "stdout",
     "output_type": "stream",
     "text": [
      "from image= दादी\n",
      "edit distance 0\n",
      "21\n",
      "D:/AUDataset/MYDataSet/Devanagari/Training_Doc_Devanagari\\img0027.png\n",
      "original= समझ\n"
     ]
    },
    {
     "name": "stderr",
     "output_type": "stream",
     "text": [
      "CUDA not available - defaulting to CPU. Note: This module is much faster with a GPU.\n"
     ]
    },
    {
     "name": "stdout",
     "output_type": "stream",
     "text": [
      "from image= समझ\n",
      "edit distance 0\n",
      "22\n",
      "D:/AUDataset/MYDataSet/Devanagari/Training_Doc_Devanagari\\img0028.png\n",
      "original= चाहिए।\n"
     ]
    },
    {
     "name": "stderr",
     "output_type": "stream",
     "text": [
      "CUDA not available - defaulting to CPU. Note: This module is much faster with a GPU.\n"
     ]
    },
    {
     "name": "stdout",
     "output_type": "stream",
     "text": [
      "from image= चाहिए\n",
      "edit distance 1\n",
      "4\n",
      "D:/AUDataset/MYDataSet/Devanagari/Training_Doc_Devanagari\\img0029.png\n",
      "original= पिताजी\n"
     ]
    },
    {
     "name": "stderr",
     "output_type": "stream",
     "text": [
      "CUDA not available - defaulting to CPU. Note: This module is much faster with a GPU.\n"
     ]
    },
    {
     "name": "stdout",
     "output_type": "stream",
     "text": [
      "from image= पिताजी\n",
      "edit distance 0\n",
      "23\n",
      "D:/AUDataset/MYDataSet/Devanagari/Training_Doc_Devanagari\\img0030.png\n",
      "original= आशु\n"
     ]
    },
    {
     "name": "stderr",
     "output_type": "stream",
     "text": [
      "CUDA not available - defaulting to CPU. Note: This module is much faster with a GPU.\n"
     ]
    },
    {
     "name": "stdout",
     "output_type": "stream",
     "text": [
      "from image= आशु\n",
      "edit distance 0\n",
      "24\n",
      "D:/AUDataset/MYDataSet/Devanagari/Training_Doc_Devanagari\\img0031.png\n",
      "original= की\n"
     ]
    },
    {
     "name": "stderr",
     "output_type": "stream",
     "text": [
      "CUDA not available - defaulting to CPU. Note: This module is much faster with a GPU.\n"
     ]
    },
    {
     "name": "stdout",
     "output_type": "stream",
     "text": [
      "from image= को\n",
      "edit distance 1\n",
      "5\n",
      "D:/AUDataset/MYDataSet/Devanagari/Training_Doc_Devanagari\\img0032.png\n",
      "original= सायकिल\n"
     ]
    },
    {
     "name": "stderr",
     "output_type": "stream",
     "text": [
      "CUDA not available - defaulting to CPU. Note: This module is much faster with a GPU.\n"
     ]
    },
    {
     "name": "stdout",
     "output_type": "stream",
     "text": [
      "from image= सायकिल\n",
      "edit distance 0\n",
      "25\n",
      "D:/AUDataset/MYDataSet/Devanagari/Training_Doc_Devanagari\\img0033.png\n",
      "original= लोग\n"
     ]
    },
    {
     "name": "stderr",
     "output_type": "stream",
     "text": [
      "CUDA not available - defaulting to CPU. Note: This module is much faster with a GPU.\n"
     ]
    },
    {
     "name": "stdout",
     "output_type": "stream",
     "text": [
      "from image= लोग\n",
      "edit distance 0\n",
      "26\n",
      "D:/AUDataset/MYDataSet/Devanagari/Training_Doc_Devanagari\\img0034.png\n",
      "original= सायकिल\n"
     ]
    },
    {
     "name": "stderr",
     "output_type": "stream",
     "text": [
      "CUDA not available - defaulting to CPU. Note: This module is much faster with a GPU.\n"
     ]
    },
    {
     "name": "stdout",
     "output_type": "stream",
     "text": [
      "from image= सायकिल\n",
      "edit distance 0\n",
      "27\n",
      "D:/AUDataset/MYDataSet/Devanagari/Training_Doc_Devanagari\\img0035.png\n",
      "original= आशु\n"
     ]
    },
    {
     "name": "stderr",
     "output_type": "stream",
     "text": [
      "CUDA not available - defaulting to CPU. Note: This module is much faster with a GPU.\n"
     ]
    },
    {
     "name": "stdout",
     "output_type": "stream",
     "text": [
      "from image= आशु\n",
      "edit distance 0\n",
      "28\n",
      "D:/AUDataset/MYDataSet/Devanagari/Training_Doc_Devanagari\\img0036.png\n",
      "original= नानाजी\n"
     ]
    },
    {
     "name": "stderr",
     "output_type": "stream",
     "text": [
      "CUDA not available - defaulting to CPU. Note: This module is much faster with a GPU.\n"
     ]
    },
    {
     "name": "stdout",
     "output_type": "stream",
     "text": [
      "from image= नानाजी\n",
      "edit distance 0\n",
      "29\n",
      "D:/AUDataset/MYDataSet/Devanagari/Training_Doc_Devanagari\\img0037.png\n",
      "original= सायकिल\n"
     ]
    },
    {
     "name": "stderr",
     "output_type": "stream",
     "text": [
      "CUDA not available - defaulting to CPU. Note: This module is much faster with a GPU.\n"
     ]
    },
    {
     "name": "stdout",
     "output_type": "stream",
     "text": [
      "from image= सायकिल\n",
      "edit distance 0\n",
      "30\n",
      "D:/AUDataset/MYDataSet/Devanagari/Training_Doc_Devanagari\\img0038.png\n",
      "original= मामा\n"
     ]
    },
    {
     "name": "stderr",
     "output_type": "stream",
     "text": [
      "CUDA not available - defaulting to CPU. Note: This module is much faster with a GPU.\n"
     ]
    },
    {
     "name": "stdout",
     "output_type": "stream",
     "text": [
      "from image= मामा\n",
      "edit distance 0\n",
      "31\n",
      "D:/AUDataset/MYDataSet/Devanagari/Training_Doc_Devanagari\\img0039.png\n",
      "original= कहते\n"
     ]
    },
    {
     "name": "stderr",
     "output_type": "stream",
     "text": [
      "CUDA not available - defaulting to CPU. Note: This module is much faster with a GPU.\n"
     ]
    },
    {
     "name": "stdout",
     "output_type": "stream",
     "text": [
      "from image= कहत\n",
      "edit distance 1\n",
      "6\n",
      "D:/AUDataset/MYDataSet/Devanagari/Training_Doc_Devanagari\\img0040.png\n",
      "original= सायकिल\n"
     ]
    },
    {
     "name": "stderr",
     "output_type": "stream",
     "text": [
      "CUDA not available - defaulting to CPU. Note: This module is much faster with a GPU.\n"
     ]
    },
    {
     "name": "stdout",
     "output_type": "stream",
     "text": [
      "from image= सायकिल\n",
      "edit distance 0\n",
      "32\n",
      "D:/AUDataset/MYDataSet/Devanagari/Training_Doc_Devanagari\\img0041.png\n",
      "original= मिनट\n"
     ]
    },
    {
     "name": "stderr",
     "output_type": "stream",
     "text": [
      "CUDA not available - defaulting to CPU. Note: This module is much faster with a GPU.\n"
     ]
    },
    {
     "name": "stdout",
     "output_type": "stream",
     "text": [
      "from image= मिनट\n",
      "edit distance 0\n",
      "33\n",
      "D:/AUDataset/MYDataSet/Devanagari/Training_Doc_Devanagari\\img0042.png\n",
      "original= कोलकाता\n"
     ]
    },
    {
     "name": "stderr",
     "output_type": "stream",
     "text": [
      "CUDA not available - defaulting to CPU. Note: This module is much faster with a GPU.\n"
     ]
    },
    {
     "name": "stdout",
     "output_type": "stream",
     "text": [
      "from image= कोलकाता\n",
      "edit distance 0\n",
      "34\n",
      "D:/AUDataset/MYDataSet/Devanagari/Training_Doc_Devanagari\\img0043.png\n",
      "original= तुम\n"
     ]
    },
    {
     "name": "stderr",
     "output_type": "stream",
     "text": [
      "CUDA not available - defaulting to CPU. Note: This module is much faster with a GPU.\n"
     ]
    },
    {
     "name": "stdout",
     "output_type": "stream",
     "text": [
      "D:/AUDataset/MYDataSet/Devanagari/Training_Doc_Devanagari\\img0044.png\n",
      "original= आज\n"
     ]
    },
    {
     "name": "stderr",
     "output_type": "stream",
     "text": [
      "CUDA not available - defaulting to CPU. Note: This module is much faster with a GPU.\n"
     ]
    },
    {
     "name": "stdout",
     "output_type": "stream",
     "text": [
      "from image= आज\n",
      "edit distance 0\n",
      "35\n",
      "D:/AUDataset/MYDataSet/Devanagari/Training_Doc_Devanagari\\img0045.png\n",
      "original= नाश्ता\n"
     ]
    },
    {
     "name": "stderr",
     "output_type": "stream",
     "text": [
      "CUDA not available - defaulting to CPU. Note: This module is much faster with a GPU.\n"
     ]
    },
    {
     "name": "stdout",
     "output_type": "stream",
     "text": [
      "from image= नाश्ता\n",
      "edit distance 0\n",
      "36\n",
      "D:/AUDataset/MYDataSet/Devanagari/Training_Doc_Devanagari\\img0046.png\n",
      "original= पूछती\n"
     ]
    },
    {
     "name": "stderr",
     "output_type": "stream",
     "text": [
      "CUDA not available - defaulting to CPU. Note: This module is much faster with a GPU.\n"
     ]
    },
    {
     "name": "stdout",
     "output_type": "stream",
     "text": [
      "from image= पूछती\n",
      "edit distance 0\n",
      "37\n",
      "D:/AUDataset/MYDataSet/Devanagari/Training_Doc_Devanagari\\img0047.png\n",
      "original= बजकर\n"
     ]
    },
    {
     "name": "stderr",
     "output_type": "stream",
     "text": [
      "CUDA not available - defaulting to CPU. Note: This module is much faster with a GPU.\n"
     ]
    },
    {
     "name": "stdout",
     "output_type": "stream",
     "text": [
      "from image= बजकर\n",
      "edit distance 0\n",
      "38\n",
      "D:/AUDataset/MYDataSet/Devanagari/Training_Doc_Devanagari\\img0048.png\n",
      "original= तबतक\n"
     ]
    },
    {
     "name": "stderr",
     "output_type": "stream",
     "text": [
      "CUDA not available - defaulting to CPU. Note: This module is much faster with a GPU.\n"
     ]
    },
    {
     "name": "stdout",
     "output_type": "stream",
     "text": [
      "from image= तबतक\n",
      "edit distance 0\n",
      "39\n",
      "D:/AUDataset/MYDataSet/Devanagari/Training_Doc_Devanagari\\img0049.png\n",
      "original= तुम्हारे\n"
     ]
    },
    {
     "name": "stderr",
     "output_type": "stream",
     "text": [
      "CUDA not available - defaulting to CPU. Note: This module is much faster with a GPU.\n"
     ]
    },
    {
     "name": "stdout",
     "output_type": "stream",
     "text": [
      "from image= तूम्हार\n",
      "edit distance 2\n",
      "1\n",
      "D:/AUDataset/MYDataSet/Devanagari/Training_Doc_Devanagari\\img0050.png\n",
      "original= कभी\n"
     ]
    },
    {
     "name": "stderr",
     "output_type": "stream",
     "text": [
      "CUDA not available - defaulting to CPU. Note: This module is much faster with a GPU.\n"
     ]
    },
    {
     "name": "stdout",
     "output_type": "stream",
     "text": [
      "from image= कभो\n",
      "edit distance 1\n",
      "7\n",
      "D:/AUDataset/MYDataSet/Devanagari/Training_Doc_Devanagari\\img0051.png\n",
      "original= झल्ला\n"
     ]
    },
    {
     "name": "stderr",
     "output_type": "stream",
     "text": [
      "CUDA not available - defaulting to CPU. Note: This module is much faster with a GPU.\n"
     ]
    },
    {
     "name": "stdout",
     "output_type": "stream",
     "text": [
      "from image= झल्ल\n",
      "edit distance 1\n",
      "8\n",
      "D:/AUDataset/MYDataSet/Devanagari/Training_Doc_Devanagari\\img0052.png\n",
      "original= पिताजी\n"
     ]
    },
    {
     "name": "stderr",
     "output_type": "stream",
     "text": [
      "CUDA not available - defaulting to CPU. Note: This module is much faster with a GPU.\n"
     ]
    },
    {
     "name": "stdout",
     "output_type": "stream",
     "text": [
      "from image= पिताजी\n",
      "edit distance 0\n",
      "40\n",
      "D:/AUDataset/MYDataSet/Devanagari/Training_Doc_Devanagari\\img0053.png\n",
      "original= तैयारी\n"
     ]
    },
    {
     "name": "stderr",
     "output_type": "stream",
     "text": [
      "CUDA not available - defaulting to CPU. Note: This module is much faster with a GPU.\n"
     ]
    },
    {
     "name": "stdout",
     "output_type": "stream",
     "text": [
      "from image= तैयारी\n",
      "edit distance 0\n",
      "41\n",
      "D:/AUDataset/MYDataSet/Devanagari/Training_Doc_Devanagari\\img0054.png\n",
      "original= जन्मदिवस\n"
     ]
    },
    {
     "name": "stderr",
     "output_type": "stream",
     "text": [
      "CUDA not available - defaulting to CPU. Note: This module is much faster with a GPU.\n"
     ]
    },
    {
     "name": "stdout",
     "output_type": "stream",
     "text": [
      "from image= जन्मदवस\n",
      "edit distance 1\n",
      "9\n",
      "D:/AUDataset/MYDataSet/Devanagari/Training_Doc_Devanagari\\img0055.png\n",
      "original= आना।\n"
     ]
    },
    {
     "name": "stderr",
     "output_type": "stream",
     "text": [
      "CUDA not available - defaulting to CPU. Note: This module is much faster with a GPU.\n"
     ]
    },
    {
     "name": "stdout",
     "output_type": "stream",
     "text": [
      "from image= आना\n",
      "edit distance 1\n",
      "10\n",
      "D:/AUDataset/MYDataSet/Devanagari/Training_Doc_Devanagari\\img0056.png\n",
      "original= बिल्ली\n"
     ]
    },
    {
     "name": "stderr",
     "output_type": "stream",
     "text": [
      "CUDA not available - defaulting to CPU. Note: This module is much faster with a GPU.\n"
     ]
    },
    {
     "name": "stdout",
     "output_type": "stream",
     "text": [
      "from image= बिल्ली\n",
      "edit distance 0\n",
      "42\n",
      "D:/AUDataset/MYDataSet/Devanagari/Training_Doc_Devanagari\\img0057.png\n",
      "original= बडी\n"
     ]
    },
    {
     "name": "stderr",
     "output_type": "stream",
     "text": [
      "CUDA not available - defaulting to CPU. Note: This module is much faster with a GPU.\n"
     ]
    },
    {
     "name": "stdout",
     "output_type": "stream",
     "text": [
      "from image= बड\n",
      "edit distance 1\n",
      "11\n",
      "D:/AUDataset/MYDataSet/Devanagari/Training_Doc_Devanagari\\img0058.png\n",
      "original= शैतान\n"
     ]
    },
    {
     "name": "stderr",
     "output_type": "stream",
     "text": [
      "CUDA not available - defaulting to CPU. Note: This module is much faster with a GPU.\n"
     ]
    },
    {
     "name": "stdout",
     "output_type": "stream",
     "text": [
      "from image= शैतान\n",
      "edit distance 0\n",
      "43\n",
      "D:/AUDataset/MYDataSet/Devanagari/Training_Doc_Devanagari\\img0059.png\n",
      "original= पास\n"
     ]
    },
    {
     "name": "stderr",
     "output_type": "stream",
     "text": [
      "CUDA not available - defaulting to CPU. Note: This module is much faster with a GPU.\n"
     ]
    },
    {
     "name": "stdout",
     "output_type": "stream",
     "text": [
      "from image= पास\n",
      "edit distance 0\n",
      "44\n",
      "D:/AUDataset/MYDataSet/Devanagari/Training_Doc_Devanagari\\img0060.png\n",
      "original= रहती\n"
     ]
    },
    {
     "name": "stderr",
     "output_type": "stream",
     "text": [
      "CUDA not available - defaulting to CPU. Note: This module is much faster with a GPU.\n"
     ]
    },
    {
     "name": "stdout",
     "output_type": "stream",
     "text": [
      "from image= रहती\n",
      "edit distance 0\n",
      "45\n",
      "D:/AUDataset/MYDataSet/Devanagari/Training_Doc_Devanagari\\img0061.png\n",
      "original= रहती\n"
     ]
    },
    {
     "name": "stderr",
     "output_type": "stream",
     "text": [
      "CUDA not available - defaulting to CPU. Note: This module is much faster with a GPU.\n"
     ]
    },
    {
     "name": "stdout",
     "output_type": "stream",
     "text": [
      "from image= रहता\n",
      "edit distance 1\n",
      "12\n",
      "D:/AUDataset/MYDataSet/Devanagari/Training_Doc_Devanagari\\img0062.png\n",
      "original= भरने\n"
     ]
    },
    {
     "name": "stderr",
     "output_type": "stream",
     "text": [
      "CUDA not available - defaulting to CPU. Note: This module is much faster with a GPU.\n"
     ]
    },
    {
     "name": "stdout",
     "output_type": "stream",
     "text": [
      "from image= भरने\n",
      "edit distance 0\n",
      "46\n",
      "D:/AUDataset/MYDataSet/Devanagari/Training_Doc_Devanagari\\img0063.png\n",
      "original= जाने\n"
     ]
    },
    {
     "name": "stderr",
     "output_type": "stream",
     "text": [
      "CUDA not available - defaulting to CPU. Note: This module is much faster with a GPU.\n"
     ]
    },
    {
     "name": "stdout",
     "output_type": "stream",
     "text": [
      "D:/AUDataset/MYDataSet/Devanagari/Training_Doc_Devanagari\\img0064.png\n",
      "original= दबोचे\n"
     ]
    },
    {
     "name": "stderr",
     "output_type": "stream",
     "text": [
      "CUDA not available - defaulting to CPU. Note: This module is much faster with a GPU.\n"
     ]
    },
    {
     "name": "stdout",
     "output_type": "stream",
     "text": [
      "from image= दबाच\n",
      "edit distance 2\n",
      "2\n",
      "D:/AUDataset/MYDataSet/Devanagari/Training_Doc_Devanagari\\img0065.png\n",
      "original= का\n"
     ]
    },
    {
     "name": "stderr",
     "output_type": "stream",
     "text": [
      "CUDA not available - defaulting to CPU. Note: This module is much faster with a GPU.\n"
     ]
    },
    {
     "name": "stdout",
     "output_type": "stream",
     "text": [
      "from image= का\n",
      "edit distance 0\n",
      "47\n",
      "D:/AUDataset/MYDataSet/Devanagari/Training_Doc_Devanagari\\img0066.png\n",
      "original= अनार\n"
     ]
    },
    {
     "name": "stderr",
     "output_type": "stream",
     "text": [
      "CUDA not available - defaulting to CPU. Note: This module is much faster with a GPU.\n"
     ]
    },
    {
     "name": "stdout",
     "output_type": "stream",
     "text": [
      "from image= अनार\n",
      "edit distance 0\n",
      "48\n",
      "D:/AUDataset/MYDataSet/Devanagari/Training_Doc_Devanagari\\img0067.png\n",
      "original= जाओ\n"
     ]
    },
    {
     "name": "stderr",
     "output_type": "stream",
     "text": [
      "CUDA not available - defaulting to CPU. Note: This module is much faster with a GPU.\n"
     ]
    },
    {
     "name": "stdout",
     "output_type": "stream",
     "text": [
      "from image= जाआ\n",
      "edit distance 1\n",
      "13\n",
      "D:/AUDataset/MYDataSet/Devanagari/Training_Doc_Devanagari\\img0068.png\n",
      "original= लोग\n"
     ]
    },
    {
     "name": "stderr",
     "output_type": "stream",
     "text": [
      "CUDA not available - defaulting to CPU. Note: This module is much faster with a GPU.\n"
     ]
    },
    {
     "name": "stdout",
     "output_type": "stream",
     "text": [
      "from image= लाग\n",
      "edit distance 1\n",
      "14\n",
      "D:/AUDataset/MYDataSet/Devanagari/Training_Doc_Devanagari\\img0069.png\n",
      "original= नेताजी\n"
     ]
    },
    {
     "name": "stderr",
     "output_type": "stream",
     "text": [
      "CUDA not available - defaulting to CPU. Note: This module is much faster with a GPU.\n"
     ]
    },
    {
     "name": "stdout",
     "output_type": "stream",
     "text": [
      "from image= नेताजी\n",
      "edit distance 0\n",
      "49\n",
      "D:/AUDataset/MYDataSet/Devanagari/Training_Doc_Devanagari\\img0070.png\n",
      "original= दरवाजे\n"
     ]
    },
    {
     "name": "stderr",
     "output_type": "stream",
     "text": [
      "CUDA not available - defaulting to CPU. Note: This module is much faster with a GPU.\n"
     ]
    },
    {
     "name": "stdout",
     "output_type": "stream",
     "text": [
      "from image= दरवाज\n",
      "edit distance 1\n",
      "15\n",
      "D:/AUDataset/MYDataSet/Devanagari/Training_Doc_Devanagari\\img0071.png\n",
      "original= किल्ली\n"
     ]
    },
    {
     "name": "stderr",
     "output_type": "stream",
     "text": [
      "CUDA not available - defaulting to CPU. Note: This module is much faster with a GPU.\n"
     ]
    },
    {
     "name": "stdout",
     "output_type": "stream",
     "text": [
      "from image= किल्लो\n",
      "edit distance 1\n",
      "16\n",
      "D:/AUDataset/MYDataSet/Devanagari/Training_Doc_Devanagari\\img0072.png\n",
      "original= आजादी\n"
     ]
    },
    {
     "name": "stderr",
     "output_type": "stream",
     "text": [
      "CUDA not available - defaulting to CPU. Note: This module is much faster with a GPU.\n"
     ]
    },
    {
     "name": "stdout",
     "output_type": "stream",
     "text": [
      "from image= आजादी\n",
      "edit distance 0\n",
      "50\n",
      "D:/AUDataset/MYDataSet/Devanagari/Training_Doc_Devanagari\\img0073.png\n",
      "original= जशन\n"
     ]
    },
    {
     "name": "stderr",
     "output_type": "stream",
     "text": [
      "CUDA not available - defaulting to CPU. Note: This module is much faster with a GPU.\n"
     ]
    },
    {
     "name": "stdout",
     "output_type": "stream",
     "text": [
      "D:/AUDataset/MYDataSet/Devanagari/Training_Doc_Devanagari\\img0074.png\n",
      "original= भाजपा\n"
     ]
    },
    {
     "name": "stderr",
     "output_type": "stream",
     "text": [
      "CUDA not available - defaulting to CPU. Note: This module is much faster with a GPU.\n"
     ]
    },
    {
     "name": "stdout",
     "output_type": "stream",
     "text": [
      "from image= भाजपा\n",
      "edit distance 0\n",
      "51\n",
      "D:/AUDataset/MYDataSet/Devanagari/Training_Doc_Devanagari\\img0075.png\n",
      "original= और\n"
     ]
    },
    {
     "name": "stderr",
     "output_type": "stream",
     "text": [
      "CUDA not available - defaulting to CPU. Note: This module is much faster with a GPU.\n"
     ]
    },
    {
     "name": "stdout",
     "output_type": "stream",
     "text": [
      "from image= और\n",
      "edit distance 0\n",
      "52\n",
      "D:/AUDataset/MYDataSet/Devanagari/Training_Doc_Devanagari\\img0076.png\n",
      "original= वज़न\n"
     ]
    },
    {
     "name": "stderr",
     "output_type": "stream",
     "text": [
      "CUDA not available - defaulting to CPU. Note: This module is much faster with a GPU.\n"
     ]
    },
    {
     "name": "stdout",
     "output_type": "stream",
     "text": [
      "from image= वज़न\n",
      "edit distance 2\n",
      "3\n",
      "D:/AUDataset/MYDataSet/Devanagari/Training_Doc_Devanagari\\img0077.png\n",
      "original= मगरमच्छ\n"
     ]
    },
    {
     "name": "stderr",
     "output_type": "stream",
     "text": [
      "CUDA not available - defaulting to CPU. Note: This module is much faster with a GPU.\n"
     ]
    },
    {
     "name": "stdout",
     "output_type": "stream",
     "text": [
      "from image= मगरमच्छ\n",
      "edit distance 0\n",
      "53\n",
      "D:/AUDataset/MYDataSet/Devanagari/Training_Doc_Devanagari\\img0078.png\n",
      "original= स्खा\n"
     ]
    },
    {
     "name": "stderr",
     "output_type": "stream",
     "text": [
      "CUDA not available - defaulting to CPU. Note: This module is much faster with a GPU.\n"
     ]
    },
    {
     "name": "stdout",
     "output_type": "stream",
     "text": [
      "from image= रखा\n",
      "edit distance 2\n",
      "4\n",
      "D:/AUDataset/MYDataSet/Devanagari/Training_Doc_Devanagari\\img0079.png\n",
      "original= मित्रता\n"
     ]
    },
    {
     "name": "stderr",
     "output_type": "stream",
     "text": [
      "CUDA not available - defaulting to CPU. Note: This module is much faster with a GPU.\n"
     ]
    },
    {
     "name": "stdout",
     "output_type": "stream",
     "text": [
      "from image= मित्रता\n",
      "edit distance 0\n",
      "54\n",
      "D:/AUDataset/MYDataSet/Devanagari/Training_Doc_Devanagari\\img0080.png\n",
      "original= अतुराई\n"
     ]
    },
    {
     "name": "stderr",
     "output_type": "stream",
     "text": [
      "CUDA not available - defaulting to CPU. Note: This module is much faster with a GPU.\n"
     ]
    },
    {
     "name": "stdout",
     "output_type": "stream",
     "text": [
      "from image= चतुराइ\n",
      "edit distance 2\n",
      "5\n",
      "D:/AUDataset/MYDataSet/Devanagari/Training_Doc_Devanagari\\img0081.png\n",
      "original= ताकत\n"
     ]
    },
    {
     "name": "stderr",
     "output_type": "stream",
     "text": [
      "CUDA not available - defaulting to CPU. Note: This module is much faster with a GPU.\n"
     ]
    },
    {
     "name": "stdout",
     "output_type": "stream",
     "text": [
      "from image= ताकत\n",
      "edit distance 0\n",
      "55\n",
      "D:/AUDataset/MYDataSet/Devanagari/Training_Doc_Devanagari\\img0082.png\n",
      "original= आनन्द\n"
     ]
    },
    {
     "name": "stderr",
     "output_type": "stream",
     "text": [
      "CUDA not available - defaulting to CPU. Note: This module is much faster with a GPU.\n"
     ]
    },
    {
     "name": "stdout",
     "output_type": "stream",
     "text": [
      "from image= आनन्ट\n",
      "edit distance 1\n",
      "17\n",
      "D:/AUDataset/MYDataSet/Devanagari/Training_Doc_Devanagari\\img0083.png\n",
      "original= मूर्ख\n"
     ]
    },
    {
     "name": "stderr",
     "output_type": "stream",
     "text": [
      "CUDA not available - defaulting to CPU. Note: This module is much faster with a GPU.\n"
     ]
    },
    {
     "name": "stdout",
     "output_type": "stream",
     "text": [
      "from image= मर्ख\n",
      "edit distance 1\n",
      "18\n",
      "D:/AUDataset/MYDataSet/Devanagari/Training_Doc_Devanagari\\img0084.png\n",
      "original= निर्दय\n"
     ]
    },
    {
     "name": "stderr",
     "output_type": "stream",
     "text": [
      "CUDA not available - defaulting to CPU. Note: This module is much faster with a GPU.\n"
     ]
    },
    {
     "name": "stdout",
     "output_type": "stream",
     "text": [
      "from image= निर्दय\n",
      "edit distance 0\n",
      "56\n",
      "D:/AUDataset/MYDataSet/Devanagari/Training_Doc_Devanagari\\img0085.png\n",
      "original= तुरन्त\n"
     ]
    },
    {
     "name": "stderr",
     "output_type": "stream",
     "text": [
      "CUDA not available - defaulting to CPU. Note: This module is much faster with a GPU.\n"
     ]
    },
    {
     "name": "stdout",
     "output_type": "stream",
     "text": [
      "D:/AUDataset/MYDataSet/Devanagari/Training_Doc_Devanagari\\img0086.png\n",
      "original= साहस\n"
     ]
    },
    {
     "name": "stderr",
     "output_type": "stream",
     "text": [
      "CUDA not available - defaulting to CPU. Note: This module is much faster with a GPU.\n"
     ]
    },
    {
     "name": "stdout",
     "output_type": "stream",
     "text": [
      "from image= साहस\n",
      "edit distance 0\n",
      "57\n",
      "D:/AUDataset/MYDataSet/Devanagari/Training_Doc_Devanagari\\img0087.png\n",
      "original= नए\n"
     ]
    },
    {
     "name": "stderr",
     "output_type": "stream",
     "text": [
      "CUDA not available - defaulting to CPU. Note: This module is much faster with a GPU.\n"
     ]
    },
    {
     "name": "stdout",
     "output_type": "stream",
     "text": [
      "from image= नए\n",
      "edit distance 0\n",
      "58\n",
      "D:/AUDataset/MYDataSet/Devanagari/Training_Doc_Devanagari\\img0088.png\n",
      "original= बढ़ाए\n"
     ]
    },
    {
     "name": "stderr",
     "output_type": "stream",
     "text": [
      "CUDA not available - defaulting to CPU. Note: This module is much faster with a GPU.\n"
     ]
    },
    {
     "name": "stdout",
     "output_type": "stream",
     "text": [
      "from image= बढाए\n",
      "edit distance 1\n",
      "19\n",
      "D:/AUDataset/MYDataSet/Devanagari/Training_Doc_Devanagari\\img0089.png\n",
      "original= काली\n"
     ]
    },
    {
     "name": "stderr",
     "output_type": "stream",
     "text": [
      "CUDA not available - defaulting to CPU. Note: This module is much faster with a GPU.\n"
     ]
    },
    {
     "name": "stdout",
     "output_type": "stream",
     "text": [
      "from image= काली\n",
      "edit distance 0\n",
      "59\n",
      "D:/AUDataset/MYDataSet/Devanagari/Training_Doc_Devanagari\\img0090.png\n",
      "original= देश\n"
     ]
    },
    {
     "name": "stderr",
     "output_type": "stream",
     "text": [
      "CUDA not available - defaulting to CPU. Note: This module is much faster with a GPU.\n"
     ]
    },
    {
     "name": "stdout",
     "output_type": "stream",
     "text": [
      "from image= देश\n",
      "edit distance 0\n",
      "60\n",
      "D:/AUDataset/MYDataSet/Devanagari/Training_Doc_Devanagari\\img0091.png\n",
      "original= ले\n"
     ]
    },
    {
     "name": "stderr",
     "output_type": "stream",
     "text": [
      "CUDA not available - defaulting to CPU. Note: This module is much faster with a GPU.\n"
     ]
    },
    {
     "name": "stdout",
     "output_type": "stream",
     "text": [
      "from image= ले\n",
      "edit distance 0\n",
      "61\n",
      "D:/AUDataset/MYDataSet/Devanagari/Training_Doc_Devanagari\\img0092.png\n",
      "original= आत्मविश्वास\n"
     ]
    },
    {
     "name": "stderr",
     "output_type": "stream",
     "text": [
      "CUDA not available - defaulting to CPU. Note: This module is much faster with a GPU.\n"
     ]
    },
    {
     "name": "stdout",
     "output_type": "stream",
     "text": [
      "from image= आत्मविश्वास\n",
      "edit distance 0\n",
      "62\n",
      "D:/AUDataset/MYDataSet/Devanagari/Training_Doc_Devanagari\\img0093.png\n",
      "original= जगाए\n"
     ]
    },
    {
     "name": "stderr",
     "output_type": "stream",
     "text": [
      "CUDA not available - defaulting to CPU. Note: This module is much faster with a GPU.\n"
     ]
    },
    {
     "name": "stdout",
     "output_type": "stream",
     "text": [
      "from image= जगाए\n",
      "edit distance 0\n",
      "63\n",
      "D:/AUDataset/MYDataSet/Devanagari/Training_Doc_Devanagari\\img0094.png\n",
      "original= दहशत\n"
     ]
    },
    {
     "name": "stderr",
     "output_type": "stream",
     "text": [
      "CUDA not available - defaulting to CPU. Note: This module is much faster with a GPU.\n"
     ]
    },
    {
     "name": "stdout",
     "output_type": "stream",
     "text": [
      "from image= दहशत\n",
      "edit distance 0\n",
      "64\n",
      "D:/AUDataset/MYDataSet/Devanagari/Training_Doc_Devanagari\\img0095.png\n",
      "original= थावे\n"
     ]
    },
    {
     "name": "stderr",
     "output_type": "stream",
     "text": [
      "CUDA not available - defaulting to CPU. Note: This module is much faster with a GPU.\n"
     ]
    },
    {
     "name": "stdout",
     "output_type": "stream",
     "text": [
      "from image= थावे\n",
      "edit distance 0\n",
      "65\n",
      "D:/AUDataset/MYDataSet/Devanagari/Training_Doc_Devanagari\\img0096.png\n",
      "original= वादा\n"
     ]
    },
    {
     "name": "stderr",
     "output_type": "stream",
     "text": [
      "CUDA not available - defaulting to CPU. Note: This module is much faster with a GPU.\n"
     ]
    },
    {
     "name": "stdout",
     "output_type": "stream",
     "text": [
      "from image= वादा\n",
      "edit distance 0\n",
      "66\n",
      "D:/AUDataset/MYDataSet/Devanagari/Training_Doc_Devanagari\\img0097.png\n",
      "original= आम\n"
     ]
    },
    {
     "name": "stderr",
     "output_type": "stream",
     "text": [
      "CUDA not available - defaulting to CPU. Note: This module is much faster with a GPU.\n"
     ]
    },
    {
     "name": "stdout",
     "output_type": "stream",
     "text": [
      "from image= आम\n",
      "edit distance 0\n",
      "67\n",
      "D:/AUDataset/MYDataSet/Devanagari/Training_Doc_Devanagari\\img0098.png\n",
      "original= बुनियादी\n"
     ]
    },
    {
     "name": "stderr",
     "output_type": "stream",
     "text": [
      "CUDA not available - defaulting to CPU. Note: This module is much faster with a GPU.\n"
     ]
    },
    {
     "name": "stdout",
     "output_type": "stream",
     "text": [
      "from image= बुनियादी\n",
      "edit distance 0\n",
      "68\n",
      "D:/AUDataset/MYDataSet/Devanagari/Training_Doc_Devanagari\\img0099.png\n",
      "original= घटाएँ\n"
     ]
    },
    {
     "name": "stderr",
     "output_type": "stream",
     "text": [
      "CUDA not available - defaulting to CPU. Note: This module is much faster with a GPU.\n"
     ]
    },
    {
     "name": "stdout",
     "output_type": "stream",
     "text": [
      "from image= घटाएँ\n",
      "edit distance 0\n",
      "69\n",
      "D:/AUDataset/MYDataSet/Devanagari/Training_Doc_Devanagari\\img0100.png\n",
      "original= स्कूल\n"
     ]
    },
    {
     "name": "stderr",
     "output_type": "stream",
     "text": [
      "CUDA not available - defaulting to CPU. Note: This module is much faster with a GPU.\n"
     ]
    },
    {
     "name": "stdout",
     "output_type": "stream",
     "text": [
      "from image= स्कूल\n",
      "edit distance 0\n",
      "70\n",
      "D:/AUDataset/MYDataSet/Devanagari/Training_Doc_Devanagari\\img0101.png\n",
      "original= आगजनी\n"
     ]
    },
    {
     "name": "stderr",
     "output_type": "stream",
     "text": [
      "CUDA not available - defaulting to CPU. Note: This module is much faster with a GPU.\n"
     ]
    },
    {
     "name": "stdout",
     "output_type": "stream",
     "text": [
      "from image= आगजनी\n",
      "edit distance 0\n",
      "71\n",
      "D:/AUDataset/MYDataSet/Devanagari/Training_Doc_Devanagari\\img0102.png\n",
      "original= बिहार\n"
     ]
    },
    {
     "name": "stderr",
     "output_type": "stream",
     "text": [
      "CUDA not available - defaulting to CPU. Note: This module is much faster with a GPU.\n"
     ]
    },
    {
     "name": "stdout",
     "output_type": "stream",
     "text": [
      "from image= बिहार\n",
      "edit distance 0\n",
      "72\n",
      "D:/AUDataset/MYDataSet/Devanagari/Training_Doc_Devanagari\\img0103.png\n",
      "original= मुखीया\n"
     ]
    },
    {
     "name": "stderr",
     "output_type": "stream",
     "text": [
      "CUDA not available - defaulting to CPU. Note: This module is much faster with a GPU.\n"
     ]
    },
    {
     "name": "stdout",
     "output_type": "stream",
     "text": [
      "from image= मुखिया\n",
      "edit distance 1\n",
      "20\n",
      "D:/AUDataset/MYDataSet/Devanagari/Training_Doc_Devanagari\\img0104.png\n",
      "original= विदेश\n"
     ]
    },
    {
     "name": "stderr",
     "output_type": "stream",
     "text": [
      "CUDA not available - defaulting to CPU. Note: This module is much faster with a GPU.\n"
     ]
    },
    {
     "name": "stdout",
     "output_type": "stream",
     "text": [
      "from image= विदेश\n",
      "edit distance 0\n",
      "73\n",
      "D:/AUDataset/MYDataSet/Devanagari/Training_Doc_Devanagari\\img0105.png\n",
      "original= जाते\n"
     ]
    },
    {
     "name": "stderr",
     "output_type": "stream",
     "text": [
      "CUDA not available - defaulting to CPU. Note: This module is much faster with a GPU.\n"
     ]
    },
    {
     "name": "stdout",
     "output_type": "stream",
     "text": [
      "from image= जाते\n",
      "edit distance 0\n",
      "74\n",
      "D:/AUDataset/MYDataSet/Devanagari/Training_Doc_Devanagari\\img0106.png\n",
      "original= दिनदहाड़े\n"
     ]
    },
    {
     "name": "stderr",
     "output_type": "stream",
     "text": [
      "CUDA not available - defaulting to CPU. Note: This module is much faster with a GPU.\n"
     ]
    },
    {
     "name": "stdout",
     "output_type": "stream",
     "text": [
      "from image= दिनदहाड़े\n",
      "edit distance 2\n",
      "6\n",
      "D:/AUDataset/MYDataSet/Devanagari/Training_Doc_Devanagari\\img0107.png\n",
      "original= गोलियों\n"
     ]
    },
    {
     "name": "stderr",
     "output_type": "stream",
     "text": [
      "CUDA not available - defaulting to CPU. Note: This module is much faster with a GPU.\n"
     ]
    },
    {
     "name": "stdout",
     "output_type": "stream",
     "text": [
      "from image= गोलियों\n",
      "edit distance 0\n",
      "75\n",
      "D:/AUDataset/MYDataSet/Devanagari/Training_Doc_Devanagari\\img0108.png\n",
      "original= बौछार\n"
     ]
    },
    {
     "name": "stderr",
     "output_type": "stream",
     "text": [
      "CUDA not available - defaulting to CPU. Note: This module is much faster with a GPU.\n"
     ]
    },
    {
     "name": "stdout",
     "output_type": "stream",
     "text": [
      "from image= बौछार\n",
      "edit distance 0\n",
      "76\n",
      "D:/AUDataset/MYDataSet/Devanagari/Training_Doc_Devanagari\\img0109.png\n",
      "original= महाभ्रमण\n"
     ]
    },
    {
     "name": "stderr",
     "output_type": "stream",
     "text": [
      "CUDA not available - defaulting to CPU. Note: This module is much faster with a GPU.\n"
     ]
    },
    {
     "name": "stdout",
     "output_type": "stream",
     "text": [
      "from image= महाश्रमण\n",
      "edit distance 1\n",
      "21\n",
      "D:/AUDataset/MYDataSet/Devanagari/Training_Doc_Devanagari\\img0110.png\n",
      "original= साल\n"
     ]
    },
    {
     "name": "stderr",
     "output_type": "stream",
     "text": [
      "CUDA not available - defaulting to CPU. Note: This module is much faster with a GPU.\n"
     ]
    },
    {
     "name": "stdout",
     "output_type": "stream",
     "text": [
      "from image= साल\n",
      "edit distance 0\n",
      "77\n",
      "D:/AUDataset/MYDataSet/Devanagari/Training_Doc_Devanagari\\img0111.png\n",
      "original= इमली\n"
     ]
    },
    {
     "name": "stderr",
     "output_type": "stream",
     "text": [
      "CUDA not available - defaulting to CPU. Note: This module is much faster with a GPU.\n"
     ]
    },
    {
     "name": "stdout",
     "output_type": "stream",
     "text": [
      "from image= इमली\n",
      "edit distance 0\n",
      "78\n",
      "D:/AUDataset/MYDataSet/Devanagari/Training_Doc_Devanagari\\img0112.png\n",
      "original= दहशत\n"
     ]
    },
    {
     "name": "stderr",
     "output_type": "stream",
     "text": [
      "CUDA not available - defaulting to CPU. Note: This module is much faster with a GPU.\n"
     ]
    },
    {
     "name": "stdout",
     "output_type": "stream",
     "text": [
      "from image= दहशत\n",
      "edit distance 0\n",
      "79\n",
      "D:/AUDataset/MYDataSet/Devanagari/Training_Doc_Devanagari\\img0113.png\n",
      "original= लंडन\n"
     ]
    },
    {
     "name": "stderr",
     "output_type": "stream",
     "text": [
      "CUDA not available - defaulting to CPU. Note: This module is much faster with a GPU.\n"
     ]
    },
    {
     "name": "stdout",
     "output_type": "stream",
     "text": [
      "from image= नद०\n",
      "edit distance 4\n",
      "1\n",
      "D:/AUDataset/MYDataSet/Devanagari/Training_Doc_Devanagari\\img0114.png\n",
      "original= इवीएम\n"
     ]
    },
    {
     "name": "stderr",
     "output_type": "stream",
     "text": [
      "CUDA not available - defaulting to CPU. Note: This module is much faster with a GPU.\n"
     ]
    },
    {
     "name": "stdout",
     "output_type": "stream",
     "text": [
      "from image= इवीएम\n",
      "edit distance 0\n",
      "80\n",
      "D:/AUDataset/MYDataSet/Devanagari/Training_Doc_Devanagari\\img0115.png\n",
      "original= हैकिंग\n"
     ]
    },
    {
     "name": "stderr",
     "output_type": "stream",
     "text": [
      "CUDA not available - defaulting to CPU. Note: This module is much faster with a GPU.\n"
     ]
    },
    {
     "name": "stdout",
     "output_type": "stream",
     "text": [
      "from image= हैकिंग\n",
      "edit distance 0\n",
      "81\n",
      "D:/AUDataset/MYDataSet/Devanagari/Training_Doc_Devanagari\\img0116.png\n",
      "original= कार्यक्रम\n"
     ]
    },
    {
     "name": "stderr",
     "output_type": "stream",
     "text": [
      "CUDA not available - defaulting to CPU. Note: This module is much faster with a GPU.\n"
     ]
    },
    {
     "name": "stdout",
     "output_type": "stream",
     "text": [
      "from image= कार्यक्रम\n",
      "edit distance 0\n",
      "82\n",
      "D:/AUDataset/MYDataSet/Devanagari/Training_Doc_Devanagari\\img0117.png\n",
      "original= कांग्रेस\n"
     ]
    },
    {
     "name": "stderr",
     "output_type": "stream",
     "text": [
      "CUDA not available - defaulting to CPU. Note: This module is much faster with a GPU.\n"
     ]
    },
    {
     "name": "stdout",
     "output_type": "stream",
     "text": [
      "from image= कांग्रेस\n",
      "edit distance 0\n",
      "83\n",
      "D:/AUDataset/MYDataSet/Devanagari/Training_Doc_Devanagari\\img0118.png\n",
      "original= प्रायोजित\n"
     ]
    },
    {
     "name": "stderr",
     "output_type": "stream",
     "text": [
      "CUDA not available - defaulting to CPU. Note: This module is much faster with a GPU.\n"
     ]
    },
    {
     "name": "stdout",
     "output_type": "stream",
     "text": [
      "from image= प्रायोजित\n",
      "edit distance 0\n",
      "84\n",
      "D:/AUDataset/MYDataSet/Devanagari/Training_Doc_Devanagari\\img0119.png\n",
      "original= कछुए\n"
     ]
    },
    {
     "name": "stderr",
     "output_type": "stream",
     "text": [
      "CUDA not available - defaulting to CPU. Note: This module is much faster with a GPU.\n"
     ]
    },
    {
     "name": "stdout",
     "output_type": "stream",
     "text": [
      "from image= कछुए\n",
      "edit distance 0\n",
      "85\n",
      "D:/AUDataset/MYDataSet/Devanagari/Training_Doc_Devanagari\\img0120.png\n",
      "original= प्रसाद\n"
     ]
    },
    {
     "name": "stderr",
     "output_type": "stream",
     "text": [
      "CUDA not available - defaulting to CPU. Note: This module is much faster with a GPU.\n"
     ]
    },
    {
     "name": "stdout",
     "output_type": "stream",
     "text": [
      "from image= प्रसाद\n",
      "edit distance 0\n",
      "86\n",
      "D:/AUDataset/MYDataSet/Devanagari/Training_Doc_Devanagari\\img0121.png\n",
      "original= जाती\n"
     ]
    },
    {
     "name": "stderr",
     "output_type": "stream",
     "text": [
      "CUDA not available - defaulting to CPU. Note: This module is much faster with a GPU.\n"
     ]
    },
    {
     "name": "stdout",
     "output_type": "stream",
     "text": [
      "from image= जाती\n",
      "edit distance 0\n",
      "87\n",
      "D:/AUDataset/MYDataSet/Devanagari/Training_Doc_Devanagari\\img0122.png\n",
      "original= देश\n"
     ]
    },
    {
     "name": "stderr",
     "output_type": "stream",
     "text": [
      "CUDA not available - defaulting to CPU. Note: This module is much faster with a GPU.\n"
     ]
    },
    {
     "name": "stdout",
     "output_type": "stream",
     "text": [
      "D:/AUDataset/MYDataSet/Devanagari/Training_Doc_Devanagari\\img0123.png\n",
      "original= रीपेयरिंग\n"
     ]
    },
    {
     "name": "stderr",
     "output_type": "stream",
     "text": [
      "CUDA not available - defaulting to CPU. Note: This module is much faster with a GPU.\n"
     ]
    },
    {
     "name": "stdout",
     "output_type": "stream",
     "text": [
      "from image= रीपेयरिंग\n",
      "edit distance 0\n",
      "88\n",
      "D:/AUDataset/MYDataSet/Devanagari/Training_Doc_Devanagari\\img0124.png\n",
      "original= ईख\n"
     ]
    },
    {
     "name": "stderr",
     "output_type": "stream",
     "text": [
      "CUDA not available - defaulting to CPU. Note: This module is much faster with a GPU.\n"
     ]
    },
    {
     "name": "stdout",
     "output_type": "stream",
     "text": [
      "from image= ड\n",
      "edit distance 2\n",
      "7\n",
      "D:/AUDataset/MYDataSet/Devanagari/Training_Doc_Devanagari\\img0125.png\n",
      "original= बिदेश\n"
     ]
    },
    {
     "name": "stderr",
     "output_type": "stream",
     "text": [
      "CUDA not available - defaulting to CPU. Note: This module is much faster with a GPU.\n"
     ]
    },
    {
     "name": "stdout",
     "output_type": "stream",
     "text": [
      "from image= विदेश\n",
      "edit distance 1\n",
      "22\n",
      "D:/AUDataset/MYDataSet/Devanagari/Training_Doc_Devanagari\\img0126.png\n",
      "original= नीयत\n"
     ]
    },
    {
     "name": "stderr",
     "output_type": "stream",
     "text": [
      "CUDA not available - defaulting to CPU. Note: This module is much faster with a GPU.\n"
     ]
    },
    {
     "name": "stdout",
     "output_type": "stream",
     "text": [
      "from image= नीयत\n",
      "edit distance 0\n",
      "89\n",
      "D:/AUDataset/MYDataSet/Devanagari/Training_Doc_Devanagari\\img0127.png\n",
      "original= नीति\n"
     ]
    },
    {
     "name": "stderr",
     "output_type": "stream",
     "text": [
      "CUDA not available - defaulting to CPU. Note: This module is much faster with a GPU.\n"
     ]
    },
    {
     "name": "stdout",
     "output_type": "stream",
     "text": [
      "from image= नीति\n",
      "edit distance 0\n",
      "90\n",
      "D:/AUDataset/MYDataSet/Devanagari/Training_Doc_Devanagari\\img0128.png\n",
      "original= सरकारों\n"
     ]
    },
    {
     "name": "stderr",
     "output_type": "stream",
     "text": [
      "CUDA not available - defaulting to CPU. Note: This module is much faster with a GPU.\n"
     ]
    },
    {
     "name": "stdout",
     "output_type": "stream",
     "text": [
      "from image= सरकारों\n",
      "edit distance 0\n",
      "91\n",
      "D:/AUDataset/MYDataSet/Devanagari/Training_Doc_Devanagari\\img0129.png\n",
      "original= पिछली\n"
     ]
    },
    {
     "name": "stderr",
     "output_type": "stream",
     "text": [
      "CUDA not available - defaulting to CPU. Note: This module is much faster with a GPU.\n"
     ]
    },
    {
     "name": "stdout",
     "output_type": "stream",
     "text": [
      "from image= पिछली\n",
      "edit distance 0\n",
      "92\n",
      "D:/AUDataset/MYDataSet/Devanagari/Training_Doc_Devanagari\\img0130.png\n",
      "original= बोले\n"
     ]
    },
    {
     "name": "stderr",
     "output_type": "stream",
     "text": [
      "CUDA not available - defaulting to CPU. Note: This module is much faster with a GPU.\n"
     ]
    },
    {
     "name": "stdout",
     "output_type": "stream",
     "text": [
      "from image= बोले\n",
      "edit distance 0\n",
      "93\n",
      "D:/AUDataset/MYDataSet/Devanagari/Training_Doc_Devanagari\\img0131.png\n",
      "original= पीएम\n"
     ]
    },
    {
     "name": "stderr",
     "output_type": "stream",
     "text": [
      "CUDA not available - defaulting to CPU. Note: This module is much faster with a GPU.\n"
     ]
    },
    {
     "name": "stdout",
     "output_type": "stream",
     "text": [
      "from image= पीएम\n",
      "edit distance 0\n",
      "94\n",
      "D:/AUDataset/MYDataSet/Devanagari/Training_Doc_Devanagari\\img0132.png\n",
      "original= और\n"
     ]
    },
    {
     "name": "stderr",
     "output_type": "stream",
     "text": [
      "CUDA not available - defaulting to CPU. Note: This module is much faster with a GPU.\n"
     ]
    },
    {
     "name": "stdout",
     "output_type": "stream",
     "text": [
      "from image= और\n",
      "edit distance 0\n",
      "95\n",
      "D:/AUDataset/MYDataSet/Devanagari/Training_Doc_Devanagari\\img0133.png\n",
      "original= बताने\n"
     ]
    },
    {
     "name": "stderr",
     "output_type": "stream",
     "text": [
      "CUDA not available - defaulting to CPU. Note: This module is much faster with a GPU.\n"
     ]
    },
    {
     "name": "stdout",
     "output_type": "stream",
     "text": [
      "from image= बताएं\n",
      "edit distance 2\n",
      "8\n",
      "D:/AUDataset/MYDataSet/Devanagari/Training_Doc_Devanagari\\img0134.png\n",
      "original= स्मार्ट\n"
     ]
    },
    {
     "name": "stderr",
     "output_type": "stream",
     "text": [
      "CUDA not available - defaulting to CPU. Note: This module is much faster with a GPU.\n"
     ]
    },
    {
     "name": "stdout",
     "output_type": "stream",
     "text": [
      "from image= स्मार्ट\n",
      "edit distance 0\n",
      "96\n",
      "D:/AUDataset/MYDataSet/Devanagari/Training_Doc_Devanagari\\img0135.png\n",
      "original= जब्त\n"
     ]
    },
    {
     "name": "stderr",
     "output_type": "stream",
     "text": [
      "CUDA not available - defaulting to CPU. Note: This module is much faster with a GPU.\n"
     ]
    },
    {
     "name": "stdout",
     "output_type": "stream",
     "text": [
      "from image= जब्त\n",
      "edit distance 0\n",
      "97\n",
      "D:/AUDataset/MYDataSet/Devanagari/Training_Doc_Devanagari\\img0136.png\n",
      "original= करके\n"
     ]
    },
    {
     "name": "stderr",
     "output_type": "stream",
     "text": [
      "CUDA not available - defaulting to CPU. Note: This module is much faster with a GPU.\n"
     ]
    },
    {
     "name": "stdout",
     "output_type": "stream",
     "text": [
      "from image= करक\n",
      "edit distance 1\n",
      "23\n",
      "D:/AUDataset/MYDataSet/Devanagari/Training_Doc_Devanagari\\img0137.png\n",
      "original= उल्लू\n"
     ]
    },
    {
     "name": "stderr",
     "output_type": "stream",
     "text": [
      "CUDA not available - defaulting to CPU. Note: This module is much faster with a GPU.\n"
     ]
    },
    {
     "name": "stdout",
     "output_type": "stream",
     "text": [
      "from image= उल्लू\n",
      "edit distance 0\n",
      "98\n",
      "D:/AUDataset/MYDataSet/Devanagari/Training_Doc_Devanagari\\img0138.png\n",
      "original= किया\n"
     ]
    },
    {
     "name": "stderr",
     "output_type": "stream",
     "text": [
      "CUDA not available - defaulting to CPU. Note: This module is much faster with a GPU.\n"
     ]
    },
    {
     "name": "stdout",
     "output_type": "stream",
     "text": [
      "from image= किया\n",
      "edit distance 0\n",
      "99\n",
      "D:/AUDataset/MYDataSet/Devanagari/Training_Doc_Devanagari\\img0139.png\n",
      "original= सालों\n"
     ]
    },
    {
     "name": "stderr",
     "output_type": "stream",
     "text": [
      "CUDA not available - defaulting to CPU. Note: This module is much faster with a GPU.\n"
     ]
    },
    {
     "name": "stdout",
     "output_type": "stream",
     "text": [
      "from image= सालों\n",
      "edit distance 0\n",
      "100\n",
      "D:/AUDataset/MYDataSet/Devanagari/Training_Doc_Devanagari\\img0140.png\n",
      "original= पांच\n"
     ]
    },
    {
     "name": "stderr",
     "output_type": "stream",
     "text": [
      "CUDA not available - defaulting to CPU. Note: This module is much faster with a GPU.\n"
     ]
    },
    {
     "name": "stdout",
     "output_type": "stream",
     "text": [
      "from image= पांच\n",
      "edit distance 0\n",
      "101\n",
      "D:/AUDataset/MYDataSet/Devanagari/Training_Doc_Devanagari\\img0141.png\n",
      "original= अपने\n"
     ]
    },
    {
     "name": "stderr",
     "output_type": "stream",
     "text": [
      "CUDA not available - defaulting to CPU. Note: This module is much faster with a GPU.\n"
     ]
    },
    {
     "name": "stdout",
     "output_type": "stream",
     "text": [
      "from image= आपने\n",
      "edit distance 1\n",
      "24\n",
      "D:/AUDataset/MYDataSet/Devanagari/Training_Doc_Devanagari\\img0142.png\n",
      "original= पूछा\n"
     ]
    },
    {
     "name": "stderr",
     "output_type": "stream",
     "text": [
      "CUDA not available - defaulting to CPU. Note: This module is much faster with a GPU.\n"
     ]
    },
    {
     "name": "stdout",
     "output_type": "stream",
     "text": [
      "D:/AUDataset/MYDataSet/Devanagari/Training_Doc_Devanagari\\img0143.png\n",
      "original= टपकने\n"
     ]
    },
    {
     "name": "stderr",
     "output_type": "stream",
     "text": [
      "CUDA not available - defaulting to CPU. Note: This module is much faster with a GPU.\n"
     ]
    },
    {
     "name": "stdout",
     "output_type": "stream",
     "text": [
      "from image= टपकन\n",
      "edit distance 1\n",
      "25\n",
      "D:/AUDataset/MYDataSet/Devanagari/Training_Doc_Devanagari\\img0144.png\n",
      "original= कांग्रेस\n"
     ]
    },
    {
     "name": "stderr",
     "output_type": "stream",
     "text": [
      "CUDA not available - defaulting to CPU. Note: This module is much faster with a GPU.\n"
     ]
    },
    {
     "name": "stdout",
     "output_type": "stream",
     "text": [
      "from image= कांग्रेस\n",
      "edit distance 0\n",
      "102\n",
      "D:/AUDataset/MYDataSet/Devanagari/Training_Doc_Devanagari\\img0145.png\n",
      "original= छूट\n"
     ]
    },
    {
     "name": "stderr",
     "output_type": "stream",
     "text": [
      "CUDA not available - defaulting to CPU. Note: This module is much faster with a GPU.\n"
     ]
    },
    {
     "name": "stdout",
     "output_type": "stream",
     "text": [
      "D:/AUDataset/MYDataSet/Devanagari/Training_Doc_Devanagari\\img0146.png\n",
      "original= सबसे\n"
     ]
    },
    {
     "name": "stderr",
     "output_type": "stream",
     "text": [
      "CUDA not available - defaulting to CPU. Note: This module is much faster with a GPU.\n"
     ]
    },
    {
     "name": "stdout",
     "output_type": "stream",
     "text": [
      "from image= सबस\n",
      "edit distance 1\n",
      "26\n",
      "D:/AUDataset/MYDataSet/Devanagari/Training_Doc_Devanagari\\img0147.png\n",
      "original= सस्ती\n"
     ]
    },
    {
     "name": "stderr",
     "output_type": "stream",
     "text": [
      "CUDA not available - defaulting to CPU. Note: This module is much faster with a GPU.\n"
     ]
    },
    {
     "name": "stdout",
     "output_type": "stream",
     "text": [
      "from image= अस्ते\n",
      "edit distance 2\n",
      "9\n",
      "D:/AUDataset/MYDataSet/Devanagari/Training_Doc_Devanagari\\img0148.png\n",
      "original= टिप्पणियां\n"
     ]
    },
    {
     "name": "stderr",
     "output_type": "stream",
     "text": [
      "CUDA not available - defaulting to CPU. Note: This module is much faster with a GPU.\n"
     ]
    },
    {
     "name": "stdout",
     "output_type": "stream",
     "text": [
      "from image= टिप्पणियां\n",
      "edit distance 0\n",
      "103\n",
      "D:/AUDataset/MYDataSet/Devanagari/Training_Doc_Devanagari\\img0149.png\n",
      "original= जय\n"
     ]
    },
    {
     "name": "stderr",
     "output_type": "stream",
     "text": [
      "CUDA not available - defaulting to CPU. Note: This module is much faster with a GPU.\n"
     ]
    },
    {
     "name": "stdout",
     "output_type": "stream",
     "text": [
      "from image= जय\n",
      "edit distance 0\n",
      "104\n",
      "D:/AUDataset/MYDataSet/Devanagari/Training_Doc_Devanagari\\img0150.png\n",
      "original= ऊन\n"
     ]
    },
    {
     "name": "stderr",
     "output_type": "stream",
     "text": [
      "CUDA not available - defaulting to CPU. Note: This module is much faster with a GPU.\n"
     ]
    },
    {
     "name": "stdout",
     "output_type": "stream",
     "text": [
      "from image= ऊन\n",
      "edit distance 0\n",
      "105\n",
      "D:/AUDataset/MYDataSet/Devanagari/Training_Doc_Devanagari\\img0151.png\n",
      "original= दिन\n"
     ]
    },
    {
     "name": "stderr",
     "output_type": "stream",
     "text": [
      "CUDA not available - defaulting to CPU. Note: This module is much faster with a GPU.\n"
     ]
    },
    {
     "name": "stdout",
     "output_type": "stream",
     "text": [
      "from image= ढिन\n",
      "edit distance 1\n",
      "27\n",
      "D:/AUDataset/MYDataSet/Devanagari/Training_Doc_Devanagari\\img0152.png\n",
      "original= पाक\n"
     ]
    },
    {
     "name": "stderr",
     "output_type": "stream",
     "text": [
      "CUDA not available - defaulting to CPU. Note: This module is much faster with a GPU.\n"
     ]
    },
    {
     "name": "stdout",
     "output_type": "stream",
     "text": [
      "from image= पाक\n",
      "edit distance 0\n",
      "106\n",
      "D:/AUDataset/MYDataSet/Devanagari/Training_Doc_Devanagari\\img0153.png\n",
      "original= चालक\n"
     ]
    },
    {
     "name": "stderr",
     "output_type": "stream",
     "text": [
      "CUDA not available - defaulting to CPU. Note: This module is much faster with a GPU.\n"
     ]
    },
    {
     "name": "stdout",
     "output_type": "stream",
     "text": [
      "from image= चालक\n",
      "edit distance 0\n",
      "107\n",
      "D:/AUDataset/MYDataSet/Devanagari/Training_Doc_Devanagari\\img0154.png\n",
      "original= श्रीमद्रुगवद्रीता\n"
     ]
    },
    {
     "name": "stderr",
     "output_type": "stream",
     "text": [
      "CUDA not available - defaulting to CPU. Note: This module is much faster with a GPU.\n"
     ]
    },
    {
     "name": "stdout",
     "output_type": "stream",
     "text": [
      "from image= श्रीमद्भगवद्गीता\n",
      "edit distance 3\n",
      "1\n",
      "D:/AUDataset/MYDataSet/Devanagari/Training_Doc_Devanagari\\img0155.png\n",
      "original= लगती\n"
     ]
    },
    {
     "name": "stderr",
     "output_type": "stream",
     "text": [
      "CUDA not available - defaulting to CPU. Note: This module is much faster with a GPU.\n"
     ]
    },
    {
     "name": "stdout",
     "output_type": "stream",
     "text": [
      "from image= लगती\n",
      "edit distance 0\n",
      "108\n",
      "D:/AUDataset/MYDataSet/Devanagari/Training_Doc_Devanagari\\img0156.png\n",
      "original= खरीदारी\n"
     ]
    },
    {
     "name": "stderr",
     "output_type": "stream",
     "text": [
      "CUDA not available - defaulting to CPU. Note: This module is much faster with a GPU.\n"
     ]
    },
    {
     "name": "stdout",
     "output_type": "stream",
     "text": [
      "from image= खरीदारी\n",
      "edit distance 0\n",
      "109\n",
      "D:/AUDataset/MYDataSet/Devanagari/Training_Doc_Devanagari\\img0157.png\n",
      "original= अब\n"
     ]
    },
    {
     "name": "stderr",
     "output_type": "stream",
     "text": [
      "CUDA not available - defaulting to CPU. Note: This module is much faster with a GPU.\n"
     ]
    },
    {
     "name": "stdout",
     "output_type": "stream",
     "text": [
      "from image= अब\n",
      "edit distance 0\n",
      "110\n",
      "D:/AUDataset/MYDataSet/Devanagari/Training_Doc_Devanagari\\img0158.png\n",
      "original= सस्ता\n"
     ]
    },
    {
     "name": "stderr",
     "output_type": "stream",
     "text": [
      "CUDA not available - defaulting to CPU. Note: This module is much faster with a GPU.\n"
     ]
    },
    {
     "name": "stdout",
     "output_type": "stream",
     "text": [
      "from image= सस्त\n",
      "edit distance 1\n",
      "28\n",
      "D:/AUDataset/MYDataSet/Devanagari/Training_Doc_Devanagari\\img0159.png\n",
      "original= प्रभात\n"
     ]
    },
    {
     "name": "stderr",
     "output_type": "stream",
     "text": [
      "CUDA not available - defaulting to CPU. Note: This module is much faster with a GPU.\n"
     ]
    },
    {
     "name": "stdout",
     "output_type": "stream",
     "text": [
      "from image= प्रभात\n",
      "edit distance 0\n",
      "111\n",
      "D:/AUDataset/MYDataSet/Devanagari/Training_Doc_Devanagari\\img0160.png\n",
      "original= खबर\n"
     ]
    },
    {
     "name": "stderr",
     "output_type": "stream",
     "text": [
      "CUDA not available - defaulting to CPU. Note: This module is much faster with a GPU.\n"
     ]
    },
    {
     "name": "stdout",
     "output_type": "stream",
     "text": [
      "from image= खबर\n",
      "edit distance 0\n",
      "112\n",
      "D:/AUDataset/MYDataSet/Devanagari/Training_Doc_Devanagari\\img0161.png\n",
      "original= टला\n"
     ]
    },
    {
     "name": "stderr",
     "output_type": "stream",
     "text": [
      "CUDA not available - defaulting to CPU. Note: This module is much faster with a GPU.\n"
     ]
    },
    {
     "name": "stdout",
     "output_type": "stream",
     "text": [
      "from image= टला\n",
      "edit distance 0\n",
      "113\n",
      "D:/AUDataset/MYDataSet/Devanagari/Training_Doc_Devanagari\\img0162.png\n",
      "original= ऑल\n"
     ]
    },
    {
     "name": "stderr",
     "output_type": "stream",
     "text": [
      "CUDA not available - defaulting to CPU. Note: This module is much faster with a GPU.\n"
     ]
    },
    {
     "name": "stdout",
     "output_type": "stream",
     "text": [
      "from image= ऑल\n",
      "edit distance 0\n",
      "114\n",
      "D:/AUDataset/MYDataSet/Devanagari/Training_Doc_Devanagari\\img0163.png\n",
      "original= आय\n"
     ]
    },
    {
     "name": "stderr",
     "output_type": "stream",
     "text": [
      "CUDA not available - defaulting to CPU. Note: This module is much faster with a GPU.\n"
     ]
    },
    {
     "name": "stdout",
     "output_type": "stream",
     "text": [
      "from image= अय\n",
      "edit distance 1\n",
      "29\n",
      "D:/AUDataset/MYDataSet/Devanagari/Training_Doc_Devanagari\\img0164.png\n",
      "original= ऋषि\n"
     ]
    },
    {
     "name": "stderr",
     "output_type": "stream",
     "text": [
      "CUDA not available - defaulting to CPU. Note: This module is much faster with a GPU.\n"
     ]
    },
    {
     "name": "stdout",
     "output_type": "stream",
     "text": [
      "from image= ऋषि\n",
      "edit distance 0\n",
      "115\n",
      "D:/AUDataset/MYDataSet/Devanagari/Training_Doc_Devanagari\\img0165.png\n",
      "original= इंडिया\n"
     ]
    },
    {
     "name": "stderr",
     "output_type": "stream",
     "text": [
      "CUDA not available - defaulting to CPU. Note: This module is much faster with a GPU.\n"
     ]
    },
    {
     "name": "stdout",
     "output_type": "stream",
     "text": [
      "from image= इंडिया\n",
      "edit distance 0\n",
      "116\n",
      "D:/AUDataset/MYDataSet/Devanagari/Training_Doc_Devanagari\\img0166.png\n",
      "original= देखते\n"
     ]
    },
    {
     "name": "stderr",
     "output_type": "stream",
     "text": [
      "CUDA not available - defaulting to CPU. Note: This module is much faster with a GPU.\n"
     ]
    },
    {
     "name": "stdout",
     "output_type": "stream",
     "text": [
      "from image= देखते\n",
      "edit distance 0\n",
      "117\n",
      "D:/AUDataset/MYDataSet/Devanagari/Training_Doc_Devanagari\\img0167.png\n",
      "original= आटोपी\n"
     ]
    },
    {
     "name": "stderr",
     "output_type": "stream",
     "text": [
      "CUDA not available - defaulting to CPU. Note: This module is much faster with a GPU.\n"
     ]
    },
    {
     "name": "stdout",
     "output_type": "stream",
     "text": [
      "from image= आरोपी\n",
      "edit distance 1\n",
      "30\n",
      "D:/AUDataset/MYDataSet/Devanagari/Training_Doc_Devanagari\\img0168.png\n",
      "original= हाँकी\n"
     ]
    },
    {
     "name": "stderr",
     "output_type": "stream",
     "text": [
      "CUDA not available - defaulting to CPU. Note: This module is much faster with a GPU.\n"
     ]
    },
    {
     "name": "stdout",
     "output_type": "stream",
     "text": [
      "from image= हॉकी\n",
      "edit distance 2\n",
      "10\n",
      "D:/AUDataset/MYDataSet/Devanagari/Training_Doc_Devanagari\\img0169.png\n",
      "original= निवेश\n"
     ]
    },
    {
     "name": "stderr",
     "output_type": "stream",
     "text": [
      "CUDA not available - defaulting to CPU. Note: This module is much faster with a GPU.\n"
     ]
    },
    {
     "name": "stdout",
     "output_type": "stream",
     "text": [
      "from image= निवेश\n",
      "edit distance 0\n",
      "118\n",
      "D:/AUDataset/MYDataSet/Devanagari/Training_Doc_Devanagari\\img0170.png\n",
      "original= कोच\n"
     ]
    },
    {
     "name": "stderr",
     "output_type": "stream",
     "text": [
      "CUDA not available - defaulting to CPU. Note: This module is much faster with a GPU.\n"
     ]
    },
    {
     "name": "stdout",
     "output_type": "stream",
     "text": [
      "from image= कोच\n",
      "edit distance 0\n",
      "119\n",
      "D:/AUDataset/MYDataSet/Devanagari/Training_Doc_Devanagari\\img0171.png\n",
      "original= सुना\n"
     ]
    },
    {
     "name": "stderr",
     "output_type": "stream",
     "text": [
      "CUDA not available - defaulting to CPU. Note: This module is much faster with a GPU.\n"
     ]
    },
    {
     "name": "stdout",
     "output_type": "stream",
     "text": [
      "from image= सुना\n",
      "edit distance 0\n",
      "120\n",
      "D:/AUDataset/MYDataSet/Devanagari/Training_Doc_Devanagari\\img0172.png\n",
      "original= जांच\n"
     ]
    },
    {
     "name": "stderr",
     "output_type": "stream",
     "text": [
      "CUDA not available - defaulting to CPU. Note: This module is much faster with a GPU.\n"
     ]
    },
    {
     "name": "stdout",
     "output_type": "stream",
     "text": [
      "from image= जांच\n",
      "edit distance 0\n",
      "121\n",
      "D:/AUDataset/MYDataSet/Devanagari/Training_Doc_Devanagari\\img0173.png\n",
      "original= समिति\n"
     ]
    },
    {
     "name": "stderr",
     "output_type": "stream",
     "text": [
      "CUDA not available - defaulting to CPU. Note: This module is much faster with a GPU.\n"
     ]
    },
    {
     "name": "stdout",
     "output_type": "stream",
     "text": [
      "from image= समिति\n",
      "edit distance 0\n",
      "122\n",
      "D:/AUDataset/MYDataSet/Devanagari/Training_Doc_Devanagari\\img0174.png\n",
      "original= में\n"
     ]
    },
    {
     "name": "stderr",
     "output_type": "stream",
     "text": [
      "CUDA not available - defaulting to CPU. Note: This module is much faster with a GPU.\n"
     ]
    },
    {
     "name": "stdout",
     "output_type": "stream",
     "text": [
      "from image= में\n",
      "edit distance 0\n",
      "123\n",
      "D:/AUDataset/MYDataSet/Devanagari/Training_Doc_Devanagari\\img0175.png\n",
      "original= पानी\n"
     ]
    },
    {
     "name": "stderr",
     "output_type": "stream",
     "text": [
      "CUDA not available - defaulting to CPU. Note: This module is much faster with a GPU.\n"
     ]
    },
    {
     "name": "stdout",
     "output_type": "stream",
     "text": [
      "from image= पानी\n",
      "edit distance 0\n",
      "124\n",
      "D:/AUDataset/MYDataSet/Devanagari/Training_Doc_Devanagari\\img0176.png\n",
      "original= एड़ी\n"
     ]
    },
    {
     "name": "stderr",
     "output_type": "stream",
     "text": [
      "CUDA not available - defaulting to CPU. Note: This module is much faster with a GPU.\n"
     ]
    },
    {
     "name": "stdout",
     "output_type": "stream",
     "text": [
      "from image= एड\n",
      "edit distance 2\n",
      "11\n",
      "D:/AUDataset/MYDataSet/Devanagari/Training_Doc_Devanagari\\img0177.png\n",
      "original= पवार\n"
     ]
    },
    {
     "name": "stderr",
     "output_type": "stream",
     "text": [
      "CUDA not available - defaulting to CPU. Note: This module is much faster with a GPU.\n"
     ]
    },
    {
     "name": "stdout",
     "output_type": "stream",
     "text": [
      "from image= पवार\n",
      "edit distance 0\n",
      "125\n",
      "D:/AUDataset/MYDataSet/Devanagari/Training_Doc_Devanagari\\img0178.png\n",
      "original= और\n"
     ]
    },
    {
     "name": "stderr",
     "output_type": "stream",
     "text": [
      "CUDA not available - defaulting to CPU. Note: This module is much faster with a GPU.\n"
     ]
    },
    {
     "name": "stdout",
     "output_type": "stream",
     "text": [
      "from image= और\n",
      "edit distance 0\n",
      "126\n",
      "D:/AUDataset/MYDataSet/Devanagari/Training_Doc_Devanagari\\img0179.png\n",
      "original= एडुल्जी\n"
     ]
    },
    {
     "name": "stderr",
     "output_type": "stream",
     "text": [
      "CUDA not available - defaulting to CPU. Note: This module is much faster with a GPU.\n"
     ]
    },
    {
     "name": "stdout",
     "output_type": "stream",
     "text": [
      "from image= एडुल्जी\n",
      "edit distance 0\n",
      "127\n",
      "D:/AUDataset/MYDataSet/Devanagari/Training_Doc_Devanagari\\img0180.png\n",
      "original= आगे\n"
     ]
    },
    {
     "name": "stderr",
     "output_type": "stream",
     "text": [
      "CUDA not available - defaulting to CPU. Note: This module is much faster with a GPU.\n"
     ]
    },
    {
     "name": "stdout",
     "output_type": "stream",
     "text": [
      "from image= आगे\n",
      "edit distance 0\n",
      "128\n",
      "D:/AUDataset/MYDataSet/Devanagari/Training_Doc_Devanagari\\img0181.png\n",
      "original= करेगा\n"
     ]
    },
    {
     "name": "stderr",
     "output_type": "stream",
     "text": [
      "CUDA not available - defaulting to CPU. Note: This module is much faster with a GPU.\n"
     ]
    },
    {
     "name": "stdout",
     "output_type": "stream",
     "text": [
      "from image= करगा\n",
      "edit distance 1\n",
      "31\n",
      "D:/AUDataset/MYDataSet/Devanagari/Training_Doc_Devanagari\\img0182.png\n",
      "original= निकल\n"
     ]
    },
    {
     "name": "stderr",
     "output_type": "stream",
     "text": [
      "CUDA not available - defaulting to CPU. Note: This module is much faster with a GPU.\n"
     ]
    },
    {
     "name": "stdout",
     "output_type": "stream",
     "text": [
      "from image= निकल\n",
      "edit distance 0\n",
      "129\n",
      "D:/AUDataset/MYDataSet/Devanagari/Training_Doc_Devanagari\\img0183.png\n",
      "original= मिताली\n"
     ]
    },
    {
     "name": "stderr",
     "output_type": "stream",
     "text": [
      "CUDA not available - defaulting to CPU. Note: This module is much faster with a GPU.\n"
     ]
    },
    {
     "name": "stdout",
     "output_type": "stream",
     "text": [
      "from image= मिताली\n",
      "edit distance 0\n",
      "130\n",
      "D:/AUDataset/MYDataSet/Devanagari/Training_Doc_Devanagari\\img0184.png\n",
      "original= बरसने\n"
     ]
    },
    {
     "name": "stderr",
     "output_type": "stream",
     "text": [
      "CUDA not available - defaulting to CPU. Note: This module is much faster with a GPU.\n"
     ]
    },
    {
     "name": "stdout",
     "output_type": "stream",
     "text": [
      "from image= बरसन\n",
      "edit distance 1\n",
      "32\n",
      "D:/AUDataset/MYDataSet/Devanagari/Training_Doc_Devanagari\\img0185.png\n",
      "original= भारतीय\n"
     ]
    },
    {
     "name": "stderr",
     "output_type": "stream",
     "text": [
      "CUDA not available - defaulting to CPU. Note: This module is much faster with a GPU.\n"
     ]
    },
    {
     "name": "stdout",
     "output_type": "stream",
     "text": [
      "from image= भारतीय\n",
      "edit distance 0\n",
      "131\n",
      "D:/AUDataset/MYDataSet/Devanagari/Training_Doc_Devanagari\\img0186.png\n",
      "original= ज़्यादा\n"
     ]
    },
    {
     "name": "stderr",
     "output_type": "stream",
     "text": [
      "CUDA not available - defaulting to CPU. Note: This module is much faster with a GPU.\n"
     ]
    },
    {
     "name": "stdout",
     "output_type": "stream",
     "text": [
      "from image= ज़्यादा\n",
      "edit distance 2\n",
      "12\n",
      "D:/AUDataset/MYDataSet/Devanagari/Training_Doc_Devanagari\\img0187.png\n",
      "original= अ\n"
     ]
    },
    {
     "name": "stderr",
     "output_type": "stream",
     "text": [
      "CUDA not available - defaulting to CPU. Note: This module is much faster with a GPU.\n"
     ]
    },
    {
     "name": "stdout",
     "output_type": "stream",
     "text": [
      "from image= अ\n",
      "edit distance 0\n",
      "132\n",
      "D:/AUDataset/MYDataSet/Devanagari/Training_Doc_Devanagari\\img0188.png\n",
      "original= तीरंदाजी\n"
     ]
    },
    {
     "name": "stderr",
     "output_type": "stream",
     "text": [
      "CUDA not available - defaulting to CPU. Note: This module is much faster with a GPU.\n"
     ]
    },
    {
     "name": "stdout",
     "output_type": "stream",
     "text": [
      "from image= तीरंदाजी\n",
      "edit distance 0\n",
      "133\n",
      "D:/AUDataset/MYDataSet/Devanagari/Training_Doc_Devanagari\\img0189.png\n",
      "original= संघ\n"
     ]
    },
    {
     "name": "stderr",
     "output_type": "stream",
     "text": [
      "CUDA not available - defaulting to CPU. Note: This module is much faster with a GPU.\n"
     ]
    },
    {
     "name": "stdout",
     "output_type": "stream",
     "text": [
      "from image= संघ\n",
      "edit distance 0\n",
      "134\n",
      "D:/AUDataset/MYDataSet/Devanagari/Training_Doc_Devanagari\\img0190.png\n",
      "original= निलंबन\n"
     ]
    },
    {
     "name": "stderr",
     "output_type": "stream",
     "text": [
      "CUDA not available - defaulting to CPU. Note: This module is much faster with a GPU.\n"
     ]
    },
    {
     "name": "stdout",
     "output_type": "stream",
     "text": [
      "from image= निलंबन\n",
      "edit distance 0\n",
      "135\n",
      "D:/AUDataset/MYDataSet/Devanagari/Training_Doc_Devanagari\\img0191.png\n",
      "original= खतरा\n"
     ]
    },
    {
     "name": "stderr",
     "output_type": "stream",
     "text": [
      "CUDA not available - defaulting to CPU. Note: This module is much faster with a GPU.\n"
     ]
    },
    {
     "name": "stdout",
     "output_type": "stream",
     "text": [
      "from image= खतरा\n",
      "edit distance 0\n",
      "136\n",
      "D:/AUDataset/MYDataSet/Devanagari/Training_Doc_Devanagari\\img0192.png\n",
      "original= ढ्ला\n"
     ]
    },
    {
     "name": "stderr",
     "output_type": "stream",
     "text": [
      "CUDA not available - defaulting to CPU. Note: This module is much faster with a GPU.\n"
     ]
    },
    {
     "name": "stdout",
     "output_type": "stream",
     "text": [
      "from image= टला\n",
      "edit distance 2\n",
      "13\n",
      "D:/AUDataset/MYDataSet/Devanagari/Training_Doc_Devanagari\\img0193.png\n",
      "original= पंत\n"
     ]
    },
    {
     "name": "stderr",
     "output_type": "stream",
     "text": [
      "CUDA not available - defaulting to CPU. Note: This module is much faster with a GPU.\n"
     ]
    },
    {
     "name": "stdout",
     "output_type": "stream",
     "text": [
      "from image= पंत\n",
      "edit distance 0\n",
      "137\n",
      "D:/AUDataset/MYDataSet/Devanagari/Training_Doc_Devanagari\\img0194.png\n",
      "original= लगता\n"
     ]
    },
    {
     "name": "stderr",
     "output_type": "stream",
     "text": [
      "CUDA not available - defaulting to CPU. Note: This module is much faster with a GPU.\n"
     ]
    },
    {
     "name": "stdout",
     "output_type": "stream",
     "text": [
      "from image= लगता\n",
      "edit distance 0\n",
      "138\n",
      "D:/AUDataset/MYDataSet/Devanagari/Training_Doc_Devanagari\\img0195.png\n",
      "original= अलट\n"
     ]
    },
    {
     "name": "stderr",
     "output_type": "stream",
     "text": [
      "CUDA not available - defaulting to CPU. Note: This module is much faster with a GPU.\n"
     ]
    },
    {
     "name": "stdout",
     "output_type": "stream",
     "text": [
      "from image= अलट\n",
      "edit distance 0\n",
      "139\n",
      "D:/AUDataset/MYDataSet/Devanagari/Training_Doc_Devanagari\\img0196.png\n",
      "original= मिला\n"
     ]
    },
    {
     "name": "stderr",
     "output_type": "stream",
     "text": [
      "CUDA not available - defaulting to CPU. Note: This module is much faster with a GPU.\n"
     ]
    },
    {
     "name": "stdout",
     "output_type": "stream",
     "text": [
      "from image= मिला\n",
      "edit distance 0\n",
      "140\n",
      "D:/AUDataset/MYDataSet/Devanagari/Training_Doc_Devanagari\\img0197.png\n",
      "original= उभरते\n"
     ]
    },
    {
     "name": "stderr",
     "output_type": "stream",
     "text": [
      "CUDA not available - defaulting to CPU. Note: This module is much faster with a GPU.\n"
     ]
    },
    {
     "name": "stdout",
     "output_type": "stream",
     "text": [
      "from image= उभरते\n",
      "edit distance 0\n",
      "141\n",
      "D:/AUDataset/MYDataSet/Devanagari/Training_Doc_Devanagari\\img0198.png\n",
      "original= फ़ास्ट\n"
     ]
    },
    {
     "name": "stderr",
     "output_type": "stream",
     "text": [
      "CUDA not available - defaulting to CPU. Note: This module is much faster with a GPU.\n"
     ]
    },
    {
     "name": "stdout",
     "output_type": "stream",
     "text": [
      "from image= फा#\n",
      "edit distance 4\n",
      "2\n",
      "D:/AUDataset/MYDataSet/Devanagari/Training_Doc_Devanagari\\img0199.png\n",
      "original= पद्यानुबाद\n"
     ]
    },
    {
     "name": "stderr",
     "output_type": "stream",
     "text": [
      "CUDA not available - defaulting to CPU. Note: This module is much faster with a GPU.\n"
     ]
    },
    {
     "name": "stdout",
     "output_type": "stream",
     "text": [
      "from image= पद्यानुवाद\n",
      "edit distance 1\n",
      "33\n",
      "D:/AUDataset/MYDataSet/Devanagari/Training_Doc_Devanagari\\img0200.png\n",
      "original= हिंन्दी\n"
     ]
    },
    {
     "name": "stderr",
     "output_type": "stream",
     "text": [
      "CUDA not available - defaulting to CPU. Note: This module is much faster with a GPU.\n"
     ]
    },
    {
     "name": "stdout",
     "output_type": "stream",
     "text": [
      "from image= हिंदो\n",
      "edit distance 3\n",
      "2\n",
      "D:/AUDataset/MYDataSet/Devanagari/Training_Doc_Devanagari\\img0201.png\n",
      "original= आ\n"
     ]
    },
    {
     "name": "stderr",
     "output_type": "stream",
     "text": [
      "CUDA not available - defaulting to CPU. Note: This module is much faster with a GPU.\n"
     ]
    },
    {
     "name": "stdout",
     "output_type": "stream",
     "text": [
      "from image= आ\n",
      "edit distance 0\n",
      "142\n",
      "D:/AUDataset/MYDataSet/Devanagari/Training_Doc_Devanagari\\img0202.png\n",
      "original= हुए\n"
     ]
    },
    {
     "name": "stderr",
     "output_type": "stream",
     "text": [
      "CUDA not available - defaulting to CPU. Note: This module is much faster with a GPU.\n"
     ]
    },
    {
     "name": "stdout",
     "output_type": "stream",
     "text": [
      "from image= हुए\n",
      "edit distance 0\n",
      "143\n",
      "D:/AUDataset/MYDataSet/Devanagari/Training_Doc_Devanagari\\img0203.png\n",
      "original= क्रिकेटर\n"
     ]
    },
    {
     "name": "stderr",
     "output_type": "stream",
     "text": [
      "CUDA not available - defaulting to CPU. Note: This module is much faster with a GPU.\n"
     ]
    },
    {
     "name": "stdout",
     "output_type": "stream",
     "text": [
      "from image= क्रिकेटर\n",
      "edit distance 0\n",
      "144\n",
      "D:/AUDataset/MYDataSet/Devanagari/Training_Doc_Devanagari\\img0204.png\n",
      "original= पुरस्कार\n"
     ]
    },
    {
     "name": "stderr",
     "output_type": "stream",
     "text": [
      "CUDA not available - defaulting to CPU. Note: This module is much faster with a GPU.\n"
     ]
    },
    {
     "name": "stdout",
     "output_type": "stream",
     "text": [
      "from image= पुरस्कार\n",
      "edit distance 0\n",
      "145\n",
      "D:/AUDataset/MYDataSet/Devanagari/Training_Doc_Devanagari\\img0205.png\n",
      "original= अखकीलेश\n"
     ]
    },
    {
     "name": "stderr",
     "output_type": "stream",
     "text": [
      "CUDA not available - defaulting to CPU. Note: This module is much faster with a GPU.\n"
     ]
    },
    {
     "name": "stdout",
     "output_type": "stream",
     "text": [
      "from image= अखिलेश\n",
      "edit distance 2\n",
      "14\n",
      "D:/AUDataset/MYDataSet/Devanagari/Training_Doc_Devanagari\\img0206.png\n",
      "original= गोरखपुर\n"
     ]
    },
    {
     "name": "stderr",
     "output_type": "stream",
     "text": [
      "CUDA not available - defaulting to CPU. Note: This module is much faster with a GPU.\n"
     ]
    },
    {
     "name": "stdout",
     "output_type": "stream",
     "text": [
      "from image= गोरखपुर\n",
      "edit distance 0\n",
      "146\n",
      "D:/AUDataset/MYDataSet/Devanagari/Training_Doc_Devanagari\\img0207.png\n",
      "original= ई\n"
     ]
    },
    {
     "name": "stderr",
     "output_type": "stream",
     "text": [
      "CUDA not available - defaulting to CPU. Note: This module is much faster with a GPU.\n"
     ]
    },
    {
     "name": "stdout",
     "output_type": "stream",
     "text": [
      "from image= इ\n",
      "edit distance 1\n",
      "34\n",
      "D:/AUDataset/MYDataSet/Devanagari/Training_Doc_Devanagari\\img0208.png\n",
      "original= गीता\n"
     ]
    },
    {
     "name": "stderr",
     "output_type": "stream",
     "text": [
      "CUDA not available - defaulting to CPU. Note: This module is much faster with a GPU.\n"
     ]
    },
    {
     "name": "stdout",
     "output_type": "stream",
     "text": [
      "from image= गीता\n",
      "edit distance 0\n",
      "147\n",
      "D:/AUDataset/MYDataSet/Devanagari/Training_Doc_Devanagari\\img0209.png\n",
      "original= ई\n"
     ]
    },
    {
     "name": "stderr",
     "output_type": "stream",
     "text": [
      "CUDA not available - defaulting to CPU. Note: This module is much faster with a GPU.\n"
     ]
    },
    {
     "name": "stdout",
     "output_type": "stream",
     "text": [
      "from image= ई\n",
      "edit distance 0\n",
      "148\n",
      "D:/AUDataset/MYDataSet/Devanagari/Training_Doc_Devanagari\\img0210.png\n",
      "original= साल\n"
     ]
    },
    {
     "name": "stderr",
     "output_type": "stream",
     "text": [
      "CUDA not available - defaulting to CPU. Note: This module is much faster with a GPU.\n"
     ]
    },
    {
     "name": "stdout",
     "output_type": "stream",
     "text": [
      "from image= सालन\n",
      "edit distance 1\n",
      "35\n",
      "D:/AUDataset/MYDataSet/Devanagari/Training_Doc_Devanagari\\img0211.png\n",
      "original= उ\n"
     ]
    },
    {
     "name": "stderr",
     "output_type": "stream",
     "text": [
      "CUDA not available - defaulting to CPU. Note: This module is much faster with a GPU.\n"
     ]
    },
    {
     "name": "stdout",
     "output_type": "stream",
     "text": [
      "from image= उ\n",
      "edit distance 0\n",
      "149\n",
      "D:/AUDataset/MYDataSet/Devanagari/Training_Doc_Devanagari\\img0212.png\n",
      "original= आपके\n"
     ]
    },
    {
     "name": "stderr",
     "output_type": "stream",
     "text": [
      "CUDA not available - defaulting to CPU. Note: This module is much faster with a GPU.\n"
     ]
    },
    {
     "name": "stdout",
     "output_type": "stream",
     "text": [
      "from image= आपके\n",
      "edit distance 0\n",
      "150\n",
      "D:/AUDataset/MYDataSet/Devanagari/Training_Doc_Devanagari\\img0213.png\n",
      "original= ऊ\n"
     ]
    },
    {
     "name": "stderr",
     "output_type": "stream",
     "text": [
      "CUDA not available - defaulting to CPU. Note: This module is much faster with a GPU.\n"
     ]
    },
    {
     "name": "stdout",
     "output_type": "stream",
     "text": [
      "from image= ऊ\n",
      "edit distance 0\n",
      "151\n",
      "D:/AUDataset/MYDataSet/Devanagari/Training_Doc_Devanagari\\img0214.png\n",
      "original= साथ\n"
     ]
    },
    {
     "name": "stderr",
     "output_type": "stream",
     "text": [
      "CUDA not available - defaulting to CPU. Note: This module is much faster with a GPU.\n"
     ]
    },
    {
     "name": "stdout",
     "output_type": "stream",
     "text": [
      "from image= साथ\n",
      "edit distance 0\n",
      "152\n",
      "D:/AUDataset/MYDataSet/Devanagari/Training_Doc_Devanagari\\img0215.png\n",
      "original= ऋ\n"
     ]
    },
    {
     "name": "stderr",
     "output_type": "stream",
     "text": [
      "CUDA not available - defaulting to CPU. Note: This module is much faster with a GPU.\n"
     ]
    },
    {
     "name": "stdout",
     "output_type": "stream",
     "text": [
      "from image= ऋ\n",
      "edit distance 0\n",
      "153\n",
      "D:/AUDataset/MYDataSet/Devanagari/Training_Doc_Devanagari\\img0216.png\n",
      "original= थोड़ी\n"
     ]
    },
    {
     "name": "stderr",
     "output_type": "stream",
     "text": [
      "CUDA not available - defaulting to CPU. Note: This module is much faster with a GPU.\n"
     ]
    },
    {
     "name": "stdout",
     "output_type": "stream",
     "text": [
      "from image= थोडी\n",
      "edit distance 1\n",
      "36\n",
      "D:/AUDataset/MYDataSet/Devanagari/Training_Doc_Devanagari\\img0217.png\n",
      "original= राजकमल\n"
     ]
    },
    {
     "name": "stderr",
     "output_type": "stream",
     "text": [
      "CUDA not available - defaulting to CPU. Note: This module is much faster with a GPU.\n"
     ]
    },
    {
     "name": "stdout",
     "output_type": "stream",
     "text": [
      "from image= राज्नकतल\n",
      "edit distance 3\n",
      "3\n",
      "D:/AUDataset/MYDataSet/Devanagari/Training_Doc_Devanagari\\img0218.png\n",
      "original= ए\n"
     ]
    },
    {
     "name": "stderr",
     "output_type": "stream",
     "text": [
      "CUDA not available - defaulting to CPU. Note: This module is much faster with a GPU.\n"
     ]
    },
    {
     "name": "stdout",
     "output_type": "stream",
     "text": [
      "from image= ए\n",
      "edit distance 0\n",
      "154\n",
      "D:/AUDataset/MYDataSet/Devanagari/Training_Doc_Devanagari\\img0219.png\n",
      "original= प्रकाशन\n"
     ]
    },
    {
     "name": "stderr",
     "output_type": "stream",
     "text": [
      "CUDA not available - defaulting to CPU. Note: This module is much faster with a GPU.\n"
     ]
    },
    {
     "name": "stdout",
     "output_type": "stream",
     "text": [
      "from image= प्रकाशन\n",
      "edit distance 0\n",
      "155\n",
      "D:/AUDataset/MYDataSet/Devanagari/Training_Doc_Devanagari\\img0220.png\n",
      "original= ऐ\n"
     ]
    },
    {
     "name": "stderr",
     "output_type": "stream",
     "text": [
      "CUDA not available - defaulting to CPU. Note: This module is much faster with a GPU.\n"
     ]
    },
    {
     "name": "stdout",
     "output_type": "stream",
     "text": [
      "D:/AUDataset/MYDataSet/Devanagari/Training_Doc_Devanagari\\img0221.png\n",
      "original= भारत\n"
     ]
    },
    {
     "name": "stderr",
     "output_type": "stream",
     "text": [
      "CUDA not available - defaulting to CPU. Note: This module is much faster with a GPU.\n"
     ]
    },
    {
     "name": "stdout",
     "output_type": "stream",
     "text": [
      "from image= भारत\n",
      "edit distance 0\n",
      "156\n",
      "D:/AUDataset/MYDataSet/Devanagari/Training_Doc_Devanagari\\img0222.png\n",
      "original= ओ\n"
     ]
    },
    {
     "name": "stderr",
     "output_type": "stream",
     "text": [
      "CUDA not available - defaulting to CPU. Note: This module is much faster with a GPU.\n"
     ]
    },
    {
     "name": "stdout",
     "output_type": "stream",
     "text": [
      "from image= ओ\n",
      "edit distance 0\n",
      "157\n",
      "D:/AUDataset/MYDataSet/Devanagari/Training_Doc_Devanagari\\img0223.png\n",
      "original= सोरकार\n"
     ]
    },
    {
     "name": "stderr",
     "output_type": "stream",
     "text": [
      "CUDA not available - defaulting to CPU. Note: This module is much faster with a GPU.\n"
     ]
    },
    {
     "name": "stdout",
     "output_type": "stream",
     "text": [
      "from image= सरकार\n",
      "edit distance 1\n",
      "37\n",
      "D:/AUDataset/MYDataSet/Devanagari/Training_Doc_Devanagari\\img0224.png\n",
      "original= क\n"
     ]
    },
    {
     "name": "stderr",
     "output_type": "stream",
     "text": [
      "CUDA not available - defaulting to CPU. Note: This module is much faster with a GPU.\n"
     ]
    },
    {
     "name": "stdout",
     "output_type": "stream",
     "text": [
      "from image= क\n",
      "edit distance 0\n",
      "158\n",
      "D:/AUDataset/MYDataSet/Devanagari/Training_Doc_Devanagari\\img0225.png\n",
      "original= बाम\n"
     ]
    },
    {
     "name": "stderr",
     "output_type": "stream",
     "text": [
      "CUDA not available - defaulting to CPU. Note: This module is much faster with a GPU.\n"
     ]
    },
    {
     "name": "stdout",
     "output_type": "stream",
     "text": [
      "from image= बाम\n",
      "edit distance 0\n",
      "159\n",
      "D:/AUDataset/MYDataSet/Devanagari/Training_Doc_Devanagari\\img0226.png\n",
      "original= सहित\n"
     ]
    },
    {
     "name": "stderr",
     "output_type": "stream",
     "text": [
      "CUDA not available - defaulting to CPU. Note: This module is much faster with a GPU.\n"
     ]
    },
    {
     "name": "stdout",
     "output_type": "stream",
     "text": [
      "from image= सहित\n",
      "edit distance 0\n",
      "160\n",
      "D:/AUDataset/MYDataSet/Devanagari/Training_Doc_Devanagari\\img0227.png\n",
      "original= बांग्लादेश\n"
     ]
    },
    {
     "name": "stderr",
     "output_type": "stream",
     "text": [
      "CUDA not available - defaulting to CPU. Note: This module is much faster with a GPU.\n"
     ]
    },
    {
     "name": "stdout",
     "output_type": "stream",
     "text": [
      "from image= बांग्लादेश\n",
      "edit distance 0\n",
      "161\n",
      "D:/AUDataset/MYDataSet/Devanagari/Training_Doc_Devanagari\\img0228.png\n",
      "original= राष्ट्रीय\n"
     ]
    },
    {
     "name": "stderr",
     "output_type": "stream",
     "text": [
      "CUDA not available - defaulting to CPU. Note: This module is much faster with a GPU.\n"
     ]
    },
    {
     "name": "stdout",
     "output_type": "stream",
     "text": [
      "from image= राष्ट्रीय\n",
      "edit distance 0\n",
      "162\n",
      "D:/AUDataset/MYDataSet/Devanagari/Training_Doc_Devanagari\\img0229.png\n",
      "original= ऐनक\n"
     ]
    },
    {
     "name": "stderr",
     "output_type": "stream",
     "text": [
      "CUDA not available - defaulting to CPU. Note: This module is much faster with a GPU.\n"
     ]
    },
    {
     "name": "stdout",
     "output_type": "stream",
     "text": [
      "from image= ऐनक\n",
      "edit distance 0\n",
      "163\n",
      "D:/AUDataset/MYDataSet/Devanagari/Training_Doc_Devanagari\\img0230.png\n",
      "original= चिप\n"
     ]
    },
    {
     "name": "stderr",
     "output_type": "stream",
     "text": [
      "CUDA not available - defaulting to CPU. Note: This module is much faster with a GPU.\n"
     ]
    },
    {
     "name": "stdout",
     "output_type": "stream",
     "text": [
      "from image= चिप\n",
      "edit distance 0\n",
      "164\n",
      "D:/AUDataset/MYDataSet/Devanagari/Training_Doc_Devanagari\\img0231.png\n",
      "original= वाला\n"
     ]
    },
    {
     "name": "stderr",
     "output_type": "stream",
     "text": [
      "CUDA not available - defaulting to CPU. Note: This module is much faster with a GPU.\n"
     ]
    },
    {
     "name": "stdout",
     "output_type": "stream",
     "text": [
      "from image= वाला\n",
      "edit distance 0\n",
      "165\n",
      "D:/AUDataset/MYDataSet/Devanagari/Training_Doc_Devanagari\\img0232.png\n",
      "original= पासपोर्ट\n"
     ]
    },
    {
     "name": "stderr",
     "output_type": "stream",
     "text": [
      "CUDA not available - defaulting to CPU. Note: This module is much faster with a GPU.\n"
     ]
    },
    {
     "name": "stdout",
     "output_type": "stream",
     "text": [
      "from image= पासपोर्ट\n",
      "edit distance 0\n",
      "166\n",
      "D:/AUDataset/MYDataSet/Devanagari/Training_Doc_Devanagari\\img0233.png\n",
      "original= जारी\n"
     ]
    },
    {
     "name": "stderr",
     "output_type": "stream",
     "text": [
      "CUDA not available - defaulting to CPU. Note: This module is much faster with a GPU.\n"
     ]
    },
    {
     "name": "stdout",
     "output_type": "stream",
     "text": [
      "from image= जारी\n",
      "edit distance 0\n",
      "167\n",
      "D:/AUDataset/MYDataSet/Devanagari/Training_Doc_Devanagari\\img0234.png\n",
      "original= करेगी\n"
     ]
    },
    {
     "name": "stderr",
     "output_type": "stream",
     "text": [
      "CUDA not available - defaulting to CPU. Note: This module is much faster with a GPU.\n"
     ]
    },
    {
     "name": "stdout",
     "output_type": "stream",
     "text": [
      "from image= करेगी\n",
      "edit distance 0\n",
      "168\n",
      "D:/AUDataset/MYDataSet/Devanagari/Training_Doc_Devanagari\\img0235.png\n",
      "original= भविष्य\n"
     ]
    },
    {
     "name": "stderr",
     "output_type": "stream",
     "text": [
      "CUDA not available - defaulting to CPU. Note: This module is much faster with a GPU.\n"
     ]
    },
    {
     "name": "stdout",
     "output_type": "stream",
     "text": [
      "from image= भविष्य\n",
      "edit distance 0\n",
      "169\n",
      "D:/AUDataset/MYDataSet/Devanagari/Training_Doc_Devanagari\\img0236.png\n",
      "original= खाने\n"
     ]
    },
    {
     "name": "stderr",
     "output_type": "stream",
     "text": [
      "CUDA not available - defaulting to CPU. Note: This module is much faster with a GPU.\n"
     ]
    },
    {
     "name": "stdout",
     "output_type": "stream",
     "text": [
      "from image= खाने\n",
      "edit distance 0\n",
      "170\n",
      "D:/AUDataset/MYDataSet/Devanagari/Training_Doc_Devanagari\\img0237.png\n",
      "original= लायक\n"
     ]
    },
    {
     "name": "stderr",
     "output_type": "stream",
     "text": [
      "CUDA not available - defaulting to CPU. Note: This module is much faster with a GPU.\n"
     ]
    },
    {
     "name": "stdout",
     "output_type": "stream",
     "text": [
      "from image= लायक\n",
      "edit distance 0\n",
      "171\n",
      "D:/AUDataset/MYDataSet/Devanagari/Training_Doc_Devanagari\\img0238.png\n",
      "original= सब\n"
     ]
    },
    {
     "name": "stderr",
     "output_type": "stream",
     "text": [
      "CUDA not available - defaulting to CPU. Note: This module is much faster with a GPU.\n"
     ]
    },
    {
     "name": "stdout",
     "output_type": "stream",
     "text": [
      "from image= पब\n",
      "edit distance 1\n",
      "38\n",
      "D:/AUDataset/MYDataSet/Devanagari/Training_Doc_Devanagari\\img0239.png\n",
      "original= नहीं\n"
     ]
    },
    {
     "name": "stderr",
     "output_type": "stream",
     "text": [
      "CUDA not available - defaulting to CPU. Note: This module is much faster with a GPU.\n"
     ]
    },
    {
     "name": "stdout",
     "output_type": "stream",
     "text": [
      "D:/AUDataset/MYDataSet/Devanagari/Training_Doc_Devanagari\\img0240.png\n",
      "original= एटलस\n"
     ]
    },
    {
     "name": "stderr",
     "output_type": "stream",
     "text": [
      "CUDA not available - defaulting to CPU. Note: This module is much faster with a GPU.\n"
     ]
    },
    {
     "name": "stdout",
     "output_type": "stream",
     "text": [
      "from image= एटलस\n",
      "edit distance 0\n",
      "172\n",
      "D:/AUDataset/MYDataSet/Devanagari/Training_Doc_Devanagari\\img0241.png\n",
      "original= ओखली\n"
     ]
    },
    {
     "name": "stderr",
     "output_type": "stream",
     "text": [
      "CUDA not available - defaulting to CPU. Note: This module is much faster with a GPU.\n"
     ]
    },
    {
     "name": "stdout",
     "output_type": "stream",
     "text": [
      "from image= ओखली\n",
      "edit distance 0\n",
      "173\n",
      "D:/AUDataset/MYDataSet/Devanagari/Training_Doc_Devanagari\\img0242.png\n",
      "original= रहीं\n"
     ]
    },
    {
     "name": "stderr",
     "output_type": "stream",
     "text": [
      "CUDA not available - defaulting to CPU. Note: This module is much faster with a GPU.\n"
     ]
    },
    {
     "name": "stdout",
     "output_type": "stream",
     "text": [
      "D:/AUDataset/MYDataSet/Devanagari/Training_Doc_Devanagari\\img0243.png\n",
      "original= गंगा\n"
     ]
    },
    {
     "name": "stderr",
     "output_type": "stream",
     "text": [
      "CUDA not available - defaulting to CPU. Note: This module is much faster with a GPU.\n"
     ]
    },
    {
     "name": "stdout",
     "output_type": "stream",
     "text": [
      "from image= गंगा\n",
      "edit distance 0\n",
      "174\n",
      "D:/AUDataset/MYDataSet/Devanagari/Training_Doc_Devanagari\\img0244.png\n",
      "original= नदी\n"
     ]
    },
    {
     "name": "stderr",
     "output_type": "stream",
     "text": [
      "CUDA not available - defaulting to CPU. Note: This module is much faster with a GPU.\n"
     ]
    },
    {
     "name": "stdout",
     "output_type": "stream",
     "text": [
      "from image= नदा\n",
      "edit distance 1\n",
      "39\n",
      "D:/AUDataset/MYDataSet/Devanagari/Training_Doc_Devanagari\\img0245.png\n",
      "original= की\n"
     ]
    },
    {
     "name": "stderr",
     "output_type": "stream",
     "text": [
      "CUDA not available - defaulting to CPU. Note: This module is much faster with a GPU.\n"
     ]
    },
    {
     "name": "stdout",
     "output_type": "stream",
     "text": [
      "D:/AUDataset/MYDataSet/Devanagari/Training_Doc_Devanagari\\img0246.png\n",
      "original= मछलियां\n"
     ]
    },
    {
     "name": "stderr",
     "output_type": "stream",
     "text": [
      "CUDA not available - defaulting to CPU. Note: This module is much faster with a GPU.\n"
     ]
    },
    {
     "name": "stdout",
     "output_type": "stream",
     "text": [
      "from image= मछलियां\n",
      "edit distance 0\n",
      "175\n",
      "D:/AUDataset/MYDataSet/Devanagari/Training_Doc_Devanagari\\img0247.png\n",
      "original= सभी\n"
     ]
    },
    {
     "name": "stderr",
     "output_type": "stream",
     "text": [
      "CUDA not available - defaulting to CPU. Note: This module is much faster with a GPU.\n"
     ]
    },
    {
     "name": "stdout",
     "output_type": "stream",
     "text": [
      "from image= सभी\n",
      "edit distance 0\n",
      "176\n",
      "D:/AUDataset/MYDataSet/Devanagari/Training_Doc_Devanagari\\img0248.png\n",
      "original= बंगाली\n"
     ]
    },
    {
     "name": "stderr",
     "output_type": "stream",
     "text": [
      "CUDA not available - defaulting to CPU. Note: This module is much faster with a GPU.\n"
     ]
    },
    {
     "name": "stdout",
     "output_type": "stream",
     "text": [
      "from image= बंगाली\n",
      "edit distance 0\n",
      "177\n",
      "D:/AUDataset/MYDataSet/Devanagari/Training_Doc_Devanagari\\img0249.png\n",
      "original= बनाएं\n"
     ]
    },
    {
     "name": "stderr",
     "output_type": "stream",
     "text": [
      "CUDA not available - defaulting to CPU. Note: This module is much faster with a GPU.\n"
     ]
    },
    {
     "name": "stdout",
     "output_type": "stream",
     "text": [
      "from image= बनाएं\n",
      "edit distance 0\n",
      "178\n",
      "D:/AUDataset/MYDataSet/Devanagari/Training_Doc_Devanagari\\img0250.png\n",
      "original= शराणार्थियों\n"
     ]
    },
    {
     "name": "stderr",
     "output_type": "stream",
     "text": [
      "CUDA not available - defaulting to CPU. Note: This module is much faster with a GPU.\n"
     ]
    },
    {
     "name": "stdout",
     "output_type": "stream",
     "text": [
      "from image= शरणार्थियों\n",
      "edit distance 1\n",
      "40\n",
      "D:/AUDataset/MYDataSet/Devanagari/Training_Doc_Devanagari\\img0251.png\n",
      "original= बिल\n"
     ]
    },
    {
     "name": "stderr",
     "output_type": "stream",
     "text": [
      "CUDA not available - defaulting to CPU. Note: This module is much faster with a GPU.\n"
     ]
    },
    {
     "name": "stdout",
     "output_type": "stream",
     "text": [
      "from image= बिल\n",
      "edit distance 0\n",
      "179\n",
      "D:/AUDataset/MYDataSet/Devanagari/Training_Doc_Devanagari\\img0252.png\n",
      "original= एवं\n"
     ]
    },
    {
     "name": "stderr",
     "output_type": "stream",
     "text": [
      "CUDA not available - defaulting to CPU. Note: This module is much faster with a GPU.\n"
     ]
    },
    {
     "name": "stdout",
     "output_type": "stream",
     "text": [
      "from image= एव\n",
      "edit distance 1\n",
      "41\n",
      "D:/AUDataset/MYDataSet/Devanagari/Training_Doc_Devanagari\\img0253.png\n",
      "original= कबूतर\n"
     ]
    },
    {
     "name": "stderr",
     "output_type": "stream",
     "text": [
      "CUDA not available - defaulting to CPU. Note: This module is much faster with a GPU.\n"
     ]
    },
    {
     "name": "stdout",
     "output_type": "stream",
     "text": [
      "from image= कबूतर\n",
      "edit distance 0\n",
      "180\n",
      "D:/AUDataset/MYDataSet/Devanagari/Training_Doc_Devanagari\\img0254.png\n",
      "original= पारित\n"
     ]
    },
    {
     "name": "stderr",
     "output_type": "stream",
     "text": [
      "CUDA not available - defaulting to CPU. Note: This module is much faster with a GPU.\n"
     ]
    },
    {
     "name": "stdout",
     "output_type": "stream",
     "text": [
      "from image= पारित\n",
      "edit distance 0\n",
      "181\n",
      "D:/AUDataset/MYDataSet/Devanagari/Training_Doc_Devanagari\\img0255.png\n",
      "original= होने\n"
     ]
    },
    {
     "name": "stderr",
     "output_type": "stream",
     "text": [
      "CUDA not available - defaulting to CPU. Note: This module is much faster with a GPU.\n"
     ]
    },
    {
     "name": "stdout",
     "output_type": "stream",
     "text": [
      "from image= होने\n",
      "edit distance 0\n",
      "182\n",
      "D:/AUDataset/MYDataSet/Devanagari/Training_Doc_Devanagari\\img0256.png\n",
      "original= पर\n"
     ]
    },
    {
     "name": "stderr",
     "output_type": "stream",
     "text": [
      "CUDA not available - defaulting to CPU. Note: This module is much faster with a GPU.\n"
     ]
    },
    {
     "name": "stdout",
     "output_type": "stream",
     "text": [
      "from image= पर\n",
      "edit distance 0\n",
      "183\n",
      "D:/AUDataset/MYDataSet/Devanagari/Training_Doc_Devanagari\\img0257.png\n",
      "original= मिलेगी\n"
     ]
    },
    {
     "name": "stderr",
     "output_type": "stream",
     "text": [
      "CUDA not available - defaulting to CPU. Note: This module is much faster with a GPU.\n"
     ]
    },
    {
     "name": "stdout",
     "output_type": "stream",
     "text": [
      "from image= मिलेगी\n",
      "edit distance 0\n",
      "184\n",
      "D:/AUDataset/MYDataSet/Devanagari/Training_Doc_Devanagari\\img0258.png\n",
      "original= नागरिकता\n"
     ]
    },
    {
     "name": "stderr",
     "output_type": "stream",
     "text": [
      "CUDA not available - defaulting to CPU. Note: This module is much faster with a GPU.\n"
     ]
    },
    {
     "name": "stdout",
     "output_type": "stream",
     "text": [
      "from image= नागरिकता\n",
      "edit distance 0\n",
      "185\n",
      "D:/AUDataset/MYDataSet/Devanagari/Training_Doc_Devanagari\\img0259.png\n",
      "original= सेहत\n"
     ]
    },
    {
     "name": "stderr",
     "output_type": "stream",
     "text": [
      "CUDA not available - defaulting to CPU. Note: This module is much faster with a GPU.\n"
     ]
    },
    {
     "name": "stdout",
     "output_type": "stream",
     "text": [
      "from image= सेहत\n",
      "edit distance 0\n",
      "186\n",
      "D:/AUDataset/MYDataSet/Devanagari/Training_Doc_Devanagari\\img0260.png\n",
      "original= विराट\n"
     ]
    },
    {
     "name": "stderr",
     "output_type": "stream",
     "text": [
      "CUDA not available - defaulting to CPU. Note: This module is much faster with a GPU.\n"
     ]
    },
    {
     "name": "stdout",
     "output_type": "stream",
     "text": [
      "from image= विराट\n",
      "edit distance 0\n",
      "187\n",
      "D:/AUDataset/MYDataSet/Devanagari/Training_Doc_Devanagari\\img0261.png\n",
      "original= कोहली\n"
     ]
    },
    {
     "name": "stderr",
     "output_type": "stream",
     "text": [
      "CUDA not available - defaulting to CPU. Note: This module is much faster with a GPU.\n"
     ]
    },
    {
     "name": "stdout",
     "output_type": "stream",
     "text": [
      "from image= कोहली\n",
      "edit distance 0\n",
      "188\n",
      "D:/AUDataset/MYDataSet/Devanagari/Training_Doc_Devanagari\\img0262.png\n",
      "original= हैट्रिक,\n"
     ]
    },
    {
     "name": "stderr",
     "output_type": "stream",
     "text": [
      "CUDA not available - defaulting to CPU. Note: This module is much faster with a GPU.\n"
     ]
    },
    {
     "name": "stdout",
     "output_type": "stream",
     "text": [
      "from image= हैट्रिक\n",
      "edit distance 1\n",
      "42\n",
      "D:/AUDataset/MYDataSet/Devanagari/Training_Doc_Devanagari\\img0263.png\n",
      "original= कें\n"
     ]
    },
    {
     "name": "stderr",
     "output_type": "stream",
     "text": [
      "CUDA not available - defaulting to CPU. Note: This module is much faster with a GPU.\n"
     ]
    },
    {
     "name": "stdout",
     "output_type": "stream",
     "text": [
      "from image= कें\n",
      "edit distance 0\n",
      "189\n",
      "D:/AUDataset/MYDataSet/Devanagari/Training_Doc_Devanagari\\img0264.png\n",
      "original= मंच\n"
     ]
    },
    {
     "name": "stderr",
     "output_type": "stream",
     "text": [
      "CUDA not available - defaulting to CPU. Note: This module is much faster with a GPU.\n"
     ]
    },
    {
     "name": "stdout",
     "output_type": "stream",
     "text": [
      "from image= मंच\n",
      "edit distance 0\n",
      "190\n",
      "D:/AUDataset/MYDataSet/Devanagari/Training_Doc_Devanagari\\img0265.png\n",
      "original= थिमेटिक\n"
     ]
    },
    {
     "name": "stderr",
     "output_type": "stream",
     "text": [
      "CUDA not available - defaulting to CPU. Note: This module is much faster with a GPU.\n"
     ]
    },
    {
     "name": "stdout",
     "output_type": "stream",
     "text": [
      "from image= थिमैटिक\n",
      "edit distance 1\n",
      "43\n",
      "D:/AUDataset/MYDataSet/Devanagari/Training_Doc_Devanagari\\img0266.png\n",
      "original= खरगोश\n"
     ]
    },
    {
     "name": "stderr",
     "output_type": "stream",
     "text": [
      "CUDA not available - defaulting to CPU. Note: This module is much faster with a GPU.\n"
     ]
    },
    {
     "name": "stdout",
     "output_type": "stream",
     "text": [
      "from image= खरगोश\n",
      "edit distance 0\n",
      "191\n",
      "D:/AUDataset/MYDataSet/Devanagari/Training_Doc_Devanagari\\img0267.png\n",
      "original= कानून\n"
     ]
    },
    {
     "name": "stderr",
     "output_type": "stream",
     "text": [
      "CUDA not available - defaulting to CPU. Note: This module is much faster with a GPU.\n"
     ]
    },
    {
     "name": "stdout",
     "output_type": "stream",
     "text": [
      "from image= कानून\n",
      "edit distance 0\n",
      "192\n",
      "D:/AUDataset/MYDataSet/Devanagari/Training_Doc_Devanagari\\img0268.png\n",
      "original= बनी\n"
     ]
    },
    {
     "name": "stderr",
     "output_type": "stream",
     "text": [
      "CUDA not available - defaulting to CPU. Note: This module is much faster with a GPU.\n"
     ]
    },
    {
     "name": "stdout",
     "output_type": "stream",
     "text": [
      "D:/AUDataset/MYDataSet/Devanagari/Training_Doc_Devanagari\\img0269.png\n",
      "original= टेस्ट\n"
     ]
    },
    {
     "name": "stderr",
     "output_type": "stream",
     "text": [
      "CUDA not available - defaulting to CPU. Note: This module is much faster with a GPU.\n"
     ]
    },
    {
     "name": "stdout",
     "output_type": "stream",
     "text": [
      "from image= ट\n",
      "edit distance 4\n",
      "3\n",
      "D:/AUDataset/MYDataSet/Devanagari/Training_Doc_Devanagari\\img0270.png\n",
      "original= वनडे\n"
     ]
    },
    {
     "name": "stderr",
     "output_type": "stream",
     "text": [
      "CUDA not available - defaulting to CPU. Note: This module is much faster with a GPU.\n"
     ]
    },
    {
     "name": "stdout",
     "output_type": "stream",
     "text": [
      "from image= वनडे\n",
      "edit distance 0\n",
      "193\n",
      "D:/AUDataset/MYDataSet/Devanagari/Training_Doc_Devanagari\\img0271.png\n",
      "original= एव\n"
     ]
    },
    {
     "name": "stderr",
     "output_type": "stream",
     "text": [
      "CUDA not available - defaulting to CPU. Note: This module is much faster with a GPU.\n"
     ]
    },
    {
     "name": "stdout",
     "output_type": "stream",
     "text": [
      "from image= एव\n",
      "edit distance 0\n",
      "194\n",
      "D:/AUDataset/MYDataSet/Devanagari/Training_Doc_Devanagari\\img0272.png\n",
      "original= वर्ष\n"
     ]
    },
    {
     "name": "stderr",
     "output_type": "stream",
     "text": [
      "CUDA not available - defaulting to CPU. Note: This module is much faster with a GPU.\n"
     ]
    },
    {
     "name": "stdout",
     "output_type": "stream",
     "text": [
      "from image= वर्ष\n",
      "edit distance 0\n",
      "195\n",
      "D:/AUDataset/MYDataSet/Devanagari/Training_Doc_Devanagari\\img0273.png\n",
      "original= जर्वश्रेष्ठ\n"
     ]
    },
    {
     "name": "stderr",
     "output_type": "stream",
     "text": [
      "CUDA not available - defaulting to CPU. Note: This module is much faster with a GPU.\n"
     ]
    },
    {
     "name": "stdout",
     "output_type": "stream",
     "text": [
      "from image= सवश्रेष्ठ\n",
      "edit distance 3\n",
      "4\n",
      "D:/AUDataset/MYDataSet/Devanagari/Training_Doc_Devanagari\\img0274.png\n",
      "original= क्रिकेटर\n"
     ]
    },
    {
     "name": "stderr",
     "output_type": "stream",
     "text": [
      "CUDA not available - defaulting to CPU. Note: This module is much faster with a GPU.\n"
     ]
    },
    {
     "name": "stdout",
     "output_type": "stream",
     "text": [
      "from image= क्रिकेटर\n",
      "edit distance 0\n",
      "196\n",
      "D:/AUDataset/MYDataSet/Devanagari/Training_Doc_Devanagari\\img0275.png\n",
      "original= मप्र\n"
     ]
    },
    {
     "name": "stderr",
     "output_type": "stream",
     "text": [
      "CUDA not available - defaulting to CPU. Note: This module is much faster with a GPU.\n"
     ]
    },
    {
     "name": "stdout",
     "output_type": "stream",
     "text": [
      "from image= मप्र\n",
      "edit distance 0\n",
      "197\n",
      "D:/AUDataset/MYDataSet/Devanagari/Training_Doc_Devanagari\\img0276.png\n",
      "original= लाख\n"
     ]
    },
    {
     "name": "stderr",
     "output_type": "stream",
     "text": [
      "CUDA not available - defaulting to CPU. Note: This module is much faster with a GPU.\n"
     ]
    },
    {
     "name": "stdout",
     "output_type": "stream",
     "text": [
      "from image= लाख\n",
      "edit distance 0\n",
      "198\n",
      "D:/AUDataset/MYDataSet/Devanagari/Training_Doc_Devanagari\\img0277.png\n",
      "original= मानचित्रण\n"
     ]
    },
    {
     "name": "stderr",
     "output_type": "stream",
     "text": [
      "CUDA not available - defaulting to CPU. Note: This module is much faster with a GPU.\n"
     ]
    },
    {
     "name": "stdout",
     "output_type": "stream",
     "text": [
      "from image= मानचित्रण\n",
      "edit distance 0\n",
      "199\n",
      "D:/AUDataset/MYDataSet/Devanagari/Training_Doc_Devanagari\\img0278.png\n",
      "original= ख\n"
     ]
    },
    {
     "name": "stderr",
     "output_type": "stream",
     "text": [
      "CUDA not available - defaulting to CPU. Note: This module is much faster with a GPU.\n"
     ]
    },
    {
     "name": "stdout",
     "output_type": "stream",
     "text": [
      "from image= ख\n",
      "edit distance 0\n",
      "200\n",
      "D:/AUDataset/MYDataSet/Devanagari/Training_Doc_Devanagari\\img0279.png\n",
      "original= नसबंदी\n"
     ]
    },
    {
     "name": "stderr",
     "output_type": "stream",
     "text": [
      "CUDA not available - defaulting to CPU. Note: This module is much faster with a GPU.\n"
     ]
    },
    {
     "name": "stdout",
     "output_type": "stream",
     "text": [
      "from image= नसबंदी\n",
      "edit distance 0\n",
      "201\n",
      "D:/AUDataset/MYDataSet/Devanagari/Training_Doc_Devanagari\\img0280.png\n",
      "original= में\n"
     ]
    },
    {
     "name": "stderr",
     "output_type": "stream",
     "text": [
      "CUDA not available - defaulting to CPU. Note: This module is much faster with a GPU.\n"
     ]
    },
    {
     "name": "stdout",
     "output_type": "stream",
     "text": [
      "from image= में\n",
      "edit distance 0\n",
      "202\n",
      "D:/AUDataset/MYDataSet/Devanagari/Training_Doc_Devanagari\\img0281.png\n",
      "original= सिर्फ\n"
     ]
    },
    {
     "name": "stderr",
     "output_type": "stream",
     "text": [
      "CUDA not available - defaulting to CPU. Note: This module is much faster with a GPU.\n"
     ]
    },
    {
     "name": "stdout",
     "output_type": "stream",
     "text": [
      "from image= सिर्फ\n",
      "edit distance 0\n",
      "203\n",
      "D:/AUDataset/MYDataSet/Devanagari/Training_Doc_Devanagari\\img0282.png\n",
      "original= पुरुष\n"
     ]
    },
    {
     "name": "stderr",
     "output_type": "stream",
     "text": [
      "CUDA not available - defaulting to CPU. Note: This module is much faster with a GPU.\n"
     ]
    },
    {
     "name": "stdout",
     "output_type": "stream",
     "text": [
      "from image= रुष\n",
      "edit distance 2\n",
      "15\n",
      "D:/AUDataset/MYDataSet/Devanagari/Training_Doc_Devanagari\\img0283.png\n",
      "original= सौ\n"
     ]
    },
    {
     "name": "stderr",
     "output_type": "stream",
     "text": [
      "CUDA not available - defaulting to CPU. Note: This module is much faster with a GPU.\n"
     ]
    },
    {
     "name": "stdout",
     "output_type": "stream",
     "text": [
      "D:/AUDataset/MYDataSet/Devanagari/Training_Doc_Devanagari\\img0284.png\n",
      "original= वाड्रा\n"
     ]
    },
    {
     "name": "stderr",
     "output_type": "stream",
     "text": [
      "CUDA not available - defaulting to CPU. Note: This module is much faster with a GPU.\n"
     ]
    },
    {
     "name": "stdout",
     "output_type": "stream",
     "text": [
      "from image= वाड्रा\n",
      "edit distance 0\n",
      "204\n",
      "D:/AUDataset/MYDataSet/Devanagari/Training_Doc_Devanagari\\img0285.png\n",
      "original= घंटे\n"
     ]
    },
    {
     "name": "stderr",
     "output_type": "stream",
     "text": [
      "CUDA not available - defaulting to CPU. Note: This module is much faster with a GPU.\n"
     ]
    },
    {
     "name": "stdout",
     "output_type": "stream",
     "text": [
      "from image= घंटे\n",
      "edit distance 0\n",
      "205\n",
      "D:/AUDataset/MYDataSet/Devanagari/Training_Doc_Devanagari\\img0286.png\n",
      "original= अधिकारियों\n"
     ]
    },
    {
     "name": "stderr",
     "output_type": "stream",
     "text": [
      "CUDA not available - defaulting to CPU. Note: This module is much faster with a GPU.\n"
     ]
    },
    {
     "name": "stdout",
     "output_type": "stream",
     "text": [
      "from image= अधिकारियों\n",
      "edit distance 0\n",
      "206\n",
      "D:/AUDataset/MYDataSet/Devanagari/Training_Doc_Devanagari\\img0287.png\n",
      "original= पूछे\n"
     ]
    },
    {
     "name": "stderr",
     "output_type": "stream",
     "text": [
      "CUDA not available - defaulting to CPU. Note: This module is much faster with a GPU.\n"
     ]
    },
    {
     "name": "stdout",
     "output_type": "stream",
     "text": [
      "from image= पूछे\n",
      "edit distance 0\n",
      "207\n",
      "D:/AUDataset/MYDataSet/Devanagari/Training_Doc_Devanagari\\img0288.png\n",
      "original= सवाल\n"
     ]
    },
    {
     "name": "stderr",
     "output_type": "stream",
     "text": [
      "CUDA not available - defaulting to CPU. Note: This module is much faster with a GPU.\n"
     ]
    },
    {
     "name": "stdout",
     "output_type": "stream",
     "text": [
      "from image= सवाल\n",
      "edit distance 0\n",
      "208\n",
      "D:/AUDataset/MYDataSet/Devanagari/Training_Doc_Devanagari\\img0289.png\n",
      "original= संगठन\n"
     ]
    },
    {
     "name": "stderr",
     "output_type": "stream",
     "text": [
      "CUDA not available - defaulting to CPU. Note: This module is much faster with a GPU.\n"
     ]
    },
    {
     "name": "stdout",
     "output_type": "stream",
     "text": [
      "from image= सगठन\n",
      "edit distance 1\n",
      "44\n",
      "D:/AUDataset/MYDataSet/Devanagari/Training_Doc_Devanagari\\img0290.png\n",
      "original= घ\n"
     ]
    },
    {
     "name": "stderr",
     "output_type": "stream",
     "text": [
      "CUDA not available - defaulting to CPU. Note: This module is much faster with a GPU.\n"
     ]
    },
    {
     "name": "stdout",
     "output_type": "stream",
     "text": [
      "from image= ध\n",
      "edit distance 1\n",
      "45\n",
      "D:/AUDataset/MYDataSet/Devanagari/Training_Doc_Devanagari\\img0291.png\n",
      "original= प्रतिशोध\n"
     ]
    },
    {
     "name": "stderr",
     "output_type": "stream",
     "text": [
      "CUDA not available - defaulting to CPU. Note: This module is much faster with a GPU.\n"
     ]
    },
    {
     "name": "stdout",
     "output_type": "stream",
     "text": [
      "from image= प्रतिशोध\n",
      "edit distance 0\n",
      "209\n",
      "D:/AUDataset/MYDataSet/Devanagari/Training_Doc_Devanagari\\img0292.png\n",
      "original= भावना\n"
     ]
    },
    {
     "name": "stderr",
     "output_type": "stream",
     "text": [
      "CUDA not available - defaulting to CPU. Note: This module is much faster with a GPU.\n"
     ]
    },
    {
     "name": "stdout",
     "output_type": "stream",
     "text": [
      "from image= भावना\n",
      "edit distance 0\n",
      "210\n",
      "D:/AUDataset/MYDataSet/Devanagari/Training_Doc_Devanagari\\img0293.png\n",
      "original= बनाएं\n"
     ]
    },
    {
     "name": "stderr",
     "output_type": "stream",
     "text": [
      "CUDA not available - defaulting to CPU. Note: This module is much faster with a GPU.\n"
     ]
    },
    {
     "name": "stdout",
     "output_type": "stream",
     "text": [
      "from image= बनाएं\n",
      "edit distance 0\n",
      "211\n",
      "D:/AUDataset/MYDataSet/Devanagari/Training_Doc_Devanagari\\img0294.png\n",
      "original= मेरी\n"
     ]
    },
    {
     "name": "stderr",
     "output_type": "stream",
     "text": [
      "CUDA not available - defaulting to CPU. Note: This module is much faster with a GPU.\n"
     ]
    },
    {
     "name": "stdout",
     "output_type": "stream",
     "text": [
      "from image= मेरी\n",
      "edit distance 0\n",
      "212\n",
      "D:/AUDataset/MYDataSet/Devanagari/Training_Doc_Devanagari\\img0295.png\n",
      "original= वर्षीय\n"
     ]
    },
    {
     "name": "stderr",
     "output_type": "stream",
     "text": [
      "CUDA not available - defaulting to CPU. Note: This module is much faster with a GPU.\n"
     ]
    },
    {
     "name": "stdout",
     "output_type": "stream",
     "text": [
      "from image= वर्षीय\n",
      "edit distance 0\n",
      "213\n",
      "D:/AUDataset/MYDataSet/Devanagari/Training_Doc_Devanagari\\img0296.png\n",
      "original= परेशान\n"
     ]
    },
    {
     "name": "stderr",
     "output_type": "stream",
     "text": [
      "CUDA not available - defaulting to CPU. Note: This module is much faster with a GPU.\n"
     ]
    },
    {
     "name": "stdout",
     "output_type": "stream",
     "text": [
      "from image= परेशान\n",
      "edit distance 0\n",
      "214\n",
      "D:/AUDataset/MYDataSet/Devanagari/Training_Doc_Devanagari\\img0297.png\n",
      "original= कर\n"
     ]
    },
    {
     "name": "stderr",
     "output_type": "stream",
     "text": [
      "CUDA not available - defaulting to CPU. Note: This module is much faster with a GPU.\n"
     ]
    },
    {
     "name": "stdout",
     "output_type": "stream",
     "text": [
      "from image= कर\n",
      "edit distance 0\n",
      "215\n",
      "D:/AUDataset/MYDataSet/Devanagari/Training_Doc_Devanagari\\img0298.png\n",
      "original= रही\n"
     ]
    },
    {
     "name": "stderr",
     "output_type": "stream",
     "text": [
      "CUDA not available - defaulting to CPU. Note: This module is much faster with a GPU.\n"
     ]
    },
    {
     "name": "stdout",
     "output_type": "stream",
     "text": [
      "from image= रही\n",
      "edit distance 0\n",
      "216\n",
      "D:/AUDataset/MYDataSet/Devanagari/Training_Doc_Devanagari\\img0299.png\n",
      "original= सरकार\n"
     ]
    },
    {
     "name": "stderr",
     "output_type": "stream",
     "text": [
      "CUDA not available - defaulting to CPU. Note: This module is much faster with a GPU.\n"
     ]
    },
    {
     "name": "stdout",
     "output_type": "stream",
     "text": [
      "from image= सरकार\n",
      "edit distance 0\n",
      "217\n",
      "D:/AUDataset/MYDataSet/Devanagari/Training_Doc_Devanagari\\img0300.png\n",
      "original= जो\n"
     ]
    },
    {
     "name": "stderr",
     "output_type": "stream",
     "text": [
      "CUDA not available - defaulting to CPU. Note: This module is much faster with a GPU.\n"
     ]
    },
    {
     "name": "stdout",
     "output_type": "stream",
     "text": [
      "from image= जो\n",
      "edit distance 0\n",
      "218\n",
      "D:/AUDataset/MYDataSet/Devanagari/Training_Doc_Devanagari\\img0301.png\n",
      "original= विज्ञान\n"
     ]
    },
    {
     "name": "stderr",
     "output_type": "stream",
     "text": [
      "CUDA not available - defaulting to CPU. Note: This module is much faster with a GPU.\n"
     ]
    },
    {
     "name": "stdout",
     "output_type": "stream",
     "text": [
      "from image= विज्ञान\n",
      "edit distance 0\n",
      "219\n",
      "D:/AUDataset/MYDataSet/Devanagari/Training_Doc_Devanagari\\img0302.png\n",
      "original= न\n"
     ]
    },
    {
     "name": "stderr",
     "output_type": "stream",
     "text": [
      "CUDA not available - defaulting to CPU. Note: This module is much faster with a GPU.\n"
     ]
    },
    {
     "name": "stdout",
     "output_type": "stream",
     "text": [
      "from image= न\n",
      "edit distance 0\n",
      "220\n",
      "D:/AUDataset/MYDataSet/Devanagari/Training_Doc_Devanagari\\img0303.png\n",
      "original= भ्रष्ट\n"
     ]
    },
    {
     "name": "stderr",
     "output_type": "stream",
     "text": [
      "CUDA not available - defaulting to CPU. Note: This module is much faster with a GPU.\n"
     ]
    },
    {
     "name": "stdout",
     "output_type": "stream",
     "text": [
      "from image= भ्रष्ट\n",
      "edit distance 0\n",
      "221\n",
      "D:/AUDataset/MYDataSet/Devanagari/Training_Doc_Devanagari\\img0304.png\n",
      "original= उसे\n"
     ]
    },
    {
     "name": "stderr",
     "output_type": "stream",
     "text": [
      "CUDA not available - defaulting to CPU. Note: This module is much faster with a GPU.\n"
     ]
    },
    {
     "name": "stdout",
     "output_type": "stream",
     "text": [
      "from image= उस\n",
      "edit distance 1\n",
      "46\n",
      "D:/AUDataset/MYDataSet/Devanagari/Training_Doc_Devanagari\\img0305.png\n",
      "original= मोदी\n"
     ]
    },
    {
     "name": "stderr",
     "output_type": "stream",
     "text": [
      "CUDA not available - defaulting to CPU. Note: This module is much faster with a GPU.\n"
     ]
    },
    {
     "name": "stdout",
     "output_type": "stream",
     "text": [
      "from image= मोदी\n",
      "edit distance 0\n",
      "222\n",
      "D:/AUDataset/MYDataSet/Devanagari/Training_Doc_Devanagari\\img0306.png\n",
      "original= न्यूज\n"
     ]
    },
    {
     "name": "stderr",
     "output_type": "stream",
     "text": [
      "CUDA not available - defaulting to CPU. Note: This module is much faster with a GPU.\n"
     ]
    },
    {
     "name": "stdout",
     "output_type": "stream",
     "text": [
      "D:/AUDataset/MYDataSet/Devanagari/Training_Doc_Devanagari\\img0307.png\n",
      "original= कष्ट\n"
     ]
    },
    {
     "name": "stderr",
     "output_type": "stream",
     "text": [
      "CUDA not available - defaulting to CPU. Note: This module is much faster with a GPU.\n"
     ]
    },
    {
     "name": "stdout",
     "output_type": "stream",
     "text": [
      "from image= कष्ट\n",
      "edit distance 0\n",
      "223\n",
      "D:/AUDataset/MYDataSet/Devanagari/Training_Doc_Devanagari\\img0308.png\n",
      "original= राफेल\n"
     ]
    },
    {
     "name": "stderr",
     "output_type": "stream",
     "text": [
      "CUDA not available - defaulting to CPU. Note: This module is much faster with a GPU.\n"
     ]
    },
    {
     "name": "stdout",
     "output_type": "stream",
     "text": [
      "from image= राफेल\n",
      "edit distance 0\n",
      "224\n",
      "D:/AUDataset/MYDataSet/Devanagari/Training_Doc_Devanagari\\img0309.png\n",
      "original= सौदे\n"
     ]
    },
    {
     "name": "stderr",
     "output_type": "stream",
     "text": [
      "CUDA not available - defaulting to CPU. Note: This module is much faster with a GPU.\n"
     ]
    },
    {
     "name": "stdout",
     "output_type": "stream",
     "text": [
      "from image= सौदे\n",
      "edit distance 0\n",
      "225\n",
      "D:/AUDataset/MYDataSet/Devanagari/Training_Doc_Devanagari\\img0310.png\n",
      "original= राहुल\n"
     ]
    },
    {
     "name": "stderr",
     "output_type": "stream",
     "text": [
      "CUDA not available - defaulting to CPU. Note: This module is much faster with a GPU.\n"
     ]
    },
    {
     "name": "stdout",
     "output_type": "stream",
     "text": [
      "from image= राहुल\n",
      "edit distance 0\n",
      "226\n",
      "D:/AUDataset/MYDataSet/Devanagari/Training_Doc_Devanagari\\img0311.png\n",
      "original= मोदी\n"
     ]
    },
    {
     "name": "stderr",
     "output_type": "stream",
     "text": [
      "CUDA not available - defaulting to CPU. Note: This module is much faster with a GPU.\n"
     ]
    },
    {
     "name": "stdout",
     "output_type": "stream",
     "text": [
      "from image= मोदी\n",
      "edit distance 0\n",
      "227\n",
      "D:/AUDataset/MYDataSet/Devanagari/Training_Doc_Devanagari\\img0312.png\n",
      "original= फिर\n"
     ]
    },
    {
     "name": "stderr",
     "output_type": "stream",
     "text": [
      "CUDA not available - defaulting to CPU. Note: This module is much faster with a GPU.\n"
     ]
    },
    {
     "name": "stdout",
     "output_type": "stream",
     "text": [
      "from image= फिर\n",
      "edit distance 0\n",
      "228\n",
      "D:/AUDataset/MYDataSet/Devanagari/Training_Doc_Devanagari\\img0313.png\n",
      "original= और\n"
     ]
    },
    {
     "name": "stderr",
     "output_type": "stream",
     "text": [
      "CUDA not available - defaulting to CPU. Note: This module is much faster with a GPU.\n"
     ]
    },
    {
     "name": "stdout",
     "output_type": "stream",
     "text": [
      "from image= और\n",
      "edit distance 0\n",
      "229\n",
      "D:/AUDataset/MYDataSet/Devanagari/Training_Doc_Devanagari\\img0314.png\n",
      "original= नल\n"
     ]
    },
    {
     "name": "stderr",
     "output_type": "stream",
     "text": [
      "CUDA not available - defaulting to CPU. Note: This module is much faster with a GPU.\n"
     ]
    },
    {
     "name": "stdout",
     "output_type": "stream",
     "text": [
      "from image= नल\n",
      "edit distance 0\n",
      "230\n",
      "D:/AUDataset/MYDataSet/Devanagari/Training_Doc_Devanagari\\img0315.png\n",
      "original= साधा\n"
     ]
    },
    {
     "name": "stderr",
     "output_type": "stream",
     "text": [
      "CUDA not available - defaulting to CPU. Note: This module is much faster with a GPU.\n"
     ]
    },
    {
     "name": "stdout",
     "output_type": "stream",
     "text": [
      "from image= साधा\n",
      "edit distance 0\n",
      "231\n",
      "D:/AUDataset/MYDataSet/Devanagari/Training_Doc_Devanagari\\img0316.png\n",
      "original= निशाना\n"
     ]
    },
    {
     "name": "stderr",
     "output_type": "stream",
     "text": [
      "CUDA not available - defaulting to CPU. Note: This module is much faster with a GPU.\n"
     ]
    },
    {
     "name": "stdout",
     "output_type": "stream",
     "text": [
      "from image= निशाना\n",
      "edit distance 0\n",
      "232\n",
      "D:/AUDataset/MYDataSet/Devanagari/Training_Doc_Devanagari\\img0317.png\n",
      "original= स्टेशनों\n"
     ]
    },
    {
     "name": "stderr",
     "output_type": "stream",
     "text": [
      "CUDA not available - defaulting to CPU. Note: This module is much faster with a GPU.\n"
     ]
    },
    {
     "name": "stdout",
     "output_type": "stream",
     "text": [
      "from image= स्टेशनों\n",
      "edit distance 0\n",
      "233\n",
      "D:/AUDataset/MYDataSet/Devanagari/Training_Doc_Devanagari\\img0318.png\n",
      "original= यात्री\n"
     ]
    },
    {
     "name": "stderr",
     "output_type": "stream",
     "text": [
      "CUDA not available - defaulting to CPU. Note: This module is much faster with a GPU.\n"
     ]
    },
    {
     "name": "stdout",
     "output_type": "stream",
     "text": [
      "from image= यात्री\n",
      "edit distance 0\n",
      "234\n",
      "D:/AUDataset/MYDataSet/Devanagari/Training_Doc_Devanagari\\img0319.png\n",
      "original= यू\n"
     ]
    },
    {
     "name": "stderr",
     "output_type": "stream",
     "text": [
      "CUDA not available - defaulting to CPU. Note: This module is much faster with a GPU.\n"
     ]
    },
    {
     "name": "stdout",
     "output_type": "stream",
     "text": [
      "from image= य\n",
      "edit distance 1\n",
      "47\n",
      "D:/AUDataset/MYDataSet/Devanagari/Training_Doc_Devanagari\\img0320.png\n",
      "original= सुविधाओं\n"
     ]
    },
    {
     "name": "stderr",
     "output_type": "stream",
     "text": [
      "CUDA not available - defaulting to CPU. Note: This module is much faster with a GPU.\n"
     ]
    },
    {
     "name": "stdout",
     "output_type": "stream",
     "text": [
      "from image= सुविधाओं\n",
      "edit distance 0\n",
      "235\n",
      "D:/AUDataset/MYDataSet/Devanagari/Training_Doc_Devanagari\\img0321.png\n",
      "original= अब\n"
     ]
    },
    {
     "name": "stderr",
     "output_type": "stream",
     "text": [
      "CUDA not available - defaulting to CPU. Note: This module is much faster with a GPU.\n"
     ]
    },
    {
     "name": "stdout",
     "output_type": "stream",
     "text": [
      "from image= अब\n",
      "edit distance 0\n",
      "236\n",
      "D:/AUDataset/MYDataSet/Devanagari/Training_Doc_Devanagari\\img0322.png\n",
      "original= होगा\n"
     ]
    },
    {
     "name": "stderr",
     "output_type": "stream",
     "text": [
      "CUDA not available - defaulting to CPU. Note: This module is much faster with a GPU.\n"
     ]
    },
    {
     "name": "stdout",
     "output_type": "stream",
     "text": [
      "from image= होगा\n",
      "edit distance 0\n",
      "237\n",
      "D:/AUDataset/MYDataSet/Devanagari/Training_Doc_Devanagari\\img0323.png\n",
      "original= टीवी\n"
     ]
    },
    {
     "name": "stderr",
     "output_type": "stream",
     "text": [
      "CUDA not available - defaulting to CPU. Note: This module is much faster with a GPU.\n"
     ]
    },
    {
     "name": "stdout",
     "output_type": "stream",
     "text": [
      "from image= टीवी\n",
      "edit distance 0\n",
      "238\n",
      "D:/AUDataset/MYDataSet/Devanagari/Training_Doc_Devanagari\\img0324.png\n",
      "original= चैनल\n"
     ]
    },
    {
     "name": "stderr",
     "output_type": "stream",
     "text": [
      "CUDA not available - defaulting to CPU. Note: This module is much faster with a GPU.\n"
     ]
    },
    {
     "name": "stdout",
     "output_type": "stream",
     "text": [
      "from image= चैनल\n",
      "edit distance 0\n",
      "239\n",
      "D:/AUDataset/MYDataSet/Devanagari/Training_Doc_Devanagari\\img0325.png\n",
      "original= प्रौघौगिकी\n"
     ]
    },
    {
     "name": "stderr",
     "output_type": "stream",
     "text": [
      "CUDA not available - defaulting to CPU. Note: This module is much faster with a GPU.\n"
     ]
    },
    {
     "name": "stdout",
     "output_type": "stream",
     "text": [
      "from image= प्रौद्यौगिको\n",
      "edit distance 4\n",
      "4\n",
      "D:/AUDataset/MYDataSet/Devanagari/Training_Doc_Devanagari\\img0326.png\n",
      "original= प\n"
     ]
    },
    {
     "name": "stderr",
     "output_type": "stream",
     "text": [
      "CUDA not available - defaulting to CPU. Note: This module is much faster with a GPU.\n"
     ]
    },
    {
     "name": "stdout",
     "output_type": "stream",
     "text": [
      "from image= प\n",
      "edit distance 0\n",
      "240\n",
      "D:/AUDataset/MYDataSet/Devanagari/Training_Doc_Devanagari\\img0327.png\n",
      "original= भिगोकर\n"
     ]
    },
    {
     "name": "stderr",
     "output_type": "stream",
     "text": [
      "CUDA not available - defaulting to CPU. Note: This module is much faster with a GPU.\n"
     ]
    },
    {
     "name": "stdout",
     "output_type": "stream",
     "text": [
      "from image= भिगोकर\n",
      "edit distance 0\n",
      "241\n",
      "D:/AUDataset/MYDataSet/Devanagari/Training_Doc_Devanagari\\img0328.png\n",
      "original= खून\n"
     ]
    },
    {
     "name": "stderr",
     "output_type": "stream",
     "text": [
      "CUDA not available - defaulting to CPU. Note: This module is much faster with a GPU.\n"
     ]
    },
    {
     "name": "stdout",
     "output_type": "stream",
     "text": [
      "D:/AUDataset/MYDataSet/Devanagari/Training_Doc_Devanagari\\img0329.png\n",
      "original= वर्दी\n"
     ]
    },
    {
     "name": "stderr",
     "output_type": "stream",
     "text": [
      "CUDA not available - defaulting to CPU. Note: This module is much faster with a GPU.\n"
     ]
    },
    {
     "name": "stdout",
     "output_type": "stream",
     "text": [
      "from image= वर्दी\n",
      "edit distance 0\n",
      "242\n",
      "D:/AUDataset/MYDataSet/Devanagari/Training_Doc_Devanagari\\img0330.png\n",
      "original= कहानी\n"
     ]
    },
    {
     "name": "stderr",
     "output_type": "stream",
     "text": [
      "CUDA not available - defaulting to CPU. Note: This module is much faster with a GPU.\n"
     ]
    },
    {
     "name": "stdout",
     "output_type": "stream",
     "text": [
      "from image= कहानी\n",
      "edit distance 0\n",
      "243\n",
      "D:/AUDataset/MYDataSet/Devanagari/Training_Doc_Devanagari\\img0331.png\n",
      "original= गए\n"
     ]
    },
    {
     "name": "stderr",
     "output_type": "stream",
     "text": [
      "CUDA not available - defaulting to CPU. Note: This module is much faster with a GPU.\n"
     ]
    },
    {
     "name": "stdout",
     "output_type": "stream",
     "text": [
      "D:/AUDataset/MYDataSet/Devanagari/Training_Doc_Devanagari\\img0332.png\n",
      "original= कैन\n"
     ]
    },
    {
     "name": "stderr",
     "output_type": "stream",
     "text": [
      "CUDA not available - defaulting to CPU. Note: This module is much faster with a GPU.\n"
     ]
    },
    {
     "name": "stdout",
     "output_type": "stream",
     "text": [
      "from image= कैन\n",
      "edit distance 0\n",
      "244\n",
      "D:/AUDataset/MYDataSet/Devanagari/Training_Doc_Devanagari\\img0333.png\n",
      "original= अपनी\n"
     ]
    },
    {
     "name": "stderr",
     "output_type": "stream",
     "text": [
      "CUDA not available - defaulting to CPU. Note: This module is much faster with a GPU.\n"
     ]
    },
    {
     "name": "stdout",
     "output_type": "stream",
     "text": [
      "from image= अपनी\n",
      "edit distance 0\n",
      "245\n",
      "D:/AUDataset/MYDataSet/Devanagari/Training_Doc_Devanagari\\img0334.png\n",
      "original= मोहब्बत\n"
     ]
    },
    {
     "name": "stderr",
     "output_type": "stream",
     "text": [
      "CUDA not available - defaulting to CPU. Note: This module is much faster with a GPU.\n"
     ]
    },
    {
     "name": "stdout",
     "output_type": "stream",
     "text": [
      "from image= मोहब्बत\n",
      "edit distance 0\n",
      "246\n",
      "D:/AUDataset/MYDataSet/Devanagari/Training_Doc_Devanagari\\img0335.png\n",
      "original= मुल्क\n"
     ]
    },
    {
     "name": "stderr",
     "output_type": "stream",
     "text": [
      "CUDA not available - defaulting to CPU. Note: This module is much faster with a GPU.\n"
     ]
    },
    {
     "name": "stdout",
     "output_type": "stream",
     "text": [
      "from image= मुल्क\n",
      "edit distance 0\n",
      "247\n",
      "D:/AUDataset/MYDataSet/Devanagari/Training_Doc_Devanagari\\img0336.png\n",
      "original= सच्ची\n"
     ]
    },
    {
     "name": "stderr",
     "output_type": "stream",
     "text": [
      "CUDA not available - defaulting to CPU. Note: This module is much faster with a GPU.\n"
     ]
    },
    {
     "name": "stdout",
     "output_type": "stream",
     "text": [
      "from image= सच्च\n",
      "edit distance 1\n",
      "48\n",
      "D:/AUDataset/MYDataSet/Devanagari/Training_Doc_Devanagari\\img0337.png\n",
      "original= विभाग\n"
     ]
    },
    {
     "name": "stderr",
     "output_type": "stream",
     "text": [
      "CUDA not available - defaulting to CPU. Note: This module is much faster with a GPU.\n"
     ]
    },
    {
     "name": "stdout",
     "output_type": "stream",
     "text": [
      "from image= विभाग\n",
      "edit distance 0\n",
      "248\n",
      "D:/AUDataset/MYDataSet/Devanagari/Training_Doc_Devanagari\\img0338.png\n",
      "original= पतंग\n"
     ]
    },
    {
     "name": "stderr",
     "output_type": "stream",
     "text": [
      "CUDA not available - defaulting to CPU. Note: This module is much faster with a GPU.\n"
     ]
    },
    {
     "name": "stdout",
     "output_type": "stream",
     "text": [
      "from image= पतग\n",
      "edit distance 1\n",
      "49\n",
      "D:/AUDataset/MYDataSet/Devanagari/Training_Doc_Devanagari\\img0339.png\n",
      "original= निशानी\n"
     ]
    },
    {
     "name": "stderr",
     "output_type": "stream",
     "text": [
      "CUDA not available - defaulting to CPU. Note: This module is much faster with a GPU.\n"
     ]
    },
    {
     "name": "stdout",
     "output_type": "stream",
     "text": [
      "from image= निशानी\n",
      "edit distance 0\n",
      "249\n",
      "D:/AUDataset/MYDataSet/Devanagari/Training_Doc_Devanagari\\img0340.png\n",
      "original= बस\n"
     ]
    },
    {
     "name": "stderr",
     "output_type": "stream",
     "text": [
      "CUDA not available - defaulting to CPU. Note: This module is much faster with a GPU.\n"
     ]
    },
    {
     "name": "stdout",
     "output_type": "stream",
     "text": [
      "from image= बस\n",
      "edit distance 0\n",
      "250\n",
      "D:/AUDataset/MYDataSet/Devanagari/Training_Doc_Devanagari\\img0341.png\n",
      "original= गए\n"
     ]
    },
    {
     "name": "stderr",
     "output_type": "stream",
     "text": [
      "CUDA not available - defaulting to CPU. Note: This module is much faster with a GPU.\n"
     ]
    },
    {
     "name": "stdout",
     "output_type": "stream",
     "text": [
      "D:/AUDataset/MYDataSet/Devanagari/Training_Doc_Devanagari\\img0342.png\n",
      "original= मनाते\n"
     ]
    },
    {
     "name": "stderr",
     "output_type": "stream",
     "text": [
      "CUDA not available - defaulting to CPU. Note: This module is much faster with a GPU.\n"
     ]
    },
    {
     "name": "stdout",
     "output_type": "stream",
     "text": [
      "from image= मनाते\n",
      "edit distance 0\n",
      "251\n",
      "D:/AUDataset/MYDataSet/Devanagari/Training_Doc_Devanagari\\img0343.png\n",
      "original= रह\n"
     ]
    },
    {
     "name": "stderr",
     "output_type": "stream",
     "text": [
      "CUDA not available - defaulting to CPU. Note: This module is much faster with a GPU.\n"
     ]
    },
    {
     "name": "stdout",
     "output_type": "stream",
     "text": [
      "from image= रह\n",
      "edit distance 0\n",
      "252\n",
      "D:/AUDataset/MYDataSet/Devanagari/Training_Doc_Devanagari\\img0344.png\n",
      "original= गए\n"
     ]
    },
    {
     "name": "stderr",
     "output_type": "stream",
     "text": [
      "CUDA not available - defaulting to CPU. Note: This module is much faster with a GPU.\n"
     ]
    },
    {
     "name": "stdout",
     "output_type": "stream",
     "text": [
      "from image= गए\n",
      "edit distance 0\n",
      "253\n",
      "D:/AUDataset/MYDataSet/Devanagari/Training_Doc_Devanagari\\img0345.png\n",
      "original= वेलेंटाइन\n"
     ]
    },
    {
     "name": "stderr",
     "output_type": "stream",
     "text": [
      "CUDA not available - defaulting to CPU. Note: This module is much faster with a GPU.\n"
     ]
    },
    {
     "name": "stdout",
     "output_type": "stream",
     "text": [
      "from image= वेलेंटाइन\n",
      "edit distance 0\n",
      "254\n",
      "D:/AUDataset/MYDataSet/Devanagari/Training_Doc_Devanagari\\img0346.png\n",
      "original= यूज\n"
     ]
    },
    {
     "name": "stderr",
     "output_type": "stream",
     "text": [
      "CUDA not available - defaulting to CPU. Note: This module is much faster with a GPU.\n"
     ]
    },
    {
     "name": "stdout",
     "output_type": "stream",
     "text": [
      "from image= यूज\n",
      "edit distance 0\n",
      "255\n",
      "D:/AUDataset/MYDataSet/Devanagari/Training_Doc_Devanagari\\img0347.png\n",
      "original= यहाँ\n"
     ]
    },
    {
     "name": "stderr",
     "output_type": "stream",
     "text": [
      "CUDA not available - defaulting to CPU. Note: This module is much faster with a GPU.\n"
     ]
    },
    {
     "name": "stdout",
     "output_type": "stream",
     "text": [
      "from image= यहा\n",
      "edit distance 1\n",
      "50\n",
      "D:/AUDataset/MYDataSet/Devanagari/Training_Doc_Devanagari\\img0348.png\n",
      "original= हम\n"
     ]
    },
    {
     "name": "stderr",
     "output_type": "stream",
     "text": [
      "CUDA not available - defaulting to CPU. Note: This module is much faster with a GPU.\n"
     ]
    },
    {
     "name": "stdout",
     "output_type": "stream",
     "text": [
      "D:/AUDataset/MYDataSet/Devanagari/Training_Doc_Devanagari\\img0349.png\n",
      "original= तुम,\n"
     ]
    },
    {
     "name": "stderr",
     "output_type": "stream",
     "text": [
      "CUDA not available - defaulting to CPU. Note: This module is much faster with a GPU.\n"
     ]
    },
    {
     "name": "stdout",
     "output_type": "stream",
     "text": [
      "D:/AUDataset/MYDataSet/Devanagari/Training_Doc_Devanagari\\img0350.png\n",
      "original= चरण\n"
     ]
    },
    {
     "name": "stderr",
     "output_type": "stream",
     "text": [
      "CUDA not available - defaulting to CPU. Note: This module is much faster with a GPU.\n"
     ]
    },
    {
     "name": "stdout",
     "output_type": "stream",
     "text": [
      "from image= चरण\n",
      "edit distance 0\n",
      "256\n",
      "D:/AUDataset/MYDataSet/Devanagari/Training_Doc_Devanagari\\img0351.png\n",
      "original= साहस\n"
     ]
    },
    {
     "name": "stderr",
     "output_type": "stream",
     "text": [
      "CUDA not available - defaulting to CPU. Note: This module is much faster with a GPU.\n"
     ]
    },
    {
     "name": "stdout",
     "output_type": "stream",
     "text": [
      "from image= साहस\n",
      "edit distance 0\n",
      "257\n",
      "D:/AUDataset/MYDataSet/Devanagari/Training_Doc_Devanagari\\img0352.png\n",
      "original= भगवान्\n"
     ]
    },
    {
     "name": "stderr",
     "output_type": "stream",
     "text": [
      "CUDA not available - defaulting to CPU. Note: This module is much faster with a GPU.\n"
     ]
    },
    {
     "name": "stdout",
     "output_type": "stream",
     "text": [
      "from image= अगवान\n",
      "edit distance 2\n",
      "16\n",
      "D:/AUDataset/MYDataSet/Devanagari/Training_Doc_Devanagari\\img0353.png\n",
      "original= ज्ञानकोश\n"
     ]
    },
    {
     "name": "stderr",
     "output_type": "stream",
     "text": [
      "CUDA not available - defaulting to CPU. Note: This module is much faster with a GPU.\n"
     ]
    }
   ],
   "source": [
    "df = pd.read_csv('Training_Doc_Devanagari.csv')\n",
    "gt_string = df[\"RecognizedText\"].tolist()\n",
    "#gt_string\n",
    "\n",
    "path = r\"D:/AUDataset/MYDataSet/Devanagari/Training_Doc_Devanagari/img*.png\"\n",
    "i=0\n",
    "dist_Training_Doc_Devanagari=[0] *22\n",
    "Sum_Crr=0\n",
    "Distance3=[]\n",
    "\n",
    "for file in sorted(glob.glob(path)):\n",
    "    print(file)#Show Image File Address\n",
    "    print('original=',gt_string[i])\n",
    "    im= cv2.imread(file)\n",
    "    reader = easyocr.Reader(['hi'])\n",
    "    result = reader.readtext(im)\n",
    "    if len(result)==0:\n",
    "        i=i+1\n",
    "        continue\n",
    "    out_string = result[0][1]\n",
    "    \n",
    "    print('from image=',out_string)\n",
    "    l_dist = edit_distance(gt_string[i],out_string)\n",
    "    print('edit distance',l_dist)\n",
    "    \n",
    "    Distance3.append(l_dist)\n",
    "    \n",
    "    #Find Mean_crr:\n",
    "    Total_character_length= len(gt_string[i])\n",
    "    Dist_length=l_dist\n",
    "    Crr=(Total_character_length-Dist_length)/Total_character_length\n",
    "    Sum_Crr=Sum_Crr+Crr\n",
    "    \n",
    "    i=i+1\n",
    "    dist_Training_Doc_Devanagari[l_dist] = dist_Training_Doc_Devanagari[l_dist]+1 \n",
    "    print(dist_Training_Doc_Devanagari[l_dist])\n",
    "    \n",
    "dist_Training_Doc_Devanagari"
   ]
  },
  {
   "cell_type": "code",
   "execution_count": null,
   "metadata": {},
   "outputs": [],
   "source": [
    "#find WRR\n",
    "Wrr=(dist_Training_Doc_Devanagari[0]/i)*100\n",
    "print(\"Total Words =\",i)\n",
    "print(\"Distance in indexing =\",dist_Training_Doc_Devanagari)\n",
    "print(\"Error free Words =\",dist_Training_Doc_Devanagari[0])\n",
    "print(\"word recognition rate =\",Wrr)\n",
    "\n",
    "#find Mean_Crr\n",
    "Mean_Crr=(Sum_Crr/i)*100\n",
    "print(\"Mean Character Recognition rate =\",Mean_Crr)"
   ]
  },
  {
   "cell_type": "code",
   "execution_count": null,
   "metadata": {},
   "outputs": [],
   "source": [
    "#plot histogram\n",
    "plt.hist(Distance3, density=True,bins=10,range=(0,10), edgecolor=\"k\", rwidth=0.8, color=\"#ff9933\" )\n",
    "plt.xlabel(\"Levenshtein distance\")\n",
    "plt.ylabel(\"Frequency\")\n",
    "plt.title(\"Distribution of MED for Devanagari Training Document images\")\n",
    "\n",
    "plt.savefig('out_hist/Training_Doc_Devanagari.png', bbox_inches='tight', quality=100)\n",
    "plt.show()"
   ]
  },
  {
   "cell_type": "code",
   "execution_count": null,
   "metadata": {},
   "outputs": [],
   "source": [
    "#BarGraph:\n",
    "i=np.arange(22)\n",
    "tick_label=i\n",
    "plt.bar(i,dist_Training_Doc_Devanagari,label ='Training_Doc_Devanagari',tick_label = tick_label,width=0.8, color=\"#ff9933\")\n",
    "\n",
    "plt.xlabel(\"Levenshtein Distance\")\n",
    "plt.ylabel(\"No_Of_Image\")\n",
    "plt.title(\"Bar Chart of MED for Devanagari Training Document images\")\n",
    "\n",
    "plt.savefig('out_bar/Training_Doc_Devanagari.png', bbox_inches='tight', quality=100)\n",
    "plt.show()"
   ]
  },
  {
   "cell_type": "code",
   "execution_count": null,
   "metadata": {
    "scrolled": true
   },
   "outputs": [],
   "source": [
    "df = pd.read_csv('Training_Scene_Devanagari.csv')\n",
    "gt_string = df[\"RecognizedText\"].tolist()\n",
    "#gt_string\n",
    "\n",
    "path = r\"D:/AUDataset/MYDataSet/Devanagari/Training_Scene_Devanagari/img*.png\"\n",
    "i=0\n",
    "dist_Training_Scene_Devanagari=[0] *22\n",
    "Sum_Crr=0\n",
    "Distance4=[]\n",
    "\n",
    "for file in sorted(glob.glob(path)):\n",
    "    print(file)#Show Image File Address\n",
    "    print('original=',gt_string[i])\n",
    "    im= cv2.imread(file)\n",
    "    reader = easyocr.Reader(['hi'])\n",
    "    result = reader.readtext(im)\n",
    "    if len(result)==0:\n",
    "        i=i+1\n",
    "        continue\n",
    "    out_string = result[0][1]\n",
    "    \n",
    "    print('from image=',out_string)\n",
    "    l_dist = edit_distance(gt_string[i],out_string)\n",
    "    print('edit distance',l_dist)\n",
    "    \n",
    "    Distance4.append(l_dist)\n",
    "    \n",
    "    #Find Mean_crr:\n",
    "    Total_character_length= len(gt_string[i])\n",
    "    Dist_length=l_dist\n",
    "    Crr=(Total_character_length-Dist_length)/Total_character_length\n",
    "    Sum_Crr=Sum_Crr+Crr\n",
    "    \n",
    "    i=i+1\n",
    "    dist_Training_Scene_Devanagari[l_dist] = dist_Training_Scene_Devanagari[l_dist]+1 \n",
    "    print(dist_Training_Scene_Devanagari[l_dist])\n",
    "    \n",
    "dist_Training_Scene_Devanagari "
   ]
  },
  {
   "cell_type": "code",
   "execution_count": null,
   "metadata": {},
   "outputs": [],
   "source": [
    "#find WRR\n",
    "Wrr=(dist_Training_Scene_Devanagari[0]/i)*100\n",
    "print(\"Total Words =\",i)\n",
    "print(\"Distance in indexing =\",dist_Training_Scene_Devanagari)\n",
    "print(\"Error free Words =\",dist_Training_Scene_Devanagari[0])\n",
    "print(\"word recognition rate =\",Wrr)\n",
    "\n",
    "#find Mean_Crr\n",
    "Mean_Crr=(Sum_Crr/i)*100\n",
    "print(\"Mean Character Recognition rate =\",Mean_Crr)"
   ]
  },
  {
   "cell_type": "code",
   "execution_count": null,
   "metadata": {},
   "outputs": [],
   "source": [
    "#plot histogram\n",
    "plt.hist(Distance4, density=True,bins=10,range=(0,10), edgecolor=\"k\", rwidth=0.8, color=\"#ff9933\" )\n",
    "plt.xlabel(\"Levenshtein distance\")\n",
    "plt.ylabel(\"Frequency\")\n",
    "plt.title(\"Distribution of MED for Devanagari Training_Scene images\")\n",
    "\n",
    "plt.savefig('out_hist/Training_Scene_Devanagari.png', bbox_inches='tight', quality=100)\n",
    "plt.show()"
   ]
  },
  {
   "cell_type": "code",
   "execution_count": null,
   "metadata": {},
   "outputs": [],
   "source": [
    "#BarGraph:\n",
    "i=np.arange(22)\n",
    "tick_label=i\n",
    "plt.bar(i,dist_Training_Scene_Devanagari ,label ='Training_Scene_Devanagari',tick_label = tick_label,width=0.8, color=\"#ff9933\")\n",
    "\n",
    "plt.xlabel(\"Levenshtein Distance\")\n",
    "plt.ylabel(\"No_Of_Image\")\n",
    "plt.title(\"Bar Chart of MED for Devanagari Training_Scene images\")\n",
    "\n",
    "plt.savefig('out_bar/Training_Scene_Devanagari.png', bbox_inches='tight', quality=100)\n",
    "plt.show()"
   ]
  },
  {
   "cell_type": "code",
   "execution_count": null,
   "metadata": {},
   "outputs": [],
   "source": [
    "w=dist_Test_Doc_Devanagari\n",
    "x=dist_Test_Scene_Devanagari\n",
    "y=dist_Training_Doc_Devanagari\n",
    "z=dist_Training_Scene_Devanagari "
   ]
  },
  {
   "cell_type": "code",
   "execution_count": 27,
   "metadata": {
    "collapsed": true
   },
   "outputs": [
    {
     "data": {
      "text/html": [
       "<div>\n",
       "<style scoped>\n",
       "    .dataframe tbody tr th:only-of-type {\n",
       "        vertical-align: middle;\n",
       "    }\n",
       "\n",
       "    .dataframe tbody tr th {\n",
       "        vertical-align: top;\n",
       "    }\n",
       "\n",
       "    .dataframe thead th {\n",
       "        text-align: right;\n",
       "    }\n",
       "</style>\n",
       "<table border=\"1\" class=\"dataframe\">\n",
       "  <thead>\n",
       "    <tr style=\"text-align: right;\">\n",
       "      <th></th>\n",
       "      <th>Test_Doc_Devanagari</th>\n",
       "      <th>Test_Scene_Devanagari</th>\n",
       "      <th>Training_Doc_Devanagari</th>\n",
       "      <th>Training_Scene_Devanagari</th>\n",
       "    </tr>\n",
       "  </thead>\n",
       "  <tbody>\n",
       "    <tr>\n",
       "      <th>0</th>\n",
       "      <td>175</td>\n",
       "      <td>38</td>\n",
       "      <td>671</td>\n",
       "      <td>159</td>\n",
       "    </tr>\n",
       "    <tr>\n",
       "      <th>1</th>\n",
       "      <td>26</td>\n",
       "      <td>16</td>\n",
       "      <td>159</td>\n",
       "      <td>47</td>\n",
       "    </tr>\n",
       "    <tr>\n",
       "      <th>2</th>\n",
       "      <td>11</td>\n",
       "      <td>6</td>\n",
       "      <td>53</td>\n",
       "      <td>25</td>\n",
       "    </tr>\n",
       "    <tr>\n",
       "      <th>3</th>\n",
       "      <td>8</td>\n",
       "      <td>5</td>\n",
       "      <td>19</td>\n",
       "      <td>17</td>\n",
       "    </tr>\n",
       "    <tr>\n",
       "      <th>4</th>\n",
       "      <td>4</td>\n",
       "      <td>4</td>\n",
       "      <td>9</td>\n",
       "      <td>10</td>\n",
       "    </tr>\n",
       "    <tr>\n",
       "      <th>5</th>\n",
       "      <td>1</td>\n",
       "      <td>0</td>\n",
       "      <td>3</td>\n",
       "      <td>4</td>\n",
       "    </tr>\n",
       "    <tr>\n",
       "      <th>6</th>\n",
       "      <td>0</td>\n",
       "      <td>0</td>\n",
       "      <td>0</td>\n",
       "      <td>4</td>\n",
       "    </tr>\n",
       "    <tr>\n",
       "      <th>7</th>\n",
       "      <td>0</td>\n",
       "      <td>0</td>\n",
       "      <td>0</td>\n",
       "      <td>3</td>\n",
       "    </tr>\n",
       "    <tr>\n",
       "      <th>8</th>\n",
       "      <td>0</td>\n",
       "      <td>0</td>\n",
       "      <td>0</td>\n",
       "      <td>2</td>\n",
       "    </tr>\n",
       "    <tr>\n",
       "      <th>9</th>\n",
       "      <td>0</td>\n",
       "      <td>1</td>\n",
       "      <td>0</td>\n",
       "      <td>0</td>\n",
       "    </tr>\n",
       "    <tr>\n",
       "      <th>10</th>\n",
       "      <td>0</td>\n",
       "      <td>0</td>\n",
       "      <td>0</td>\n",
       "      <td>0</td>\n",
       "    </tr>\n",
       "    <tr>\n",
       "      <th>11</th>\n",
       "      <td>0</td>\n",
       "      <td>0</td>\n",
       "      <td>0</td>\n",
       "      <td>0</td>\n",
       "    </tr>\n",
       "    <tr>\n",
       "      <th>12</th>\n",
       "      <td>0</td>\n",
       "      <td>0</td>\n",
       "      <td>0</td>\n",
       "      <td>0</td>\n",
       "    </tr>\n",
       "    <tr>\n",
       "      <th>13</th>\n",
       "      <td>0</td>\n",
       "      <td>0</td>\n",
       "      <td>0</td>\n",
       "      <td>0</td>\n",
       "    </tr>\n",
       "    <tr>\n",
       "      <th>14</th>\n",
       "      <td>0</td>\n",
       "      <td>0</td>\n",
       "      <td>0</td>\n",
       "      <td>0</td>\n",
       "    </tr>\n",
       "    <tr>\n",
       "      <th>15</th>\n",
       "      <td>0</td>\n",
       "      <td>0</td>\n",
       "      <td>0</td>\n",
       "      <td>0</td>\n",
       "    </tr>\n",
       "    <tr>\n",
       "      <th>16</th>\n",
       "      <td>0</td>\n",
       "      <td>0</td>\n",
       "      <td>0</td>\n",
       "      <td>0</td>\n",
       "    </tr>\n",
       "    <tr>\n",
       "      <th>17</th>\n",
       "      <td>0</td>\n",
       "      <td>0</td>\n",
       "      <td>0</td>\n",
       "      <td>0</td>\n",
       "    </tr>\n",
       "    <tr>\n",
       "      <th>18</th>\n",
       "      <td>0</td>\n",
       "      <td>0</td>\n",
       "      <td>0</td>\n",
       "      <td>0</td>\n",
       "    </tr>\n",
       "    <tr>\n",
       "      <th>19</th>\n",
       "      <td>0</td>\n",
       "      <td>0</td>\n",
       "      <td>0</td>\n",
       "      <td>0</td>\n",
       "    </tr>\n",
       "    <tr>\n",
       "      <th>20</th>\n",
       "      <td>0</td>\n",
       "      <td>0</td>\n",
       "      <td>0</td>\n",
       "      <td>0</td>\n",
       "    </tr>\n",
       "    <tr>\n",
       "      <th>21</th>\n",
       "      <td>0</td>\n",
       "      <td>0</td>\n",
       "      <td>0</td>\n",
       "      <td>0</td>\n",
       "    </tr>\n",
       "  </tbody>\n",
       "</table>\n",
       "</div>"
      ],
      "text/plain": [
       "    Test_Doc_Devanagari  Test_Scene_Devanagari  Training_Doc_Devanagari  \\\n",
       "0                   175                     38                      671   \n",
       "1                    26                     16                      159   \n",
       "2                    11                      6                       53   \n",
       "3                     8                      5                       19   \n",
       "4                     4                      4                        9   \n",
       "5                     1                      0                        3   \n",
       "6                     0                      0                        0   \n",
       "7                     0                      0                        0   \n",
       "8                     0                      0                        0   \n",
       "9                     0                      1                        0   \n",
       "10                    0                      0                        0   \n",
       "11                    0                      0                        0   \n",
       "12                    0                      0                        0   \n",
       "13                    0                      0                        0   \n",
       "14                    0                      0                        0   \n",
       "15                    0                      0                        0   \n",
       "16                    0                      0                        0   \n",
       "17                    0                      0                        0   \n",
       "18                    0                      0                        0   \n",
       "19                    0                      0                        0   \n",
       "20                    0                      0                        0   \n",
       "21                    0                      0                        0   \n",
       "\n",
       "    Training_Scene_Devanagari   \n",
       "0                          159  \n",
       "1                           47  \n",
       "2                           25  \n",
       "3                           17  \n",
       "4                           10  \n",
       "5                            4  \n",
       "6                            4  \n",
       "7                            3  \n",
       "8                            2  \n",
       "9                            0  \n",
       "10                           0  \n",
       "11                           0  \n",
       "12                           0  \n",
       "13                           0  \n",
       "14                           0  \n",
       "15                           0  \n",
       "16                           0  \n",
       "17                           0  \n",
       "18                           0  \n",
       "19                           0  \n",
       "20                           0  \n",
       "21                           0  "
      ]
     },
     "execution_count": 27,
     "metadata": {},
     "output_type": "execute_result"
    }
   ],
   "source": [
    "dev = dict({'Test_Doc_Devanagari':w, 'Test_Scene_Devanagari':x,'Training_Doc_Devanagari':y,'Training_Scene_Devanagari ':z})\n",
    "df=pd.DataFrame(dev)\n",
    "df.to_csv('Distance_Index_Devanagari.csv') \n",
    "df"
   ]
  },
  {
   "cell_type": "code",
   "execution_count": 28,
   "metadata": {
    "collapsed": true
   },
   "outputs": [
    {
     "data": {
      "text/plain": [
       "<seaborn.axisgrid.PairGrid at 0x21c0a5bde48>"
      ]
     },
     "execution_count": 28,
     "metadata": {},
     "output_type": "execute_result"
    },
    {
     "data": {
      "image/png": "[encoded data removed]",
      "text/plain": [
       "<Figure size 720x720 with 20 Axes>"
      ]
     },
     "metadata": {
      "needs_background": "light"
     },
     "output_type": "display_data"
    }
   ],
   "source": [
    "import seaborn as sns\n",
    "#i=np.arange(22)\n",
    "sns.pairplot(df, kind=\"reg\")\n"
   ]
  },
  {
   "cell_type": "code",
   "execution_count": 58,
   "metadata": {},
   "outputs": [
    {
     "data": {
      "image/png": "[encoded data removed]",
      "text/plain": [
       "<Figure size 720x720 with 20 Axes>"
      ]
     },
     "metadata": {
      "needs_background": "light"
     },
     "output_type": "display_data"
    }
   ],
   "source": [
    "sns.pairplot(df, kind=\"scatter\")\n",
    "plt.show()\n"
   ]
  },
  {
   "cell_type": "code",
   "execution_count": 29,
   "metadata": {},
   "outputs": [
    {
     "ename": "KeyError",
     "evalue": "'Training_Scene_Devanagari'",
     "output_type": "error",
     "traceback": [
      "\u001b[1;31m---------------------------------------------------------------------------\u001b[0m",
      "\u001b[1;31mKeyError\u001b[0m                                  Traceback (most recent call last)",
      "\u001b[1;32mC:\\Anaconda3\\lib\\site-packages\\pandas\\core\\indexes\\base.py\u001b[0m in \u001b[0;36mget_loc\u001b[1;34m(self, key, method, tolerance)\u001b[0m\n\u001b[0;32m   2656\u001b[0m             \u001b[1;32mtry\u001b[0m\u001b[1;33m:\u001b[0m\u001b[1;33m\u001b[0m\u001b[1;33m\u001b[0m\u001b[0m\n\u001b[1;32m-> 2657\u001b[1;33m                 \u001b[1;32mreturn\u001b[0m \u001b[0mself\u001b[0m\u001b[1;33m.\u001b[0m\u001b[0m_engine\u001b[0m\u001b[1;33m.\u001b[0m\u001b[0mget_loc\u001b[0m\u001b[1;33m(\u001b[0m\u001b[0mkey\u001b[0m\u001b[1;33m)\u001b[0m\u001b[1;33m\u001b[0m\u001b[1;33m\u001b[0m\u001b[0m\n\u001b[0m\u001b[0;32m   2658\u001b[0m             \u001b[1;32mexcept\u001b[0m \u001b[0mKeyError\u001b[0m\u001b[1;33m:\u001b[0m\u001b[1;33m\u001b[0m\u001b[1;33m\u001b[0m\u001b[0m\n",
      "\u001b[1;32mpandas/_libs/index.pyx\u001b[0m in \u001b[0;36mpandas._libs.index.IndexEngine.get_loc\u001b[1;34m()\u001b[0m\n",
      "\u001b[1;32mpandas/_libs/index.pyx\u001b[0m in \u001b[0;36mpandas._libs.index.IndexEngine.get_loc\u001b[1;34m()\u001b[0m\n",
      "\u001b[1;32mpandas/_libs/hashtable_class_helper.pxi\u001b[0m in \u001b[0;36mpandas._libs.hashtable.PyObjectHashTable.get_item\u001b[1;34m()\u001b[0m\n",
      "\u001b[1;32mpandas/_libs/hashtable_class_helper.pxi\u001b[0m in \u001b[0;36mpandas._libs.hashtable.PyObjectHashTable.get_item\u001b[1;34m()\u001b[0m\n",
      "\u001b[1;31mKeyError\u001b[0m: 'Training_Scene_Devanagari'",
      "\nDuring handling of the above exception, another exception occurred:\n",
      "\u001b[1;31mKeyError\u001b[0m                                  Traceback (most recent call last)",
      "\u001b[1;32m<ipython-input-29-cdb2c5e4e0ee>\u001b[0m in \u001b[0;36m<module>\u001b[1;34m\u001b[0m\n\u001b[0;32m      2\u001b[0m \u001b[0msns\u001b[0m\u001b[1;33m.\u001b[0m\u001b[0mkdeplot\u001b[0m\u001b[1;33m(\u001b[0m\u001b[0mdf\u001b[0m\u001b[1;33m[\u001b[0m\u001b[1;34m'Test_Scene_Devanagari'\u001b[0m\u001b[1;33m]\u001b[0m\u001b[1;33m,\u001b[0m \u001b[0mshade\u001b[0m\u001b[1;33m=\u001b[0m\u001b[1;32mTrue\u001b[0m\u001b[1;33m,\u001b[0m \u001b[0mcolor\u001b[0m\u001b[1;33m=\u001b[0m\u001b[1;34m\"g\"\u001b[0m\u001b[1;33m)\u001b[0m\u001b[1;33m\u001b[0m\u001b[1;33m\u001b[0m\u001b[0m\n\u001b[0;32m      3\u001b[0m \u001b[0msns\u001b[0m\u001b[1;33m.\u001b[0m\u001b[0mkdeplot\u001b[0m\u001b[1;33m(\u001b[0m\u001b[0mdf\u001b[0m\u001b[1;33m[\u001b[0m\u001b[1;34m'Training_Doc_Devanagari'\u001b[0m\u001b[1;33m]\u001b[0m\u001b[1;33m,\u001b[0m \u001b[0mshade\u001b[0m\u001b[1;33m=\u001b[0m\u001b[1;32mTrue\u001b[0m\u001b[1;33m,\u001b[0m \u001b[0mcolor\u001b[0m\u001b[1;33m=\u001b[0m\u001b[1;34m\"b\"\u001b[0m\u001b[1;33m)\u001b[0m\u001b[1;33m\u001b[0m\u001b[1;33m\u001b[0m\u001b[0m\n\u001b[1;32m----> 4\u001b[1;33m \u001b[0msns\u001b[0m\u001b[1;33m.\u001b[0m\u001b[0mkdeplot\u001b[0m\u001b[1;33m(\u001b[0m\u001b[0mdf\u001b[0m\u001b[1;33m[\u001b[0m\u001b[1;34m'Training_Scene_Devanagari'\u001b[0m\u001b[1;33m]\u001b[0m\u001b[1;33m,\u001b[0m \u001b[0mshade\u001b[0m\u001b[1;33m=\u001b[0m\u001b[1;32mTrue\u001b[0m\u001b[1;33m,\u001b[0m \u001b[0mcolor\u001b[0m\u001b[1;33m=\u001b[0m\u001b[1;34m\"c\"\u001b[0m\u001b[1;33m)\u001b[0m\u001b[1;33m\u001b[0m\u001b[1;33m\u001b[0m\u001b[0m\n\u001b[0m",
      "\u001b[1;32mC:\\Anaconda3\\lib\\site-packages\\pandas\\core\\frame.py\u001b[0m in \u001b[0;36m__getitem__\u001b[1;34m(self, key)\u001b[0m\n\u001b[0;32m   2925\u001b[0m             \u001b[1;32mif\u001b[0m \u001b[0mself\u001b[0m\u001b[1;33m.\u001b[0m\u001b[0mcolumns\u001b[0m\u001b[1;33m.\u001b[0m\u001b[0mnlevels\u001b[0m \u001b[1;33m>\u001b[0m \u001b[1;36m1\u001b[0m\u001b[1;33m:\u001b[0m\u001b[1;33m\u001b[0m\u001b[1;33m\u001b[0m\u001b[0m\n\u001b[0;32m   2926\u001b[0m                 \u001b[1;32mreturn\u001b[0m \u001b[0mself\u001b[0m\u001b[1;33m.\u001b[0m\u001b[0m_getitem_multilevel\u001b[0m\u001b[1;33m(\u001b[0m\u001b[0mkey\u001b[0m\u001b[1;33m)\u001b[0m\u001b[1;33m\u001b[0m\u001b[1;33m\u001b[0m\u001b[0m\n\u001b[1;32m-> 2927\u001b[1;33m             \u001b[0mindexer\u001b[0m \u001b[1;33m=\u001b[0m \u001b[0mself\u001b[0m\u001b[1;33m.\u001b[0m\u001b[0mcolumns\u001b[0m\u001b[1;33m.\u001b[0m\u001b[0mget_loc\u001b[0m\u001b[1;33m(\u001b[0m\u001b[0mkey\u001b[0m\u001b[1;33m)\u001b[0m\u001b[1;33m\u001b[0m\u001b[1;33m\u001b[0m\u001b[0m\n\u001b[0m\u001b[0;32m   2928\u001b[0m             \u001b[1;32mif\u001b[0m \u001b[0mis_integer\u001b[0m\u001b[1;33m(\u001b[0m\u001b[0mindexer\u001b[0m\u001b[1;33m)\u001b[0m\u001b[1;33m:\u001b[0m\u001b[1;33m\u001b[0m\u001b[1;33m\u001b[0m\u001b[0m\n\u001b[0;32m   2929\u001b[0m                 \u001b[0mindexer\u001b[0m \u001b[1;33m=\u001b[0m \u001b[1;33m[\u001b[0m\u001b[0mindexer\u001b[0m\u001b[1;33m]\u001b[0m\u001b[1;33m\u001b[0m\u001b[1;33m\u001b[0m\u001b[0m\n",
      "\u001b[1;32mC:\\Anaconda3\\lib\\site-packages\\pandas\\core\\indexes\\base.py\u001b[0m in \u001b[0;36mget_loc\u001b[1;34m(self, key, method, tolerance)\u001b[0m\n\u001b[0;32m   2657\u001b[0m                 \u001b[1;32mreturn\u001b[0m \u001b[0mself\u001b[0m\u001b[1;33m.\u001b[0m\u001b[0m_engine\u001b[0m\u001b[1;33m.\u001b[0m\u001b[0mget_loc\u001b[0m\u001b[1;33m(\u001b[0m\u001b[0mkey\u001b[0m\u001b[1;33m)\u001b[0m\u001b[1;33m\u001b[0m\u001b[1;33m\u001b[0m\u001b[0m\n\u001b[0;32m   2658\u001b[0m             \u001b[1;32mexcept\u001b[0m \u001b[0mKeyError\u001b[0m\u001b[1;33m:\u001b[0m\u001b[1;33m\u001b[0m\u001b[1;33m\u001b[0m\u001b[0m\n\u001b[1;32m-> 2659\u001b[1;33m                 \u001b[1;32mreturn\u001b[0m \u001b[0mself\u001b[0m\u001b[1;33m.\u001b[0m\u001b[0m_engine\u001b[0m\u001b[1;33m.\u001b[0m\u001b[0mget_loc\u001b[0m\u001b[1;33m(\u001b[0m\u001b[0mself\u001b[0m\u001b[1;33m.\u001b[0m\u001b[0m_maybe_cast_indexer\u001b[0m\u001b[1;33m(\u001b[0m\u001b[0mkey\u001b[0m\u001b[1;33m)\u001b[0m\u001b[1;33m)\u001b[0m\u001b[1;33m\u001b[0m\u001b[1;33m\u001b[0m\u001b[0m\n\u001b[0m\u001b[0;32m   2660\u001b[0m         \u001b[0mindexer\u001b[0m \u001b[1;33m=\u001b[0m \u001b[0mself\u001b[0m\u001b[1;33m.\u001b[0m\u001b[0mget_indexer\u001b[0m\u001b[1;33m(\u001b[0m\u001b[1;33m[\u001b[0m\u001b[0mkey\u001b[0m\u001b[1;33m]\u001b[0m\u001b[1;33m,\u001b[0m \u001b[0mmethod\u001b[0m\u001b[1;33m=\u001b[0m\u001b[0mmethod\u001b[0m\u001b[1;33m,\u001b[0m \u001b[0mtolerance\u001b[0m\u001b[1;33m=\u001b[0m\u001b[0mtolerance\u001b[0m\u001b[1;33m)\u001b[0m\u001b[1;33m\u001b[0m\u001b[1;33m\u001b[0m\u001b[0m\n\u001b[0;32m   2661\u001b[0m         \u001b[1;32mif\u001b[0m \u001b[0mindexer\u001b[0m\u001b[1;33m.\u001b[0m\u001b[0mndim\u001b[0m \u001b[1;33m>\u001b[0m \u001b[1;36m1\u001b[0m \u001b[1;32mor\u001b[0m \u001b[0mindexer\u001b[0m\u001b[1;33m.\u001b[0m\u001b[0msize\u001b[0m \u001b[1;33m>\u001b[0m \u001b[1;36m1\u001b[0m\u001b[1;33m:\u001b[0m\u001b[1;33m\u001b[0m\u001b[1;33m\u001b[0m\u001b[0m\n",
      "\u001b[1;32mpandas/_libs/index.pyx\u001b[0m in \u001b[0;36mpandas._libs.index.IndexEngine.get_loc\u001b[1;34m()\u001b[0m\n",
      "\u001b[1;32mpandas/_libs/index.pyx\u001b[0m in \u001b[0;36mpandas._libs.index.IndexEngine.get_loc\u001b[1;34m()\u001b[0m\n",
      "\u001b[1;32mpandas/_libs/hashtable_class_helper.pxi\u001b[0m in \u001b[0;36mpandas._libs.hashtable.PyObjectHashTable.get_item\u001b[1;34m()\u001b[0m\n",
      "\u001b[1;32mpandas/_libs/hashtable_class_helper.pxi\u001b[0m in \u001b[0;36mpandas._libs.hashtable.PyObjectHashTable.get_item\u001b[1;34m()\u001b[0m\n",
      "\u001b[1;31mKeyError\u001b[0m: 'Training_Scene_Devanagari'"
     ]
    },
    {
     "data": {
      "image/png": "[encoded data removed]",
      "text/plain": [
       "<Figure size 432x288 with 1 Axes>"
      ]
     },
     "metadata": {
      "needs_background": "light"
     },
     "output_type": "display_data"
    }
   ],
   "source": [
    "sns.kdeplot(df['Test_Doc_Devanagari'], shade=True, color=\"r\")\n",
    "sns.kdeplot(df['Test_Scene_Devanagari'], shade=True, color=\"g\")\n",
    "sns.kdeplot(df['Training_Doc_Devanagari'], shade=True, color=\"b\")\n",
    "sns.kdeplot(df['Training_Scene_Devanagari'], shade=True, color=\"c\")"
   ]
  },
  {
   "cell_type": "code",
   "execution_count": 92,
   "metadata": {
    "scrolled": true
   },
   "outputs": [
    {
     "data": {
      "text/plain": [
       "<matplotlib.axes._subplots.AxesSubplot at 0x2e5f3963ba8>"
      ]
     },
     "execution_count": 92,
     "metadata": {},
     "output_type": "execute_result"
    },
    {
     "data": {
      "image/png": "[encoded data removed]",
      "text/plain": [
       "<Figure size 1584x576 with 2 Axes>"
      ]
     },
     "metadata": {
      "needs_background": "light"
     },
     "output_type": "display_data"
    }
   ],
   "source": [
    "sns.heatmap(df, vmin=0.5, vmax=0.7)\n",
    "#sns.plt.show()\n",
    "\n",
    "\n"
   ]
  },
  {
   "cell_type": "code",
   "execution_count": 124,
   "metadata": {
    "collapsed": true
   },
   "outputs": [
    {
     "data": {
      "text/html": [
       "<div>\n",
       "<style scoped>\n",
       "    .dataframe tbody tr th:only-of-type {\n",
       "        vertical-align: middle;\n",
       "    }\n",
       "\n",
       "    .dataframe tbody tr th {\n",
       "        vertical-align: top;\n",
       "    }\n",
       "\n",
       "    .dataframe thead th {\n",
       "        text-align: right;\n",
       "    }\n",
       "</style>\n",
       "<table border=\"1\" class=\"dataframe\">\n",
       "  <thead>\n",
       "    <tr style=\"text-align: right;\">\n",
       "      <th></th>\n",
       "      <th>Test_Doc_Devanagari</th>\n",
       "      <th>Test_Scene_Devanagari</th>\n",
       "      <th>Training_Doc_Devanagari</th>\n",
       "      <th>Training_Scene_Devanagari</th>\n",
       "    </tr>\n",
       "  </thead>\n",
       "  <tbody>\n",
       "    <tr>\n",
       "      <th>0</th>\n",
       "      <td>12.0</td>\n",
       "      <td>4.0</td>\n",
       "      <td>6</td>\n",
       "      <td>0.0</td>\n",
       "    </tr>\n",
       "    <tr>\n",
       "      <th>1</th>\n",
       "      <td>9.0</td>\n",
       "      <td>5.0</td>\n",
       "      <td>0</td>\n",
       "      <td>2.0</td>\n",
       "    </tr>\n",
       "    <tr>\n",
       "      <th>2</th>\n",
       "      <td>2.0</td>\n",
       "      <td>11.0</td>\n",
       "      <td>0</td>\n",
       "      <td>5.0</td>\n",
       "    </tr>\n",
       "    <tr>\n",
       "      <th>3</th>\n",
       "      <td>0.0</td>\n",
       "      <td>11.0</td>\n",
       "      <td>3</td>\n",
       "      <td>2.0</td>\n",
       "    </tr>\n",
       "    <tr>\n",
       "      <th>4</th>\n",
       "      <td>1.0</td>\n",
       "      <td>6.0</td>\n",
       "      <td>0</td>\n",
       "      <td>4.0</td>\n",
       "    </tr>\n",
       "    <tr>\n",
       "      <th>5</th>\n",
       "      <td>2.0</td>\n",
       "      <td>3.0</td>\n",
       "      <td>0</td>\n",
       "      <td>6.0</td>\n",
       "    </tr>\n",
       "    <tr>\n",
       "      <th>6</th>\n",
       "      <td>5.0</td>\n",
       "      <td>0.0</td>\n",
       "      <td>0</td>\n",
       "      <td>6.0</td>\n",
       "    </tr>\n",
       "    <tr>\n",
       "      <th>7</th>\n",
       "      <td>0.0</td>\n",
       "      <td>6.0</td>\n",
       "      <td>0</td>\n",
       "      <td>7.0</td>\n",
       "    </tr>\n",
       "    <tr>\n",
       "      <th>8</th>\n",
       "      <td>1.0</td>\n",
       "      <td>11.0</td>\n",
       "      <td>0</td>\n",
       "      <td>0.0</td>\n",
       "    </tr>\n",
       "    <tr>\n",
       "      <th>9</th>\n",
       "      <td>0.0</td>\n",
       "      <td>9.0</td>\n",
       "      <td>0</td>\n",
       "      <td>5.0</td>\n",
       "    </tr>\n",
       "    <tr>\n",
       "      <th>10</th>\n",
       "      <td>0.0</td>\n",
       "      <td>8.0</td>\n",
       "      <td>0</td>\n",
       "      <td>0.0</td>\n",
       "    </tr>\n",
       "    <tr>\n",
       "      <th>11</th>\n",
       "      <td>2.0</td>\n",
       "      <td>3.0</td>\n",
       "      <td>0</td>\n",
       "      <td>3.0</td>\n",
       "    </tr>\n",
       "    <tr>\n",
       "      <th>12</th>\n",
       "      <td>5.0</td>\n",
       "      <td>0.0</td>\n",
       "      <td>0</td>\n",
       "      <td>1.0</td>\n",
       "    </tr>\n",
       "    <tr>\n",
       "      <th>13</th>\n",
       "      <td>4.0</td>\n",
       "      <td>9.0</td>\n",
       "      <td>0</td>\n",
       "      <td>4.0</td>\n",
       "    </tr>\n",
       "    <tr>\n",
       "      <th>14</th>\n",
       "      <td>0.0</td>\n",
       "      <td>11.0</td>\n",
       "      <td>2</td>\n",
       "      <td>0.0</td>\n",
       "    </tr>\n",
       "    <tr>\n",
       "      <th>15</th>\n",
       "      <td>1.0</td>\n",
       "      <td>9.0</td>\n",
       "      <td>0</td>\n",
       "      <td>4.0</td>\n",
       "    </tr>\n",
       "    <tr>\n",
       "      <th>16</th>\n",
       "      <td>0.0</td>\n",
       "      <td>0.0</td>\n",
       "      <td>0</td>\n",
       "      <td>10.0</td>\n",
       "    </tr>\n",
       "    <tr>\n",
       "      <th>17</th>\n",
       "      <td>2.0</td>\n",
       "      <td>3.0</td>\n",
       "      <td>0</td>\n",
       "      <td>5.0</td>\n",
       "    </tr>\n",
       "    <tr>\n",
       "      <th>18</th>\n",
       "      <td>2.0</td>\n",
       "      <td>8.0</td>\n",
       "      <td>0</td>\n",
       "      <td>1.0</td>\n",
       "    </tr>\n",
       "    <tr>\n",
       "      <th>19</th>\n",
       "      <td>1.0</td>\n",
       "      <td>1.0</td>\n",
       "      <td>8</td>\n",
       "      <td>2.0</td>\n",
       "    </tr>\n",
       "    <tr>\n",
       "      <th>20</th>\n",
       "      <td>1.0</td>\n",
       "      <td>0.0</td>\n",
       "      <td>0</td>\n",
       "      <td>7.0</td>\n",
       "    </tr>\n",
       "    <tr>\n",
       "      <th>21</th>\n",
       "      <td>1.0</td>\n",
       "      <td>5.0</td>\n",
       "      <td>0</td>\n",
       "      <td>1.0</td>\n",
       "    </tr>\n",
       "    <tr>\n",
       "      <th>22</th>\n",
       "      <td>5.0</td>\n",
       "      <td>2.0</td>\n",
       "      <td>0</td>\n",
       "      <td>2.0</td>\n",
       "    </tr>\n",
       "    <tr>\n",
       "      <th>23</th>\n",
       "      <td>0.0</td>\n",
       "      <td>0.0</td>\n",
       "      <td>0</td>\n",
       "      <td>7.0</td>\n",
       "    </tr>\n",
       "    <tr>\n",
       "      <th>24</th>\n",
       "      <td>1.0</td>\n",
       "      <td>0.0</td>\n",
       "      <td>0</td>\n",
       "      <td>2.0</td>\n",
       "    </tr>\n",
       "    <tr>\n",
       "      <th>25</th>\n",
       "      <td>0.0</td>\n",
       "      <td>2.0</td>\n",
       "      <td>0</td>\n",
       "      <td>8.0</td>\n",
       "    </tr>\n",
       "    <tr>\n",
       "      <th>26</th>\n",
       "      <td>2.0</td>\n",
       "      <td>3.0</td>\n",
       "      <td>0</td>\n",
       "      <td>4.0</td>\n",
       "    </tr>\n",
       "    <tr>\n",
       "      <th>27</th>\n",
       "      <td>2.0</td>\n",
       "      <td>3.0</td>\n",
       "      <td>0</td>\n",
       "      <td>3.0</td>\n",
       "    </tr>\n",
       "    <tr>\n",
       "      <th>28</th>\n",
       "      <td>2.0</td>\n",
       "      <td>0.0</td>\n",
       "      <td>0</td>\n",
       "      <td>8.0</td>\n",
       "    </tr>\n",
       "    <tr>\n",
       "      <th>29</th>\n",
       "      <td>0.0</td>\n",
       "      <td>3.0</td>\n",
       "      <td>0</td>\n",
       "      <td>3.0</td>\n",
       "    </tr>\n",
       "    <tr>\n",
       "      <th>...</th>\n",
       "      <td>...</td>\n",
       "      <td>...</td>\n",
       "      <td>...</td>\n",
       "      <td>...</td>\n",
       "    </tr>\n",
       "    <tr>\n",
       "      <th>969</th>\n",
       "      <td>NaN</td>\n",
       "      <td>NaN</td>\n",
       "      <td>5</td>\n",
       "      <td>NaN</td>\n",
       "    </tr>\n",
       "    <tr>\n",
       "      <th>970</th>\n",
       "      <td>NaN</td>\n",
       "      <td>NaN</td>\n",
       "      <td>4</td>\n",
       "      <td>NaN</td>\n",
       "    </tr>\n",
       "    <tr>\n",
       "      <th>971</th>\n",
       "      <td>NaN</td>\n",
       "      <td>NaN</td>\n",
       "      <td>1</td>\n",
       "      <td>NaN</td>\n",
       "    </tr>\n",
       "    <tr>\n",
       "      <th>972</th>\n",
       "      <td>NaN</td>\n",
       "      <td>NaN</td>\n",
       "      <td>0</td>\n",
       "      <td>NaN</td>\n",
       "    </tr>\n",
       "    <tr>\n",
       "      <th>973</th>\n",
       "      <td>NaN</td>\n",
       "      <td>NaN</td>\n",
       "      <td>6</td>\n",
       "      <td>NaN</td>\n",
       "    </tr>\n",
       "    <tr>\n",
       "      <th>974</th>\n",
       "      <td>NaN</td>\n",
       "      <td>NaN</td>\n",
       "      <td>0</td>\n",
       "      <td>NaN</td>\n",
       "    </tr>\n",
       "    <tr>\n",
       "      <th>975</th>\n",
       "      <td>NaN</td>\n",
       "      <td>NaN</td>\n",
       "      <td>0</td>\n",
       "      <td>NaN</td>\n",
       "    </tr>\n",
       "    <tr>\n",
       "      <th>976</th>\n",
       "      <td>NaN</td>\n",
       "      <td>NaN</td>\n",
       "      <td>0</td>\n",
       "      <td>NaN</td>\n",
       "    </tr>\n",
       "    <tr>\n",
       "      <th>977</th>\n",
       "      <td>NaN</td>\n",
       "      <td>NaN</td>\n",
       "      <td>0</td>\n",
       "      <td>NaN</td>\n",
       "    </tr>\n",
       "    <tr>\n",
       "      <th>978</th>\n",
       "      <td>NaN</td>\n",
       "      <td>NaN</td>\n",
       "      <td>0</td>\n",
       "      <td>NaN</td>\n",
       "    </tr>\n",
       "    <tr>\n",
       "      <th>979</th>\n",
       "      <td>NaN</td>\n",
       "      <td>NaN</td>\n",
       "      <td>4</td>\n",
       "      <td>NaN</td>\n",
       "    </tr>\n",
       "    <tr>\n",
       "      <th>980</th>\n",
       "      <td>NaN</td>\n",
       "      <td>NaN</td>\n",
       "      <td>0</td>\n",
       "      <td>NaN</td>\n",
       "    </tr>\n",
       "    <tr>\n",
       "      <th>981</th>\n",
       "      <td>NaN</td>\n",
       "      <td>NaN</td>\n",
       "      <td>0</td>\n",
       "      <td>NaN</td>\n",
       "    </tr>\n",
       "    <tr>\n",
       "      <th>982</th>\n",
       "      <td>NaN</td>\n",
       "      <td>NaN</td>\n",
       "      <td>0</td>\n",
       "      <td>NaN</td>\n",
       "    </tr>\n",
       "    <tr>\n",
       "      <th>983</th>\n",
       "      <td>NaN</td>\n",
       "      <td>NaN</td>\n",
       "      <td>0</td>\n",
       "      <td>NaN</td>\n",
       "    </tr>\n",
       "    <tr>\n",
       "      <th>984</th>\n",
       "      <td>NaN</td>\n",
       "      <td>NaN</td>\n",
       "      <td>6</td>\n",
       "      <td>NaN</td>\n",
       "    </tr>\n",
       "    <tr>\n",
       "      <th>985</th>\n",
       "      <td>NaN</td>\n",
       "      <td>NaN</td>\n",
       "      <td>0</td>\n",
       "      <td>NaN</td>\n",
       "    </tr>\n",
       "    <tr>\n",
       "      <th>986</th>\n",
       "      <td>NaN</td>\n",
       "      <td>NaN</td>\n",
       "      <td>4</td>\n",
       "      <td>NaN</td>\n",
       "    </tr>\n",
       "    <tr>\n",
       "      <th>987</th>\n",
       "      <td>NaN</td>\n",
       "      <td>NaN</td>\n",
       "      <td>2</td>\n",
       "      <td>NaN</td>\n",
       "    </tr>\n",
       "    <tr>\n",
       "      <th>988</th>\n",
       "      <td>NaN</td>\n",
       "      <td>NaN</td>\n",
       "      <td>5</td>\n",
       "      <td>NaN</td>\n",
       "    </tr>\n",
       "    <tr>\n",
       "      <th>989</th>\n",
       "      <td>NaN</td>\n",
       "      <td>NaN</td>\n",
       "      <td>4</td>\n",
       "      <td>NaN</td>\n",
       "    </tr>\n",
       "    <tr>\n",
       "      <th>990</th>\n",
       "      <td>NaN</td>\n",
       "      <td>NaN</td>\n",
       "      <td>0</td>\n",
       "      <td>NaN</td>\n",
       "    </tr>\n",
       "    <tr>\n",
       "      <th>991</th>\n",
       "      <td>NaN</td>\n",
       "      <td>NaN</td>\n",
       "      <td>4</td>\n",
       "      <td>NaN</td>\n",
       "    </tr>\n",
       "    <tr>\n",
       "      <th>992</th>\n",
       "      <td>NaN</td>\n",
       "      <td>NaN</td>\n",
       "      <td>4</td>\n",
       "      <td>NaN</td>\n",
       "    </tr>\n",
       "    <tr>\n",
       "      <th>993</th>\n",
       "      <td>NaN</td>\n",
       "      <td>NaN</td>\n",
       "      <td>7</td>\n",
       "      <td>NaN</td>\n",
       "    </tr>\n",
       "    <tr>\n",
       "      <th>994</th>\n",
       "      <td>NaN</td>\n",
       "      <td>NaN</td>\n",
       "      <td>1</td>\n",
       "      <td>NaN</td>\n",
       "    </tr>\n",
       "    <tr>\n",
       "      <th>995</th>\n",
       "      <td>NaN</td>\n",
       "      <td>NaN</td>\n",
       "      <td>0</td>\n",
       "      <td>NaN</td>\n",
       "    </tr>\n",
       "    <tr>\n",
       "      <th>996</th>\n",
       "      <td>NaN</td>\n",
       "      <td>NaN</td>\n",
       "      <td>5</td>\n",
       "      <td>NaN</td>\n",
       "    </tr>\n",
       "    <tr>\n",
       "      <th>997</th>\n",
       "      <td>NaN</td>\n",
       "      <td>NaN</td>\n",
       "      <td>0</td>\n",
       "      <td>NaN</td>\n",
       "    </tr>\n",
       "    <tr>\n",
       "      <th>998</th>\n",
       "      <td>NaN</td>\n",
       "      <td>NaN</td>\n",
       "      <td>0</td>\n",
       "      <td>NaN</td>\n",
       "    </tr>\n",
       "  </tbody>\n",
       "</table>\n",
       "<p>999 rows × 4 columns</p>\n",
       "</div>"
      ],
      "text/plain": [
       "     Test_Doc_Devanagari  Test_Scene_Devanagari  Training_Doc_Devanagari  \\\n",
       "0                   12.0                    4.0                        6   \n",
       "1                    9.0                    5.0                        0   \n",
       "2                    2.0                   11.0                        0   \n",
       "3                    0.0                   11.0                        3   \n",
       "4                    1.0                    6.0                        0   \n",
       "5                    2.0                    3.0                        0   \n",
       "6                    5.0                    0.0                        0   \n",
       "7                    0.0                    6.0                        0   \n",
       "8                    1.0                   11.0                        0   \n",
       "9                    0.0                    9.0                        0   \n",
       "10                   0.0                    8.0                        0   \n",
       "11                   2.0                    3.0                        0   \n",
       "12                   5.0                    0.0                        0   \n",
       "13                   4.0                    9.0                        0   \n",
       "14                   0.0                   11.0                        2   \n",
       "15                   1.0                    9.0                        0   \n",
       "16                   0.0                    0.0                        0   \n",
       "17                   2.0                    3.0                        0   \n",
       "18                   2.0                    8.0                        0   \n",
       "19                   1.0                    1.0                        8   \n",
       "20                   1.0                    0.0                        0   \n",
       "21                   1.0                    5.0                        0   \n",
       "22                   5.0                    2.0                        0   \n",
       "23                   0.0                    0.0                        0   \n",
       "24                   1.0                    0.0                        0   \n",
       "25                   0.0                    2.0                        0   \n",
       "26                   2.0                    3.0                        0   \n",
       "27                   2.0                    3.0                        0   \n",
       "28                   2.0                    0.0                        0   \n",
       "29                   0.0                    3.0                        0   \n",
       "..                   ...                    ...                      ...   \n",
       "969                  NaN                    NaN                        5   \n",
       "970                  NaN                    NaN                        4   \n",
       "971                  NaN                    NaN                        1   \n",
       "972                  NaN                    NaN                        0   \n",
       "973                  NaN                    NaN                        6   \n",
       "974                  NaN                    NaN                        0   \n",
       "975                  NaN                    NaN                        0   \n",
       "976                  NaN                    NaN                        0   \n",
       "977                  NaN                    NaN                        0   \n",
       "978                  NaN                    NaN                        0   \n",
       "979                  NaN                    NaN                        4   \n",
       "980                  NaN                    NaN                        0   \n",
       "981                  NaN                    NaN                        0   \n",
       "982                  NaN                    NaN                        0   \n",
       "983                  NaN                    NaN                        0   \n",
       "984                  NaN                    NaN                        6   \n",
       "985                  NaN                    NaN                        0   \n",
       "986                  NaN                    NaN                        4   \n",
       "987                  NaN                    NaN                        2   \n",
       "988                  NaN                    NaN                        5   \n",
       "989                  NaN                    NaN                        4   \n",
       "990                  NaN                    NaN                        0   \n",
       "991                  NaN                    NaN                        4   \n",
       "992                  NaN                    NaN                        4   \n",
       "993                  NaN                    NaN                        7   \n",
       "994                  NaN                    NaN                        1   \n",
       "995                  NaN                    NaN                        0   \n",
       "996                  NaN                    NaN                        5   \n",
       "997                  NaN                    NaN                        0   \n",
       "998                  NaN                    NaN                        0   \n",
       "\n",
       "     Training_Scene_Devanagari  \n",
       "0                          0.0  \n",
       "1                          2.0  \n",
       "2                          5.0  \n",
       "3                          2.0  \n",
       "4                          4.0  \n",
       "5                          6.0  \n",
       "6                          6.0  \n",
       "7                          7.0  \n",
       "8                          0.0  \n",
       "9                          5.0  \n",
       "10                         0.0  \n",
       "11                         3.0  \n",
       "12                         1.0  \n",
       "13                         4.0  \n",
       "14                         0.0  \n",
       "15                         4.0  \n",
       "16                        10.0  \n",
       "17                         5.0  \n",
       "18                         1.0  \n",
       "19                         2.0  \n",
       "20                         7.0  \n",
       "21                         1.0  \n",
       "22                         2.0  \n",
       "23                         7.0  \n",
       "24                         2.0  \n",
       "25                         8.0  \n",
       "26                         4.0  \n",
       "27                         3.0  \n",
       "28                         8.0  \n",
       "29                         3.0  \n",
       "..                         ...  \n",
       "969                        NaN  \n",
       "970                        NaN  \n",
       "971                        NaN  \n",
       "972                        NaN  \n",
       "973                        NaN  \n",
       "974                        NaN  \n",
       "975                        NaN  \n",
       "976                        NaN  \n",
       "977                        NaN  \n",
       "978                        NaN  \n",
       "979                        NaN  \n",
       "980                        NaN  \n",
       "981                        NaN  \n",
       "982                        NaN  \n",
       "983                        NaN  \n",
       "984                        NaN  \n",
       "985                        NaN  \n",
       "986                        NaN  \n",
       "987                        NaN  \n",
       "988                        NaN  \n",
       "989                        NaN  \n",
       "990                        NaN  \n",
       "991                        NaN  \n",
       "992                        NaN  \n",
       "993                        NaN  \n",
       "994                        NaN  \n",
       "995                        NaN  \n",
       "996                        NaN  \n",
       "997                        NaN  \n",
       "998                        NaN  \n",
       "\n",
       "[999 rows x 4 columns]"
      ]
     },
     "execution_count": 124,
     "metadata": {},
     "output_type": "execute_result"
    }
   ],
   "source": [
    "df1=pd.DataFrame({'Test_Doc_Devanagari':Distance1})\n",
    "df2=pd.DataFrame({'Test_Scene_Devanagari':Distance2})\n",
    "df3=pd.DataFrame({'Training_Doc_Devanagari':Distance3})\n",
    "df4=pd.DataFrame({'Training_Scene_Devanagari':Distance4})\n",
    "df=pd.concat([df1,df2,df3,df4], ignore_index=True, axis=1)\n",
    "df.columns=['Test_Doc_Devanagari','Test_Scene_Devanagari','Training_Doc_Devanagari','Training_Scene_Devanagari']\n",
    "df.to_csv('Distance_Devanagari.csv')\n",
    "df"
   ]
  },
  {
   "cell_type": "code",
   "execution_count": 123,
   "metadata": {
    "scrolled": true
   },
   "outputs": [
    {
     "data": {
      "text/plain": [
       "<seaborn.axisgrid.PairGrid at 0x2e5f5225b00>"
      ]
     },
     "execution_count": 123,
     "metadata": {},
     "output_type": "execute_result"
    },
    {
     "data": {
      "image/png": "[encoded data removed]",
      "text/plain": [
       "<Figure size 720x720 with 20 Axes>"
      ]
     },
     "metadata": {
      "needs_background": "light"
     },
     "output_type": "display_data"
    }
   ],
   "source": [
    "import seaborn as sns\n",
    "sns.pairplot(df, kind=\"scatter\")"
   ]
  },
  {
   "cell_type": "code",
   "execution_count": 125,
   "metadata": {},
   "outputs": [
    {
     "data": {
      "text/plain": [
       "<matplotlib.axes._subplots.AxesSubplot at 0x2e5f21d6cc0>"
      ]
     },
     "execution_count": 125,
     "metadata": {},
     "output_type": "execute_result"
    },
    {
     "data": {
      "image/png": "[encoded data removed]",
      "text/plain": [
       "<Figure size 1584x576 with 2 Axes>"
      ]
     },
     "metadata": {
      "needs_background": "light"
     },
     "output_type": "display_data"
    }
   ],
   "source": [
    "sns.heatmap(df, vmin=0.5, vmax=0.7)"
   ]
  },
  {
   "cell_type": "code",
   "execution_count": 127,
   "metadata": {},
   "outputs": [
    {
     "data": {
      "text/plain": [
       "<matplotlib.axes._subplots.AxesSubplot at 0x2e5f2764320>"
      ]
     },
     "execution_count": 127,
     "metadata": {},
     "output_type": "execute_result"
    },
    {
     "data": {
      "image/png": "[encoded data removed]",
      "text/plain": [
       "<Figure size 1584x576 with 1 Axes>"
      ]
     },
     "metadata": {
      "needs_background": "light"
     },
     "output_type": "display_data"
    }
   ],
   "source": [
    "sns.kdeplot(df['Test_Doc_Devanagari'], shade=True, color=\"r\")\n",
    "sns.kdeplot(df['Test_Scene_Devanagari'], shade=True, color=\"g\")\n",
    "sns.kdeplot(df['Training_Doc_Devanagari'], shade=True, color=\"b\")\n",
    "sns.kdeplot(df['Training_Scene_Devanagari'], shade=True, color=\"c\")"
   ]
  },
  {
   "cell_type": "code",
   "execution_count": 130,
   "metadata": {},
   "outputs": [
    {
     "data": {
      "text/plain": [
       "<matplotlib.axes._subplots.AxesSubplot at 0x2e5f4bf1400>"
      ]
     },
     "execution_count": 130,
     "metadata": {},
     "output_type": "execute_result"
    },
    {
     "data": {
      "image/png": "[encoded data removed]",
      "text/plain": [
       "<Figure size 1584x576 with 1 Axes>"
      ]
     },
     "metadata": {
      "needs_background": "light"
     },
     "output_type": "display_data"
    }
   ],
   "source": [
    "sns.boxplot(x='Test_Doc_Devanagari', data=df, color=\"grey\")"
   ]
  },
  {
   "cell_type": "code",
   "execution_count": 33,
   "metadata": {
    "scrolled": true
   },
   "outputs": [
    {
     "data": {
      "image/png": "[encoded data removed]",
      "text/plain": [
       "<Figure size 1584x576 with 1 Axes>"
      ]
     },
     "metadata": {
      "needs_background": "light"
     },
     "output_type": "display_data"
    }
   ],
   "source": [
    "i=np.arange(22)\n",
    "tick_label=i\n",
    "plt.bar(i+0.00,w,label ='Test_Doc_Devanagari',tick_label = tick_label,width=0.2,color=['#ff9933'])\n",
    "plt.bar(i+0.25,x,label ='Test_Scene_Devanagari',tick_label = tick_label,width=0.2,color=['#ff3300'])\n",
    "plt.bar(i+0.50,y,label ='Training_Doc_Devanagari',tick_label = tick_label,width=0.2,color=['#ff7733'])\n",
    "plt.bar(i+0.75,z,label ='Training_Scene_Devanagari',tick_label = tick_label,width=0.2,color=['#f97000'])\n",
    "\n",
    "plt.rcParams['figure.figsize']=(22,8)\n",
    "plt.xlabel(\"Levenshtein Distance\", fontsize=15)\n",
    "plt.ylabel(\" No_Of_Images\",fontsize=15)\n",
    "plt.legend(fontsize=15)\n",
    "plt.title(\"Bar Chart of MED for Devanagari images\",fontsize=15)\n",
    "\n",
    "plt.savefig('out_bar/Devanagari.png', bbox_inches='tight', quality=96)\n",
    "plt.show()"
   ]
  },
  {
   "cell_type": "code",
   "execution_count": null,
   "metadata": {},
   "outputs": [],
   "source": []
  }
 ],
 "metadata": {
  "kernelspec": {
   "display_name": "Python 3",
   "language": "python",
   "name": "python3"
  },
  "language_info": {
   "codemirror_mode": {
    "name": "ipython",
    "version": 3
   },
   "file_extension": ".py",
   "mimetype": "text/x-python",
   "name": "python",
   "nbconvert_exporter": "python",
   "pygments_lexer": "ipython3",
   "version": "3.7.3"
  }
 },
 "nbformat": 4,
 "nbformat_minor": 2
}
